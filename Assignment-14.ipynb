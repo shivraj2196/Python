{
 "cells": [
  {
   "cell_type": "code",
   "execution_count": 1,
   "id": "b4e343f1-f1da-404d-beeb-d3633bb58cbd",
   "metadata": {},
   "outputs": [
    {
     "name": "stdout",
     "output_type": "stream",
     "text": [
      "['Hyd', 'Bengaluru', 'Pune', 'Mumbai']\n"
     ]
    }
   ],
   "source": [
    "#Q3)input=['hyd','bengaluru','pune','mimbai']\n",
    "lis=['hyd','bengaluru','pune','mumbai']\n",
    "cp=[]\n",
    "for i in lis:\n",
    "    cp.append(i.capitalize())\n",
    "print(cp)"
   ]
  },
  {
   "cell_type": "code",
   "execution_count": 2,
   "id": "32d29919-31b1-4c16-9e0a-533ac5afdcc2",
   "metadata": {},
   "outputs": [
    {
     "name": "stdout",
     "output_type": "stream",
     "text": [
      "['HYD', 'BENGALURU', 'PUNE', 'MUMBAI']\n"
     ]
    }
   ],
   "source": [
    "#Q4) input=['hyd','bengaluru','pune','mimbai']\n",
    "#output=['HYD','BENGULURU','PUNE',,'MUMBAI']\n",
    "lis=['hyd','bengaluru','pune','mumbai']\n",
    "up=[]\n",
    "for i in lis:\n",
    "    up.append(i.upper())\n",
    "print(up)"
   ]
  },
  {
   "cell_type": "code",
   "execution_count": 3,
   "id": "dc5b8e77-a50b-4bed-bf50-aaad16393700",
   "metadata": {},
   "outputs": [
    {
     "name": "stdout",
     "output_type": "stream",
     "text": [
      "['ben#galuru', 'mu#mbai']\n"
     ]
    }
   ],
   "source": [
    "#Q5) input=['hyd','ben#galuru','pune','mu#mbai']\n",
    "#output=['ben#galuru','mu#mbai']\n",
    "\n",
    "name=['hyd','ben#galuru','pune','mu#mbai']\n",
    "sy=[]\n",
    "for i in name:\n",
    "    if not i.isalnum():\n",
    "        sy.append(i)\n",
    "print(sy)"
   ]
  },
  {
   "cell_type": "code",
   "execution_count": 4,
   "id": "892542a3-5faf-4b2e-98b8-ef0cdfd756a4",
   "metadata": {},
   "outputs": [
    {
     "name": "stdout",
     "output_type": "stream",
     "text": [
      "['hyd', 'pune']\n"
     ]
    }
   ],
   "source": [
    "#Q6) input=['hyd','ben#galuru','pune','mu#mbai']\n",
    "#output=['hyd','pune']\n",
    "city=['hyd','ben#galuru','pune','mu#mbai']\n",
    "al=[]\n",
    "for i in name:\n",
    "    if i.isalnum():\n",
    "        al.append(i)\n",
    "print(al)"
   ]
  },
  {
   "cell_type": "code",
   "execution_count": 5,
   "id": "4c8ecdbe-95dc-4350-9d65-124e5611d07f",
   "metadata": {},
   "outputs": [
    {
     "name": "stdout",
     "output_type": "stream",
     "text": [
      "['HAI', 'HOW', 'ARE', 'YOU']\n"
     ]
    }
   ],
   "source": [
    "#Q7) input=hai how are you'\n",
    "#output=['HAI','HOW','ARE','YOU']\n",
    "\n",
    "str1='hai how are you'\n",
    "lis=[]\n",
    "for i in str1.split(' '):\n",
    "    lis.append(i.upper())\n",
    "print(lis)"
   ]
  },
  {
   "cell_type": "code",
   "execution_count": 6,
   "id": "abeccee9-1404-4ca8-b070-a2a827c11923",
   "metadata": {},
   "outputs": [
    {
     "name": "stdout",
     "output_type": "stream",
     "text": [
      "fname=['virat', 'rohit', 'ms']\n",
      "sname=['kohli', 'sharma', 'dhoni']\n",
      "cname=['rcb', 'mi', 'csk']\n"
     ]
    }
   ],
   "source": [
    "# Q8) input='virat.kohli@rcb.com;rohit.sharma@mi.com;ms.dhoni@csk.com'\n",
    "#     fname=['virat','rohit'.'ms']\n",
    "#     sname=['kohli','sharma','dhoni']\n",
    "#     cname=['rcb','mi','cs2k']\n",
    "\n",
    "\n",
    "def name_finder(str1):\n",
    "    fname=[]\n",
    "    sname=[]\n",
    "    cname=[]\n",
    "    li=str1.split(';')\n",
    "    for i in range(len(li)):\n",
    "        first_name=li[i].index('.')\n",
    "        second_name=li[i].index('@',first_name)\n",
    "        c_name=li[i].index('.',second_name)\n",
    "        fname.append(li[i][:first_name])\n",
    "        sname.append(li[i][first_name+1:second_name])\n",
    "        cname.append(li[i][second_name+1:c_name])\n",
    "    print(f'fname={fname}')\n",
    "    print(f'sname={sname}')\n",
    "    print(f'cname={cname}')\n",
    "        \n",
    "str1='virat.kohli@rcb.com;rohit.sharma@mi.com;ms.dhoni@csk.com'\n",
    "name_finder(str1)"
   ]
  },
  {
   "cell_type": "code",
   "execution_count": 10,
   "id": "dbdf19d3-ab66-4b7d-97cf-306745fdf482",
   "metadata": {},
   "outputs": [
    {
     "name": "stdout",
     "output_type": "stream",
     "text": [
      "['can:4', 'canner:3', 'you:3', 'not:1', 'with:1', 'but:1', 'the:1']\n"
     ]
    }
   ],
   "source": [
    "# Q9) input='can canner can you can not canner with you but you can the canner'\n",
    "#     output=['can'-4,'canner'-3,'you'-3,'not'-1,'with'-1,'but'-1,'the'-1]\n",
    "str1='can canner can you can not canner with you but you can the canner'\n",
    "str2=['can','canner','you','not','with','but','the']\n",
    "li1=str1.split(' ')\n",
    "li2=[]\n",
    "for i in range(len(str2)):\n",
    "    li2.append(f'{str2[i]}:{li1.count(str2[i])}')\n",
    "print(li2)\n",
    "\n"
   ]
  },
  {
   "cell_type": "markdown",
   "id": "40a172d0-52f5-4a40-b7fc-57dada96ec38",
   "metadata": {},
   "source": [
    "**Word Frequency problem**"
   ]
  },
  {
   "cell_type": "code",
   "execution_count": 7,
   "id": "a6a25c33-566c-40d1-8d38-6b51715e3dcb",
   "metadata": {},
   "outputs": [
    {
     "name": "stdout",
     "output_type": "stream",
     "text": [
      "['can:4', 'canner:3', 'you:3', 'not:1', 'with:1', 'but:1', 'the:1']\n"
     ]
    }
   ],
   "source": [
    "str1='can canner can you can not canner with you but you can the canner'\n",
    "li1=str1.split(' ')\n",
    "li2=[]\n",
    "counter=[]\n",
    "for i in li1:#we are getting element from li1\n",
    "    if i not in li2:#we are checking that does the string present in li2 if not append\n",
    "        counter.append(f'{i}:{li1.count(i)}')#in this line we are taking element from li1 and we are counting how many times it occre in li1 and adding in counter\n",
    "        li2.append(i)\n",
    "print(counter)\n"
   ]
  },
  {
   "cell_type": "code",
   "execution_count": 8,
   "id": "d9ccd7a1-e736-4587-9f2b-7cb87ba9d160",
   "metadata": {},
   "outputs": [
    {
     "name": "stdout",
     "output_type": "stream",
     "text": [
      " can canner can can canner can the canner\n"
     ]
    }
   ],
   "source": [
    "# Q10) input = 'can canner can you can not canner with you but you can the canner'\n",
    "#      stopwords=['not','you','but','with']\n",
    "#      using stopwords remove those words from input\n",
    "#     output='can canner can can canner can canner'\n",
    "str1= 'can canner can you can not canner with you but you can the canner'\n",
    "li=str1.split(' ')\n",
    "stopwords=['not','you','but','with']\n",
    "with_out_stopword=''\n",
    "for i in li:\n",
    "    if  not i in stopwords:\n",
    "        with_out_stopword+=f\" {i}\"\n",
    "print(with_out_stopword)"
   ]
  },
  {
   "cell_type": "code",
   "execution_count": 9,
   "id": "a3b775f6-c762-4e65-b734-23216c0702c9",
   "metadata": {},
   "outputs": [
    {
     "name": "stdin",
     "output_type": "stream",
     "text": [
      "Enter yout string hii hii hii how is goinggg is all ringht and and how\n"
     ]
    },
    {
     "name": "stdout",
     "output_type": "stream",
     "text": [
      "the most repited words are:  hii:3\n"
     ]
    }
   ],
   "source": [
    "# Q11) take a string find the most repeated word from string\n",
    "str1=input('Enter yout string')\n",
    "li=str1.split(' ')\n",
    "li1=[]\n",
    "li2=[]\n",
    "for i in range(len(li)):\n",
    "    if f'{li[i]}:{li.count(li[i])}' in li1:\n",
    "        continue \n",
    "    else:\n",
    "        li1.append(f'{li[i]}:{li.count(li[i])}')\n",
    "        li2.append(li.count(li[i]))\n",
    "most_rep=li2[0]\n",
    "mos=f'{li1[0]}'\n",
    "for i in range(1,len(li2)):\n",
    "    if li2[i]>=most_rep:\n",
    "        mos=mos+f' {li1[i]}'\n",
    "\n",
    "print(f'the most repited words are:  {mos}')"
   ]
  },
  {
   "cell_type": "code",
   "execution_count": 40,
   "id": "bfd67216-9ca1-4515-a96f-5a5aebc346b0",
   "metadata": {},
   "outputs": [
    {
     "name": "stdin",
     "output_type": "stream",
     "text": [
      "enter your string hii hii the the what is that\n"
     ]
    },
    {
     "name": "stdout",
     "output_type": "stream",
     "text": [
      "hii\n",
      "['hii:2', '2:the']\n"
     ]
    }
   ],
   "source": [
    "str1=input('enter your string')\n",
    "li1=str1.split(' ')\n",
    "li2=[]\n",
    "li3=[]\n",
    "for i in li1:\n",
    "    if i not in li2:\n",
    "        li3.append(li1.count(i))\n",
    "        li2.append(i)\n",
    "rep_word=[f'{li2[0]}:{li3[0]}']\n",
    "rep=li3[0]\n",
    "for i in range(1,len(li3)):\n",
    "    if li3[i]>rep:\n",
    "        rep=li3[i]\n",
    "        rep_word.append(f'{li3[i]}:{li2[i]}')\n",
    "    elif li3[i]==rep:\n",
    "        rep=li3[i]\n",
    "        rep_word.append(f'{li3[i]}:{li2[i]}')\n",
    "print(rep_word)"
   ]
  },
  {
   "cell_type": "code",
   "execution_count": 15,
   "id": "36f8e2f4-d92d-4182-be52-b41844b27493",
   "metadata": {},
   "outputs": [
    {
     "name": "stdin",
     "output_type": "stream",
     "text": [
      "enter your string: hi what is happning\n"
     ]
    },
    {
     "name": "stdout",
     "output_type": "stream",
     "text": [
      " happning:8 \n"
     ]
    }
   ],
   "source": [
    "# Q12) take a string find the longest length of the word from string\n",
    "str1=input(\"enter your string:\")\n",
    "l1=str1.split()\n",
    "first_word=l1[0]\n",
    "longest_word=f''\n",
    "for i in range(1,len(l1)):\n",
    "    if len(l1[i])>=len(first_word):\n",
    "        longest_word=''\n",
    "        longest_word=longest_word+f' {l1[i]}:{len(l1[i])} '\n",
    "print(longest_word)       "
   ]
  },
  {
   "cell_type": "code",
   "execution_count": 11,
   "id": "80b865dc-da36-45a9-865d-4f91d61b8964",
   "metadata": {},
   "outputs": [
    {
     "name": "stdin",
     "output_type": "stream",
     "text": [
      "enter your string: hii the bee good ate doing thing grate\n"
     ]
    },
    {
     "name": "stdout",
     "output_type": "stream",
     "text": [
      "['hii', 'the', 'bee', 'good', 'ate', 'doing', 'thing', 'grate']\n",
      "[3, 3, 3, 4, 3, 5, 5, 5]\n",
      "['doing:5', 'thing:5', 'grate:5']\n"
     ]
    }
   ],
   "source": [
    "str1=input(\"enter your string:\")\n",
    "l1=str1.split()\n",
    "l2=[]\n",
    "l3=[]\n",
    "for i in l1:\n",
    "    l2.append(i)\n",
    "    l3.append(len(i))\n",
    "longest_length=[]\n",
    "max_of=l3[0]\n",
    "for i in range(len(l2)):\n",
    "    if l3[i]>max_of:\n",
    "        longest_length.clear()\n",
    "        longest_length.append(f'{l2[i]}:{l3[i]}')\n",
    "        max_of=l3[i]\n",
    "    elif l3[i]==max_of:\n",
    "        longest_length.append(f'{l2[i]}:{l3[i]}')\n",
    "print(l2)\n",
    "print(l3)\n",
    "print(longest_length)"
   ]
  },
  {
   "cell_type": "code",
   "execution_count": 14,
   "id": "b7f97eb3-e214-4b36-824a-e5caa3ab98f9",
   "metadata": {},
   "outputs": [
    {
     "name": "stdin",
     "output_type": "stream",
     "text": [
      "enter your string: hi what is happning\n"
     ]
    },
    {
     "name": "stdout",
     "output_type": "stream",
     "text": [
      "the sortest word is :  is:2 \n"
     ]
    }
   ],
   "source": [
    "# Q13) take a string find the lowest length of the word from string\n",
    "str1=input(\"enter your string:\")\n",
    "l1=str1.split()\n",
    "first_word=l1[0]\n",
    "shotesr_word=f''\n",
    "for i in range(1,len(l1)):\n",
    "    if len(l1[i])<=len(first_word):\n",
    "        shotesr_word=''\n",
    "        shotesr_word=shotesr_word+f' {l1[i]}:{len(l1[i])} '\n",
    "print('the sortest word is :',shotesr_word) "
   ]
  },
  {
   "cell_type": "code",
   "execution_count": 14,
   "id": "50154f90-139f-4be6-9bf0-8fdc78ecdbd3",
   "metadata": {},
   "outputs": [
    {
     "name": "stdin",
     "output_type": "stream",
     "text": [
      "enter your string:  hii the grate indian circus postpon beacouse pandemice\n"
     ]
    },
    {
     "name": "stdout",
     "output_type": "stream",
     "text": [
      "['hii', 'the', 'grate', 'indian', 'circus', 'postpon', 'beacouse', 'pandemice']\n",
      "[3, 3, 5, 6, 6, 7, 8, 9]\n",
      "['hii:3', 'the:3']\n"
     ]
    }
   ],
   "source": [
    "str1=input(\"enter your string:\")\n",
    "l1=str1.split()\n",
    "l2=[]\n",
    "l3=[]\n",
    "for i in l1:\n",
    "    l2.append(i)\n",
    "    l3.append(len(i))\n",
    "min_length=[]\n",
    "min_of=l3[0]\n",
    "for i in range(len(l2)):\n",
    "    if l3[i]<min_of:\n",
    "        min_length.clear()\n",
    "        min_length.append(f'{l2[i]}:{l3[i]}')\n",
    "        min_of=l3[i]\n",
    "    elif l3[i]==min_of:\n",
    "        min_length.append(f'{l2[i]}:{l3[i]}')\n",
    "print(l2)\n",
    "print(l3)\n",
    "print(min_length)"
   ]
  },
  {
   "cell_type": "code",
   "execution_count": 17,
   "id": "b11a8a62-361b-4fb1-ae84-3de0d6ed8e02",
   "metadata": {},
   "outputs": [
    {
     "name": "stdout",
     "output_type": "stream",
     "text": [
      "who is PM of india\n"
     ]
    },
    {
     "name": "stdin",
     "output_type": "stream",
     "text": [
      " modi\n"
     ]
    },
    {
     "name": "stdout",
     "output_type": "stream",
     "text": [
      "what is the capital of india\n"
     ]
    },
    {
     "name": "stdin",
     "output_type": "stream",
     "text": [
      " moscow\n"
     ]
    },
    {
     "name": "stdout",
     "output_type": "stream",
     "text": [
      "who is ICT MENS captain\n"
     ]
    },
    {
     "name": "stdin",
     "output_type": "stream",
     "text": [
      " rohit\n"
     ]
    },
    {
     "name": "stdout",
     "output_type": "stream",
     "text": [
      "total marks you obtain:20\n"
     ]
    }
   ],
   "source": [
    "# Q14) you have some qns list is there\n",
    "#      also you have answers list also there\n",
    "#     qns=['who is PM of india',\n",
    "#       'what is the capital of india', who is ICT MENS captain]\n",
    "#    ans=['Modi','Delhi','Rohit']\n",
    "#    whenerver correct answer marks +10\n",
    "#    print you got total\n",
    "qns=['who is PM of india','what is the capital of india', 'who is ICT MENS captain']\n",
    "ans=['Modi','Delhi','Rohit']\n",
    "marks=0\n",
    "for i in range(len(qns)):\n",
    "    print(qns[i])\n",
    "    user_ans=input().capitalize()\n",
    "    ck=user_ans.capitalize()\n",
    "    if ck==ans[i]:\n",
    "        marks+=10\n",
    "print(f'total marks you obtain:{marks}')\n"
   ]
  },
  {
   "cell_type": "code",
   "execution_count": null,
   "id": "e203caa9-535c-4686-b997-8d2e8573c14b",
   "metadata": {},
   "outputs": [],
   "source": []
  }
 ],
 "metadata": {
  "kernelspec": {
   "display_name": "Python 3 (ipykernel)",
   "language": "python",
   "name": "python3"
  },
  "language_info": {
   "codemirror_mode": {
    "name": "ipython",
    "version": 3
   },
   "file_extension": ".py",
   "mimetype": "text/x-python",
   "name": "python",
   "nbconvert_exporter": "python",
   "pygments_lexer": "ipython3",
   "version": "3.12.7"
  }
 },
 "nbformat": 4,
 "nbformat_minor": 5
}
