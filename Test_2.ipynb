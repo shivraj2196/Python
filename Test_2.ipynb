{
 "cells": [
  {
   "cell_type": "code",
   "execution_count": 39,
   "id": "d458b5be-61b6-486c-8696-f34bd7af3e44",
   "metadata": {},
   "outputs": [
    {
     "name": "stdin",
     "output_type": "stream",
     "text": [
      "Enter a number to check the number is prime or not: 97\n"
     ]
    },
    {
     "name": "stdout",
     "output_type": "stream",
     "text": [
      "The 97 is prime\n"
     ]
    }
   ],
   "source": [
    "# Q1)Write a Python program to check if a given number is prime or not.\n",
    "num=eval(input(\"Enter a number to check the number is prime or not:\"))\n",
    "prime=True\n",
    "for i in range(2,num):\n",
    "    if num%i==0:\n",
    "        prime=False\n",
    "        break\n",
    "if prime:\n",
    "    print(f\"The {num} is prime\")\n",
    "else:\n",
    "    print(f\"The {num} is not prime\")"
   ]
  },
  {
   "cell_type": "code",
   "execution_count": 11,
   "id": "65f34293-9f45-45b8-b403-28e3c3c9e1d6",
   "metadata": {},
   "outputs": [
    {
     "name": "stdin",
     "output_type": "stream",
     "text": [
      "Enter what should be the end of Fibonacci series: 15\n"
     ]
    },
    {
     "name": "stdout",
     "output_type": "stream",
     "text": [
      "1\n",
      "2\n",
      "3\n",
      "5\n",
      "8\n",
      "13\n",
      "21\n",
      "34\n",
      "55\n",
      "89\n",
      "144\n",
      "233\n",
      "377\n",
      "610\n",
      "987\n"
     ]
    }
   ],
   "source": [
    "# Q2)Write a Python program to generate n Fibonacci series values.\n",
    "num=eval(input(\"Enter what should be the end of Fibonacci series:\"))\n",
    "fibonacci=0\n",
    "priv1=1\n",
    "priv2=0\n",
    "for i in range(1,num+1):\n",
    "        print(fibonacci)\n",
    "    fibonacci=priv1+priv2\n",
    "    priv2=priv1\n",
    "    priv1=fibonacci\n",
    "    \n",
    "\n",
    "    "
   ]
  },
  {
   "cell_type": "code",
   "execution_count": 46,
   "id": "2e14815d-c72f-44a8-bac3-d51635ba9864",
   "metadata": {},
   "outputs": [
    {
     "name": "stdin",
     "output_type": "stream",
     "text": [
      "Enter Your string python\n"
     ]
    },
    {
     "name": "stdout",
     "output_type": "stream",
     "text": [
      "pyTHoN\n"
     ]
    }
   ],
   "source": [
    "#### 3)Write a Python program to convert characters at prime index to\n",
    "#uppercase. For example, given input: python, output: pyTHoN.\n",
    "str1=input(\"Enter Your string\")\n",
    "l=len(str1)\n",
    "upr=f'{str1[0]}{str1[1]}{str1[2].upper()}'\n",
    "for i in range(1,len(str1)):\n",
    "    for j in range(2,i):\n",
    "        if i%j==0:\n",
    "            upr+=str1[i]\n",
    "            break\n",
    "        else:\n",
    "            upr+=str1[i].upper()\n",
    "            break\n",
    "print(upr)"
   ]
  },
  {
   "cell_type": "code",
   "execution_count": 56,
   "id": "16bb0f91-ea8f-44ce-b852-97db736907ec",
   "metadata": {},
   "outputs": [
    {
     "name": "stdin",
     "output_type": "stream",
     "text": [
      "enter your number: 12321\n"
     ]
    },
    {
     "name": "stdout",
     "output_type": "stream",
     "text": [
      "palindrome\n"
     ]
    }
   ],
   "source": [
    "#4. Write a Python program to check if a number is a palindrome without\n",
    "#converting it to a string (without using slicing).\n",
    "num=eval(input(\"enter your number:\"))\n",
    "og=num\n",
    "rev=0\n",
    "while num>0:\n",
    "    lst=num%10\n",
    "    rev=rev*10+lst\n",
    "    num=num//10\n",
    "if og==rev:\n",
    "    print('palindrome')\n",
    "else:\n",
    "    print('not palindrome')"
   ]
  },
  {
   "cell_type": "code",
   "execution_count": 59,
   "id": "5955ef9e-c7e1-4d8b-8dac-da69b4aff37a",
   "metadata": {},
   "outputs": [
    {
     "name": "stdin",
     "output_type": "stream",
     "text": [
      "Enter 1 for string and 2 for list (for  length check) 1\n",
      "Enter a stering hii\n"
     ]
    },
    {
     "name": "stdout",
     "output_type": "stream",
     "text": [
      "the length of string is:3\n"
     ]
    }
   ],
   "source": [
    "#5. Write a Python program to find the length of a list or string without\n",
    "#using the len() function.\n",
    "ch=int(input(\"Enter 1 for string and 2 for list (for  length check)\"))\n",
    "if ch==1:\n",
    "    len1=0\n",
    "    str1=input(\"Enter a stering\")\n",
    "    for i in str1:\n",
    "        len1+=1\n",
    "    print(f\"the length of string is:{len1}\")\n",
    "elif ch==2:\n",
    "    len1=0\n",
    "    n=int(input(\"Enter how element you want in list\"))\n",
    "    list1=[input(f\"enter {i}\") for i in range(n)]\n",
    "    for i in list1:\n",
    "        len1+=1\n",
    "    print(f\"the length of string is:{len1}\")\n"
   ]
  },
  {
   "cell_type": "code",
   "execution_count": 64,
   "id": "d5fd270f-e3bc-4f60-9e26-a73f38ac814f",
   "metadata": {},
   "outputs": [
    {
     "name": "stdin",
     "output_type": "stream",
     "text": [
      "Enter which number table you want: 1\n"
     ]
    },
    {
     "name": "stdout",
     "output_type": "stream",
     "text": [
      "1 X 1:1\n",
      "1 X 2:2\n",
      "1 X 3:3\n",
      "1 X 4:4\n",
      "1 X 5:5\n",
      "1 X 6:6\n",
      "1 X 7:7\n",
      "1 X 8:8\n",
      "1 X 9:9\n",
      "1 X 10:10\n"
     ]
    }
   ],
   "source": [
    "#6. Write a Python program that asks the user to enter a number and\n",
    "#prints its multiplication table using a while loop.\n",
    "num=int(input(\"Enter which number table you want:\"))\n",
    "i=1\n",
    "while i<=10:\n",
    "    print(f'{num} X {i}:{i*num}')\n",
    "    i+=1"
   ]
  },
  {
   "cell_type": "code",
   "execution_count": 75,
   "id": "4293cc16-0e11-4706-bd1d-54173f78a4db",
   "metadata": {},
   "outputs": [
    {
     "name": "stdin",
     "output_type": "stream",
     "text": [
      "Enter how element you want in list 3\n",
      "enter 1 1\n",
      "enter 2 2\n",
      "enter 3 3\n"
     ]
    },
    {
     "name": "stdout",
     "output_type": "stream",
     "text": [
      "[1, 2, 3]\n",
      "[1, 3, 6]\n"
     ]
    }
   ],
   "source": [
    "#7. Write a Python program to find the sum of a given list using a lambda\n",
    "#function.\n",
    "n=int(input(\"Enter how element you want in list\"))\n",
    "list1=[int(input(f\"enter {i+1}\")) for i in range(n)]\n",
    "print(list1)\n",
    "a=0\n",
    "summ=[a:=a+i for i in list1]\n",
    "print(summ)"
   ]
  },
  {
   "cell_type": "code",
   "execution_count": null,
   "id": "fd06ac22-0f61-489d-a2f4-a375809e957c",
   "metadata": {},
   "outputs": [],
   "source": []
  },
  {
   "cell_type": "code",
   "execution_count": null,
   "id": "6c3f3eb1-d804-462f-ae53-ea1077b31ddb",
   "metadata": {},
   "outputs": [],
   "source": []
  }
 ],
 "metadata": {
  "kernelspec": {
   "display_name": "Python 3 (ipykernel)",
   "language": "python",
   "name": "python3"
  },
  "language_info": {
   "codemirror_mode": {
    "name": "ipython",
    "version": 3
   },
   "file_extension": ".py",
   "mimetype": "text/x-python",
   "name": "python",
   "nbconvert_exporter": "python",
   "pygments_lexer": "ipython3",
   "version": "3.12.7"
  }
 },
 "nbformat": 4,
 "nbformat_minor": 5
}
