{
 "cells": [
  {
   "cell_type": "code",
   "execution_count": 6,
   "id": "6824382a-83fa-4f49-b22c-70e07479d40b",
   "metadata": {},
   "outputs": [
    {
     "name": "stdout",
     "output_type": "stream",
     "text": [
      "helllo how are you i am thanos\n"
     ]
    }
   ],
   "source": [
    "#'r' open for reading (default)\n",
    "with open('bummy1.text', 'r') as file:\n",
    "    content = file.read()\n",
    "    print(content)\n"
   ]
  },
  {
   "cell_type": "code",
   "execution_count": 7,
   "id": "c1319721-4ecc-4e4b-8225-a441dd4279f6",
   "metadata": {},
   "outputs": [],
   "source": [
    "#'w' open for writing, truncating the file first\n",
    "with open('example.txt', 'w') as file:\n",
    "    file.write('Hello, World!')\n"
   ]
  },
  {
   "cell_type": "code",
   "execution_count": 10,
   "id": "47226f17-4b69-41a1-a819-6b0ec13aee30",
   "metadata": {},
   "outputs": [],
   "source": [
    "#'x' create a new file and open it for writing\n",
    "with open('dummy4.txt', 'x') as file:\n",
    "        file.write('New file created!')\n",
    "\n",
    "\n"
   ]
  },
  {
   "cell_type": "code",
   "execution_count": 12,
   "id": "5ab9e741-a140-4ac4-930f-86225eb89769",
   "metadata": {},
   "outputs": [],
   "source": [
    "#'a' open for writing, appending to the end of the file if it exists\n",
    "\n",
    "with open('dummy4.txt', 'a') as file:\n",
    "    file.write('text appended.')\n"
   ]
  },
  {
   "cell_type": "code",
   "execution_count": 16,
   "id": "aba4fee7-5658-45ce-b159-7609735cea52",
   "metadata": {},
   "outputs": [
    {
     "name": "stdout",
     "output_type": "stream",
     "text": [
      "b'New file c'\n"
     ]
    }
   ],
   "source": [
    "#'b' binary mode\n",
    "with open('dummy4.txt', 'rb') as file:\n",
    "    content = file.read()\n",
    "    print(content[:10])\n"
   ]
  },
  {
   "cell_type": "code",
   "execution_count": 19,
   "id": "2d3c567d-7d52-455f-9f82-b720f070a51a",
   "metadata": {},
   "outputs": [
    {
     "name": "stdout",
     "output_type": "stream",
     "text": [
      "New file created!text appended.\n"
     ]
    }
   ],
   "source": [
    "#'t' text mode (default)\n",
    "with open('dummy4.txt', 'rt') as file:\n",
    "    for line in file:\n",
    "        print(line)\n"
   ]
  },
  {
   "cell_type": "code",
   "execution_count": 20,
   "id": "182e697a-40a2-4b13-9baf-5a1bfb9a9902",
   "metadata": {},
   "outputs": [],
   "source": [
    "#'+' open a disk file for updating (reading and writing)\n",
    "with open('dummy4.txt', 'r+') as file:\n",
    "    content = file.read()\n",
    "    file.write('\\nAdding more content.')\n"
   ]
  },
  {
   "cell_type": "code",
   "execution_count": null,
   "id": "cb7c680c-e113-4e46-9b1a-a4831f998cd8",
   "metadata": {},
   "outputs": [],
   "source": []
  }
 ],
 "metadata": {
  "kernelspec": {
   "display_name": "Python 3 (ipykernel)",
   "language": "python",
   "name": "python3"
  },
  "language_info": {
   "codemirror_mode": {
    "name": "ipython",
    "version": 3
   },
   "file_extension": ".py",
   "mimetype": "text/x-python",
   "name": "python",
   "nbconvert_exporter": "python",
   "pygments_lexer": "ipython3",
   "version": "3.12.7"
  }
 },
 "nbformat": 4,
 "nbformat_minor": 5
}
