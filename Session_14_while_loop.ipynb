{
 "cells": [
  {
   "cell_type": "markdown",
   "id": "b3f73d80-1241-4c06-8c03-b63fea4b5663",
   "metadata": {},
   "source": [
    "## While loop\n",
    "- initialization to start\n",
    "\n",
    "- increment or decrement\n",
    "\n",
    "- condition to stop"
   ]
  },
  {
   "cell_type": "code",
   "execution_count": 1,
   "id": "25db5112-ae90-4257-b9ab-afbbec25b3c5",
   "metadata": {},
   "outputs": [
    {
     "ename": "SyntaxError",
     "evalue": "invalid syntax (1957221621.py, line 1)",
     "output_type": "error",
     "traceback": [
      "\u001b[1;36m  Cell \u001b[1;32mIn[1], line 1\u001b[1;36m\u001b[0m\n\u001b[1;33m    <intialization>\u001b[0m\n\u001b[1;37m    ^\u001b[0m\n\u001b[1;31mSyntaxError\u001b[0m\u001b[1;31m:\u001b[0m invalid syntax\n"
     ]
    }
   ],
   "source": [
    "<intialization>\n",
    "\n",
    "while <condition>:\n",
    "    #======python code\n",
    "\n",
    "    increment/decrement"
   ]
  },
  {
   "cell_type": "code",
   "execution_count": null,
   "id": "ff544ac4-c789-4670-9b1c-6549783e75c1",
   "metadata": {},
   "outputs": [],
   "source": [
    "#Rule:1 tell the the true condition\n",
    "#rule: tell me the condtion that become True then only i can enter inside the while loop\n",
    "i=1\n",
    "while i<10:\n",
    "    print(i)\n",
    "    i=i+1\n",
    "\n",
    "# step-1:i=1 wjile 1<3 True print(1) i=1+1=2\n",
    "#step-2=i=2 while 2<3 True print(2) in=2+1=3"
   ]
  },
  {
   "cell_type": "code",
   "execution_count": null,
   "id": "b666ce02-4084-4b96-b2e7-b19cf9ca2435",
   "metadata": {},
   "outputs": [],
   "source": [
    "#1)\n",
    "i=1\n",
    "while i<10:\n",
    "    print(i)\n",
    "    i=i+1\n",
    "    "
   ]
  },
  {
   "cell_type": "code",
   "execution_count": null,
   "id": "1e984c97-37bf-43c0-a783-bf6049bf095b",
   "metadata": {},
   "outputs": [],
   "source": [
    "i=10\n",
    "while i>=0:\n",
    "    print(i)\n",
    "    i=i-1"
   ]
  },
  {
   "cell_type": "code",
   "execution_count": 2,
   "id": "fe08622d-27ec-4082-9a47-b0678b9cb440",
   "metadata": {},
   "outputs": [
    {
     "name": "stdout",
     "output_type": "stream",
     "text": [
      "-1\n",
      "-2\n",
      "-3\n",
      "-4\n",
      "-5\n",
      "-6\n",
      "-7\n",
      "-8\n",
      "-9\n",
      "-10\n"
     ]
    }
   ],
   "source": [
    "i = -1\n",
    "while i >= -10: \n",
    "    print(i)\n",
    "    i = i - 1"
   ]
  },
  {
   "cell_type": "code",
   "execution_count": 3,
   "id": "c5712a87-fe81-4b19-8e34-78f7cd41677d",
   "metadata": {},
   "outputs": [
    {
     "name": "stdout",
     "output_type": "stream",
     "text": [
      "-10\n",
      "-9\n",
      "-8\n",
      "-7\n",
      "-6\n",
      "-5\n",
      "-4\n",
      "-3\n",
      "-2\n",
      "-1\n"
     ]
    }
   ],
   "source": [
    "i=-10\n",
    "while i<=-1:\n",
    "    print(i)\n",
    "    i=i+1"
   ]
  },
  {
   "cell_type": "code",
   "execution_count": 4,
   "id": "3bedeb55-87d8-450f-be57-088fc2b7027e",
   "metadata": {},
   "outputs": [
    {
     "name": "stdout",
     "output_type": "stream",
     "text": [
      "10\n",
      "9\n",
      "8\n",
      "7\n",
      "6\n",
      "5\n",
      "4\n",
      "3\n",
      "2\n",
      "1\n",
      "0\n"
     ]
    }
   ],
   "source": [
    "i=10\n",
    "while True:\n",
    "    print(i)\n",
    "    if i==0:\n",
    "        break\n",
    "    i=i-1"
   ]
  },
  {
   "cell_type": "code",
   "execution_count": null,
   "id": "69188f85-2a04-4938-956f-23ed6152bed3",
   "metadata": {},
   "outputs": [],
   "source": []
  }
 ],
 "metadata": {
  "kernelspec": {
   "display_name": "Python 3 (ipykernel)",
   "language": "python",
   "name": "python3"
  },
  "language_info": {
   "codemirror_mode": {
    "name": "ipython",
    "version": 3
   },
   "file_extension": ".py",
   "mimetype": "text/x-python",
   "name": "python",
   "nbconvert_exporter": "python",
   "pygments_lexer": "ipython3",
   "version": "3.12.7"
  }
 },
 "nbformat": 4,
 "nbformat_minor": 5
}
