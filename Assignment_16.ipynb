{
 "cells": [
  {
   "cell_type": "code",
   "execution_count": 1,
   "id": "6026fab9-ff06-4868-9672-f3bec1ea75e2",
   "metadata": {},
   "outputs": [
    {
     "name": "stdout",
     "output_type": "stream",
     "text": [
      "[1, 2, 3, 4, 5]\n"
     ]
    }
   ],
   "source": [
    "#Q1)sort the list with out sorted function\n",
    "list1=[5,4,3,2,1]\n",
    "for i in range(len(list1)):\n",
    "    for j in range(len(list1)-i-1):\n",
    "        if list1[j]>list1[j+1]:\n",
    "            list1[j], list1[j + 1] = list1[j + 1],list1[j]\n",
    "print(list1)\n"
   ]
  },
  {
   "cell_type": "code",
   "execution_count": 2,
   "id": "123ae62d-5fc6-43cb-8e6c-bbc6bb76dc1f",
   "metadata": {},
   "outputs": [
    {
     "name": "stdout",
     "output_type": "stream",
     "text": [
      "the max number is: 4\n"
     ]
    }
   ],
   "source": [
    "#2)find max value with out max function\n",
    "list1=[1,2,3,4]\n",
    "max_number=0\n",
    "for i in range(len(list1)):\n",
    "    max_number=list1[i]\n",
    "    if list1[i]>max_number:\n",
    "        max_number=list1[i]\n",
    "print(\"the max number is:\",max_number)"
   ]
  },
  {
   "cell_type": "code",
   "execution_count": 3,
   "id": "d33baa49-39bd-4a8f-a79a-5d0055bb30c2",
   "metadata": {},
   "outputs": [
    {
     "name": "stdout",
     "output_type": "stream",
     "text": [
      "the max number is: 1\n"
     ]
    }
   ],
   "source": [
    "#3 find the main value with out min function\n",
    "list1=[2,3,4,3,22,1,33,4,4,2,4,443]\n",
    "min_number=list1[0]\n",
    "for i in range(len(list1)):\n",
    "    if list1[i]<min_number:\n",
    "        min_number=list1[i]\n",
    "print(\"the max number is:\",min_number)"
   ]
  },
  {
   "cell_type": "code",
   "execution_count": 4,
   "id": "00286022-2f28-47ed-85ad-8f0c5625af29",
   "metadata": {},
   "outputs": [
    {
     "name": "stdout",
     "output_type": "stream",
     "text": [
      "[5, 3, 2, 1]\n"
     ]
    }
   ],
   "source": [
    "#4)Reverse the elements with out reversed function\n",
    "list1=[1,2,3,5]\n",
    "list2=[]\n",
    "\n",
    "i=0\n",
    "for i in range(-1,-len(list1)-1,-1):\n",
    "    list2.append(list1[i])\n",
    "print(list2)"
   ]
  },
  {
   "cell_type": "code",
   "execution_count": 5,
   "id": "a49f8598-3956-4c35-be26-2298f2238c30",
   "metadata": {},
   "outputs": [
    {
     "name": "stdout",
     "output_type": "stream",
     "text": [
      "the sum of all numbers is:246\n"
     ]
    }
   ],
   "source": [
    "#5) sum the elements with out using sum function\n",
    "list1=[33,21,33,5,67,87]\n",
    "sum1=0\n",
    "for i in range(len(list1)):\n",
    "    sum1+=list1[i]\n",
    "print(f'the sum of all numbers is:{sum1}')"
   ]
  },
  {
   "cell_type": "code",
   "execution_count": null,
   "id": "7b5f052e-1883-456c-b9c5-5572aacfc875",
   "metadata": {},
   "outputs": [],
   "source": []
  },
  {
   "cell_type": "code",
   "execution_count": null,
   "id": "c930b464-7115-4751-a1e6-3dcf846c18b0",
   "metadata": {},
   "outputs": [],
   "source": []
  }
 ],
 "metadata": {
  "kernelspec": {
   "display_name": "Python 3 (ipykernel)",
   "language": "python",
   "name": "python3"
  },
  "language_info": {
   "codemirror_mode": {
    "name": "ipython",
    "version": 3
   },
   "file_extension": ".py",
   "mimetype": "text/x-python",
   "name": "python",
   "nbconvert_exporter": "python",
   "pygments_lexer": "ipython3",
   "version": "3.12.7"
  }
 },
 "nbformat": 4,
 "nbformat_minor": 5
}
