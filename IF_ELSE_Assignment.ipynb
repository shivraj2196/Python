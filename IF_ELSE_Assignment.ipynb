{
 "cells": [
  {
   "cell_type": "code",
   "execution_count": 4,
   "id": "677b9398-e4ea-43ac-9e24-5b734f3fcb00",
   "metadata": {},
   "outputs": [
    {
     "name": "stdin",
     "output_type": "stream",
     "text": [
      "Enter the length in inch 55\n"
     ]
    },
    {
     "name": "stdout",
     "output_type": "stream",
     "text": [
      "Inch:21.65\n"
     ]
    }
   ],
   "source": [
    "#1)Write a program that asks the user to enter a length in centimetres. If the user enters\n",
    "#a negative length, the program should tell the user that the entry is invalid. Otherwise,\n",
    "#the program should convert the length to inches and print out the result. There are\n",
    "#2.54 centimetres in an inch.\n",
    "try:\n",
    "    CM=eval(input(\"Enter the length in inch\"))\n",
    "    if inch<0:\n",
    "        print(f\"lenght is invalid:{CM}\")\n",
    "    else:\n",
    "        print(f\"Inch:{CM/2.54:.2f}\")\n",
    "else"
   ]
  },
  {
   "cell_type": "code",
   "execution_count": 14,
   "id": "ae99bfc0-dcee-4866-a5a9-2c92e8dceb4e",
   "metadata": {},
   "outputs": [
    {
     "name": "stdin",
     "output_type": "stream",
     "text": [
      "Enter the Temperature: 55\n",
      "Enter the C for Celsius and F for Fahrenheit: f\n"
     ]
    },
    {
     "name": "stdout",
     "output_type": "stream",
     "text": [
      "The Temperature in Celsius is::12.78\n"
     ]
    }
   ],
   "source": [
    "#2)Ask the user for a temperature. Then ask them what units, Celsius or Fahrenheit, the\n",
    "#temperature is in. Your program should convert the temperature to the other unit. The\n",
    "#conversions are F = 9 5 C +32 and C = 5 9 (F − 32).\n",
    "\n",
    "temp=eval(input(\"Enter the Temperature:\"))\n",
    "typeTemp=input(\"Enter the C for Celsius and F for Fahrenheit:\").lower()\n",
    "if typeTemp=='c':\n",
    "    print(f\"The Temperature  in Fahrenheit  is:{(9/5)*temp+32}\")\n",
    "elif typeTemp=='f':\n",
    "    print(f\"The Temperature in Celsius is::{(5/9)*(temp-32):.2f}\")\n",
    "else:\n",
    "    print(f\"The input is invalid enter the valid input\")"
   ]
  },
  {
   "cell_type": "code",
   "execution_count": 20,
   "id": "e15dd424-4fdc-44fb-8ae3-97acaef1e4a1",
   "metadata": {},
   "outputs": [
    {
     "name": "stdin",
     "output_type": "stream",
     "text": [
      "Enter the temperator in Celsius: 0\n"
     ]
    },
    {
     "name": "stdout",
     "output_type": "stream",
     "text": [
      "The temperature is at freesing point\n"
     ]
    }
   ],
   "source": [
    "#Q3\n",
    "temp=eval(input(\"Enter the temperator in Celsius:\"))\n",
    "if temp<-273.15:\n",
    "    print(\"The temperature is invalid beacouse it is blow absolute zero:\")\n",
    "elif temp==-273.15:\n",
    "    print(\"The temperature is absolute 0\")\n",
    "elif -273.15<temp<0:\n",
    "    print(\"The temperature is below frezing point\")\n",
    "elif temp==0:\n",
    "    print(\"The temperature is at freesing point\")\n",
    "elif 0<temp<100:\n",
    "    print(\"The temperature is normal range\")\n",
    "elif temp==100:\n",
    "    print(\"The temperature is at boiling point\")\n",
    "elif temp>10:\n",
    "    print(\"The temperature is above the boiling point\")\n",
    "else:\n",
    "    print(f\"Enter the valid temperature:{temp}\")"
   ]
  },
  {
   "cell_type": "code",
   "execution_count": 29,
   "id": "82c94ebf-c8de-4299-b507-935207411a0b",
   "metadata": {},
   "outputs": [
    {
     "name": "stdin",
     "output_type": "stream",
     "text": [
      "Enter how many credits you have taken: 55\n"
     ]
    },
    {
     "name": "stdout",
     "output_type": "stream",
     "text": [
      "You are juniors\n"
     ]
    }
   ],
   "source": [
    "#Write a program that asks the user how many credits they have taken. If they have taken 23 or\n",
    "#less, print that the student is a freshman. If they have taken between 24 and 53, print that they\n",
    "#are asophomore. The range for juniors is 54 to 83, and for seniors it is 84 and over.\n",
    "try:\n",
    "    credits=eval(input(\"Enter how many credits you have taken:\"))\n",
    "    if credits<23:\n",
    "        print(\"The student is freshman\")\n",
    "    elif 34<credits<53:\n",
    "        print(\"you are asophomore\")\n",
    "    elif 54<credits<83:\n",
    "        print(\"You are juniors\")\n",
    "    elif credits>84:\n",
    "        print(\"You are seniors\")\n",
    "    else:\n",
    "        print(f\"Enter the valid credits{credits}\")\n",
    "except Exception as e:\n",
    "    print(e)"
   ]
  },
  {
   "cell_type": "code",
   "execution_count": 44,
   "id": "6e0ad8b2-231c-4f67-9cf9-7e394b049213",
   "metadata": {},
   "outputs": [
    {
     "name": "stdin",
     "output_type": "stream",
     "text": [
      "Gess the number: 5\n"
     ]
    },
    {
     "name": "stdout",
     "output_type": "stream",
     "text": [
      "Congratulations you guess it rignt the number is 5\n"
     ]
    }
   ],
   "source": [
    "#5)Generate a random number between 1 and 10. Ask the user to guess the number and print a\n",
    "#message based on whether they get it right or not.\n",
    "import random\n",
    "try:\n",
    "    num=eval(input(\"Gess the number:\"))\n",
    "    guess=random.randint(1,10)\n",
    "    if num==guess:\n",
    "        print(f\"Congratulations you guess it rignt the number is {guess}\")\n",
    "    else:\n",
    "        print(f\"Better luck next time the number is {guess}\")\n",
    "except Exception as e:\n",
    "    print(e)\n",
    "    \n"
   ]
  },
  {
   "cell_type": "code",
   "execution_count": 55,
   "id": "bb6b805e-68ed-42d5-ad01-43dfd88ee29c",
   "metadata": {},
   "outputs": [
    {
     "name": "stdin",
     "output_type": "stream",
     "text": [
      "Enter how many items you are Bought: 99\n"
     ]
    },
    {
     "name": "stdout",
     "output_type": "stream",
     "text": [
      "Your have Bought 99 and your bill is:990\n"
     ]
    }
   ],
   "source": [
    "#6)A store charges $12 per item if you buy less than 10 items. If you buy between 10\n",
    "#and 99 items, the cost is $10 per item. If you buy 100 or more items, the cost is $7\n",
    "#per item. Write a program that asks the user how many items they are buying and\n",
    "#prints the total cost.\n",
    "try:\n",
    "    items=eval(input(\"Enter how many items you are Bought:\"))\n",
    "    if items<10:\n",
    "        print(f\"Your have Bought {items} and your bill is:{items*12}\")\n",
    "    elif 10<=items<=99:\n",
    "            print(f\"Your have Bought {items} and your bill is:{items*10}\")\n",
    "    elif items>=100:\n",
    "            print(f\"Your have Bought {items} and your bill is:{items*7}\")\n",
    "except Exception as e:\n",
    "    print(e)\n"
   ]
  },
  {
   "cell_type": "code",
   "execution_count": 61,
   "id": "e8e0ef65-4edd-4a0c-94d5-db939e89f004",
   "metadata": {},
   "outputs": [
    {
     "name": "stdin",
     "output_type": "stream",
     "text": [
      "Enter the first number:  5\n",
      "Enter the second number:  2\n"
     ]
    },
    {
     "name": "stdout",
     "output_type": "stream",
     "text": [
      "Not close\n"
     ]
    }
   ],
   "source": [
    "try:\n",
    "    num1 = float(input(\"Enter the first number: \"))\n",
    "    num2 = float(input(\"Enter the second number: \"))\n",
    "    difference = num1 - num2\n",
    "    if difference < 0:\n",
    "        difference = -difference\n",
    "    if difference <= 0.001:\n",
    "        print(\"Close\")\n",
    "    else:\n",
    "        print(\"Not close\")\n",
    "except Exception as e:\n",
    "    print(\"Error:\", e)\n"
   ]
  },
  {
   "cell_type": "code",
   "execution_count": 66,
   "id": "59bd7b91-8746-43ee-bcbe-2222ffae1385",
   "metadata": {},
   "outputs": [
    {
     "name": "stdin",
     "output_type": "stream",
     "text": [
      "Enter the year to check it is leap year or not 1900\n"
     ]
    },
    {
     "name": "stdout",
     "output_type": "stream",
     "text": [
      "Year is not leap year\n"
     ]
    }
   ],
   "source": [
    "try:\n",
    "    year=eval(input(\"Enter the year to check it is leap year or not\"))\n",
    "    if year%4==0 and year%100!=0 or year%400==0:\n",
    "        print(\"The year is leap year\")\n",
    "    else:\n",
    "        print(\"Year is not leap year\")\n",
    "except Exception as e:\n",
    "    print(e)\n"
   ]
  },
  {
   "cell_type": "code",
   "execution_count": 67,
   "id": "507738ca-f5a0-4322-9241-3eb0539cdaf1",
   "metadata": {},
   "outputs": [
    {
     "name": "stdin",
     "output_type": "stream",
     "text": [
      "Enter a number:  5\n"
     ]
    },
    {
     "name": "stdout",
     "output_type": "stream",
     "text": [
      "Divisors of 5 are: [1, 5]\n"
     ]
    }
   ],
   "source": [
    "try:\n",
    "    number = int(input(\"Enter a number: \"))\n",
    "    divisors = []\n",
    "    for i in range(1, number + 1):\n",
    "        if number % i == 0:  \n",
    "            divisors.append(i)  \n",
    "    print(f\"Divisors of {number} are: {divisors}\")\n",
    "except Exception as e:\n",
    "    print(e)\n"
   ]
  },
  {
   "cell_type": "code",
   "execution_count": 73,
   "id": "9bdabf5b-54f0-4ef3-bf0c-2626eedbcea1",
   "metadata": {},
   "outputs": [
    {
     "name": "stdin",
     "output_type": "stream",
     "text": [
      "Enter hour (1-12):  5\n",
      "am (1) or pm (2)?  2\n",
      "How many hours ahead?  10\n"
     ]
    },
    {
     "name": "stdout",
     "output_type": "stream",
     "text": [
      "New hour: 3 am\n"
     ]
    }
   ],
   "source": [
    "hour = int(input(\"Enter hour (1-12): \"))\n",
    "period = int(input(\"am (1) or pm (2)? \"))\n",
    "hours_ahead = int(input(\"How many hours ahead? \"))\n",
    "if hours_ahead > 12:\n",
    "    print(\"Enter valid hours ahead (<=12)\")\n",
    "else:\n",
    "    total_hours = hour + hours_ahead\n",
    "    periods_count = total_hours // 12\n",
    "    new_hour = total_hours % 12\n",
    "    if new_hour == 0:\n",
    "        new_hour = 12\n",
    "    if periods_count % 2 == 0:\n",
    "        if period == 1:\n",
    "            period = 1\n",
    "        else:\n",
    "            period = 2\n",
    "    else:\n",
    "        if period == 1:\n",
    "            period = 2\n",
    "        else:\n",
    "            period = 1\n",
    "\n",
    "    if period == 1:\n",
    "        print(f\"New hour: {new_hour} am\")\n",
    "    else:\n",
    "        print(f\"New hour: {new_hour} pm\")\n"
   ]
  },
  {
   "cell_type": "code",
   "execution_count": 3,
   "id": "04ccb14e-2c4b-4162-9f86-894682379625",
   "metadata": {},
   "outputs": [
    {
     "name": "stdin",
     "output_type": "stream",
     "text": [
      " 1 + 1\n"
     ]
    },
    {
     "name": "stdout",
     "output_type": "stream",
     "text": [
      "+\n"
     ]
    }
   ],
   "source": [
    "n=input()\n",
    "n1=n.split()\n",
    "n2=n1[1]\n",
    "if n1[1]=="
   ]
  },
  {
   "cell_type": "code",
   "execution_count": null,
   "id": "7cfc974b-5a35-432a-8536-828cb7418981",
   "metadata": {},
   "outputs": [],
   "source": []
  }
 ],
 "metadata": {
  "kernelspec": {
   "display_name": "Python 3 (ipykernel)",
   "language": "python",
   "name": "python3"
  },
  "language_info": {
   "codemirror_mode": {
    "name": "ipython",
    "version": 3
   },
   "file_extension": ".py",
   "mimetype": "text/x-python",
   "name": "python",
   "nbconvert_exporter": "python",
   "pygments_lexer": "ipython3",
   "version": "3.12.7"
  }
 },
 "nbformat": 4,
 "nbformat_minor": 5
}
