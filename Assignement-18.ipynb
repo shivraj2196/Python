{
 "cells": [
  {
   "cell_type": "code",
   "execution_count": 4,
   "id": "b0b7ea0b-449d-490c-b5db-b6787c5adc4e",
   "metadata": {},
   "outputs": [
    {
     "name": "stdin",
     "output_type": "stream",
     "text": [
      "Enter how many items you want in list: 5\n",
      "Enter 1 item  47\n",
      "Enter 2 item  74\n",
      "Enter 3 item  41\n",
      "Enter 4 item  58\n",
      "Enter 5 item  52\n"
     ]
    },
    {
     "name": "stdout",
     "output_type": "stream",
     "text": [
      "the number of item in list=5\n"
     ]
    }
   ],
   "source": [
    "#(a) Print the total number of items in the list.\n",
    "num=int(input(\"Enter how many items you want in list:\"))\n",
    "lis=[input(f\"Enter {i+1} item \") for i in range(num)]\n",
    "count=0\n",
    "for i in lis:\n",
    "    count+=1\n",
    "print(f'the number of item in list={count}') \n",
    "    "
   ]
  },
  {
   "cell_type": "code",
   "execution_count": 7,
   "id": "9e23e343-a987-43dc-8249-8636bf4cde23",
   "metadata": {},
   "outputs": [
    {
     "name": "stdin",
     "output_type": "stream",
     "text": [
      "Enter how many items you want in list: 5\n",
      "Enter 1 item  78\n",
      "Enter 2 item  26\n",
      "Enter 3 item  85\n",
      "Enter 4 item  412\n",
      "Enter 5 item  58\n"
     ]
    },
    {
     "name": "stdout",
     "output_type": "stream",
     "text": [
      "the last item in list is:58\n"
     ]
    }
   ],
   "source": [
    "#(b) Print the last item in the list.\n",
    "num=int(input(\"Enter how many items you want in list:\"))\n",
    "lis=[input(f\"Enter {i+1} item \") for i in range(num)]\n",
    "print(f\"the last item in list is:{lis[-1]}\")"
   ]
  },
  {
   "cell_type": "code",
   "execution_count": 18,
   "id": "6c467dc8-2a8e-4501-9e1a-bb99544fe7c3",
   "metadata": {},
   "outputs": [
    {
     "name": "stdin",
     "output_type": "stream",
     "text": [
      "Enter how many items you want in list: 5\n",
      "Enter 1 item  78\n",
      "Enter 2 item  96\n",
      "Enter 3 item  35\n",
      "Enter 4 item  42\n",
      "Enter 5 item  14\n"
     ]
    },
    {
     "name": "stdout",
     "output_type": "stream",
     "text": [
      "14\n",
      "42\n",
      "35\n",
      "96\n",
      "78\n"
     ]
    }
   ],
   "source": [
    "#(c) Print the list in reverse order.\n",
    "num=int(input(\"Enter how many items you want in list:\"))\n",
    "lis=[input(f\"Enter {i+1} item \") for i in range(num)]\n",
    "for i in range(len(lis)-1,-1,-1):\n",
    "    print(lis[i])"
   ]
  },
  {
   "cell_type": "code",
   "execution_count": 37,
   "id": "26c1ccc2-07b0-4cc5-bcd2-9cb3c19e64cd",
   "metadata": {},
   "outputs": [
    {
     "name": "stdin",
     "output_type": "stream",
     "text": [
      "Enter how many items you want in list: 5\n",
      "Enter 1 item 47\n",
      "Enter 2 item 42\n",
      "Enter 3 item 4\n",
      "Enter 4 item 5\n",
      "Enter 5 item 4\n"
     ]
    },
    {
     "name": "stdout",
     "output_type": "stream",
     "text": [
      "Yes\n",
      "yes\n"
     ]
    }
   ],
   "source": [
    "#(d) Print Yes if the list contains a 5 and No  otherwise.\n",
    "num=int(input(\"Enter how many items you want in list:\"))\n",
    "lis=[int(input(f'Enter {i+1} item')) for i in range(num)]\n",
    "print(\"Yes\" if 5 in lis else \"No\")\n",
    "li=lambda :'yes' if 5 in lis else 'no'\n",
    "print(li())"
   ]
  },
  {
   "cell_type": "code",
   "execution_count": 43,
   "id": "9a73f1ce-08e2-4cf1-bdc6-11aa357e234d",
   "metadata": {},
   "outputs": [
    {
     "name": "stdin",
     "output_type": "stream",
     "text": [
      "Enter how many items you want in list: 5\n",
      "Enter 1 item 4\n",
      "Enter 2 item 2\n",
      "Enter 3 item 5\n",
      "Enter 4 item 7\n",
      "Enter 5 item 5\n"
     ]
    },
    {
     "name": "stdout",
     "output_type": "stream",
     "text": [
      "The number of 5's  in list:2\n"
     ]
    }
   ],
   "source": [
    "#(e) Print the number of fives in the list.\n",
    "num=int(input(\"Enter how many items you want in list:\"))\n",
    "lis=[int(input(f'Enter {i+1} item')) for i in range(num)]\n",
    "count=0\n",
    "if 5 in lis:\n",
    "    count+=1\n",
    "print(f\"The number of 5's  in list:{coun()}\")"
   ]
  },
  {
   "cell_type": "code",
   "execution_count": 52,
   "id": "3bb87083-4990-41de-bfe0-4dce123aec76",
   "metadata": {},
   "outputs": [
    {
     "name": "stdin",
     "output_type": "stream",
     "text": [
      "Enter how many items you want in list: 5\n",
      "Enter 1 item 74\n",
      "Enter 2 item 64\n",
      "Enter 3 item 54\n",
      "Enter 4 item 44\n",
      "Enter 5 item 34\n"
     ]
    },
    {
     "name": "stdout",
     "output_type": "stream",
     "text": [
      "[64, 54, 44]\n",
      "[44, 54, 64]\n"
     ]
    }
   ],
   "source": [
    "# (f) Remove the first and last items from the list, sort the remaining items, and print the result.\n",
    "num=int(input(\"Enter how many items you want in list:\"))\n",
    "lis=[int(input(f'Enter {i+1} item')) for i in range(num)]\n",
    "lis.pop(0)\n",
    "lis.pop(-1)\n",
    "print(lis)\n",
    "for i in range(len(lis)-1):\n",
    "    for j in range(len(lis)-i-1):\n",
    "        if lis[j]>lis[j+1]:\n",
    "            lis[j],lis[j+1]=lis[j+1],lis[j]\n",
    "print(lis)"
   ]
  },
  {
   "cell_type": "code",
   "execution_count": 57,
   "id": "b26b47f8-a96e-4d0c-b431-a9a8807349a7",
   "metadata": {},
   "outputs": [
    {
     "name": "stdin",
     "output_type": "stream",
     "text": [
      "Enter how many items you want in list: 5\n",
      "Enter 1 item 47\n",
      "Enter 2 item 5\n",
      "Enter 3 item 4\n",
      "Enter 4 item 7\n",
      "Enter 5 item 1\n"
     ]
    },
    {
     "name": "stdout",
     "output_type": "stream",
     "text": [
      "The count of number which are less than 5 is:2\n"
     ]
    }
   ],
   "source": [
    "#(g) Print how many integers in the list are less than 5.\n",
    "num=int(input(\"Enter how many items you want in list:\"))\n",
    "lis=[int(input(f'Enter {i+1} item')) for i in range(num)]\n",
    "count=0\n",
    "for i in lis:\n",
    "    if i <5:\n",
    "        count+=1\n",
    "print(f\"The count of number which are less than 5 is:{count}\")\n"
   ]
  },
  {
   "cell_type": "markdown",
   "id": "c0a5449c-4945-419e-9b11-c9477d342592",
   "metadata": {},
   "source": [
    "## 2. Random Number List Analysis"
   ]
  },
  {
   "cell_type": "code",
   "execution_count": 58,
   "id": "86fb2723-e512-48eb-9941-93241ebb65df",
   "metadata": {},
   "outputs": [],
   "source": [
    "#Write a program that generates a list of 20 random numbers between 1 and 100. Perform the\n",
    "#following tasks:\n",
    "#(a) Print the list.\n",
    "#(b) Print the average of the elements in the list.\n",
    "#(c) Print the largest and smallest values in the list.\n",
    "#(d) Print the second largest and second smallest entries in the list.\n",
    "#(e) Print how many even numbers are in the list."
   ]
  },
  {
   "cell_type": "code",
   "execution_count": 68,
   "id": "dc1ed8ff-1e59-498f-b2d3-cc4c70fa0106",
   "metadata": {},
   "outputs": [
    {
     "name": "stdout",
     "output_type": "stream",
     "text": [
      "[2, 13, 84, 9, 11, 56, 32, 76, 63, 75, 56, 5, 78, 8, 95, 57, 12, 21, 83, 33]\n",
      "the average of the numbers in list is:43.45\n"
     ]
    }
   ],
   "source": [
    "from random import randint\n",
    "from functools import reduce\n",
    "lis=[ randint(1,100) for i in range(20)]\n",
    "print(lis)\n",
    "\n"
   ]
  },
  {
   "cell_type": "code",
   "execution_count": 69,
   "id": "5beb1051-5a99-45ab-9ee4-5745a95e4c06",
   "metadata": {},
   "outputs": [
    {
     "name": "stdout",
     "output_type": "stream",
     "text": [
      "the average of the numbers in list is:43.45\n"
     ]
    }
   ],
   "source": [
    "#(b) Print the average of the elements in the list.\n",
    "summ=0\n",
    "avg=reduce(lambda summ,a:summ+a,lis)/len(lis)\n",
    "print(f'the average of the numbers in list is:{avg}')\n"
   ]
  },
  {
   "cell_type": "code",
   "execution_count": 78,
   "id": "796937d3-56ab-4807-ab29-24a823490a0a",
   "metadata": {},
   "outputs": [
    {
     "name": "stdout",
     "output_type": "stream",
     "text": [
      "the largest element in list is:95\n",
      "the min element in lis is:2\n"
     ]
    }
   ],
   "source": [
    "#(c) Print the largest and smallest values in the list.\n",
    "maxx=lis[0]\n",
    "lag=reduce(lambda a,b:a if a>b else b,lis)\n",
    "print(f\"the largest element in list is:{lag}\")\n",
    "mi=lis[0]\n",
    "minn=reduce(lambda a,b:a if a<b else b,lis)\n",
    "print(f\"the min element in lis is:{minn}\")"
   ]
  },
  {
   "cell_type": "code",
   "execution_count": 83,
   "id": "fb7fee18-62f8-444a-8baf-a83fa4261f6b",
   "metadata": {},
   "outputs": [
    {
     "name": "stdout",
     "output_type": "stream",
     "text": [
      "The second max number is:4\n",
      "the second min number is:2\n"
     ]
    }
   ],
   "source": [
    "#(d) Print the second largest and second smallest entries in the list.\n",
    "maxx=lis[0]\n",
    "sec_maxx=lis[0]\n",
    "for i in lis:\n",
    "    if i>maxx:\n",
    "        sec_maxx=maxx\n",
    "        maxx=i\n",
    "    elif sec_maxx<i and maxx!=i:\n",
    "        sec_maxx=i\n",
    "minn=lis[0]\n",
    "sec_minn=lis[0]\n",
    "for i in lis:\n",
    "    if i<minn:\n",
    "        sec_minn=minn\n",
    "        minn=i\n",
    "    elif sec_minn>i and minn != i:\n",
    "        sec_minn=i\n",
    "print(f\"The second max number is:{sec_maxx}\")\n",
    "print(f\"the second min number is:{sec_minn}\")"
   ]
  },
  {
   "cell_type": "code",
   "execution_count": 88,
   "id": "c73e911e-a1a1-4a98-8249-600741b6ef42",
   "metadata": {},
   "outputs": [
    {
     "name": "stdout",
     "output_type": "stream",
     "text": [
      "[3, 1, 4, 2, 5]\n"
     ]
    }
   ],
   "source": [
    "#(e) Print how many even numbers are in the list.\n",
    "cou=filter(lambda a:a if a%2==0 else _,lis)\n",
    "print(list(cou))"
   ]
  },
  {
   "cell_type": "code",
   "execution_count": null,
   "id": "e42408dd-c21f-4d66-b4c2-790a94bb6f8a",
   "metadata": {},
   "outputs": [],
   "source": []
  }
 ],
 "metadata": {
  "kernelspec": {
   "display_name": "Python 3 (ipykernel)",
   "language": "python",
   "name": "python3"
  },
  "language_info": {
   "codemirror_mode": {
    "name": "ipython",
    "version": 3
   },
   "file_extension": ".py",
   "mimetype": "text/x-python",
   "name": "python",
   "nbconvert_exporter": "python",
   "pygments_lexer": "ipython3",
   "version": "3.12.7"
  }
 },
 "nbformat": 4,
 "nbformat_minor": 5
}
