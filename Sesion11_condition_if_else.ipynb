{
 "cells": [
  {
   "cell_type": "markdown",
   "id": "fb39bbf1-5d47-4125-a7ae-ec14b0c79004",
   "metadata": {},
   "source": [
    "case-2:if-else "
   ]
  },
  {
   "cell_type": "markdown",
   "id": "99604d68-b12b-48a3-83c5-8ee0e08093cb",
   "metadata": {},
   "source": [
    "-if condition is True then if statements will execute\n",
    "-if condition is False then else statements will execute\n",
    "-one condition two outputs\n",
    "-if needs condition but not else"
   ]
  },
  {
   "cell_type": "markdown",
   "id": "bc657c8b-72f8-4d85-a388-00f44f9c80f4",
   "metadata": {},
   "source": [
    "if <condition >:\n",
    "    <write your conde here>\n",
    "else:\n",
    "    <write your code here>\n"
   ]
  },
  {
   "cell_type": "code",
   "execution_count": 3,
   "id": "374abf7e-3e22-498d-a9b8-4a591dd9f48b",
   "metadata": {},
   "outputs": [
    {
     "name": "stdout",
     "output_type": "stream",
     "text": [
      "positive number\n"
     ]
    }
   ],
   "source": [
    "if 100>0:\n",
    "    print('positive number')\n",
    "else:\n",
    "    print('negative number')\n",
    "    "
   ]
  },
  {
   "cell_type": "code",
   "execution_count": 4,
   "id": "7513fed6-633d-4743-a84e-48540d457594",
   "metadata": {},
   "outputs": [
    {
     "name": "stdout",
     "output_type": "stream",
     "text": [
      "positive number\n"
     ]
    }
   ],
   "source": [
    "n=100\n",
    "if n>0:\n",
    "    print(\"positive number\")\n",
    "else: \n",
    "    print(\"negative numbers\")\n",
    "    "
   ]
  },
  {
   "cell_type": "code",
   "execution_count": 5,
   "id": "6e38e0e9-5ade-4491-8440-cfea657948ff",
   "metadata": {},
   "outputs": [
    {
     "name": "stdin",
     "output_type": "stream",
     "text": [
      "Enter the number: 1\n"
     ]
    },
    {
     "name": "stdout",
     "output_type": "stream",
     "text": [
      "positive nunmber:\n"
     ]
    }
   ],
   "source": [
    "n=eval(input(\"Enter the number:\"))\n",
    "if n>0:\n",
    "    print(\"positive nunmber:\")\n",
    "else:\n",
    "    print(\"negative number:\")\n"
   ]
  },
  {
   "cell_type": "code",
   "execution_count": 18,
   "id": "4874efee-4835-4e8c-a744-e96299cc1976",
   "metadata": {},
   "outputs": [
    {
     "name": "stdout",
     "output_type": "stream",
     "text": [
      "37 is the positive number\n"
     ]
    }
   ],
   "source": [
    "import random\n",
    "n=random.randint(-100,100)\n",
    "if n>0:\n",
    "    print(f\"{n} is the positive number\")\n",
    "else:\n",
    "    print(f\"{n} is the negative number\")"
   ]
  },
  {
   "cell_type": "code",
   "execution_count": null,
   "id": "ca0bbdca-c2e8-4682-8770-e5d5f9a31187",
   "metadata": {},
   "outputs": [],
   "source": [
    "print('hello')\n",
    "if(100>0):\n",
    "    print('positive number')\n",
    "    print('condition is False')\n",
    "print('why are you in middle')\n",
    "else:\n",
    "    print('negative numbers')\n",
    "    print('condition is false')\n",
    "print('bye)\n",
    "#it will throught the error beacouse.we shuuld not wright in middle of if ans else block if block should follow else nothing in the mddle"
   ]
  },
  {
   "cell_type": "code",
   "execution_count": 21,
   "id": "7c81d145-0cae-46e9-b010-b2a11e7bcde2",
   "metadata": {},
   "outputs": [
    {
     "name": "stdin",
     "output_type": "stream",
     "text": [
      "Enter the first number: 55\n",
      "Enter the second number: 65\n"
     ]
    },
    {
     "name": "stdout",
     "output_type": "stream",
     "text": [
      "65 is greater thean 55\n"
     ]
    }
   ],
   "source": [
    "#wap ask the user enter two number\n",
    "#find the greatest number\n",
    "n1=eval(input(\"Enter the first number:\"))\n",
    "n2=eval(input(\"Enter the second number:\"))\n",
    "\n",
    "if n1>n2:\n",
    "    print(f\"{n1} is greater than {n2}\")\n",
    "else:\n",
    "    print(f\"{n2} is greater thean {n1}\")"
   ]
  },
  {
   "cell_type": "code",
   "execution_count": 39,
   "id": "b2d3dc4e-d9f1-4e82-acd5-b4edaa10c179",
   "metadata": {},
   "outputs": [
    {
     "name": "stdout",
     "output_type": "stream",
     "text": [
      "n2:83 is greater thean 59\n"
     ]
    }
   ],
   "source": [
    "#wap ask the random two number\n",
    "#find the greatest number\n",
    "import random\n",
    "n1=random.randint(1,100)\n",
    "n2=random.randint(1,100)\n",
    "\n",
    "if n1>n2:\n",
    "    print(f\"n1:{n1} is greater than {n2}\")\n",
    "else:\n",
    "    print(f\"n2:{n2} is greater thean {n1}\")"
   ]
  },
  {
   "cell_type": "code",
   "execution_count": null,
   "id": "3acc819a-1a2a-4857-bfb1-ba06e4fa095b",
   "metadata": {},
   "outputs": [],
   "source": [
    "#Q2) wap ask the user enter distance \n",
    "#if distance grearer than 25km\n",
    "#then ask the charge per km\n",
    "#then calculate total charge\n",
    "#other wise print free ride\n",
    "#step-1:Enter the distance\n",
    "#step-2: if distance >25\n",
    "#step-3: ask  the charge\n",
    "#step-4: calculate the total charge\n",
    "#step-5:else\n",
    "#step-6: free ride"
   ]
  },
  {
   "cell_type": "code",
   "execution_count": 41,
   "id": "c3973315-22b5-4b99-ba3d-7f1fe15ba388",
   "metadata": {},
   "outputs": [
    {
     "name": "stdin",
     "output_type": "stream",
     "text": [
      "Enter the distance in KM: 24\n"
     ]
    },
    {
     "name": "stdout",
     "output_type": "stream",
     "text": [
      "Free ride\n"
     ]
    }
   ],
   "source": [
    "dis=eval(input(\"Enter the distance in KM:\"))\n",
    "if dis>25:\n",
    "    crg=eval(input(\"Enter the charge per KM:\"))\n",
    "    total=dis*crg\n",
    "    print(f\"total amt is:{total}\")\n",
    "else:\n",
    "    print(\"Free ride\")"
   ]
  },
  {
   "cell_type": "code",
   "execution_count": 126,
   "id": "3a003589-dfd2-498e-90aa-78c9e579cca1",
   "metadata": {},
   "outputs": [
    {
     "name": "stdout",
     "output_type": "stream",
     "text": [
      "your distance is:15 Free ride\n"
     ]
    }
   ],
   "source": [
    "dis=random.randint(1,500)\n",
    "if dis>25:\n",
    "    crg=random.randint(1,100)\n",
    "    total=dis*crg\n",
    "    print(f\"the distance is:{dis} and crg is:{crg}\")\n",
    "    print(f\"total amt is:{total}\")\n",
    "else:\n",
    "    print(f\"your distance is:{dis} Free ride\")"
   ]
  },
  {
   "cell_type": "code",
   "execution_count": null,
   "id": "0bc9c6d4-d0b4-48e3-863a-a55f995bfab3",
   "metadata": {},
   "outputs": [],
   "source": [
    "#Q2) wap ask the user enter distance\n",
    "#enter the free distance (assume that 25KM \n",
    "#if distance grearer than 25km\n",
    "#then ask the charge per km\n",
    "#distance covered=distance-free_distance\n",
    "#then calculate total charge\n",
    "#other wise print free ride\n",
    "#step-1:Enter the distance\n",
    "#step-2: if distance >25\n",
    "#step-3: ask  the charge\n",
    "#step-4: calculate the total charge\n",
    "#step-5:else\n",
    "#step-6: free ride"
   ]
  },
  {
   "cell_type": "code",
   "execution_count": 129,
   "id": "0dbc1766-e7c0-4cb8-8591-e9a9b311cc18",
   "metadata": {},
   "outputs": [
    {
     "name": "stdin",
     "output_type": "stream",
     "text": [
      "Enter the dis you travel: 55\n",
      "Enter the free distance the gov is offering: 25\n",
      "Enter the crg per km: 5\n"
     ]
    },
    {
     "name": "stdout",
     "output_type": "stream",
     "text": [
      "Chargable distance is:30\n",
      "the distance is:55 and crg is:5\n",
      "total amt is:150\n"
     ]
    }
   ],
   "source": [
    "dis=eval(input(\"Enter the dis you travel:\"))\n",
    "fd=eval(input(\"Enter the free distance the gov is offering:\"))\n",
    "if dis>fd:\n",
    "    crg=eval(input(\"Enter the crg per km:\"))\n",
    "    discov=dis-fd\n",
    "    print(f\"Chargable distance is:{discov}\")\n",
    "    total=discov*crg\n",
    "    print(f\"the distance is:{dis} and crg is:{crg}\")\n",
    "    print(f\"total amt is:{total}\")\n",
    "else:\n",
    "    print(f\"your distance is:{dis} Free ride\")"
   ]
  },
  {
   "cell_type": "code",
   "execution_count": 135,
   "id": "3660715e-c6b7-433b-b1d3-53b70ea91476",
   "metadata": {},
   "outputs": [
    {
     "name": "stdin",
     "output_type": "stream",
     "text": [
      "Enter the distance in KM: 25\n",
      "Enter the charge per KM: 5\n"
     ]
    },
    {
     "name": "stdout",
     "output_type": "stream",
     "text": [
      "total amt is:125\n"
     ]
    }
   ],
   "source": [
    "dis=eval(input(\"Enter the distance in KM:\"))\n",
    "if dis<25:\n",
    "    print(\"Free ride\")\n",
    "else:\n",
    "    crg=eval(input(\"Enter the charge per KM:\"))\n",
    "    total=dis*crg\n",
    "    print(f\"total amt is:{total}\")"
   ]
  },
  {
   "cell_type": "code",
   "execution_count": 149,
   "id": "805e2f2f-c1d1-4efc-bf5d-684a9a84dc66",
   "metadata": {},
   "outputs": [
    {
     "name": "stdin",
     "output_type": "stream",
     "text": [
      "Enter the number: 5\n"
     ]
    },
    {
     "name": "stdout",
     "output_type": "stream",
     "text": [
      "Your are the lucky you won\n",
      "Your number:5 match with :5\n"
     ]
    }
   ],
   "source": [
    "#Q4) wap  ask the user enter a number from keyboard n1\n",
    "#ask the user get a random number between 1,10 n2\n",
    "#if the n1 equal to n2 you wan\n",
    "#else you lost \n",
    "import random\n",
    "userinp=eval(input(\"Enter the number:\"))\n",
    "n2=random.randint(1,10)\n",
    "if(userinp==n2):\n",
    "    print(\"Your are the lucky you won\")\n",
    "    print(f\"Your number:{userinp} match with :{n2}\")\n",
    "else:\n",
    "    print(\"Better luck next time:\")\n",
    "    print(f\"Your number:{userinp} not match with :{n2}\")"
   ]
  },
  {
   "cell_type": "code",
   "execution_count": 151,
   "id": "fbe6cc4d-757e-430a-b14f-702fc8fe4d56",
   "metadata": {},
   "outputs": [
    {
     "name": "stdin",
     "output_type": "stream",
     "text": [
      "Enter your course name: xyz\n",
      "Enter youe instute name: xya\n"
     ]
    },
    {
     "name": "stdout",
     "output_type": "stream",
     "text": [
      "katam zindagi\n"
     ]
    }
   ],
   "source": [
    "#Q5)corse name =datascience \n",
    "#instute name =nareshit \n",
    "#ask the user enter course name =\n",
    "#ask the user enter instute name=\n",
    "#if course_name=datascience and inst_name=naresh it then print you are at safe place other wise print katam zindagi\n",
    "\n",
    "course_name=input(\"Enter your course name:\")\n",
    "inst_name=input(\"Enter youe instute name:\")\n",
    "if(course_name==\"data science\" and inst_name==\"nareshIT\"):\n",
    "    print(\"your are at safe place\")\n",
    "else:\n",
    "    print(\"katam zindagi\")"
   ]
  },
  {
   "cell_type": "code",
   "execution_count": 151,
   "id": "0e7ecab5",
   "metadata": {},
   "outputs": [
    {
     "name": "stdin",
     "output_type": "stream",
     "text": [
      "Enter your course name: xyz\n",
      "Enter youe instute name: xya\n"
     ]
    },
    {
     "name": "stdout",
     "output_type": "stream",
     "text": [
      "katam zindagi\n"
     ]
    }
   ],
   "source": [
    "#Q5)corse name =datascience \n",
    "#instute name =nareshit \n",
    "#ask the user enter course name =\n",
    "#ask the user enter instute name=\n",
    "#if course_name=datascience and inst_name=naresh it then print you are at safe place other wise print katam zindagi\n",
    "\n",
    "course_name=input(\"Enter your course name:\")\n",
    "inst_name=input(\"Enter youe instute name:\")\n",
    "if(course_name==\"data science\" or inst_name==\"nareshIT\"):\n",
    "    print(\"your are at safe place\")\n",
    "else:\n",
    "    print(\"katam zindagi\")"
   ]
  },
  {
   "cell_type": "code",
   "execution_count": 153,
   "id": "904a48d0-7881-420c-8fde-9d7ede2954e2",
   "metadata": {},
   "outputs": [
    {
     "name": "stdin",
     "output_type": "stream",
     "text": [
      "enter the number to check the even or odd: 4\n"
     ]
    },
    {
     "name": "stdout",
     "output_type": "stream",
     "text": [
      "The :4 number is even\n"
     ]
    }
   ],
   "source": [
    "#Q6)even-odd\n",
    "#ask the user enter a number \n",
    "#print if it is even number or odd number\n",
    "#the idea is if any number divided by two then it gives the reminder equal to zero then it is even number\n",
    "num=eval(input(\"enter the number to check the even or odd:\"))\n",
    "if(num%2==0):\n",
    "    print(f\"The :{num} number is even\")\n",
    "else:\n",
    "    print(f\"the:{num} is odd\")"
   ]
  }
 ],
 "metadata": {
  "kernelspec": {
   "display_name": "Python 3 (ipykernel)",
   "language": "python",
   "name": "python3"
  },
  "language_info": {
   "codemirror_mode": {
    "name": "ipython",
    "version": 3
   },
   "file_extension": ".py",
   "mimetype": "text/x-python",
   "name": "python",
   "nbconvert_exporter": "python",
   "pygments_lexer": "ipython3",
   "version": "3.12.7"
  }
 },
 "nbformat": 4,
 "nbformat_minor": 5
}
