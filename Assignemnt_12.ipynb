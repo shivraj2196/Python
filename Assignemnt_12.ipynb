{
 "cells": [
  {
   "cell_type": "code",
   "execution_count": 1,
   "id": "06bc7ac9-6af3-44a6-8e09-6b7bfbb45a8c",
   "metadata": {},
   "outputs": [
    {
     "name": "stdout",
     "output_type": "stream",
     "text": [
      "HELLO\n",
      "HELLO WORLD\n",
      "123\n"
     ]
    }
   ],
   "source": [
    "# upper\n",
    "print(\"hello\".upper())\n",
    "print(\"Hello World\".upper())\n",
    "print(\"123\".upper())\n"
   ]
  },
  {
   "cell_type": "code",
   "execution_count": 2,
   "id": "9876dc9f-54bd-40e5-a122-e99a5a8a5a83",
   "metadata": {},
   "outputs": [
    {
     "name": "stdout",
     "output_type": "stream",
     "text": [
      "hello\n",
      "hello world\n",
      "123\n"
     ]
    }
   ],
   "source": [
    "# lower\n",
    "print(\"HELLO\".lower())\n",
    "print(\"Hello World\".lower())\n",
    "print(\"123\".lower())"
   ]
  },
  {
   "cell_type": "code",
   "execution_count": 3,
   "id": "196b8e93-5a7a-4eef-9217-3fc9bb4c9d8e",
   "metadata": {},
   "outputs": [
    {
     "name": "stdout",
     "output_type": "stream",
     "text": [
      "Hello World\n",
      "Hello World\n",
      "123 Abc\n"
     ]
    }
   ],
   "source": [
    "# title\n",
    "print(\"hello world\".title())\n",
    "print(\"HELLO WORLD\".title())\n",
    "print(\"123 abc\".title())"
   ]
  },
  {
   "cell_type": "code",
   "execution_count": 4,
   "id": "aa4e4678-9c24-426e-9200-0d8c99319d30",
   "metadata": {},
   "outputs": [
    {
     "name": "stdout",
     "output_type": "stream",
     "text": [
      "Hello world\n",
      "Hello world\n",
      "123 abc\n"
     ]
    }
   ],
   "source": [
    "# capitalize\n",
    "print(\"hello world\".capitalize())\n",
    "print(\"HELLO WORLD\".capitalize())\n",
    "print(\"123 abc\".capitalize())\n"
   ]
  },
  {
   "cell_type": "code",
   "execution_count": 7,
   "id": "fcdf71fb-ba96-4506-b648-a9490ea6fe6c",
   "metadata": {},
   "outputs": [
    {
     "name": "stdout",
     "output_type": "stream",
     "text": [
      "hello\n",
      "hello world\n"
     ]
    }
   ],
   "source": [
    "# casefold\n",
    "print(\"HELLO\".casefold())\n",
    "print(\"Hello World\".casefold())\n"
   ]
  },
  {
   "cell_type": "code",
   "execution_count": 8,
   "id": "211120ff-7279-4de9-ac04-c7b12e516ff4",
   "metadata": {},
   "outputs": [
    {
     "name": "stdout",
     "output_type": "stream",
     "text": [
      "  hello   \n",
      "--hello---\n",
      "**abc**\n"
     ]
    }
   ],
   "source": [
    "# center\n",
    "print(\"hello\".center(10))\n",
    "print(\"hello\".center(10, \"-\"))\n",
    "print(\"abc\".center(7, \"*\"))\n"
   ]
  },
  {
   "cell_type": "code",
   "execution_count": 9,
   "id": "b8adf211-3709-4282-9e42-bd200c162459",
   "metadata": {},
   "outputs": [
    {
     "name": "stdout",
     "output_type": "stream",
     "text": [
      "hello\n",
      "hello\n",
      "abc\n"
     ]
    }
   ],
   "source": [
    "# rstrip\n",
    "print(\"hello   \".rstrip())\n",
    "print(\"hello***\".rstrip(\"*\"))\n",
    "print(\"abc   \".rstrip())"
   ]
  },
  {
   "cell_type": "code",
   "execution_count": 10,
   "id": "d9b8ac43-125c-4738-83a5-9e3c77a6d7f9",
   "metadata": {},
   "outputs": [
    {
     "name": "stdout",
     "output_type": "stream",
     "text": [
      "hello\n",
      "hello\n",
      "abc\n"
     ]
    }
   ],
   "source": [
    "# lstrip\n",
    "print(\"   hello\".lstrip())\n",
    "print(\"***hello\".lstrip(\"*\"))\n",
    "print(\"   abc\".lstrip())"
   ]
  },
  {
   "cell_type": "code",
   "execution_count": 11,
   "id": "95d1a75e-507f-4ed1-baa5-818ec6063289",
   "metadata": {},
   "outputs": [
    {
     "name": "stdout",
     "output_type": "stream",
     "text": [
      "hello\n",
      "hello\n",
      "abc\n"
     ]
    }
   ],
   "source": [
    "\n",
    "# strip\n",
    "print(\"   hello   \".strip())\n",
    "print(\"***hello***\".strip(\"*\"))\n",
    "print(\"   abc   \".strip())"
   ]
  },
  {
   "cell_type": "code",
   "execution_count": 12,
   "id": "fa3b10f7-9fb0-4e84-a1d3-55b3cf118500",
   "metadata": {},
   "outputs": [
    {
     "name": "stdout",
     "output_type": "stream",
     "text": [
      "True\n",
      "False\n",
      "True\n"
     ]
    }
   ],
   "source": [
    "# startswith\n",
    "print(\"hello world\".startswith(\"hello\"))\n",
    "print(\"hello world\".startswith(\"world\"))\n",
    "print(\"abc123\".startswith(\"abc\"))"
   ]
  },
  {
   "cell_type": "code",
   "execution_count": 15,
   "id": "40e56c78-0d8a-4f0b-b8d7-81b57f2ebb6e",
   "metadata": {},
   "outputs": [
    {
     "name": "stdout",
     "output_type": "stream",
     "text": [
      "True\n",
      "False\n",
      "True\n"
     ]
    }
   ],
   "source": [
    "# endswith\n",
    "print(\"hello world\".endswith(\"world\"))\n",
    "print(\"hello world\".endswith(\"hello\"))\n",
    "print(\"abc123\".endswith(\"123\"))"
   ]
  },
  {
   "cell_type": "code",
   "execution_count": null,
   "id": "f080b355-736a-44e5-8ff2-d2c1c60da1a5",
   "metadata": {},
   "outputs": [],
   "source": []
  }
 ],
 "metadata": {
  "kernelspec": {
   "display_name": "Python 3 (ipykernel)",
   "language": "python",
   "name": "python3"
  },
  "language_info": {
   "codemirror_mode": {
    "name": "ipython",
    "version": 3
   },
   "file_extension": ".py",
   "mimetype": "text/x-python",
   "name": "python",
   "nbconvert_exporter": "python",
   "pygments_lexer": "ipython3",
   "version": "3.12.7"
  }
 },
 "nbformat": 4,
 "nbformat_minor": 5
}
