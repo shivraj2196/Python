{
 "cells": [
  {
   "cell_type": "markdown",
   "id": "27223ace-5355-4c52-8834-6dd6e234b1a5",
   "metadata": {},
   "source": [
    "#conditional statement\n",
    "-- conditonal statements are used to execute the code based  on some condition\n",
    "\n",
    "--assume a statement\n",
    "\n",
    "    -if rain came i will stay at hostel\n",
    "\n",
    "    -if rain came i will stay at hostel otherwise i will go to play cricket\n",
    "\n",
    "    -if rain came i will stay at hostel otherwise i will go to ground but if omkar sir call i will go to narshIT\n",
    "-if rain came i eill stay at hostel else i will got to play cricket"
   ]
  },
  {
   "cell_type": "markdown",
   "id": "5d7360d9-8026-41fe-b035-cb4ccb1541f8",
   "metadata": {},
   "source": [
    "if <condition>:\n",
    " #write your code here\n",
    "-whenever the condition is true \n",
    "-then python will go inside the if area then the lines will be execute"
   ]
  },
  {
   "cell_type": "code",
   "execution_count": 9,
   "id": "15d84093-569d-49b6-87d5-50db459fec53",
   "metadata": {},
   "outputs": [
    {
     "name": "stdout",
     "output_type": "stream",
     "text": [
      "False\n",
      "True\n",
      "False\n",
      "False\n",
      "True\n",
      "True\n"
     ]
    }
   ],
   "source": [
    "num=10 #assigmient 10 is a value stored in a variable name\n",
    "print(num==100) #f condition check num value equal to 10 or not\n",
    "print(num==10)#T\n",
    "print(num<10)#F\n",
    "print(num>10)#F\n",
    "print(num<=10)#F\n",
    "print(num>=10)#F"
   ]
  },
  {
   "cell_type": "code",
   "execution_count": 11,
   "id": "e5146203-528a-4658-b58c-d8a69dfba9e8",
   "metadata": {},
   "outputs": [
    {
     "name": "stdout",
     "output_type": "stream",
     "text": [
      "hello\n"
     ]
    }
   ],
   "source": [
    "if 100>10:\n",
    "    print(\"hello\")\n",
    "#step 1:100>10 true\n",
    "#step 2:hello\n",
    "\n"
   ]
  },
  {
   "cell_type": "markdown",
   "id": "5c93a445-0f23-45d6-a6f8-f405df5d1ab0",
   "metadata": {},
   "source": [
    "**mistake-1**\n",
    "**indentation error**\n",
    "-whehever a line starts with keyword at last :will be their\n",
    "\n",
    "whenever :there then we have indentation  "
   ]
  },
  {
   "cell_type": "code",
   "execution_count": 13,
   "id": "2dc6b663-95e1-4628-bacf-80d30b0b4a63",
   "metadata": {},
   "outputs": [
    {
     "name": "stdout",
     "output_type": "stream",
     "text": [
      "Hellow\n",
      "hello\n"
     ]
    }
   ],
   "source": [
    "if bool(100):\n",
    "    print(\"Hellow\")\n",
    "if 100>100:\n",
    "    print(\"hello\")\n",
    "\n",
    "if True:\n",
    "    print(\"hello\")"
   ]
  },
  {
   "cell_type": "code",
   "execution_count": null,
   "id": "91d53165-9bc4-4a82-8d88-0c267c724f7a",
   "metadata": {},
   "outputs": [],
   "source": []
  }
 ],
 "metadata": {
  "kernelspec": {
   "display_name": "Python 3 (ipykernel)",
   "language": "python",
   "name": "python3"
  },
  "language_info": {
   "codemirror_mode": {
    "name": "ipython",
    "version": 3
   },
   "file_extension": ".py",
   "mimetype": "text/x-python",
   "name": "python",
   "nbconvert_exporter": "python",
   "pygments_lexer": "ipython3",
   "version": "3.12.7"
  }
 },
 "nbformat": 4,
 "nbformat_minor": 5
}
