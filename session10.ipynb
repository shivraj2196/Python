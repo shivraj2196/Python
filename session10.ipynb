{
 "cells": [
  {
   "cell_type": "code",
   "execution_count": 2,
   "id": "439f2ae5-84c8-4df9-819f-d4d4360bf8e6",
   "metadata": {},
   "outputs": [],
   "source": [
    "# those who are done all the meanwhile do below qn\n",
    "# story between papa and son\n",
    "\n",
    "# son: hi papa\n",
    "# fa : hi beta\n",
    "# son: im going to school\n",
    "# fa: okay beta, i heared your results came out\n",
    "# son: yes papa\n",
    "# fa: then what about the result\n",
    "# son: lets play a game i will give the marks you tell me the perce\n",
    "# fa: exited\n",
    "# Telugu= random\n",
    "# hindi\n",
    "# end\n",
    "# maths\n",
    "# sci\n",
    "# soc\n",
    "# avg\n",
    "# display the avg"
   ]
  },
  {
   "cell_type": "code",
   "execution_count": 1,
   "id": "918b92fb-51a9-4d81-823c-28ad9ae50ae4",
   "metadata": {},
   "outputs": [
    {
     "name": "stdout",
     "output_type": "stream",
     "text": [
      "son: hi papa\n",
      "fa : hi beta\n",
      "son: im going to school\n",
      "fa: okay beta, i heared your results came out\n",
      "son: yes papa\n",
      "fa: then what about the result\n",
      "son: lets play a game i will give the marks you tell me the perce\n",
      "fa: exited\n",
      "Tel:88\n",
      "Tel:14\n",
      "Tel:9\n",
      "Tel:51\n",
      "Tel:98\n",
      "Tel:98\n",
      "Father:Your total is358\n",
      " your avg is 59.67 \n",
      " and percentage is 59.67\n"
     ]
    }
   ],
   "source": [
    "import random \n",
    "import math\n",
    "son=input(\"son:\")\n",
    "print(f\"son:{son}\")\n",
    "fa=input(\"Father:\")\n",
    "print(f\"father:{fa}\")\n",
    "son=input(\"son:\")\n",
    "print(f\"son:{son}\")\n",
    "fa=input(\"father:\")\n",
    "print(f\"father:{fa}\")\n",
    "son=input(\"son:\")\n",
    "print(f\"son:{son}\")\n",
    "fa=input(\"father:\")\n",
    "print(f\"father:{fa}\")\n",
    "son=input(\"son:\")\n",
    "print(f\"son:{son}\")\n",
    "fa=input(\"father:\")\n",
    "print(f\"father:{fa}\")\n",
    "tel=random.randint(1,100)\n",
    "hin=random.randint(1,100)\n",
    "sci=random.randint(1,100)\n",
    "eng=random.randint(1,100)\n",
    "mat=random.randint(1,100)\n",
    "soc=random.randint(1,100)\n",
    "print(f\"Tel:{tel}\")\n",
    "print(f\"Tel:{hin}\")\n",
    "print(f\"Tel:{sci}\")\n",
    "print(f\"Tel:{eng}\")\n",
    "print(f\"Tel:{mat}\")\n",
    "print(f\"Tel:{soc}\")\n",
    "total=tel+hin+sci+eng+mat+soc\n",
    "avg=total/6\n",
    "percentage=(total/600)*100\n",
    "print(f\"Father:Your total is{total}\\n your avg is {(avg):.2f} \\n and percentage is {(percentage):.2f}\")"
   ]
  },
  {
   "cell_type": "code",
   "execution_count": 2,
   "id": "1a727d0c-fdaf-4214-9658-876b7251ee1e",
   "metadata": {},
   "outputs": [
    {
     "name": "stdout",
     "output_type": "stream",
     "text": [
      "son: hi papa\n",
      "fa : hi beta\n",
      "son: im going to school\n",
      "fa: okay beta, i heared your results came out\n",
      "son: yes papa\n",
      "fa: then what about the result\n",
      "son: lets play a game i will give the marks you tell me the perce\n",
      "fa: exited\n",
      "Tel:41\n",
      "Tel:40\n",
      "Tel:85\n",
      "Tel:77\n",
      "Tel:87\n",
      "Tel:9\n",
      "Father:Your total is339\n",
      " your avg is 56.50 \n",
      " and percentage is 56.50\n"
     ]
    }
   ],
   "source": [
    "import random \n",
    "import math\n",
    "import time\n",
    "print(\"son: hi papa\")\n",
    "time.sleep(1)\n",
    "print(\"fa : hi beta\")\n",
    "time.sleep(1)\n",
    "print(\"son: im going to school\")\n",
    "time.sleep(1)\n",
    "print(\"fa: okay beta, i heared your results came out\")\n",
    "time.sleep(1)\n",
    "print(\"son: yes papa\")\n",
    "time.sleep(1)\n",
    "print(\"fa: then what about the result\")\n",
    "time.sleep(1)\n",
    "print(\"son: lets play a game i will give the marks you tell me the perce\")\n",
    "time.sleep(1)\n",
    "print(\"fa: exited\")\n",
    "time.sleep(1)\n",
    "tel=random.randint(1,100)\n",
    "hin=random.randint(1,100)\n",
    "sci=random.randint(1,100)\n",
    "eng=random.randint(1,100)\n",
    "mat=random.randint(1,100)\n",
    "soc=random.randint(1,100)\n",
    "print(f\"Tel:{tel}\")\n",
    "print(f\"Tel:{hin}\")\n",
    "print(f\"Tel:{sci}\")\n",
    "print(f\"Tel:{eng}\")\n",
    "print(f\"Tel:{mat}\")\n",
    "print(f\"Tel:{soc}\")\n",
    "total=tel+hin+sci+eng+mat+soc\n",
    "avg=total/6\n",
    "percentage=(total/600)*100\n",
    "print(f\"Father:Your total is{total}\\n your avg is {(avg):.2f} \\n and percentage is {(percentage):.2f}\")"
   ]
  }
 ],
 "metadata": {
  "kernelspec": {
   "display_name": "Python 3 (ipykernel)",
   "language": "python",
   "name": "python3"
  },
  "language_info": {
   "codemirror_mode": {
    "name": "ipython",
    "version": 3
   },
   "file_extension": ".py",
   "mimetype": "text/x-python",
   "name": "python",
   "nbconvert_exporter": "python",
   "pygments_lexer": "ipython3",
   "version": "3.12.7"
  }
 },
 "nbformat": 4,
 "nbformat_minor": 5
}
