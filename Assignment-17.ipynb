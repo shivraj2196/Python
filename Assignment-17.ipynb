{
 "cells": [
  {
   "cell_type": "code",
   "execution_count": 1,
   "id": "243372ff-e1bc-4f89-b1c1-1341855b3334",
   "metadata": {},
   "outputs": [
    {
     "name": "stdout",
     "output_type": "stream",
     "text": [
      "[6, 5, 4, 3, 2, 1]\n"
     ]
    }
   ],
   "source": [
    " #how to sort the list\n",
    "l1=[1,2,3,4,5,6]\n",
    "for i in range(len(l1)):\n",
    "    for j in range(len(l1)-i-1):\n",
    "        if l1[j]<l1[j+1]:\n",
    "            l1[j],l1[j+1]=l1[j+1],l1[j]\n",
    "print(l1)\n",
    "        "
   ]
  },
  {
   "cell_type": "code",
   "execution_count": 2,
   "id": "96e0dcff-3e63-4780-a715-7cf53f0f1b43",
   "metadata": {},
   "outputs": [
    {
     "name": "stdin",
     "output_type": "stream",
     "text": [
      "Enter how many number you want in list 5\n",
      "enter 1: 4\n",
      "enter 2: 525\n",
      "enter 3: 47\n",
      "enter 4: 55\n",
      "enter 5: 47\n"
     ]
    },
    {
     "name": "stdout",
     "output_type": "stream",
     "text": [
      "525\n"
     ]
    }
   ],
   "source": [
    "# how to find the maximum value of the list\n",
    "n=int(input(\"Enter how many number you want in list\"))\n",
    "l1=[int(input(f'enter {i+1}:')) for i in range(n)]\n",
    "max_val=l1[0]\n",
    "for i in l1:\n",
    "    if max_val<i:\n",
    "        max_val=i\n",
    "print(max_val)"
   ]
  },
  {
   "cell_type": "code",
   "execution_count": 3,
   "id": "61ea40cc-bfae-443b-b900-88d7cb45ac3e",
   "metadata": {},
   "outputs": [
    {
     "name": "stdin",
     "output_type": "stream",
     "text": [
      "Enter how many numbers you want in list 5\n",
      "Enter 1: 44\n",
      "Enter 2: 41\n",
      "Enter 3: 52\n",
      "Enter 4: 58\n",
      "Enter 5: 74\n"
     ]
    },
    {
     "name": "stdout",
     "output_type": "stream",
     "text": [
      "41\n"
     ]
    }
   ],
   "source": [
    "# how to find the minimum value of the list\n",
    "n=int(input(\"Enter how many numbers you want in list\"))\n",
    "l1=[int(input(f'Enter {i+1}:')) for i in range(n)]\n",
    "min_val=l1[0]\n",
    "for i in l1:\n",
    "    if min_val>i:\n",
    "        min_val=i\n",
    "print(min_val)"
   ]
  },
  {
   "cell_type": "code",
   "execution_count": 4,
   "id": "210309a9-3921-4334-ae72-de95a88fe8c2",
   "metadata": {},
   "outputs": [
    {
     "name": "stdin",
     "output_type": "stream",
     "text": [
      "Enter how many numbers you want in list: 5\n",
      "Enter 1: 47\n",
      "Enter 2: 45\n",
      "Enter 3: 58\n",
      "Enter 4: 52\n",
      "Enter 5: 59\n"
     ]
    },
    {
     "name": "stdout",
     "output_type": "stream",
     "text": [
      "max value=59 ,second_max=58\n"
     ]
    }
   ],
   "source": [
    "# how to find the second maximum value of the list\n",
    "n=int(input(\"Enter how many numbers you want in list:\"))\n",
    "l1=[int(input(f'Enter {i+1}:')) for i in range(n)]\n",
    "max_val=l1[0]\n",
    "sec_max=l1[0]\n",
    "for i in l1:\n",
    "    if i>max_val:\n",
    "        sec_max=max_val\n",
    "        max_val=i\n",
    "    elif sec_max<i and max_val!=i:\n",
    "        sec_max=i\n",
    "print(f\"max value={max_val} ,second_max={sec_max}\")"
   ]
  },
  {
   "cell_type": "code",
   "execution_count": 5,
   "id": "09c5bcbc-9a07-4c26-a678-e2290fcfcc1d",
   "metadata": {},
   "outputs": [
    {
     "name": "stdin",
     "output_type": "stream",
     "text": [
      "Enter how many numbers you want in list: 5\n",
      "Enter 1: 85\n",
      "Enter 2: 42\n",
      "Enter 3: 74\n",
      "Enter 4: 12\n",
      "Enter 5: 45\n"
     ]
    },
    {
     "name": "stdout",
     "output_type": "stream",
     "text": [
      "min=12,sec_min:42\n"
     ]
    }
   ],
   "source": [
    "# how to find the second minimum value of the list\n",
    "n=int(input(\"Enter how many numbers you want in list:\"))\n",
    "l1=[int(input(f'Enter {i+1}:')) for i in range(n)]\n",
    "min_val=l1[0]\n",
    "sec_min=l1[0]\n",
    "for i in l1:\n",
    "    if min_val>i:\n",
    "        sec_min=min_val\n",
    "        min_val=i\n",
    "    elif sec_min>i and min_val!=i:\n",
    "        sec_min=i\n",
    "print(f'min={min_val},sec_min:{sec_min}')  "
   ]
  },
  {
   "cell_type": "code",
   "execution_count": 6,
   "id": "bcaa6fda-fe8c-4bbe-bc22-e4d430bf8052",
   "metadata": {},
   "outputs": [
    {
     "name": "stdin",
     "output_type": "stream",
     "text": [
      "Enter your string: hii that is done\n"
     ]
    },
    {
     "name": "stdout",
     "output_type": "stream",
     "text": [
      "['that:4', 'done:4']\n"
     ]
    }
   ],
   "source": [
    "# how to find the longest word of a string\n",
    "str1=input(\"Enter your string:\")\n",
    "l1=str1.split()\n",
    "l2=[]\n",
    "for i in l1:\n",
    "    l2.append(len(i))\n",
    "lg=l2[0]\n",
    "lg_lis=[lg]\n",
    "for i in range(1,len(l2)):\n",
    "    if lg<l2[i]:\n",
    "        lg=l2[i]\n",
    "        lg_lis.clear()\n",
    "        lg_lis.append(f'{l1[i]}:{l2[i]}')\n",
    "    elif lg==l2[i]:\n",
    "        lg_lis.append(f'{l1[i]}:{l2[i]}')\n",
    "print(lg_lis)"
   ]
  },
  {
   "cell_type": "code",
   "execution_count": 7,
   "id": "4513da6d-cffd-4caf-b4b2-5fe4a180706c",
   "metadata": {},
   "outputs": [
    {
     "name": "stdin",
     "output_type": "stream",
     "text": [
      "Enter your string: hii hii hii is is is that you\n"
     ]
    },
    {
     "name": "stdout",
     "output_type": "stream",
     "text": [
      "['hii:3', 'is:3']\n"
     ]
    }
   ],
   "source": [
    "#how to find the most repeated word of a string\n",
    "str1=input(\"Enter your string:\")\n",
    "l1=str1.split()\n",
    "l2=[]\n",
    "l3=[]\n",
    "for i in l1:\n",
    "    if i not in l2:\n",
    "        l2.append(i)\n",
    "        l3.append(l1.count(i))\n",
    "rep=l3[0]\n",
    "rep_lis=[f'{l2[0]}:{rep}']\n",
    "for i in range(1,len(l3)):\n",
    "    if rep<l3[i]:\n",
    "        rep=l3[i]\n",
    "        rep_lis.append(f'{l2[i]}:{rep}')\n",
    "    elif rep==l3[i]:\n",
    "        rep_lis.append(f'{l2[i]}:{rep}')\n",
    "print(rep_lis)"
   ]
  },
  {
   "cell_type": "code",
   "execution_count": null,
   "id": "e23a8302-2b9d-4343-8ae5-24e6fda2aebd",
   "metadata": {},
   "outputs": [],
   "source": []
  }
 ],
 "metadata": {
  "kernelspec": {
   "display_name": "Python 3 (ipykernel)",
   "language": "python",
   "name": "python3"
  },
  "language_info": {
   "codemirror_mode": {
    "name": "ipython",
    "version": 3
   },
   "file_extension": ".py",
   "mimetype": "text/x-python",
   "name": "python",
   "nbconvert_exporter": "python",
   "pygments_lexer": "ipython3",
   "version": "3.12.7"
  }
 },
 "nbformat": 4,
 "nbformat_minor": 5
}
