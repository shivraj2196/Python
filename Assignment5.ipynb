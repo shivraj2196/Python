{
 "cells": [
  {
   "cell_type": "code",
   "execution_count": 3,
   "id": "ab8ea1d6-7fc3-4902-9322-e387b94acf2a",
   "metadata": {},
   "outputs": [
    {
     "name": "stdin",
     "output_type": "stream",
     "text": [
      "Enter basic sallary of Ramesh: 5000\n"
     ]
    },
    {
     "name": "stdout",
     "output_type": "stream",
     "text": [
      "the deamess Allowance is:12500.0 \n",
      "the house rent is:1000.0 \n",
      "the gross sallary is:18500.0 \n"
     ]
    }
   ],
   "source": [
    "#1. Ramesh’s basic salary is input through the keyboard. His dearness allowance is 40% of basic salary, and\n",
    "#house rent allowance is 20% of basic salary. Write a program to calculate his gross salary.\n",
    "try:\n",
    "    sallary=eval(input(\"Enter basic sallary of Ramesh:\"))\n",
    "    deamess_allowance=sallary*0.40\n",
    "    house_rent=sallary*0.20\n",
    "    print(f\"the deamess Allowance is:{deamess_allowance} \") \n",
    "    print(f\"the house rent is:{house_rent} \") \n",
    "    print(f\"the gross sallary is:{sallary+deamess_allowance+house_rent} \") \n",
    "except Exception as e:\n",
    "    print(e)"
   ]
  },
  {
   "cell_type": "code",
   "execution_count": 8,
   "id": "1909a232-4808-4a07-884e-ba4612e49517",
   "metadata": {},
   "outputs": [
    {
     "name": "stdin",
     "output_type": "stream",
     "text": [
      "Enter the in KM 55\n"
     ]
    },
    {
     "name": "stdout",
     "output_type": "stream",
     "text": [
      "The distance in meter is 55000\n",
      "The distance in meter is 180446.2\n",
      "The distance in meter is 2165355.5\n",
      "The distance in meter is 5500000\n"
     ]
    }
   ],
   "source": [
    "#2. The distance between two cities (in km.) is input through the keyboard. Write a program to convert and\n",
    "#print this distance in meters, feet, inches and centimeters.\n",
    "try:\n",
    "    distance=eval(input(\"Enter the in KM\"))\n",
    "    print(f\"The distance in meter is {distance*1000}\")\n",
    "    print(f\"The distance in feet is {distance*3280.84}\")\n",
    "    print(f\"The distance in inches is {distance*39370.1}\")\n",
    "    print(f\"The distance in centimeters is {distance*100000}\")\n",
    "except Exception as e:\n",
    "    print(e)"
   ]
  },
  {
   "cell_type": "code",
   "execution_count": 15,
   "id": "d6ac2c4b-72a9-4fdf-bcd1-37fd8e379a33",
   "metadata": {},
   "outputs": [
    {
     "name": "stdin",
     "output_type": "stream",
     "text": [
      "Enter the marks in subject 1: 55\n",
      "Enter the marks in subject 2: 55\n",
      "Enter the marks in subject 3: 55\n",
      "Enter the marks in subject 4: 55\n",
      "Enter the marks in subject 5: 55\n"
     ]
    },
    {
     "name": "stdout",
     "output_type": "stream",
     "text": [
      "The aggregate marks are:275\n",
      "The percentage is:55.00\n"
     ]
    }
   ],
   "source": [
    "#3. If the marks obtained by a student in five different subjects are input through the keyboard, find out the\n",
    "#aggregate marks and percentage marks obtained by the student. Assume that the maximum marks that\n",
    "#can be obtained by a student in each subject is 100.\n",
    "try:\n",
    "    subject1=eval(input(\"Enter the marks in subject 1:\"))\n",
    "    subject2=eval(input(\"Enter the marks in subject 2:\"))\n",
    "    subject3=eval(input(\"Enter the marks in subject 3:\"))\n",
    "    subject4=eval(input(\"Enter the marks in subject 4:\"))\n",
    "    subject5=eval(input(\"Enter the marks in subject 5:\"))\n",
    "    aggregate_marks=subject1+subject2+subject3+subject4+subject5\n",
    "    percentage=(aggregate_marks/500)*100\n",
    "    print(f\"The aggregate marks are:{aggregate_marks}\")\n",
    "    print(f\"The percentage is:{percentage:.2f}\")\n",
    "except Exception as e:\n",
    "    print(e)"
   ]
  },
  {
   "cell_type": "code",
   "execution_count": 6,
   "id": "1d3c214d-404b-4aef-8845-9c2377742f26",
   "metadata": {},
   "outputs": [
    {
     "name": "stdin",
     "output_type": "stream",
     "text": [
      "Enter temperature in Fahrenhite 45\n"
     ]
    },
    {
     "name": "stdout",
     "output_type": "stream",
     "text": [
      "the 45 in Centigrade degrees is:7.22\n"
     ]
    }
   ],
   "source": [
    "#4. Temperature of a city in Fahrenheit degrees is input through the keyboard. Write a program to convert this\n",
    "#temperature into Centigrade degrees.\n",
    "try:\n",
    "    temperature=eval(input(\"Enter temperature in Fahrenhite\"))\n",
    "    print(f\"the {temperature} in Centigrade degrees is:{(temperature - 32) / 1.8:.2f}\")\n",
    "except Exception as e:\n",
    "    print(e)"
   ]
  },
  {
   "cell_type": "code",
   "execution_count": 8,
   "id": "00443f70-7dcd-4fd1-a84f-b11ef06c611e",
   "metadata": {},
   "outputs": [
    {
     "name": "stdin",
     "output_type": "stream",
     "text": [
      "Enter the length of rectangle: 5\n",
      "Enter the breadth if rectangle: 5\n",
      "Enter the radius of circle: 5\n"
     ]
    },
    {
     "name": "stdout",
     "output_type": "stream",
     "text": [
      "Area of the rectangle is :25\n",
      "Perimeter of the rectangle :20\n",
      "Area of the circle:78.5\n",
      "Circumference of the circle:31.400000000000002\n"
     ]
    }
   ],
   "source": [
    "#5. The length & breadth of a rectangle and radius of a circle are input through the keyboard. Write a program\n",
    "#to calculate the area & perimeter of the rectangle, and the area & circumference of the circle.\n",
    "try:\n",
    "    rectangleLength=eval(input(\"Enter the length of rectangle:\"))\n",
    "    rectabgleBreadth=eval(input(\"Enter the breadth if rectangle:\"))\n",
    "    circleRadius=eval(input(\"Enter the radius of circle:\"))\n",
    "    print(f\"Area of the rectangle is :{rectangleLength*rectabgleBreadth}\")\n",
    "    print(f\"Perimeter of the rectangle :{2*(rectangleLength+rectabgleBreadth)}\")\n",
    "    print(f\"Area of the circle:{3.14*circleRadius*circleRadius}\")\n",
    "    print(f\"Circumference of the circle:{2*3.14*circleRadius}\")\n",
    "except Exception as e:\n",
    "    print(e)\n",
    "\n",
    "                            "
   ]
  },
  {
   "cell_type": "code",
   "execution_count": 11,
   "id": "c52e1cd0-e004-4cb2-adc1-ad1bdcf29b67",
   "metadata": {},
   "outputs": [
    {
     "name": "stdin",
     "output_type": "stream",
     "text": [
      "Enter the c: 5\n",
      "Enter the d: 6\n"
     ]
    },
    {
     "name": "stdout",
     "output_type": "stream",
     "text": [
      "c:6\n",
      "d:5\n"
     ]
    }
   ],
   "source": [
    "#6. Two numbers are input through the keyboard into two locations C and D. Write a program to interchange\n",
    "#the contents of C and D.\n",
    "try:\n",
    "    c=eval(input(\"Enter the c:\"))\n",
    "    d=eval(input(\"Enter the d:\"))\n",
    "    e=c\n",
    "    c=d\n",
    "    d=e\n",
    "    print(f\"c:{c}\")\n",
    "    print(f\"d:{d}\")\n",
    "except Exception as e:\n",
    "    print(e)"
   ]
  },
  {
   "cell_type": "code",
   "execution_count": 15,
   "id": "d3c2f470-8de6-4dc5-a8b2-fbddaffde296",
   "metadata": {},
   "outputs": [
    {
     "name": "stdin",
     "output_type": "stream",
     "text": [
      "Enter the number:  12345\n"
     ]
    },
    {
     "name": "stdout",
     "output_type": "stream",
     "text": [
      "The reversed number is: 54321\n"
     ]
    }
   ],
   "source": [
    "#7. If a five-digit number is input through the keyboard, write a program to reverse the number.\n",
    "try:\n",
    "    num = eval(input(\"Enter the number: \"))\n",
    "    if len(str(num)) == 5: \n",
    "        num1 = num % 10\n",
    "        num2 = (num // 10) % 10\n",
    "        num3 = (num // 100) % 10\n",
    "        num4 = (num // 1000) % 10\n",
    "        num5 = (num // 10000) % 10\n",
    "        reverseNumber = num1 * 10000 + num2 * 1000 + num3 * 100 + num4 * 10 + num5\n",
    "        print(f\"The reversed number is: {reverseNumber}\")\n",
    "    else:\n",
    "        print(\"Please enter a 5-digit number.\")\n",
    "except Exception as e:\n",
    "    print(e)\n"
   ]
  },
  {
   "cell_type": "code",
   "execution_count": 22,
   "id": "8f9cb998-e80e-4cb2-8b40-f445ae9ece34",
   "metadata": {},
   "outputs": [
    {
     "name": "stdin",
     "output_type": "stream",
     "text": [
      "Enter the number: 1234\n"
     ]
    },
    {
     "name": "stdout",
     "output_type": "stream",
     "text": [
      "1\n",
      "4\n",
      "Addition of first and as number is:5\n"
     ]
    }
   ],
   "source": [
    "#8. If a four-digit number is input through the keyboard, write a program to obtain the sum of the first and last\n",
    "#digit of this number.\n",
    "try:\n",
    "    num=eval(input(\"Enter the number:\"))\n",
    "    if len(str(num))==4:\n",
    "        num1=num%10\n",
    "        num4=(num//1000)%10\n",
    "        print(num4)\n",
    "        print(num1)\n",
    "        print(f\"Addition of first and as number is:{num1+num4}\")\n",
    "    else:\n",
    "        print(\"Enter 4 digit number:\")\n",
    "except Exception as e:\n",
    "    print(e)"
   ]
  },
  {
   "cell_type": "code",
   "execution_count": 29,
   "id": "45444a26-b43c-4d7f-b79e-bb8db41080f2",
   "metadata": {},
   "outputs": [
    {
     "name": "stdout",
     "output_type": "stream",
     "text": [
      "Literate men population: 14560.00\n",
      "Illiterate men population: 27040.00\n",
      "Literate women population: 4992.00\n",
      "Illiterate women population: 33408.00\n"
     ]
    }
   ],
   "source": [
    "#9. In a town, the percentage of men is 52. The percentage of total literacy is 48. If total percentage of literate\n",
    "#men is 35 of the total population, write a program to find the total number of illiterate men and women if\n",
    "#the population of the town is 80,000.\n",
    "menPercentage = 52\n",
    "menLiteracyPercentage = 35\n",
    "totalPopulation = 80000\n",
    "totalLiteracyPercentage = 48\n",
    "\n",
    "menPopulation = totalPopulation * 0.52  \n",
    "literateMenPopulation = menPopulation * 0.35 \n",
    "illiterateMenPopulation = menPopulation - literateMenPopulation  \n",
    "\n",
    "womenPopulation = totalPopulation - menPopulation  \n",
    "literateWomenPopulation = womenPopulation * (totalLiteracyPercentage - menLiteracyPercentage) / 100  \n",
    "illiterateWomenPopulation = womenPopulation - literateWomenPopulation  \n",
    "\n",
    "print(f\"Literate men population: {literateMenPopulation:.2f}\")\n",
    "print(f\"Illiterate men population: {illiterateMenPopulation:.2f}\")\n",
    "print(f\"Literate women population: {literateWomenPopulation:.2f}\")\n",
    "print(f\"Illiterate women population: {illiterateWomenPopulation:.2f}\")\n"
   ]
  },
  {
   "cell_type": "code",
   "execution_count": 30,
   "id": "9c9d9751-9f58-4ba7-a866-b63b3475196c",
   "metadata": {},
   "outputs": [
    {
     "name": "stdin",
     "output_type": "stream",
     "text": [
      "Enter the amount withdraw: 560\n"
     ]
    },
    {
     "name": "stdout",
     "output_type": "stream",
     "text": [
      "The Hundred Notes we require is:5\n",
      "The Fifty Notes we require is:1\n",
      "The ten Notes we require is:1\n"
     ]
    }
   ],
   "source": [
    "#10. A cashier has currency notes of denominations 10, 50 and 100. If the amount to be withdrawn is input\n",
    "#through the keyboard in hundreds, find the total number of currency notes of each denomination the\n",
    "#cashier will have to give to the withdrawer.\n",
    "amount=eval(input(\"Enter the amount withdraw:\"))\n",
    "hundredNotes=amount//100\n",
    "remainingAfterHundred=amount%100\n",
    "fiftyNotes=remainingAfterHundred//50\n",
    "remaniningAfterFifty=remainingAfterHundred%50\n",
    "tenNotes=remaniningAfterFifty//10\n",
    "print(f\"The Hundred Notes we require is:{hundredNotes}\")\n",
    "print(f\"The Fifty Notes we require is:{fiftyNotes}\")\n",
    "print(f\"The ten Notes we require is:{tenNotes}\")"
   ]
  }
 ],
 "metadata": {
  "kernelspec": {
   "display_name": "Python 3 (ipykernel)",
   "language": "python",
   "name": "python3"
  },
  "language_info": {
   "codemirror_mode": {
    "name": "ipython",
    "version": 3
   },
   "file_extension": ".py",
   "mimetype": "text/x-python",
   "name": "python",
   "nbconvert_exporter": "python",
   "pygments_lexer": "ipython3",
   "version": "3.12.7"
  }
 },
 "nbformat": 4,
 "nbformat_minor": 5
}
