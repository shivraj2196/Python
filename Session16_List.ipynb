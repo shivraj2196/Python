{
 "cells": [
  {
   "cell_type": "markdown",
   "id": "81be7372-cb03-4ae6-a66b-8d1ddb4af4db",
   "metadata": {},
   "source": [
    "## LIST"
   ]
  },
  {
   "cell_type": "markdown",
   "id": "1206a497-15e7-452d-b0c2-16ac84589dd1",
   "metadata": {},
   "source": [
    "**Basic Representations**"
   ]
  },
  {
   "cell_type": "markdown",
   "id": "7e1e9cfe-48f3-4043-acb1-882f1eadfb7e",
   "metadata": {},
   "source": [
    "- strings elements will use in quouts\n",
    "\n",
    "- list elements is in square brackets"
   ]
  },
  {
   "cell_type": "code",
   "execution_count": 4,
   "id": "f7c17c9e-ee51-4b1e-b2e6-196e4dc06e2e",
   "metadata": {},
   "outputs": [
    {
     "name": "stdout",
     "output_type": "stream",
     "text": [
      "[1, 2, 3, 4]\n"
     ]
    }
   ],
   "source": [
    "list1=[1,2,3,4]\n",
    "print(list1)"
   ]
  },
  {
   "cell_type": "code",
   "execution_count": 5,
   "id": "e6543726-a8c8-4fc4-ba40-94a89bb24762",
   "metadata": {},
   "outputs": [],
   "source": [
    "list2=['A','B','C']"
   ]
  },
  {
   "cell_type": "code",
   "execution_count": 6,
   "id": "e603534a-1fc5-4a99-b3eb-1d108fb2dfc1",
   "metadata": {},
   "outputs": [
    {
     "name": "stdout",
     "output_type": "stream",
     "text": [
      "['A', 'B', 'C']\n"
     ]
    }
   ],
   "source": [
    "print(list2)"
   ]
  },
  {
   "cell_type": "code",
   "execution_count": 9,
   "id": "a2195819-a331-47b4-b278-62f6988bc3e9",
   "metadata": {},
   "outputs": [
    {
     "name": "stdout",
     "output_type": "stream",
     "text": [
      "[1, 2, 3, 'A', 'B', 'C']\n"
     ]
    }
   ],
   "source": [
    "list3=[1,2,3,'A','B','C']\n",
    "print(list3)"
   ]
  },
  {
   "cell_type": "code",
   "execution_count": 65,
   "id": "8b675b6e-9814-48a6-b21e-8cefd68e61fd",
   "metadata": {},
   "outputs": [
    {
     "data": {
      "text/plain": [
       "[75, 5, 2, 20, 10]"
      ]
     },
     "execution_count": 65,
     "metadata": {},
     "output_type": "execute_result"
    }
   ],
   "source": [
    "list1=[10,20,2,5,75]\n",
    "list2=['Apple','apple','Cherry','banana']\n",
    "list3=list1+list2\n",
    "list3\n",
    "len(list1)\n",
    "max(list1)\n",
    "max(list2)\n",
    "min(list1)\n",
    "min(list2)\n",
    "sum(list1)\n",
    "#sum(list2)#sum will work on int only\n",
    "sorted(list1)\n",
    "sorted(list2)\n",
    "#sorted(list3) -it will not work beacouse we are comparing to different datatype\n",
    "#list1.reversed()\n",
    "#len(list3)\n",
    "#max(list3)#it will not work if we have both int and str in one list\n",
    "#min(list3)#it will not work if we have both int and str in one list\n",
    "#sum(list3)#it will not work if we have both int and str in one list\n",
    "list1[::-1]"
   ]
  },
  {
   "cell_type": "code",
   "execution_count": 31,
   "id": "a44ebe31-cef9-4254-9cc8-722bab29088f",
   "metadata": {},
   "outputs": [
    {
     "name": "stdout",
     "output_type": "stream",
     "text": [
      "[1, 2, 3, 'A', 'B', 'C', 2.3, 4.5, True, False, 3, '#', 43, 28, 4, [1, 2, 3], (20+30j)]\n"
     ]
    },
    {
     "data": {
      "text/plain": [
       "[[[['python']]]]"
      ]
     },
     "execution_count": 31,
     "metadata": {},
     "output_type": "execute_result"
    }
   ],
   "source": [
    "import random\n",
    "list5=[1,2,3,'A','B','C',2.3,4.5,True,False,eval(\"1+2\"),'#',0b0101011,0x1c,random.randint(1,10),[1,2,3],20+30j]\n",
    "print(list5)\n",
    "name='python'\n",
    "list9=[name]\n",
    "list9\n",
    "list10=[_]\n",
    "list10"
   ]
  },
  {
   "cell_type": "code",
   "execution_count": 52,
   "id": "9dcc410b-f3a1-4e3e-b89e-166f04c1a4be",
   "metadata": {},
   "outputs": [],
   "source": [
    "lis=reversed(list1)"
   ]
  },
  {
   "cell_type": "code",
   "execution_count": 54,
   "id": "82a93fd8-e32a-499e-a73e-b65305274a47",
   "metadata": {},
   "outputs": [
    {
     "data": {
      "text/plain": [
       "[75, 5, 2, 20, 10]"
      ]
     },
     "execution_count": 54,
     "metadata": {},
     "output_type": "execute_result"
    }
   ],
   "source": [
    "list(lis)"
   ]
  },
  {
   "cell_type": "code",
   "execution_count": 60,
   "id": "ce5a6fcf-3bd9-4295-b0d7-0cd08f772df6",
   "metadata": {},
   "outputs": [
    {
     "data": {
      "text/plain": [
       "31.1"
      ]
     },
     "execution_count": 60,
     "metadata": {},
     "output_type": "execute_result"
    }
   ],
   "source": [
    "lis=[1,2,31.1,2.2,]\n",
    "max(lis)"
   ]
  },
  {
   "cell_type": "code",
   "execution_count": 63,
   "id": "372bc8b5-23cf-4e5f-947d-ac7c66354acc",
   "metadata": {
    "scrolled": true
   },
   "outputs": [
    {
     "data": {
      "text/plain": [
       "['__add__',\n",
       " '__class__',\n",
       " '__class_getitem__',\n",
       " '__contains__',\n",
       " '__delattr__',\n",
       " '__delitem__',\n",
       " '__dir__',\n",
       " '__doc__',\n",
       " '__eq__',\n",
       " '__format__',\n",
       " '__ge__',\n",
       " '__getattribute__',\n",
       " '__getitem__',\n",
       " '__getstate__',\n",
       " '__gt__',\n",
       " '__hash__',\n",
       " '__iadd__',\n",
       " '__imul__',\n",
       " '__init__',\n",
       " '__init_subclass__',\n",
       " '__iter__',\n",
       " '__le__',\n",
       " '__len__',\n",
       " '__lt__',\n",
       " '__mul__',\n",
       " '__ne__',\n",
       " '__new__',\n",
       " '__reduce__',\n",
       " '__reduce_ex__',\n",
       " '__repr__',\n",
       " '__reversed__',\n",
       " '__rmul__',\n",
       " '__setattr__',\n",
       " '__setitem__',\n",
       " '__sizeof__',\n",
       " '__str__',\n",
       " '__subclasshook__',\n",
       " 'append',\n",
       " 'clear',\n",
       " 'copy',\n",
       " 'count',\n",
       " 'extend',\n",
       " 'index',\n",
       " 'insert',\n",
       " 'pop',\n",
       " 'remove',\n",
       " 'reverse',\n",
       " 'sort']"
      ]
     },
     "execution_count": 63,
     "metadata": {},
     "output_type": "execute_result"
    }
   ],
   "source": [
    "dir(lis)"
   ]
  },
  {
   "cell_type": "code",
   "execution_count": 66,
   "id": "9a73d3f1-254d-40d7-8399-0ecc420c62f3",
   "metadata": {},
   "outputs": [
    {
     "name": "stdout",
     "output_type": "stream",
     "text": [
      "75\n",
      "5\n",
      "2\n",
      "20\n",
      "10\n"
     ]
    }
   ],
   "source": [
    "for i in reversed(list1):\n",
    "    print(i)"
   ]
  },
  {
   "cell_type": "code",
   "execution_count": 67,
   "id": "a61fada4-4936-4255-9a1f-8d45d9b5afe8",
   "metadata": {},
   "outputs": [
    {
     "data": {
      "text/plain": [
       "([2, 5, 10, 20, 75], [75, 20, 10, 5, 2])"
      ]
     },
     "execution_count": 67,
     "metadata": {},
     "output_type": "execute_result"
    }
   ],
   "source": [
    "sorted(list1),sorted(list1,reverse=True)"
   ]
  },
  {
   "cell_type": "code",
   "execution_count": 97,
   "id": "2aeaad2a-d200-4884-9bc8-37efa51bf48e",
   "metadata": {},
   "outputs": [
    {
     "name": "stdout",
     "output_type": "stream",
     "text": [
      "[5, 4, 3, 2, 1]\n"
     ]
    }
   ],
   "source": [
    "#in the interview \n",
    "#list1=[10,20,30,40]\n",
    "#Q1)sort the list with out sorted function\n",
    "#2)find max value with out max function\n",
    "#3 find the main value with out min function\n",
    "#4)Reverse the elements with out reversed function\n",
    "#5) sum the elements with out using sum function\n",
    "list1=[5,4,3,2,1]\n",
    "for i in range(len(list1)):\n",
    "    for j in range(len(list1)):\n",
    "        if i==len(list1) and i<i+1:\n",
    "            temo=list1[i]\n",
    "            list1[i]=list1[i+1]\n",
    "            list1[i+1]=temo\n",
    "print(list1)\n",
    "#list1[2]=2\n",
    "#print(list1)"
   ]
  },
  {
   "cell_type": "markdown",
   "id": "1d14497c-d606-4894-98b7-c9e70567ff39",
   "metadata": {},
   "source": [
    "**concatenation**"
   ]
  },
  {
   "cell_type": "code",
   "execution_count": 86,
   "id": "cf19c61c-ee49-4a39-b5f7-edf2d6feddfb",
   "metadata": {},
   "outputs": [],
   "source": [
    "list2=[1,2,3,4]\n",
    "list2=['A','B','C','D']\n",
    "#list1+list2\n",
    "#list1/list2 fail\n",
    "#list1*list2 fail\n",
    "#list1-list2 fail"
   ]
  },
  {
   "cell_type": "code",
   "execution_count": 92,
   "id": "5d69b46d-27fc-4b2c-9555-d094700d572d",
   "metadata": {},
   "outputs": [
    {
     "name": "stdout",
     "output_type": "stream",
     "text": [
      "the positive index of 10= 0  the negative index of it is -6\n",
      "the positive index of 20= 1  the negative index of it is -5\n",
      "the positive index of 30= 2  the negative index of it is -4\n",
      "the positive index of A= 3  the negative index of it is -3\n",
      "the positive index of B= 4  the negative index of it is -2\n",
      "the positive index of C= 5  the negative index of it is -1\n"
     ]
    }
   ],
   "source": [
    "#-6  -5 -4 -3   -2   -1 \n",
    "#10   20 30 'A' 'B' 'C'\n",
    "#0   1  2   3   4    5\n",
    "list1=[10,20,30,'A','B','C']\n",
    "for i in range(len(list1)):\n",
    "    print(f'the positive index of {list1[i]}= {i}  the negative index of it is {i-len(list1)}')"
   ]
  },
  {
   "cell_type": "code",
   "execution_count": 102,
   "id": "b6097add-3e09-4284-937b-1ab90f23284d",
   "metadata": {},
   "outputs": [
    {
     "data": {
      "text/plain": [
       "10"
      ]
     },
     "execution_count": 102,
     "metadata": {},
     "output_type": "execute_result"
    }
   ],
   "source": [
    "list1=[[10]]\n",
    "#inside list how many elements are there:1\n",
    "#[10]\n",
    "list1[0]#this answer is list of[10]\n",
    "list1[0][0]#this will give 10"
   ]
  },
  {
   "cell_type": "code",
   "execution_count": 103,
   "id": "4a7dac48-31b8-495b-a863-6365cc4a9f88",
   "metadata": {},
   "outputs": [
    {
     "data": {
      "text/plain": [
       "(1, 2)"
      ]
     },
     "execution_count": 103,
     "metadata": {},
     "output_type": "execute_result"
    }
   ],
   "source": [
    "list1=[[10,20]]\n",
    "list2=[10,20]\n",
    "len(list1),len(list2)"
   ]
  },
  {
   "cell_type": "code",
   "execution_count": 108,
   "id": "4b573286-95a2-4529-8e14-29c93387a6c7",
   "metadata": {},
   "outputs": [
    {
     "data": {
      "text/plain": [
       "20"
      ]
     },
     "execution_count": 108,
     "metadata": {},
     "output_type": "execute_result"
    }
   ],
   "source": [
    "list1=[10,[20]]\n",
    "list1[1]\n",
    "list1[1][0]"
   ]
  },
  {
   "cell_type": "code",
   "execution_count": 109,
   "id": "c19613c9-046e-46e2-852c-f05b4d07135c",
   "metadata": {},
   "outputs": [
    {
     "data": {
      "text/plain": [
       "'Cherry'"
      ]
     },
     "execution_count": 109,
     "metadata": {},
     "output_type": "execute_result"
    }
   ],
   "source": [
    "list1=[10,20,30,'A',['Banana','Cherry']]\n",
    "list1[4][1]"
   ]
  },
  {
   "cell_type": "code",
   "execution_count": 110,
   "id": "2a5ae3a3-672e-44a6-9a89-9efdbd929c05",
   "metadata": {},
   "outputs": [
    {
     "data": {
      "text/plain": [
       "'Cherry'"
      ]
     },
     "execution_count": 110,
     "metadata": {},
     "output_type": "execute_result"
    }
   ],
   "source": [
    "list1=['A',['Apple','B',['Banana'],'C',['Cherry']]]\n",
    "list1[1][4][0]"
   ]
  },
  {
   "cell_type": "code",
   "execution_count": 114,
   "id": "121a17a6-e400-40b0-973a-1ee76d5bcb4a",
   "metadata": {},
   "outputs": [
    {
     "data": {
      "text/plain": [
       "'Dragon fruite'"
      ]
     },
     "execution_count": 114,
     "metadata": {},
     "output_type": "execute_result"
    }
   ],
   "source": [
    "list1=['A',['Apple','B',['Banana','C',['Cherry','D',['Dragon fruite']]]]]\n",
    "list1[1][2][2][2][0]"
   ]
  },
  {
   "cell_type": "code",
   "execution_count": 119,
   "id": "869ec8f3-3d5c-493b-854d-6535b503d2fe",
   "metadata": {},
   "outputs": [
    {
     "data": {
      "text/plain": [
       "'Bat'"
      ]
     },
     "execution_count": 119,
     "metadata": {},
     "output_type": "execute_result"
    }
   ],
   "source": [
    "list1=['Apple',['Kashmir',['India',['Criket',['Bat']]]]]\n",
    "list1[1][1][1][1][0]"
   ]
  },
  {
   "cell_type": "code",
   "execution_count": 62,
   "id": "e7124ccd-a13f-4981-92d6-a68e807580e8",
   "metadata": {},
   "outputs": [
    {
     "name": "stdout",
     "output_type": "stream",
     "text": [
      "[1, 2, 3, 4, 5]\n"
     ]
    }
   ],
   "source": [
    "#Q1)sort the list with out sorted function\n",
    "list1=[5,4,3,2,1]\n",
    "for i in range(len(list1)):\n",
    "    for j in range(len(list1)-i-1):\n",
    "        if list1[j]>list1[j+1]:\n",
    "            list1[j], list1[j + 1] = list1[j + 1],list1[j]\n",
    "print(list1)\n"
   ]
  },
  {
   "cell_type": "code",
   "execution_count": null,
   "id": "f9062214-3c23-43d6-acfb-cf74303d0121",
   "metadata": {},
   "outputs": [],
   "source": [
    "\n",
    "#2)find max value with out max function\n",
    "\n",
    "#4)Reverse the elements with out reversed function\n",
    "#5) sum the elements with out using sum function"
   ]
  },
  {
   "cell_type": "code",
   "execution_count": 70,
   "id": "c20cc48a-cd68-493c-934d-61588d8e4ff7",
   "metadata": {},
   "outputs": [
    {
     "name": "stdout",
     "output_type": "stream",
     "text": [
      "the max number is: 4\n"
     ]
    }
   ],
   "source": [
    "#2)find max value with out max function\n",
    "list1=[1,2,3,4]\n",
    "max_number=0\n",
    "for i in range(len(list1)):\n",
    "    max_number=list1[i]\n",
    "    if list1[i]>max_number:\n",
    "        max_number=list1[i]\n",
    "print(\"the max number is:\",max_number)"
   ]
  },
  {
   "cell_type": "code",
   "execution_count": 81,
   "id": "6f74efff-93f2-42b5-b8c9-24c2ad8b850a",
   "metadata": {},
   "outputs": [
    {
     "name": "stdout",
     "output_type": "stream",
     "text": [
      "the max number is: 1\n"
     ]
    }
   ],
   "source": [
    "#3 find the main value with out min function\n",
    "list1=[2,3,4,3,22,1,33,4,4,2,4,443]\n",
    "min_number=list1[0]\n",
    "for i in range(len(list1)):\n",
    "    if list1[i]<min_number:\n",
    "        min_number=list1[i]\n",
    "print(\"the max number is:\",min_number)"
   ]
  },
  {
   "cell_type": "code",
   "execution_count": 98,
   "id": "d464462e-d01f-4491-b586-9806efbf33ce",
   "metadata": {},
   "outputs": [
    {
     "name": "stdout",
     "output_type": "stream",
     "text": [
      "[5, 3, 2, 1]\n"
     ]
    }
   ],
   "source": [
    "#4)Reverse the elements with out reversed function\n",
    "list1=[1,2,3,5]\n",
    "list2=[]\n",
    "\n",
    "i=0\n",
    "for i in range(-1,-len(list1)-1,-1):\n",
    "    list2.append(list1[i])\n",
    "print(list2)"
   ]
  },
  {
   "cell_type": "code",
   "execution_count": 97,
   "id": "1cb79d66-49ac-41bb-a569-e0fb4ee9f9ec",
   "metadata": {},
   "outputs": [
    {
     "name": "stdout",
     "output_type": "stream",
     "text": [
      "the sum of all numbers is:246\n"
     ]
    }
   ],
   "source": [
    "#5) sum the elements with out using sum function\n",
    "list1=[33,21,33,5,67,87]\n",
    "sum1=0\n",
    "for i in range(len(list1)):\n",
    "    sum1+=list1[i]\n",
    "print(f'the sum of all numbers is:{sum1}')"
   ]
  },
  {
   "cell_type": "code",
   "execution_count": 1,
   "id": "a9de4195-8f29-4dba-ba06-1f8be9d1f12b",
   "metadata": {},
   "outputs": [
    {
     "name": "stdout",
     "output_type": "stream",
     "text": [
      "Original list :  [21, 56, 76, 34]\n",
      "Reversed List :  [34, 76, 56, 21]\n"
     ]
    }
   ],
   "source": [
    "n=[21,56,76,34]\n",
    "length = len(n)\n",
    "print(\"Original list : \",n)\n",
    "\n",
    "for i in range(length):\n",
    "    for j in range(0,length-i-1):\n",
    "        temp = n[j]\n",
    "        n[j] = n[j+1]\n",
    "        n[j+1] = temp\n",
    "\n",
    "print(\"Reversed List : \", n)"
   ]
  },
  {
   "cell_type": "markdown",
   "id": "2dc46ee5-cfb5-4b4f-b19a-8880ce9bbe80",
   "metadata": {},
   "source": [
    "**range vs in**\n",
    "- when we have use with index then go for range\n",
    "\n",
    "- when we have use with only elements go for in  "
   ]
  },
  {
   "cell_type": "markdown",
   "id": "1e655d6a-23c8-4686-b053-cd1e1e35df67",
   "metadata": {},
   "source": [
    "**mutable vs immutable**"
   ]
  },
  {
   "cell_type": "code",
   "execution_count": 3,
   "id": "4fa04ab9-b141-4573-a69f-f050797c7639",
   "metadata": {},
   "outputs": [
    {
     "name": "stdout",
     "output_type": "stream",
     "text": [
      "[3, 4, 65, 34, 22]\n"
     ]
    }
   ],
   "source": [
    "lis=[3,2,65,34,22]\n",
    "lis[1]=4\n",
    "print(lis)"
   ]
  },
  {
   "cell_type": "markdown",
   "id": "f814c91d-c10b-4f7c-be54-d60179f125c6",
   "metadata": {},
   "source": [
    "**list are mutable**`"
   ]
  },
  {
   "cell_type": "markdown",
   "id": "40b79b3e-2e64-4506-b672-fca681bfc844",
   "metadata": {},
   "source": [
    "**slice**"
   ]
  },
  {
   "cell_type": "code",
   "execution_count": 9,
   "id": "b972088d-e35b-45cf-91a7-a925272038ef",
   "metadata": {},
   "outputs": [
    {
     "ename": "SyntaxError",
     "evalue": "invalid syntax (3067950906.py, line 13)",
     "output_type": "error",
     "traceback": [
      "\u001b[1;36m  Cell \u001b[1;32mIn[9], line 13\u001b[1;36m\u001b[0m\n\u001b[1;33m    l1[-2:-10-:-2]\u001b[0m\n\u001b[1;37m              ^\u001b[0m\n\u001b[1;31mSyntaxError\u001b[0m\u001b[1;31m:\u001b[0m invalid syntax\n"
     ]
    }
   ],
   "source": [
    "l1=[10,20,30,40,50,'A','B','C','D','E','apple','banana']\n",
    "l1[:]\n",
    "l1[::]\n",
    "l1[::-1]\n",
    "l1[2:10:2]\n",
    "l1[2:10-2]\n",
    "l1[2:-10:2]\n",
    "l1[-2:10:2]\n",
    "l1[2:-10:-2]\n",
    "l1[2:-10:-2]\n",
    "l1[2:-10:-2]\n",
    "l1[-2:-10:2]\n",
    "l1[-2:-10-:-2]\n",
    "l1[10:2:2]\n",
    "l1[10:2:-2]\n",
    "l1[10:-2:2]\n",
    "l1[-10:2:-2]"
   ]
  },
  {
   "cell_type": "code",
   "execution_count": 8,
   "id": "56bdf1ab-2284-45d6-9b41-1d3619f248f1",
   "metadata": {},
   "outputs": [
    {
     "data": {
      "text/plain": [
       "['__add__',\n",
       " '__class__',\n",
       " '__class_getitem__',\n",
       " '__contains__',\n",
       " '__delattr__',\n",
       " '__delitem__',\n",
       " '__dir__',\n",
       " '__doc__',\n",
       " '__eq__',\n",
       " '__format__',\n",
       " '__ge__',\n",
       " '__getattribute__',\n",
       " '__getitem__',\n",
       " '__getstate__',\n",
       " '__gt__',\n",
       " '__hash__',\n",
       " '__iadd__',\n",
       " '__imul__',\n",
       " '__init__',\n",
       " '__init_subclass__',\n",
       " '__iter__',\n",
       " '__le__',\n",
       " '__len__',\n",
       " '__lt__',\n",
       " '__mul__',\n",
       " '__ne__',\n",
       " '__new__',\n",
       " '__reduce__',\n",
       " '__reduce_ex__',\n",
       " '__repr__',\n",
       " '__reversed__',\n",
       " '__rmul__',\n",
       " '__setattr__',\n",
       " '__setitem__',\n",
       " '__sizeof__',\n",
       " '__str__',\n",
       " '__subclasshook__',\n",
       " 'append',\n",
       " 'clear',\n",
       " 'copy',\n",
       " 'count',\n",
       " 'extend',\n",
       " 'index',\n",
       " 'insert',\n",
       " 'pop',\n",
       " 'remove',\n",
       " 'reverse',\n",
       " 'sort']"
      ]
     },
     "execution_count": 8,
     "metadata": {},
     "output_type": "execute_result"
    }
   ],
   "source": [
    "dir([])"
   ]
  },
  {
   "cell_type": "markdown",
   "id": "1f5d3bc3-bc8b-4625-a180-1e981af3d574",
   "metadata": {},
   "source": [
    "- clear\n",
    "- copy\n",
    "- count"
   ]
  },
  {
   "cell_type": "code",
   "execution_count": 16,
   "id": "b3065cc9-ce4f-4f09-81e6-a03b7a6c7d82",
   "metadata": {},
   "outputs": [
    {
     "data": {
      "text/plain": [
       "2"
      ]
     },
     "execution_count": 16,
     "metadata": {},
     "output_type": "execute_result"
    }
   ],
   "source": [
    "#copy\n",
    "lis=[1,2,3,44,55,44,'A','And How Are ,They AAA','B','A','C','E','B']\n",
    "lis.copy()\n",
    "#count\n",
    "lis.count()\n",
    "#lis.clear()"
   ]
  },
  {
   "cell_type": "markdown",
   "id": "72096097-4f48-46d5-ab72-9d4815c5b7ce",
   "metadata": {},
   "source": [
    "**append**\n",
    "\n",
    "- append is very very important method in the entire list\n",
    "\n",
    "- in our life we will use this method very very frequently\n",
    "\n",
    "- append means adding an element at last "
   ]
  },
  {
   "cell_type": "code",
   "execution_count": 23,
   "id": "63f3c106-5310-4fb8-8afb-396bccab06e6",
   "metadata": {},
   "outputs": [
    {
     "ename": "TypeError",
     "evalue": "list.append() takes exactly one argument (2 given)",
     "output_type": "error",
     "traceback": [
      "\u001b[1;31m---------------------------------------------------------------------------\u001b[0m",
      "\u001b[1;31mTypeError\u001b[0m                                 Traceback (most recent call last)",
      "Cell \u001b[1;32mIn[23], line 2\u001b[0m\n\u001b[0;32m      1\u001b[0m l1\u001b[38;5;241m=\u001b[39m[\u001b[38;5;241m10\u001b[39m,\u001b[38;5;241m20\u001b[39m,\u001b[38;5;241m30\u001b[39m]\n\u001b[1;32m----> 2\u001b[0m l1\u001b[38;5;241m.\u001b[39mappend(\u001b[38;5;124m'\u001b[39m\u001b[38;5;124mapple\u001b[39m\u001b[38;5;124m'\u001b[39m,\u001b[38;5;124m'\u001b[39m\u001b[38;5;124mbanana\u001b[39m\u001b[38;5;124m'\u001b[39m)\n\u001b[0;32m      3\u001b[0m \u001b[38;5;28mprint\u001b[39m(l1)\n\u001b[0;32m      4\u001b[0m l1\u001b[38;5;241m.\u001b[39mappend(\u001b[38;5;124m'\u001b[39m\u001b[38;5;124mbanana\u001b[39m\u001b[38;5;124m'\u001b[39m)\n",
      "\u001b[1;31mTypeError\u001b[0m: list.append() takes exactly one argument (2 given)"
     ]
    }
   ],
   "source": [
    "l1=[10,20,30]\n",
    "l1.append('apple','banana')\n",
    "print(l1)\n",
    "l1.append('banana')\n",
    "l1"
   ]
  },
  {
   "cell_type": "code",
   "execution_count": 24,
   "id": "94b97ed3-1748-41f5-99ba-a513c524914b",
   "metadata": {},
   "outputs": [
    {
     "name": "stdout",
     "output_type": "stream",
     "text": [
      "[10, 20, 30, ['apple', 'banana']]\n"
     ]
    },
    {
     "data": {
      "text/plain": [
       "[10, 20, 30, ['apple', 'banana'], 'banana']"
      ]
     },
     "execution_count": 24,
     "metadata": {},
     "output_type": "execute_result"
    }
   ],
   "source": [
    "l1=[10,20,30]\n",
    "l1.append(['apple','banana'])\n",
    "print(l1)\n",
    "l1.append('banana')\n",
    "l1"
   ]
  },
  {
   "cell_type": "markdown",
   "id": "485c64a0-2949-480d-9640-f8364a5af1e1",
   "metadata": {},
   "source": [
    "**always recall if you see anywhere multiple values means most of the time we will kwwp thosw value in a list**"
   ]
  },
  {
   "cell_type": "code",
   "execution_count": 30,
   "id": "6632da45-c002-47e8-8174-3bf4351ea73e",
   "metadata": {},
   "outputs": [
    {
     "name": "stdout",
     "output_type": "stream",
     "text": [
      "[10, 20, 30, '']\n"
     ]
    },
    {
     "data": {
      "text/plain": [
       "[10, 20, 30, '', 'banana']"
      ]
     },
     "execution_count": 30,
     "metadata": {},
     "output_type": "execute_result"
    }
   ],
   "source": [
    "l1=[10,20,30]\n",
    "l1.append('')\n",
    "print(l1)\n",
    "l1.append('banana')\n",
    "l1"
   ]
  },
  {
   "cell_type": "markdown",
   "id": "79b21a65-9293-4fd7-a731-13be8e929f66",
   "metadata": {},
   "source": [
    "**append method is used to store the outputs** "
   ]
  },
  {
   "cell_type": "code",
   "execution_count": 33,
   "id": "87101268-7893-40be-aefd-944d7cff8307",
   "metadata": {},
   "outputs": [
    {
     "name": "stdout",
     "output_type": "stream",
     "text": [
      "[1, 2, 3, 4, 5]\n"
     ]
    }
   ],
   "source": [
    "# for example i want to append a number  s from 1 to 5\n",
    "#l=[1,2,3,4,5]\n",
    "\n",
    "l=[]\n",
    "for i in range(1,6):\n",
    "    l.append(i)\n",
    "print(l)"
   ]
  },
  {
   "cell_type": "code",
   "execution_count": 38,
   "id": "5e8ecdca-aa9f-4953-b8ee-81aac3ec30be",
   "metadata": {},
   "outputs": [
    {
     "name": "stdout",
     "output_type": "stream",
     "text": [
      "['91:8281', '37:1369', '15:225']\n"
     ]
    }
   ],
   "source": [
    "#wap ask the user enter 3 random numbers \n",
    "#and performm the square of the number save those square in a list\n",
    "import random\n",
    "l=[]\n",
    "for i in range(3):\n",
    "    num=random.randint(1,100)\n",
    "    l.append(f'{num}:{num**2}')\n",
    "print(l)"
   ]
  },
  {
   "cell_type": "code",
   "execution_count": 41,
   "id": "deccdd8b-1591-44d9-8051-f96beb5d6afd",
   "metadata": {},
   "outputs": [
    {
     "name": "stdout",
     "output_type": "stream",
     "text": [
      " even list [10, 12]\n",
      " odd list [47, 53, 27]\n"
     ]
    }
   ],
   "source": [
    "#Q2) i already have a list o numbers\n",
    "l=[10,47,53,12,27]\n",
    "even=[]\n",
    "odd=[]\n",
    "for i in l:\n",
    "    if i%2==0:\n",
    "        even.append(i)\n",
    "    else:\n",
    "        odd.append(i)\n",
    "print(f' even list {even}')\n",
    "print(f' odd list {odd}')\n"
   ]
  },
  {
   "cell_type": "code",
   "execution_count": null,
   "id": "728f1adf-d53e-4c1d-850d-7a910d57d32c",
   "metadata": {},
   "outputs": [],
   "source": [
    "#Q3) input=['hyd','bengaluru','pune','mimbai']\n",
    "#output=['Hyd','Benguluru','pune',,'Mumbai']\n",
    "\n",
    "#Q4) input=['hyd','bengaluru','pune','mimbai']\n",
    "#output=['HYD','BENGULURU','PUNE',,'MUMBAI']\n",
    "\n",
    "#Q5) input=['hyd','ben#galuru','pune','mu#mbai']\n",
    "#output=['ben#galuru','mu#mbai']\n",
    "\n",
    "#Q6) input=['hyd','ben#galuru','pune','mu#mbai']\n",
    "#output=['hyd','pune']\n",
    "\n",
    "#Q7) input=hai how are you'\n",
    "#output=['Hai','HOW','ARE','YOU']"
   ]
  },
  {
   "cell_type": "code",
   "execution_count": 45,
   "id": "7c5a455c-a8ab-44ed-b929-16aea1019504",
   "metadata": {},
   "outputs": [
    {
     "name": "stdout",
     "output_type": "stream",
     "text": [
      "['Hyd', 'Bengaluru', 'Pune', 'Mumbai']\n"
     ]
    }
   ],
   "source": [
    "#Q3)input=['hyd','bengaluru','pune','mimbai']\n",
    "lis=['hyd','bengaluru','pune','mumbai']\n",
    "cp=[]\n",
    "for i in lis:\n",
    "    cp.append(i.capitalize())\n",
    "print(cp)"
   ]
  },
  {
   "cell_type": "code",
   "execution_count": 46,
   "id": "031ababf-ab96-4f06-a2a8-321642ad93d7",
   "metadata": {},
   "outputs": [
    {
     "name": "stdout",
     "output_type": "stream",
     "text": [
      "['HYD', 'BENGALURU', 'PUNE', 'MUMBAI']\n"
     ]
    }
   ],
   "source": [
    "#Q4) input=['hyd','bengaluru','pune','mimbai']\n",
    "#output=['HYD','BENGULURU','PUNE',,'MUMBAI']\n",
    "lis=['hyd','bengaluru','pune','mumbai']\n",
    "up=[]\n",
    "for i in lis:\n",
    "    up.append(i.upper())\n",
    "print(up)"
   ]
  },
  {
   "cell_type": "code",
   "execution_count": 50,
   "id": "23a3280d-e974-4959-9fa9-8070ae640033",
   "metadata": {},
   "outputs": [
    {
     "name": "stdout",
     "output_type": "stream",
     "text": [
      "['ben#galuru', 'mu#mbai']\n"
     ]
    }
   ],
   "source": [
    "#Q5) input=['hyd','ben#galuru','pune','mu#mbai']\n",
    "#output=['ben#galuru','mu#mbai']\n",
    "\n",
    "name=['hyd','ben#galuru','pune','mu#mbai']\n",
    "sy=[]\n",
    "for i in name:\n",
    "    if not i.isalnum():\n",
    "        sy.append(i)\n",
    "print(sy)"
   ]
  },
  {
   "cell_type": "code",
   "execution_count": 51,
   "id": "09eaab6e-312e-4f62-b02f-5557ef84e334",
   "metadata": {},
   "outputs": [
    {
     "name": "stdout",
     "output_type": "stream",
     "text": [
      "['hyd', 'pune']\n"
     ]
    }
   ],
   "source": [
    "#Q6) input=['hyd','ben#galuru','pune','mu#mbai']\n",
    "#output=['hyd','pune']\n",
    "city=['hyd','ben#galuru','pune','mu#mbai']\n",
    "al=[]\n",
    "for i in name:\n",
    "    if i.isalnum():\n",
    "        al.append(i)\n",
    "print(al)"
   ]
  },
  {
   "cell_type": "code",
   "execution_count": 29,
   "id": "6d7e7604-7b78-417b-8057-ebe13a3773ac",
   "metadata": {},
   "outputs": [
    {
     "name": "stdout",
     "output_type": "stream",
     "text": [
      "['HAI', 'HOW', 'ARE', 'YOU']\n"
     ]
    }
   ],
   "source": [
    "#Q7) input=hai how are you'\n",
    "#output=['Hai','HOW','ARE','YOU']\n",
    "\n",
    "str1='hai how are you'\n",
    "lis=[]\n",
    "for i in str1.split(' '):\n",
    "    lis.append(i.upper())\n",
    "print(lis)"
   ]
  },
  {
   "cell_type": "code",
   "execution_count": 89,
   "id": "a3771ebc-4e2c-4e7c-aa27-98807f59c5b0",
   "metadata": {},
   "outputs": [
    {
     "name": "stdout",
     "output_type": "stream",
     "text": [
      "fname=['virat', 'rohit', 'ms']\n",
      "sname=['kohli', 'sharma', 'dhoni']\n",
      "cname=['rcb', 'mi', 'csk']\n"
     ]
    }
   ],
   "source": [
    "# Q8) input='virat.kohli@rcb.com;rohit.sharma@mi.com;ms.dhoni@csk.com'\n",
    "#     fname=['virat','rohit'.'ms']\n",
    "#     sname=['kohli','sharma','dhoni']\n",
    "#     cname=['rcb','mi','csk']\n",
    "\n",
    "\n",
    "def name_finder(str1):\n",
    "    fname=[]\n",
    "    sname=[]\n",
    "    cname=[]\n",
    "    li=str1.split(';')\n",
    "    for i in range(len(li)):\n",
    "        first_name=li[i].index('.')\n",
    "        second_name=li[i].index('@',first_name)\n",
    "        c_name=li[i].index('.',second_name)\n",
    "        fname.append(li[i][:first_name])\n",
    "        sname.append(li[i][first_name+1:second_name])\n",
    "        cname.append(li[i][second_name+1:c_name])\n",
    "    print(f'fname={fname}')\n",
    "    print(f'sname={sname}')\n",
    "    print(f'cname={cname}')\n",
    "        \n",
    "str1='virat.kohli@rcb.com;rohit.sharma@mi.com;ms.dhoni@csk.com'\n",
    "name_finder(str1)"
   ]
  },
  {
   "cell_type": "code",
   "execution_count": 74,
   "id": "15e5f2e8-7a1c-4ace-8289-32881ee0dbce",
   "metadata": {},
   "outputs": [
    {
     "name": "stdout",
     "output_type": "stream",
     "text": [
      "['can:4', 'canner:3', 'you:3', 'not:1', 'with:1', 'but:1', 'the:1']\n"
     ]
    }
   ],
   "source": [
    "# Q9) input='can canner can you can not canner with you but you can the canner'\n",
    "#     output=['can'-4,'canner'-3,'you'-3,'not'-1,'with'-1,'but'-1,'the'-1]\n",
    "str1='can canner can you can not canner with you but you can the canner'\n",
    "str2=['can','canner','you','not','with','but','the']\n",
    "li1=str1.split(' ')\n",
    "li2=[]\n",
    "for i in range(len(str2)):\n",
    "    li2.append(f'{str2[i]}:{li1.count(str2[i])}')\n",
    "print(li2)"
   ]
  },
  {
   "cell_type": "code",
   "execution_count": 88,
   "id": "dd3522e1-1078-415f-9f46-d311647a8269",
   "metadata": {},
   "outputs": [
    {
     "name": "stdout",
     "output_type": "stream",
     "text": [
      " can canner can can canner can the canner\n"
     ]
    }
   ],
   "source": [
    "# Q10) input = 'can canner can you can not canner with you but you can the canner'\n",
    "#      stopwords=['not','you','but','with']\n",
    "#      using stopwords remove those words from input\n",
    "#     output='can canner can can canner can canner'\n",
    "str1= 'can canner can you can not canner with you but you can the canner'\n",
    "li=str1.split(' ')\n",
    "stopwords=['not','you','but','with']\n",
    "with_out_stopword=''\n",
    "for i in li:\n",
    "    if  not i in stopwords:\n",
    "        with_out_stopword+=f\" {i}\"\n",
    "print(with_out_stopword)"
   ]
  },
  {
   "cell_type": "code",
   "execution_count": 55,
   "id": "9fac69e9-daae-4b8b-8844-da597411f417",
   "metadata": {},
   "outputs": [
    {
     "name": "stdin",
     "output_type": "stream",
     "text": [
      "Enter yout string hii hii hii waht are you you doing a a a\n"
     ]
    },
    {
     "name": "stdout",
     "output_type": "stream",
     "text": [
      "the most repited words are:  hii:3 a:3\n"
     ]
    }
   ],
   "source": [
    "# Q11) take a string find the most repeated word from string\n",
    "str1=input('Enter yout string')\n",
    "li=str1.split(' ')\n",
    "li1=[]\n",
    "li2=[]\n",
    "for i in range(len(li)):\n",
    "    if f'{li[i]}:{li.count(li[i])}' in li1:\n",
    "        continue \n",
    "    else:\n",
    "        li1.append(f'{li[i]}:{li.count(li[i])}')\n",
    "        li2.append(li.count(li[i]))\n",
    "most_rep=li2[0]\n",
    "mos=f'{li1[0]}'\n",
    "for i in range(1,len(li2)):\n",
    "    if li2[i]>=most_rep:\n",
    "        mos=mos+f' {li1[i]}'\n",
    "\n",
    "print(f'the most repited words are:  {mos}')"
   ]
  },
  {
   "cell_type": "code",
   "execution_count": 21,
   "id": "5dce9367-132d-4769-8b8c-ca10e964b016",
   "metadata": {},
   "outputs": [
    {
     "name": "stdin",
     "output_type": "stream",
     "text": [
      "enter your string: hii what you are doing aaaaa\n"
     ]
    },
    {
     "name": "stdout",
     "output_type": "stream",
     "text": [
      " aaaaa:5 \n"
     ]
    }
   ],
   "source": [
    "# Q12) take a string find the longest length of the word from string\n",
    "str1=input(\"enter your string:\")\n",
    "l1=str1.split()\n",
    "first_word=l1[0]\n",
    "longest_word=f''\n",
    "for i in range(1,len(l1)):\n",
    "    if len(l1[i])>=len(first_word):\n",
    "        longest_word=''\n",
    "        longest_word=longest_word+f' {l1[i]}:{len(l1[i])} '\n",
    "print(longest_word)       "
   ]
  },
  {
   "cell_type": "code",
   "execution_count": 22,
   "id": "9eccd600-6d3c-47ca-acce-f75e8fe4f235",
   "metadata": {},
   "outputs": [
    {
     "name": "stdin",
     "output_type": "stream",
     "text": [
      "enter your string: hii what a what\n"
     ]
    },
    {
     "name": "stdout",
     "output_type": "stream",
     "text": [
      " a:1 \n"
     ]
    }
   ],
   "source": [
    "# Q13) take a string find the lowest length of the word from string\n",
    "str1=input(\"enter your string:\")\n",
    "l1=str1.split()\n",
    "first_word=l1[0]\n",
    "longest_word=f''\n",
    "for i in range(1,len(l1)):\n",
    "    if len(l1[i])<=len(first_word):\n",
    "        longest_word=''\n",
    "        longest_word=longest_word+f' {l1[i]}:{len(l1[i])} '\n",
    "print(longest_word) "
   ]
  },
  {
   "cell_type": "code",
   "execution_count": 44,
   "id": "5a167316-b732-4029-bc22-b9bb74e2345b",
   "metadata": {},
   "outputs": [
    {
     "name": "stdout",
     "output_type": "stream",
     "text": [
      "who is PM of india\n"
     ]
    },
    {
     "name": "stdin",
     "output_type": "stream",
     "text": [
      " modi\n"
     ]
    },
    {
     "name": "stdout",
     "output_type": "stream",
     "text": [
      "hii\n",
      "what is the capital of india\n"
     ]
    },
    {
     "name": "stdin",
     "output_type": "stream",
     "text": [
      " rohit\n"
     ]
    },
    {
     "name": "stdout",
     "output_type": "stream",
     "text": [
      "who is ICT MENS captain\n"
     ]
    },
    {
     "name": "stdin",
     "output_type": "stream",
     "text": [
      " rohit\n"
     ]
    },
    {
     "name": "stdout",
     "output_type": "stream",
     "text": [
      "hii\n",
      "total marks you obtain:20\n"
     ]
    }
   ],
   "source": [
    "# Q14) you have some qns list is there\n",
    "#      also you have answers list also there\n",
    "#     qns=['who is PM of india',\n",
    "#       'what is the capital of india', who is ICT MENS captain]\n",
    "#    ans=['Modi','Delhi','Rohit']\n",
    "#    whenerver correct answer marks +10\n",
    "#    print you got total\n",
    "qns=['who is PM of india','what is the capital of india', 'who is ICT MENS captain']\n",
    "ans=['Modi','Delhi','Rohit']\n",
    "marks=0\n",
    "for i in range(len(qns)):\n",
    "    print(qns[i])\n",
    "    user_ans=input().capitalize()\n",
    "    ck=user_ans.capitalize()\n",
    "    if ck==ans[i]:\n",
    "        marks+=10\n",
    "print(f'total marks you obtain:{marks}')\n"
   ]
  },
  {
   "cell_type": "markdown",
   "id": "323d0b9e-1881-4827-9c7f-b8d4d87fabc0",
   "metadata": {},
   "source": [
    "**extend**"
   ]
  },
  {
   "cell_type": "code",
   "execution_count": 8,
   "id": "e3fcc2a1-00a8-4067-bc04-24fa4794b38d",
   "metadata": {},
   "outputs": [
    {
     "name": "stdout",
     "output_type": "stream",
     "text": [
      "[1, 2, 3, 4, 5, 'A', 'B', 'C', 'D']\n"
     ]
    }
   ],
   "source": [
    "l1=[1,2,3,4,5]\n",
    "l2=['A','B','C','D']\n",
    "l1.extend(l2)\n",
    "\n",
    "print(l1)"
   ]
  },
  {
   "cell_type": "code",
   "execution_count": 9,
   "id": "2288b300-1460-407f-b4f7-896ec52f5d77",
   "metadata": {},
   "outputs": [
    {
     "name": "stdout",
     "output_type": "stream",
     "text": [
      "['A', 'B', 'C', 'D', 1, 2, 3, 4, 5]\n"
     ]
    }
   ],
   "source": [
    "l1=[1,2,3,4,5]\n",
    "l2=['A','B','C','D']\n",
    "l2.extend(l1)\n",
    "print(l2)"
   ]
  },
  {
   "cell_type": "code",
   "execution_count": 12,
   "id": "482536ef-e0ae-4b76-9d95-30228151e695",
   "metadata": {},
   "outputs": [
    {
     "name": "stdout",
     "output_type": "stream",
     "text": [
      "[1, 2, 3, 4, 5, 'A', 'B', 'C', 'D']\n",
      "[1, 2, 3, 4, 5]\n",
      "['A', 'B', 'C', 'D']\n",
      "l1 will be overwriten if we use extend\n",
      "[1, 2, 3, 4, 5, 'A', 'B', 'C', 'D']\n"
     ]
    }
   ],
   "source": [
    "l1=[1,2,3,4,5]\n",
    "l2=['A','B','C','D']\n",
    "print(l1+l2)\n",
    "print(l1)\n",
    "print(l2)\n",
    "print('l1 will be overwriten if we use extend')\n",
    "l1.extend(l2)\n",
    "print(l1)"
   ]
  },
  {
   "cell_type": "code",
   "execution_count": 19,
   "id": "4d9bb127-4e1a-41c7-8608-59971888ce01",
   "metadata": {},
   "outputs": [
    {
     "data": {
      "text/plain": [
       "0"
      ]
     },
     "execution_count": 19,
     "metadata": {},
     "output_type": "execute_result"
    }
   ],
   "source": [
    "l2=['A','A','B','C','D']\n",
    "l2.index('A')"
   ]
  },
  {
   "cell_type": "markdown",
   "id": "501cbb32-6483-406f-839d-a3647002757a",
   "metadata": {},
   "source": [
    "- in string we have index and find\n",
    " \n",
    "- but in list we have only index\n",
    "\n",
    "- same as strings concept"
   ]
  },
  {
   "cell_type": "code",
   "execution_count": 22,
   "id": "0bba386f-ce8b-47d5-b2bd-86ffd244c469",
   "metadata": {},
   "outputs": [
    {
     "name": "stdout",
     "output_type": "stream",
     "text": [
      "8\n"
     ]
    }
   ],
   "source": [
    "l1=[10,20,30,40,50,'Apple','Banana','Cherry',40,50]\n",
    "i1=l1.index(40)\n",
    "print(l1.index(40,i1+1))"
   ]
  },
  {
   "cell_type": "markdown",
   "id": "8616f567-9e3a-4958-aa68-3f0431d5c17c",
   "metadata": {},
   "source": [
    "**insert**"
   ]
  },
  {
   "cell_type": "code",
   "execution_count": 34,
   "id": "75e9e29b-4310-4c1d-bc03-f15b32abf116",
   "metadata": {},
   "outputs": [
    {
     "name": "stdout",
     "output_type": "stream",
     "text": [
      "[10, 20, 30, 40, 50, 'Apple', 100, 'Banana', 'Cherry', 40, 50]\n"
     ]
    }
   ],
   "source": [
    "l1=[10,20,30,40,50,'Apple','Banana','Cherry',40,50]\n",
    "ix=l1.index('Apple')\n",
    "l1.insert(ix+1,100)\n",
    "print(l1)"
   ]
  },
  {
   "cell_type": "markdown",
   "id": "28d39579-26af-4db2-8fc2-c44b8ef5a0ba",
   "metadata": {},
   "source": [
    "**pop vs remove**"
   ]
  },
  {
   "cell_type": "code",
   "execution_count": 44,
   "id": "c100e9ba-d6e0-404a-be07-094274ecca42",
   "metadata": {},
   "outputs": [
    {
     "name": "stdout",
     "output_type": "stream",
     "text": [
      "[10, 20, 30, 40, 50, 'Apple', 'Banana', 'Cherry', 40]\n",
      "[10, 20, 30, 40, 'Apple', 'Banana', 'Cherry', 40]\n"
     ]
    }
   ],
   "source": [
    "l1=[10,20,30,40,50,'Apple','Banana','Cherry',40,50]\n",
    "l1.pop()\n",
    "print(l1)\n",
    "l1.pop(l1.index(50))\n",
    "print(l1)"
   ]
  },
  {
   "cell_type": "code",
   "execution_count": 42,
   "id": "c8c00082-0c33-4ec3-8f58-1a677ada7838",
   "metadata": {},
   "outputs": [
    {
     "name": "stdout",
     "output_type": "stream",
     "text": [
      "[20, 30, 40, 50, 'Apple', 'Banana', 'Cherry', 40, 50]\n"
     ]
    }
   ],
   "source": [
    "l1=[10,20,30,40,50,'Apple','Banana','Cherry',40,50]\n",
    "l1.remove(10)\n",
    "print(l1)"
   ]
  },
  {
   "cell_type": "code",
   "execution_count": 50,
   "id": "e088b6ab-63aa-43df-a3a4-80d31932dd62",
   "metadata": {},
   "outputs": [
    {
     "data": {
      "text/plain": [
       "[10, 20, 30, 40, 50, 'Banana', 'Cherry', 40, 50]"
      ]
     },
     "execution_count": 50,
     "metadata": {},
     "output_type": "execute_result"
    }
   ],
   "source": [
    "l1=[10,20,30,40,50,'Apple','Banana','Cherry',40,50]\n",
    "del(l1[5])\n",
    "l1"
   ]
  },
  {
   "cell_type": "markdown",
   "id": "57a0c9e0-7dc0-443c-8c33-21d3c109f101",
   "metadata": {},
   "source": [
    "- if we want delete any element\n",
    "\n",
    "- pop:based on index\n",
    "\n",
    "- remove:based on value\n",
    "\n",
    "- del is an inbuild function"
   ]
  },
  {
   "cell_type": "code",
   "execution_count": 54,
   "id": "36842118-eebb-4bc7-8779-8774ca7964cb",
   "metadata": {},
   "outputs": [
    {
     "name": "stdout",
     "output_type": "stream",
     "text": [
      "[10, 20, 30, 40, 50, 'Banana', 'Cherry', 40, 50]\n"
     ]
    }
   ],
   "source": [
    "l1=[10,20,30,40,50,'Apple','Banana','Cherry',40,50]\n",
    "del l1[5] #del(l1[5]) we need not ot give brackets\n",
    "print(l1)"
   ]
  },
  {
   "cell_type": "markdown",
   "id": "4eb8d4b2-aff1-49a5-b5eb-c18321b690f0",
   "metadata": {},
   "source": [
    "**reverse-reversed**\n",
    "\n",
    "- reverse is method\n",
    "\n",
    "- reversed is an inbuild function"
   ]
  },
  {
   "cell_type": "code",
   "execution_count": 56,
   "id": "304a88b0-7fe9-4bc9-a366-cb93bf9b9a82",
   "metadata": {},
   "outputs": [
    {
     "name": "stdout",
     "output_type": "stream",
     "text": [
      "[50, 40, 'Cherry', 'Banana', 'Apple', 50, 40, 30, 20, 10]\n"
     ]
    }
   ],
   "source": [
    "l1=[10,20,30,40,50,'Apple','Banana','Cherry',40,50]\n",
    "l1.reverse()\n",
    "print(l1)"
   ]
  },
  {
   "cell_type": "code",
   "execution_count": 61,
   "id": "70e732f9-d1b9-46c3-b706-3344b295fa27",
   "metadata": {},
   "outputs": [
    {
     "data": {
      "text/plain": [
       "[50, 40, 'Cherry', 'Banana', 'Apple', 50, 40, 30, 20, 10]"
      ]
     },
     "execution_count": 61,
     "metadata": {},
     "output_type": "execute_result"
    }
   ],
   "source": [
    "l1=[10,20,30,40,50,'Apple','Banana','Cherry',40,50]\n",
    "l1=reversed(l1)\n",
    "list(l1)"
   ]
  },
  {
   "cell_type": "markdown",
   "id": "0361db2d-338f-46a9-8e2d-571e4b81c9d8",
   "metadata": {},
   "source": [
    "**in place**\n",
    "\n",
    "- when we perfrom the opertions some times the values will not overite\n",
    "\n",
    "- if we see **inplace** word or **inplace=\"True\"**\n",
    "\n",
    "- this indicates the output  will be overwrite in corresponding variable"
   ]
  },
  {
   "cell_type": "markdown",
   "id": "eee89c8e-e302-466b-a281-7e85ce84d778",
   "metadata": {},
   "source": [
    "**sort vs sorted**"
   ]
  },
  {
   "cell_type": "code",
   "execution_count": 10,
   "id": "f844b9bd-dc02-47f2-b067-57293455d7c4",
   "metadata": {},
   "outputs": [
    {
     "name": "stdout",
     "output_type": "stream",
     "text": [
      "None\n",
      "1\n"
     ]
    }
   ],
   "source": [
    "l1=[10,20,30,40,50,40,50]\n",
    "s1=l1.sort()\n",
    "print(s1)\n",
    "print(l1.count(10))"
   ]
  },
  {
   "cell_type": "code",
   "execution_count": 77,
   "id": "6b624762-fc63-4a59-bbd1-dc8e475e7ef1",
   "metadata": {},
   "outputs": [
    {
     "name": "stdout",
     "output_type": "stream",
     "text": [
      "[50, 50, 40, 40, 30, 20, 10]\n"
     ]
    }
   ],
   "source": [
    "l1=[10,20,30,40,50,40,50]\n",
    "l2=sorted(l1,reverse=True)\n",
    "print(l2)"
   ]
  },
  {
   "cell_type": "markdown",
   "id": "8274751d-ce3b-41bd-80d1-f4fd2af96392",
   "metadata": {},
   "source": [
    "- inbuilt function appicable for any datatype\n",
    "\n",
    "- but method works wrt(with respect to) data types"
   ]
  },
  {
   "cell_type": "markdown",
   "id": "4387c021-14bf-4219-81c8-b46ab4583ad5",
   "metadata": {},
   "source": [
    "   - **the method of lists**\n",
    "\n",
    "- clear\n",
    "\n",
    "- count\n",
    "\n",
    "- append/extend/insert\n",
    "\n",
    "- pop/remove/del\n",
    "\n",
    "- index\n",
    "\n",
    "- reverse/reversed\n",
    "\n",
    "-sort/sorted"
   ]
  },
  {
   "cell_type": "markdown",
   "id": "184077df-9dff-4528-b49f-e7e065e5a634",
   "metadata": {},
   "source": [
    "## Tuple"
   ]
  },
  {
   "cell_type": "code",
   "execution_count": 15,
   "id": "bbe6201a-e767-4b36-9a41-4e013bd5324b",
   "metadata": {},
   "outputs": [
    {
     "name": "stdout",
     "output_type": "stream",
     "text": [
      "1\n",
      "7\n"
     ]
    }
   ],
   "source": [
    "t1=(1,2,3,4,'A','B','C','1','1','1')\n",
    "print(t1.count(1))\n",
    "print(t1.index('1'))"
   ]
  },
  {
   "cell_type": "code",
   "execution_count": 11,
   "id": "9e5c2afc-ddc4-479f-ac04-88b91271d719",
   "metadata": {},
   "outputs": [
    {
     "data": {
      "text/plain": [
       "['__add__',\n",
       " '__class__',\n",
       " '__class_getitem__',\n",
       " '__contains__',\n",
       " '__delattr__',\n",
       " '__dir__',\n",
       " '__doc__',\n",
       " '__eq__',\n",
       " '__format__',\n",
       " '__ge__',\n",
       " '__getattribute__',\n",
       " '__getitem__',\n",
       " '__getnewargs__',\n",
       " '__getstate__',\n",
       " '__gt__',\n",
       " '__hash__',\n",
       " '__init__',\n",
       " '__init_subclass__',\n",
       " '__iter__',\n",
       " '__le__',\n",
       " '__len__',\n",
       " '__lt__',\n",
       " '__mul__',\n",
       " '__ne__',\n",
       " '__new__',\n",
       " '__reduce__',\n",
       " '__reduce_ex__',\n",
       " '__repr__',\n",
       " '__rmul__',\n",
       " '__setattr__',\n",
       " '__sizeof__',\n",
       " '__str__',\n",
       " '__subclasshook__',\n",
       " 'count',\n",
       " 'index']"
      ]
     },
     "execution_count": 11,
     "metadata": {},
     "output_type": "execute_result"
    }
   ],
   "source": [
    "dir(t1)"
   ]
  },
  {
   "cell_type": "code",
   "execution_count": 31,
   "id": "203a2482-4054-4bd5-b1b8-f42d247201db",
   "metadata": {},
   "outputs": [
    {
     "name": "stdout",
     "output_type": "stream",
     "text": [
      "1\n",
      "0\n",
      "4\n",
      "[4, 3, 2, 1]\n",
      "[1, 2, 3, 4]\n",
      "[2, 3, 4]\n",
      "[2, 4]\n"
     ]
    },
    {
     "ename": "AttributeError",
     "evalue": "'tuple' object has no attribute 'clear'",
     "output_type": "error",
     "traceback": [
      "\u001b[1;31m---------------------------------------------------------------------------\u001b[0m",
      "\u001b[1;31mAttributeError\u001b[0m                            Traceback (most recent call last)",
      "Cell \u001b[1;32mIn[31], line 14\u001b[0m\n\u001b[0;32m     12\u001b[0m t3\u001b[38;5;241m.\u001b[39mpop(\u001b[38;5;241m1\u001b[39m)\n\u001b[0;32m     13\u001b[0m \u001b[38;5;28mprint\u001b[39m(t3)\n\u001b[1;32m---> 14\u001b[0m t1\u001b[38;5;241m.\u001b[39mclear(\u001b[38;5;241m1\u001b[39m)\n",
      "\u001b[1;31mAttributeError\u001b[0m: 'tuple' object has no attribute 'clear'"
     ]
    }
   ],
   "source": [
    "t1=(1,2,3,4)\n",
    "print(t1.count(1))\n",
    "print(t1.index(1))\n",
    "print(len(t1))\n",
    "t2=reversed(t1)\n",
    "print(list(t2))\n",
    "t3=sorted(t1)\n",
    "print(list(t3))\n",
    "del(t2)\n",
    "t3.remove(1)\n",
    "print(t3)\n",
    "t3.pop(1)\n",
    "print(t3)\n",
    "t1.clear(1)"
   ]
  },
  {
   "cell_type": "code",
   "execution_count": 41,
   "id": "c03c4e18-3ff0-4dff-909f-bcf006a54399",
   "metadata": {},
   "outputs": [
    {
     "name": "stdout",
     "output_type": "stream",
     "text": [
      "Passed student: [76, 89, 53, 67, 90, 82, 99]\n",
      "Grades: ['45:F', '76:B', '89:A', '53:C', '67:C', '90:A', '82:B', '49:F', '33:F', '99:A']\n",
      "grace_marks: [50, 76, 89, 53, 67, 90, 82, 54, 38, 99]\n",
      "top_three [99, 90, 89]\n",
      "Avg marks: 68.3\n"
     ]
    }
   ],
   "source": [
    "#Exam paper solve\n",
    "marks=[45,76,89,53,67,90,82,49,33,99]\n",
    "#a)Filter students who passes(marks>=50)\n",
    "Passed_Student=[i for i in marks if i>=50]\n",
    "print('Passed student:',Passed_Student)\n",
    "#b)calculate grade for all students:\n",
    "grade=[f'{i}:A' if i>=85 else f'{i}:B' if i>=70 else f'{i}:C' if i>=50 else f'{i}:F'  for i in marks]\n",
    "print('Grades:',grade)\n",
    "#c)Add 5 grace marks to student who fail\n",
    "grace_mark=[i+5 if i<50 else i for i in marks]\n",
    "print('grace_marks:',grace_mark)\n",
    "#d) Identify top 3 scorers\n",
    "top_three=[i for i in sorted(marks,reverse=True)][:3]\n",
    "print('top_three',top_three)\n",
    "#find average marks of the class\n",
    "a=0\n",
    "avg_marks=[a:=a+i for i in marks][-1:]\n",
    "print('Avg marks:',avg_marks[0]/len(marks))"
   ]
  },
  {
   "cell_type": "code",
   "execution_count": 43,
   "id": "50a57d58-9d67-4e9f-9358-f6dd0e268899",
   "metadata": {},
   "outputs": [
    {
     "name": "stdout",
     "output_type": "stream",
     "text": [
      "99\n",
      "90\n",
      "89\n"
     ]
    }
   ],
   "source": [
    "#another logic\n",
    "marks=[45,76,89,53,67,90,82,49,33,99]\n",
    "\n",
    "max_val=max(marks)\n",
    "for i in range(3):\n",
    "    max_val=max(marks)\n",
    "    print(max_val)\n",
    "    marks.remove(max_val) "
   ]
  },
  {
   "cell_type": "code",
   "execution_count": null,
   "id": "e1b2c322-ff68-476a-8162-8cb17efd4b4a",
   "metadata": {},
   "outputs": [],
   "source": []
  }
 ],
 "metadata": {
  "kernelspec": {
   "display_name": "Python 3 (ipykernel)",
   "language": "python",
   "name": "python3"
  },
  "language_info": {
   "codemirror_mode": {
    "name": "ipython",
    "version": 3
   },
   "file_extension": ".py",
   "mimetype": "text/x-python",
   "name": "python",
   "nbconvert_exporter": "python",
   "pygments_lexer": "ipython3",
   "version": "3.12.7"
  }
 },
 "nbformat": 4,
 "nbformat_minor": 5
}
