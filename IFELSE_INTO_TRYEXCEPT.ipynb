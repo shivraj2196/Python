{
 "cells": [
  {
   "cell_type": "code",
   "execution_count": 6,
   "id": "7a980b2a-894d-458a-af0f-dd29cf6ef4f0",
   "metadata": {},
   "outputs": [
    {
     "name": "stdin",
     "output_type": "stream",
     "text": [
      "Enter first number:  1\n",
      "Enter second number:  1\n"
     ]
    },
    {
     "name": "stdout",
     "output_type": "stream",
     "text": [
      "We won\n"
     ]
    }
   ],
   "source": [
    "import random\n",
    "try:\n",
    "    n1 = eval(input('Enter first number: '))\n",
    "    n2 = eval(input('Enter second number: '))\n",
    "    if n1 == n2:\n",
    "        print('We won')\n",
    "    else:\n",
    "        print('We lost')\n",
    "except:\n",
    "    print('Invalid input')\n"
   ]
  },
  {
   "cell_type": "code",
   "execution_count": 12,
   "id": "c51bc69c-26e2-4db5-bc7b-33e68037d983",
   "metadata": {},
   "outputs": [
    {
     "name": "stdin",
     "output_type": "stream",
     "text": [
      "Enter first number:  4\n"
     ]
    },
    {
     "name": "stdout",
     "output_type": "stream",
     "text": [
      "We won\n"
     ]
    }
   ],
   "source": [
    "import random\n",
    "try:\n",
    "    n1 = eval(input('Enter first number: '))\n",
    "    n2 = random.randint(1,10)\n",
    "    if n1 == n2:\n",
    "        print('We won')\n",
    "    else:\n",
    "        print(f'We lost the number is:{n2}')\n",
    "except:\n",
    "    print('Invalid input')\n"
   ]
  },
  {
   "cell_type": "code",
   "execution_count": 13,
   "id": "b46a2c89-6977-4bee-80e4-859dd5774758",
   "metadata": {},
   "outputs": [
    {
     "name": "stdin",
     "output_type": "stream",
     "text": [
      "Enter a number:  4\n"
     ]
    },
    {
     "name": "stdout",
     "output_type": "stream",
     "text": [
      "The given number is even\n"
     ]
    }
   ],
   "source": [
    "try:\n",
    "    num = eval(input('Enter a number: '))\n",
    "    if num % 2 == 0:\n",
    "        print('The given number is even')\n",
    "    else:\n",
    "        print('The given number is odd')\n",
    "except:\n",
    "    print('Invalid input')\n"
   ]
  },
  {
   "cell_type": "code",
   "execution_count": 14,
   "id": "ad11b7dc-de80-4180-9d52-2ec7b78334b4",
   "metadata": {},
   "outputs": [
    {
     "name": "stdin",
     "output_type": "stream",
     "text": [
      "Enter the distance:  55\n",
      "Enter the charge:  5\n"
     ]
    },
    {
     "name": "stdout",
     "output_type": "stream",
     "text": [
      "Total charge: 150\n"
     ]
    }
   ],
   "source": [
    "try:\n",
    "    distance = eval(input('Enter the distance: '))\n",
    "    if distance > 25:\n",
    "        charge = eval(input('Enter the charge: '))\n",
    "        total_charge = (distance - 25) * charge\n",
    "        print(f'Total charge: {total_charge}')\n",
    "    else:\n",
    "        print('Free ride')\n",
    "except:\n",
    "    print('Invalid input')\n"
   ]
  },
  {
   "cell_type": "code",
   "execution_count": 15,
   "id": "fafa3732-4c29-4614-9762-64d51463adf2",
   "metadata": {},
   "outputs": [
    {
     "name": "stdin",
     "output_type": "stream",
     "text": [
      "Enter first number:  4\n",
      "Enter second number:  5\n"
     ]
    },
    {
     "name": "stdout",
     "output_type": "stream",
     "text": [
      "5 is greater\n"
     ]
    }
   ],
   "source": [
    "try:\n",
    "    n1 = eval(input('Enter first number: '))\n",
    "    n2 = eval(input('Enter second number: '))\n",
    "    if n1 > n2:\n",
    "        print(f'{n1} is greater')\n",
    "    else:\n",
    "        print(f'{n2} is greater')\n",
    "except:\n",
    "    print('Invalid input')\n"
   ]
  },
  {
   "cell_type": "code",
   "execution_count": 16,
   "id": "b656c098-8468-4bb4-b97d-25a59942b848",
   "metadata": {},
   "outputs": [
    {
     "name": "stdin",
     "output_type": "stream",
     "text": [
      "Enter course name:  data science\n",
      "Enter institute name:  naresh it\n"
     ]
    },
    {
     "name": "stdout",
     "output_type": "stream",
     "text": [
      "We are good\n"
     ]
    }
   ],
   "source": [
    "try:\n",
    "    course_name = input('Enter course name: ')\n",
    "    inst_name = input('Enter institute name: ')\n",
    "    if course_name.lower() == 'data science' and inst_name.lower() == 'naresh it':\n",
    "        print('We are good')\n",
    "    else:\n",
    "        print('Not good')\n",
    "except:\n",
    "    print('Invalid input')\n"
   ]
  },
  {
   "cell_type": "code",
   "execution_count": null,
   "id": "445a427d-431e-430f-9640-7fd8cb5f2db6",
   "metadata": {},
   "outputs": [],
   "source": []
  }
 ],
 "metadata": {
  "kernelspec": {
   "display_name": "Python 3 (ipykernel)",
   "language": "python",
   "name": "python3"
  },
  "language_info": {
   "codemirror_mode": {
    "name": "ipython",
    "version": 3
   },
   "file_extension": ".py",
   "mimetype": "text/x-python",
   "name": "python",
   "nbconvert_exporter": "python",
   "pygments_lexer": "ipython3",
   "version": "3.12.7"
  }
 },
 "nbformat": 4,
 "nbformat_minor": 5
}
