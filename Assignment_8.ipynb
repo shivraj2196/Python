{
 "cells": [
  {
   "cell_type": "code",
   "execution_count": 10,
   "id": "64c45dd0-9f55-4a07-851b-cd6735639379",
   "metadata": {},
   "outputs": [
    {
     "name": "stdout",
     "output_type": "stream",
     "text": [
      "the average of3,4,5 is:4.0,and roudn is 4.0\n"
     ]
    }
   ],
   "source": [
    "def avg1(n1,n2,n3):\n",
    "    avg=(n1+n2+n3)/3\n",
    "    avg1=round(avg,2)\n",
    "    print(f\"the average of{n1},{n2},{n3} is:{avg},and roudn is {avg1}\")\n",
    "\n",
    "avg1(3,4,5)"
   ]
  },
  {
   "cell_type": "code",
   "execution_count": 1,
   "id": "8d951847-6749-44ad-ab8c-9b02f26d12b2",
   "metadata": {},
   "outputs": [
    {
     "name": "stdout",
     "output_type": "stream",
     "text": [
      "My name is python, I am 10 years old and came from HYD.\n"
     ]
    }
   ],
   "source": [
    "def info(name,age,city):\n",
    "    try:\n",
    "        print(f\"My name is {name}, I am {age} years old and came from {city}.\")\n",
    "    except Exception as e:\n",
    "        print(e)\n",
    "info(\"python\",10,\"HYD\")"
   ]
  },
  {
   "cell_type": "code",
   "execution_count": 2,
   "id": "ff06d3fd-867c-49cf-a7bb-7cdfce6a6fa4",
   "metadata": {},
   "outputs": [
    {
     "name": "stdout",
     "output_type": "stream",
     "text": [
      "the area of circle is:3629.84\n"
     ]
    }
   ],
   "source": [
    "def circleradiou(radius):\n",
    "    try:\n",
    "        pi=3.14\n",
    "        area=pi*radius*radius\n",
    "        print(f\"the area of circle is:{(pi*radius*radius):.2f}\")\n",
    "    except Exception as e:\n",
    "        print(e)\n",
    "circleradiou(34)"
   ]
  },
  {
   "cell_type": "code",
   "execution_count": 3,
   "id": "32e011cf-4170-4e66-ad64-d35457f8e15a",
   "metadata": {},
   "outputs": [
    {
     "name": "stdout",
     "output_type": "stream",
     "text": [
      "the area of right angle triangle is:100.0\n"
     ]
    }
   ],
   "source": [
    "def areaTrangle(breadth,height):\n",
    "    try:\n",
    "        print(f\"the area of right angle triangle is:{0.5*breadth*height}\")\n",
    "    except Exception as e:\n",
    "        print(e)\n",
    "areaTrangle(10,20)"
   ]
  },
  {
   "cell_type": "code",
   "execution_count": 4,
   "id": "bd25357b-d162-4b3f-8851-1adbcc85787b",
   "metadata": {},
   "outputs": [
    {
     "name": "stdout",
     "output_type": "stream",
     "text": [
      "Total bill is:550\n"
     ]
    }
   ],
   "source": [
    "def billTip(bill_amount,tip_amount):\n",
    "    try:\n",
    "        print(f\"Total bill is:{bill_amount+tip_amount}\")\n",
    "    except Exception as e:\n",
    "        print(e)\n",
    "billTip(500,50)"
   ]
  },
  {
   "cell_type": "code",
   "execution_count": 5,
   "id": "53d3c35e-ee9f-4e94-ad60-ee2f38ddb6b5",
   "metadata": {},
   "outputs": [
    {
     "name": "stdout",
     "output_type": "stream",
     "text": [
      "Your tip will be 10.0\n",
      "total bill is 510.0\n"
     ]
    }
   ],
   "source": [
    "def billTip1(bill_amount,tip_percentage):\n",
    "    try:\n",
    "        tip_amount=bill_amount*tip_percentage/100\n",
    "        print(f\"Your tip will be {tip_amount}\")\n",
    "        print(f\"total bill is {bill_amount+tip_amount}\")\n",
    "    except Exception as e:\n",
    "        print(e)\n",
    "billTip1(500,2)"
   ]
  },
  {
   "cell_type": "code",
   "execution_count": 6,
   "id": "447ecd13-ae29-44e7-add7-17ced7901a9f",
   "metadata": {},
   "outputs": [
    {
     "name": "stdout",
     "output_type": "stream",
     "text": [
      "The area of rectangle is:500\n"
     ]
    }
   ],
   "source": [
    "def areaRectangle(length,breadth):\n",
    "    try:\n",
    "        print(f\"The area of rectangle is:{length*breadth}\")\n",
    "    except Exception as e:\n",
    "        print(e)\n",
    "areaRectangle(10,50)"
   ]
  },
  {
   "cell_type": "code",
   "execution_count": 7,
   "id": "be727d72-42ef-436e-8095-2f15b5732561",
   "metadata": {},
   "outputs": [
    {
     "name": "stdout",
     "output_type": "stream",
     "text": [
      "The volume of spher is 696556.67 \n"
     ]
    }
   ],
   "source": [
    "def volumeSpher(radius):\n",
    "    try:\n",
    "        pi=3.14\n",
    "        volume =(4/3)*pi*(radius ** 3)\n",
    "        print(f\"The volume of spher is {(volume):.2f} \")\n",
    "    except Exception as e:\n",
    "        print(e)\n",
    "volumeSpher(55)"
   ]
  },
  {
   "cell_type": "code",
   "execution_count": 8,
   "id": "7d6e461a-77f8-45b1-a368-be88dd839467",
   "metadata": {},
   "outputs": [
    {
     "name": "stdout",
     "output_type": "stream",
     "text": [
      "The amount in rupee is:4675\n"
     ]
    }
   ],
   "source": [
    "def convertDaller(amount):\n",
    "    try:\n",
    "        amt_in_rupees=amount*85\n",
    "        print(f\"The amount in rupee is:{amt_in_rupees}\")\n",
    "    except Exception as e:\n",
    "        print(e)\n",
    "convertDaller(55)"
   ]
  },
  {
   "cell_type": "code",
   "execution_count": 9,
   "id": "d3bde7cb-3151-461e-ae96-f29636c59471",
   "metadata": {},
   "outputs": [
    {
     "name": "stdout",
     "output_type": "stream",
     "text": [
      "The weight in pounds is:11.00\n"
     ]
    }
   ],
   "source": [
    "def converPound(kg):\n",
    "    try:\n",
    "        pounds=kg*2.2\n",
    "        print(f\"The weight in pounds is:{(pounds):.2f}\")\n",
    "    except Exception as e:\n",
    "        print(e)\n",
    "converPound(5)"
   ]
  },
  {
   "cell_type": "code",
   "execution_count": null,
   "id": "ab70d0cb-cf4c-4342-98bb-ab53bec8af9b",
   "metadata": {},
   "outputs": [],
   "source": []
  }
 ],
 "metadata": {
  "kernelspec": {
   "display_name": "Python 3 (ipykernel)",
   "language": "python",
   "name": "python3"
  },
  "language_info": {
   "codemirror_mode": {
    "name": "ipython",
    "version": 3
   },
   "file_extension": ".py",
   "mimetype": "text/x-python",
   "name": "python",
   "nbconvert_exporter": "python",
   "pygments_lexer": "ipython3",
   "version": "3.12.7"
  }
 },
 "nbformat": 4,
 "nbformat_minor": 5
}
