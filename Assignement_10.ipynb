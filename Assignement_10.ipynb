{
 "cells": [
  {
   "cell_type": "code",
   "execution_count": 1,
   "id": "9dc096df-068f-4e3f-962d-610be7a7aeb4",
   "metadata": {},
   "outputs": [
    {
     "name": "stdout",
     "output_type": "stream",
     "text": [
      "123\n",
      "12.34\n",
      "True\n"
     ]
    }
   ],
   "source": [
    "# Basic representations\n",
    "print(str(123))\n",
    "print(str(12.34))\n",
    "print(str(True))\n"
   ]
  },
  {
   "cell_type": "code",
   "execution_count": 2,
   "id": "7e53c9e3-bd2a-4da9-91c8-5e8329fd1437",
   "metadata": {},
   "outputs": [
    {
     "name": "stdout",
     "output_type": "stream",
     "text": [
      "e\n",
      "o\n",
      "5\n"
     ]
    }
   ],
   "source": [
    "# min, max, len\n",
    "print(min(\"hello\"))\n",
    "print(max(\"hello\"))\n",
    "print(len(\"hello\"))\n"
   ]
  },
  {
   "cell_type": "code",
   "execution_count": 3,
   "id": "e1cfe3fa-c518-4334-8038-eee1752e665b",
   "metadata": {},
   "outputs": [
    {
     "name": "stdout",
     "output_type": "stream",
     "text": [
      "['e', 'h', 'l', 'l', 'o']\n",
      "['1', '2', '3', '4']\n"
     ]
    }
   ],
   "source": [
    "# sorted\n",
    "print(sorted(\"hello\"))\n",
    "print(sorted(\"4321\"))"
   ]
  },
  {
   "cell_type": "code",
   "execution_count": 5,
   "id": "8d30dbe9-b760-4a79-9574-84abf0719c1a",
   "metadata": {},
   "outputs": [
    {
     "name": "stdout",
     "output_type": "stream",
     "text": [
      "['o', 'l', 'l', 'e', 'h']\n"
     ]
    }
   ],
   "source": [
    "\n",
    "# reversed\n",
    "print(list(reversed(\"hello\")))"
   ]
  },
  {
   "cell_type": "code",
   "execution_count": 6,
   "id": "a1baf68d-d1dd-4686-95f5-9810402649e2",
   "metadata": {},
   "outputs": [
    {
     "name": "stdout",
     "output_type": "stream",
     "text": [
      "hello world\n",
      "abcdef\n",
      "123456\n"
     ]
    }
   ],
   "source": [
    "# concatenation\n",
    "print(\"hello\" + \" world\")\n",
    "print(\"abc\" + \"def\")\n",
    "print(\"123\" + \"456\")\n"
   ]
  },
  {
   "cell_type": "code",
   "execution_count": null,
   "id": "e849e3ef-05e2-44fa-8e22-6ee5664c0fe0",
   "metadata": {},
   "outputs": [],
   "source": []
  }
 ],
 "metadata": {
  "kernelspec": {
   "display_name": "Python 3 (ipykernel)",
   "language": "python",
   "name": "python3"
  },
  "language_info": {
   "codemirror_mode": {
    "name": "ipython",
    "version": 3
   },
   "file_extension": ".py",
   "mimetype": "text/x-python",
   "name": "python",
   "nbconvert_exporter": "python",
   "pygments_lexer": "ipython3",
   "version": "3.12.7"
  }
 },
 "nbformat": 4,
 "nbformat_minor": 5
}
