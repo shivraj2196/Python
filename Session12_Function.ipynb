{
 "cells": [
  {
   "cell_type": "markdown",
   "id": "0f15a6e6-523d-45d4-9fe0-d3b7af84e359",
   "metadata": {},
   "source": [
    "# Function"
   ]
  },
  {
   "cell_type": "markdown",
   "id": "8c284ee5-74be-463c-b632-073328a94e9c",
   "metadata": {},
   "source": [
    "##Function\n",
    "\n",
    "-Reuse of the code block\n",
    "\n",
    "-Function also called as method\n",
    "\n",
    "-function with out arguments\n",
    "\n",
    "-function with arguments\n",
    "\n",
    "-finction with default arguments\n",
    "\n",
    "-function with keyword argument(kwargs)\n",
    "\n",
    "-function with global and local variable\n",
    "\n",
    "-function with return \n",
    "\n",
    "-function in function"
   ]
  },
  {
   "cell_type": "markdown",
   "id": "197b9861-d7b8-426b-8967-135ca45df820",
   "metadata": {},
   "source": [
    "# function without arguments\n"
   ]
  },
  {
   "cell_type": "code",
   "execution_count": null,
   "id": "4ce90006-2ec4-46da-a690-2e8386faa3e2",
   "metadata": {},
   "outputs": [],
   "source": [
    "#Syntax\n",
    "def <function name>():\n",
    "    <Write your lines here>\n"
   ]
  },
  {
   "cell_type": "code",
   "execution_count": 2,
   "id": "793a30bb-5d31-489e-b0b8-6a4ccddb6b57",
   "metadata": {},
   "outputs": [
    {
     "name": "stdin",
     "output_type": "stream",
     "text": [
      "Enter a num1: 55\n",
      "Enter a num2: 55\n"
     ]
    },
    {
     "name": "stdout",
     "output_type": "stream",
     "text": [
      "The addition of num1:55, num2:55 is:110\n"
     ]
    }
   ],
   "source": [
    "num1=eval(input(\"Enter a num1:\"))\n",
    "num2=eval(input(\"Enter a num2:\"))\n",
    "\n",
    "add=num1+num2\n",
    "print(f\"The addition of num1:{num1}, num2:{num2} is:{add}\")"
   ]
  },
  {
   "cell_type": "code",
   "execution_count": 3,
   "id": "66e45be9-47a2-4090-9a80-46df106d9810",
   "metadata": {},
   "outputs": [
    {
     "name": "stdin",
     "output_type": "stream",
     "text": [
      "Enter a num1: 55\n",
      "Enter a num2: 55\n"
     ]
    },
    {
     "name": "stdout",
     "output_type": "stream",
     "text": [
      "The addition of num1:55, num2:55 is:110\n"
     ]
    }
   ],
   "source": [
    "def addition():\n",
    "    num1=eval(input(\"Enter a num1:\"))\n",
    "    num2=eval(input(\"Enter a num2:\"))\n",
    "    add=num1+num2\n",
    "    print(f\"The addition of num1:{num1}, num2:{num2} is:{add}\")\n",
    "addition()"
   ]
  },
  {
   "cell_type": "code",
   "execution_count": 28,
   "id": "ec8a27cf-2533-4546-912e-ebccf41b36bb",
   "metadata": {},
   "outputs": [
    {
     "name": "stdout",
     "output_type": "stream",
     "text": [
      "additon of num1:40 ,num2:86 =126\n"
     ]
    }
   ],
   "source": [
    "import random\n",
    "def addition():\n",
    "    num1=random.randint(1,100)\n",
    "    num2=random.randint(1,100)\n",
    "    print(f\"additon of num1:{num1} ,num2:{num2} ={num1+num2}\")\n",
    "addition()"
   ]
  },
  {
   "cell_type": "markdown",
   "id": "8d77a54f-59f7-47fa-a8c4-328169d08ba7",
   "metadata": {},
   "source": [
    "**Note**\n",
    "\n",
    "-Function name rules same as variable rules\n",
    "\n",
    "    -No special characters\n",
    "\n",
    "    -No numbers before\n",
    "\n",
    "    -No space between words etc\n",
    "\n",
    "-Function name should not be any keywords \n",
    "\n",
    "-Function name should bot be any package names\n",
    "\n",
    "-Function name should not be your notebook name or file name\n",
    "\n",
    "-Function name should not be any variable which is using inside that function\n",
    "\n"
   ]
  },
  {
   "cell_type": "markdown",
   "id": "30af49b8-b9f5-4e49-a518-61dce006882c",
   "metadata": {},
   "source": [
    "- while define the function we does not know weather the error is their or not \n",
    "\n",
    "- for that we need to call the function \n",
    "\n"
   ]
  },
  {
   "cell_type": "code",
   "execution_count": 31,
   "id": "b71a151d-befc-45e9-bf6e-a11e47dac28f",
   "metadata": {},
   "outputs": [
    {
     "name": "stdin",
     "output_type": "stream",
     "text": [
      "Enter a num1: 55\n",
      "Enter a num2: 55\n"
     ]
    },
    {
     "ename": "NameError",
     "evalue": "name 'num11' is not defined",
     "output_type": "error",
     "traceback": [
      "\u001b[1;31m---------------------------------------------------------------------------\u001b[0m",
      "\u001b[1;31mNameError\u001b[0m                                 Traceback (most recent call last)",
      "Cell \u001b[1;32mIn[31], line 6\u001b[0m\n\u001b[0;32m      4\u001b[0m     add\u001b[38;5;241m=\u001b[39mnum11\u001b[38;5;241m+\u001b[39mnum2\n\u001b[0;32m      5\u001b[0m     \u001b[38;5;28mprint\u001b[39m(\u001b[38;5;124mf\u001b[39m\u001b[38;5;124m\"\u001b[39m\u001b[38;5;124mThe addition of num1:\u001b[39m\u001b[38;5;132;01m{\u001b[39;00mnum1\u001b[38;5;132;01m}\u001b[39;00m\u001b[38;5;124m, num2:\u001b[39m\u001b[38;5;132;01m{\u001b[39;00mnum2\u001b[38;5;132;01m}\u001b[39;00m\u001b[38;5;124m is:\u001b[39m\u001b[38;5;132;01m{\u001b[39;00madd\u001b[38;5;132;01m}\u001b[39;00m\u001b[38;5;124m\"\u001b[39m)\n\u001b[1;32m----> 6\u001b[0m addition1()\n",
      "Cell \u001b[1;32mIn[31], line 4\u001b[0m, in \u001b[0;36maddition1\u001b[1;34m()\u001b[0m\n\u001b[0;32m      2\u001b[0m num1\u001b[38;5;241m=\u001b[39m\u001b[38;5;28meval\u001b[39m(\u001b[38;5;28minput\u001b[39m(\u001b[38;5;124m\"\u001b[39m\u001b[38;5;124mEnter a num1:\u001b[39m\u001b[38;5;124m\"\u001b[39m))\n\u001b[0;32m      3\u001b[0m num2\u001b[38;5;241m=\u001b[39m\u001b[38;5;28meval\u001b[39m(\u001b[38;5;28minput\u001b[39m(\u001b[38;5;124m\"\u001b[39m\u001b[38;5;124mEnter a num2:\u001b[39m\u001b[38;5;124m\"\u001b[39m))\n\u001b[1;32m----> 4\u001b[0m add\u001b[38;5;241m=\u001b[39mnum11\u001b[38;5;241m+\u001b[39mnum2\n\u001b[0;32m      5\u001b[0m \u001b[38;5;28mprint\u001b[39m(\u001b[38;5;124mf\u001b[39m\u001b[38;5;124m\"\u001b[39m\u001b[38;5;124mThe addition of num1:\u001b[39m\u001b[38;5;132;01m{\u001b[39;00mnum1\u001b[38;5;132;01m}\u001b[39;00m\u001b[38;5;124m, num2:\u001b[39m\u001b[38;5;132;01m{\u001b[39;00mnum2\u001b[38;5;132;01m}\u001b[39;00m\u001b[38;5;124m is:\u001b[39m\u001b[38;5;132;01m{\u001b[39;00madd\u001b[38;5;132;01m}\u001b[39;00m\u001b[38;5;124m\"\u001b[39m)\n",
      "\u001b[1;31mNameError\u001b[0m: name 'num11' is not defined"
     ]
    }
   ],
   "source": [
    "def addition1():\n",
    "    num1=eval(input(\"Enter a num1:\"))\n",
    "    num2=eval(input(\"Enter a num2:\"))\n",
    "    add=num11+num2\n",
    "    print(f\"The addition of num1:{num1}, num2:{num2} is:{add}\")\n",
    "addition1()"
   ]
  },
  {
   "cell_type": "code",
   "execution_count": 35,
   "id": "b799e63e-6fb3-455c-b736-a7a9c9116cff",
   "metadata": {
    "scrolled": true
   },
   "outputs": [
    {
     "name": "stdin",
     "output_type": "stream",
     "text": [
      "Enter a num1: 55\n",
      "Enter a num2: w\n"
     ]
    },
    {
     "ename": "NameError",
     "evalue": "name 'w' is not defined",
     "output_type": "error",
     "traceback": [
      "\u001b[1;31m---------------------------------------------------------------------------\u001b[0m",
      "\u001b[1;31mNameError\u001b[0m                                 Traceback (most recent call last)",
      "Cell \u001b[1;32mIn[35], line 9\u001b[0m\n\u001b[0;32m      7\u001b[0m \u001b[38;5;28;01mexcept\u001b[39;00m \u001b[38;5;167;01mException\u001b[39;00m \u001b[38;5;28;01mas\u001b[39;00m e:\n\u001b[0;32m      8\u001b[0m     \u001b[38;5;28mprint\u001b[39m(e)\n\u001b[1;32m----> 9\u001b[0m addition2()\n",
      "Cell \u001b[1;32mIn[35], line 4\u001b[0m, in \u001b[0;36maddition2\u001b[1;34m()\u001b[0m\n\u001b[0;32m      2\u001b[0m \u001b[38;5;28;01mdef\u001b[39;00m \u001b[38;5;21maddition2\u001b[39m():\n\u001b[0;32m      3\u001b[0m     num1\u001b[38;5;241m=\u001b[39m\u001b[38;5;28meval\u001b[39m(\u001b[38;5;28minput\u001b[39m(\u001b[38;5;124m\"\u001b[39m\u001b[38;5;124mEnter a num1:\u001b[39m\u001b[38;5;124m\"\u001b[39m))\n\u001b[1;32m----> 4\u001b[0m     num2\u001b[38;5;241m=\u001b[39m\u001b[38;5;28meval\u001b[39m(\u001b[38;5;28minput\u001b[39m(\u001b[38;5;124m\"\u001b[39m\u001b[38;5;124mEnter a num2:\u001b[39m\u001b[38;5;124m\"\u001b[39m))\n\u001b[0;32m      5\u001b[0m     add\u001b[38;5;241m=\u001b[39mnum1\u001b[38;5;241m+\u001b[39mnum2\n\u001b[0;32m      6\u001b[0m     \u001b[38;5;28mprint\u001b[39m(\u001b[38;5;124mf\u001b[39m\u001b[38;5;124m\"\u001b[39m\u001b[38;5;124mThe addition of num1:\u001b[39m\u001b[38;5;132;01m{\u001b[39;00mnum1\u001b[38;5;132;01m}\u001b[39;00m\u001b[38;5;124m, num2:\u001b[39m\u001b[38;5;132;01m{\u001b[39;00mnum2\u001b[38;5;132;01m}\u001b[39;00m\u001b[38;5;124m is:\u001b[39m\u001b[38;5;132;01m{\u001b[39;00madd\u001b[38;5;132;01m}\u001b[39;00m\u001b[38;5;124m\"\u001b[39m)\n",
      "File \u001b[1;32m<string>:1\u001b[0m\n",
      "\u001b[1;31mNameError\u001b[0m: name 'w' is not defined"
     ]
    }
   ],
   "source": [
    "try:\n",
    "    def addition2():\n",
    "        num1=eval(input(\"Enter a num1:\"))\n",
    "        num2=eval(input(\"Enter a num2:\"))\n",
    "        add=num1+num2\n",
    "        print(f\"The addition of num1:{num1}, num2:{num2} is:{add}\")\n",
    "except Exception as e:\n",
    "    print(e)\n",
    "addition2()"
   ]
  },
  {
   "cell_type": "code",
   "execution_count": 40,
   "id": "99a5b795-ea41-42a3-a49a-6159c96d8e0f",
   "metadata": {},
   "outputs": [
    {
     "name": "stdin",
     "output_type": "stream",
     "text": [
      "Enter a num1: 65\n",
      "Enter a num2: w\n"
     ]
    },
    {
     "name": "stdout",
     "output_type": "stream",
     "text": [
      "name 'w' is not defined\n"
     ]
    }
   ],
   "source": [
    "def addition3():\n",
    "    try:\n",
    "        num1=eval(input(\"Enter a num1:\"))\n",
    "        num2=eval(input(\"Enter a num2:\"))\n",
    "        add=num1+num2\n",
    "        print(f\"The addition of num1:{num1}, num2:{num2} is:{add}\")\n",
    "    except Exception as e:\n",
    "        print(e)\n",
    "addition3()"
   ]
  },
  {
   "cell_type": "markdown",
   "id": "27b381fa-e817-4af9-9c01-9c5ebbdc0825",
   "metadata": {},
   "source": [
    "-try -except should write inside the function\n"
   ]
  },
  {
   "cell_type": "code",
   "execution_count": 64,
   "id": "a2d87884-83e9-4320-9185-341d7ec2d7c5",
   "metadata": {},
   "outputs": [
    {
     "name": "stdin",
     "output_type": "stream",
     "text": [
      "Enter the n1: 55\n",
      "Enter the n2: 45\n",
      "Enter the n3: 45\n"
     ]
    },
    {
     "name": "stdout",
     "output_type": "stream",
     "text": [
      "The avg of 55,45,45=48.33\n"
     ]
    }
   ],
   "source": [
    "\n",
    "def avg():\n",
    "    try:\n",
    "        n1=eval(input(\"Enter the n1:\"))\n",
    "        n2=eval(input(\"Enter the n2:\"))\n",
    "        n3=eval(input(\"Enter the n3:\"))\n",
    "        print(f\"The avg of {n1},{n2},{n3}={((n1+n2+n3)/3):.2f}\")\n",
    "    except Exception as e:\n",
    "        print(e)\n",
    "avg()"
   ]
  },
  {
   "cell_type": "code",
   "execution_count": 62,
   "id": "5fc639ac-2625-4eb1-9da9-40c843ffd780",
   "metadata": {},
   "outputs": [
    {
     "name": "stdin",
     "output_type": "stream",
     "text": [
      "Enter your name: shivraj\n",
      "Enter your age: 20\n",
      "enter your city: Baramati\n"
     ]
    },
    {
     "name": "stdout",
     "output_type": "stream",
     "text": [
      "My name is shivraj, I am 20 years old and came from Baramati.\n"
     ]
    }
   ],
   "source": [
    "def info():\n",
    "    try:\n",
    "        name=input(\"Enter your name:\")\n",
    "        age=eval(input(\"Enter your age:\"))\n",
    "        city=input(\"enter your city:\")\n",
    "        print(f\"My name is {name}, I am {age} years old and came from {city}.\")\n",
    "    except Exception as e:\n",
    "        print(e)\n",
    "info()"
   ]
  },
  {
   "cell_type": "code",
   "execution_count": 61,
   "id": "0eac1c70-71f8-4c93-ae70-b410e924a58c",
   "metadata": {},
   "outputs": [
    {
     "name": "stdin",
     "output_type": "stream",
     "text": [
      "Enter the radius of circle: 55\n"
     ]
    },
    {
     "name": "stdout",
     "output_type": "stream",
     "text": [
      "the area of circle is:9498.50\n"
     ]
    }
   ],
   "source": [
    "def circleradiou():\n",
    "    try:\n",
    "        radius=eval(input(\"Enter the radius of circle:\"))\n",
    "        pi=3.14\n",
    "        area=pi*radius*radius\n",
    "        print(f\"the area of circle is:{(pi*radius*radius):.2f}\")\n",
    "    except Exception as e:\n",
    "        print(e)\n",
    "circleradiou()"
   ]
  },
  {
   "cell_type": "code",
   "execution_count": 60,
   "id": "3f97a175-a72f-4482-9b5f-6c617caf3fc6",
   "metadata": {},
   "outputs": [
    {
     "name": "stdin",
     "output_type": "stream",
     "text": [
      "Enter the breadth of right angle triangle: 50\n",
      "Enter the height of right angle triangletriangle: 54\n"
     ]
    },
    {
     "name": "stdout",
     "output_type": "stream",
     "text": [
      "the area of right angle triangle is:1350.0\n"
     ]
    }
   ],
   "source": [
    "def areaTrangle():\n",
    "    try:\n",
    "        breadth=eval(input(\"Enter the breadth of right angle triangle:\"))\n",
    "        height=eval(input(\"Enter the height of right angle triangletriangle:\"))\n",
    "        print(f\"the area of right angle triangle is:{0.5*breadth*height}\")\n",
    "    except Exception as e:\n",
    "        print(e)\n",
    "areaTrangle()"
   ]
  },
  {
   "cell_type": "code",
   "execution_count": 59,
   "id": "28857112-8d94-479a-8fbd-5b254a9a1b8e",
   "metadata": {},
   "outputs": [
    {
     "name": "stdin",
     "output_type": "stream",
     "text": [
      "Enter the bill amount: 550\n",
      "Enter the tip amount: 45\n"
     ]
    },
    {
     "name": "stdout",
     "output_type": "stream",
     "text": [
      "Total bill is:595\n"
     ]
    }
   ],
   "source": [
    "def billTip():\n",
    "    try:\n",
    "        bill_amount=eval(input(\"Enter the bill amount:\"))\n",
    "        tip_amount=eval(input(\"Enter the tip amount:\"))\n",
    "        print(f\"Total bill is:{bill_amount+tip_amount}\")\n",
    "    except Exception as e:\n",
    "        print(e)\n",
    "billTip()"
   ]
  },
  {
   "cell_type": "code",
   "execution_count": 58,
   "id": "43490426-d9b8-4763-8214-fda2b5d6b96f",
   "metadata": {},
   "outputs": [
    {
     "name": "stdin",
     "output_type": "stream",
     "text": [
      "Enter the bill amount: 550\n",
      "Enter the tip percentage: 2\n"
     ]
    },
    {
     "name": "stdout",
     "output_type": "stream",
     "text": [
      "Your tip will be 11.0\n",
      "total bill is 561.0\n"
     ]
    }
   ],
   "source": [
    "def billTip1():\n",
    "    try:\n",
    "        bill_amount=eval(input(\"Enter the bill amount:\"))\n",
    "        tip_percentage=eval(input(\"Enter the tip percentage:\"))\n",
    "        tip_amount=bill_amount*tip_percentage/100\n",
    "        print(f\"Your tip will be {tip_amount}\")\n",
    "        print(f\"total bill is {bill_amount+tip_amount}\")\n",
    "    except Exception as e:\n",
    "        print(e)\n",
    "billTip1()"
   ]
  },
  {
   "cell_type": "code",
   "execution_count": 57,
   "id": "6fc786bd-241c-445c-87fd-a5479a119d83",
   "metadata": {},
   "outputs": [
    {
     "name": "stdin",
     "output_type": "stream",
     "text": [
      "Enter the length of rectangle: 75\n",
      "Enter the breadth of rectangle: 45\n"
     ]
    },
    {
     "name": "stdout",
     "output_type": "stream",
     "text": [
      "The area of rectangle is:3375\n"
     ]
    }
   ],
   "source": [
    "def areaRectangle():\n",
    "    try:\n",
    "        length=eval(input(\"Enter the length of rectangle:\"))\n",
    "        breadth=eval(input(\"Enter the breadth of rectangle:\"))\n",
    "        print(f\"The area of rectangle is:{length*breadth}\")\n",
    "    except Exception as e:\n",
    "        print(e)\n",
    "areaRectangle()"
   ]
  },
  {
   "cell_type": "code",
   "execution_count": 56,
   "id": "6a39e08a-7356-4053-b859-23401a4f8127",
   "metadata": {},
   "outputs": [
    {
     "name": "stdin",
     "output_type": "stream",
     "text": [
      "Enter the radius of sphere: 45\n"
     ]
    },
    {
     "name": "stdout",
     "output_type": "stream",
     "text": [
      "The volume of spher is 381510.00 \n"
     ]
    }
   ],
   "source": [
    "def volumeSpher():\n",
    "    try:\n",
    "        radius=eval(input(\"Enter the radius of sphere:\"))\n",
    "        pi=3.14\n",
    "        volume =(4/3)*pi*(radius ** 3)\n",
    "        print(f\"The volume of spher is {(volume):.2f} \")\n",
    "    except Exception as e:\n",
    "        print(e)\n",
    "volumeSpher()"
   ]
  },
  {
   "cell_type": "code",
   "execution_count": 55,
   "id": "9d654ecb-15c3-4908-97a4-8a17cf5c94cc",
   "metadata": {},
   "outputs": [
    {
     "name": "stdin",
     "output_type": "stream",
     "text": [
      "Enter the amount in Doller $: 55\n"
     ]
    },
    {
     "name": "stdout",
     "output_type": "stream",
     "text": [
      "The amount in rupee is:4675\n"
     ]
    }
   ],
   "source": [
    "def convertDaller():\n",
    "    try:\n",
    "        amount=eval(input(\"Enter the amount in Doller $:\"))\n",
    "        amt_in_rupees=amount*85\n",
    "        print(f\"The amount in rupee is:{amt_in_rupees}\")\n",
    "    except Exception as e:\n",
    "        print(e)\n",
    "convertDaller()"
   ]
  },
  {
   "cell_type": "code",
   "execution_count": 53,
   "id": "00cf5995-0f29-4720-98bb-691e0871cb49",
   "metadata": {},
   "outputs": [
    {
     "name": "stdin",
     "output_type": "stream",
     "text": [
      "Enter the weight in KG: 55\n"
     ]
    },
    {
     "name": "stdout",
     "output_type": "stream",
     "text": [
      "The weight in pounds is:121.00\n"
     ]
    }
   ],
   "source": [
    "def converPound():\n",
    "    try:\n",
    "        kg=eval(input(\"Enter the weight in KG:\"))\n",
    "        pounds=kg*2.2\n",
    "        print(f\"The weight in pounds is:{(pounds):.2f}\")\n",
    "    except Exception as e:\n",
    "        print(e)\n",
    "converPound()"
   ]
  },
  {
   "cell_type": "markdown",
   "id": "6eb77e4e-4974-4307-9409-158c24e292a8",
   "metadata": {},
   "source": [
    "**Functions with arguments**"
   ]
  },
  {
   "cell_type": "markdown",
   "id": "7272c4d2-bbd8-4ab7-95db-be7fe7bb8290",
   "metadata": {},
   "source": [
    "-How many varaiabkes are there inside the function\n",
    "    \n",
    "    -in above addition function 3 variables are there :n1,n2,add\n",
    "\n",
    "-How many  input veraiables are their\n",
    "    \n",
    "    -input variables means the variable access the values from user as input:n1,n2\n",
    "\n",
    "-how may output variables are their\n",
    "    \n",
    "    -output variables means the variable created beacouse of some operations:**add**\n",
    "\n",
    "- **Dont touch the output variable**\n"
   ]
  },
  {
   "cell_type": "code",
   "execution_count": 7,
   "id": "23930ee7-7d2e-46c6-98a5-8b3288f5d2b4",
   "metadata": {},
   "outputs": [],
   "source": [
    "def addition1(n1,n2):\n",
    "    add=n1+n2\n",
    "    print(f'the sum of {n1} and {n2} is:{add}')"
   ]
  },
  {
   "cell_type": "code",
   "execution_count": 8,
   "id": "892d6b45-c72e-47f6-a82d-ffd5e6bee720",
   "metadata": {},
   "outputs": [
    {
     "name": "stdout",
     "output_type": "stream",
     "text": [
      "the sum of 100 and 200 is:300\n"
     ]
    }
   ],
   "source": [
    "addition1(100,200)"
   ]
  },
  {
   "cell_type": "code",
   "execution_count": null,
   "id": "4767854c-b9ef-4019-9c60-0c2ac0f52b46",
   "metadata": {},
   "outputs": [],
   "source": [
    "def addition():\n",
    "    n1=eval(input(\"Enter the a n1:\"))\n",
    "    n2=eval(input(\"Enter the a n2:\"))\n",
    "    add=n1+n2\n",
    "    print(f\"The addition is:{add}\")\n",
    "def addtiton1(n1,n2):\n",
    "    add=n1+n2\n",
    "    print(\"Addition:\",add)P\n",
    "def addtiton3(n1):\n",
    "    print(f\"Adddtiton {n1+n2}\","
   ]
  },
  {
   "cell_type": "code",
   "execution_count": 17,
   "id": "4d12b12d-4d13-4e1c-8eb1-148b52706b16",
   "metadata": {},
   "outputs": [
    {
     "name": "stdout",
     "output_type": "stream",
     "text": [
      "********** AVG1 **********\n",
      "the average of3,4,5 is:4.0,and roudn is 4.0\n",
      "********** AVG2 **********\n"
     ]
    },
    {
     "name": "stdin",
     "output_type": "stream",
     "text": [
      "Enter the n3: 5\n"
     ]
    },
    {
     "name": "stdout",
     "output_type": "stream",
     "text": [
      "the average of3,4,5 is:4.0,and roudn is 4.0\n",
      "********** AVG3 **********\n"
     ]
    },
    {
     "name": "stdin",
     "output_type": "stream",
     "text": [
      "Enter the n2: 5\n",
      "Enter the n3: 6\n"
     ]
    },
    {
     "name": "stdout",
     "output_type": "stream",
     "text": [
      "the average of3,5,6 is:4.666666666666667,and roudn is 4.67\n"
     ]
    }
   ],
   "source": [
    "print(\"*\"*10,\"AVG1\",\"*\"*10)\n",
    "def avg1(n1,n2,n3):\n",
    "    avg=(n1+n2+n3)/3\n",
    "    avg1=round(avg,2)\n",
    "    print(f\"the average of{n1},{n2},{n3} is:{avg},and roudn is {avg1}\")\n",
    "\n",
    "avg1(3,4,5)\n",
    "print(\"*\"*10,\"AVG2\",\"*\"*10)\n",
    "def avg2(n1,n2):\n",
    "    n3=eval(input(\"Enter the n3:\"))\n",
    "    avg=(n1+n2+n3)/3\n",
    "    avg1=round(avg,2)\n",
    "    print(f\"the average of{n1},{n2},{n3} is:{avg},and roudn is {avg1}\")\n",
    "\n",
    "avg2(3,4)\n",
    "print(\"*\"*10,\"AVG3\",\"*\"*10)\n",
    "def avg3(n1):\n",
    "    n2=eval(input(\"Enter the n2:\"))\n",
    "    n3=eval(input(\"Enter the n3:\"))\n",
    "    avg=(n1+n2+n3)/3\n",
    "    avg1=round(avg,2)\n",
    "    print(f\"the average of{n1},{n2},{n3} is:{avg},and roudn is {avg1}\")\n",
    "\n",
    "avg3(3)"
   ]
  },
  {
   "cell_type": "markdown",
   "id": "9e7aef05-30f1-41a5-9f2f-ac26ed6d3540",
   "metadata": {},
   "source": [
    "## Default agrumentm"
   ]
  },
  {
   "cell_type": "code",
   "execution_count": 34,
   "id": "d17dc84a-8789-4572-8384-34ebd4ef1d04",
   "metadata": {},
   "outputs": [
    {
     "name": "stdout",
     "output_type": "stream",
     "text": [
      "total bill is: 1200.0\n"
     ]
    }
   ],
   "source": [
    "def bill_amount(bill,tip_per=20):\n",
    "    tip_amout=bill*tip_per/100\n",
    "    total_bill=bill+tip_amout\n",
    "    print(\"total bill is:\",total_bill)\n",
    "bill_amount(1000)"
   ]
  },
  {
   "cell_type": "markdown",
   "id": "5dae9777-1634-4c8e-bbca-3d9addcbd07c",
   "metadata": {},
   "source": [
    "-In above function the tip_per is ixed as 20\n",
    "\n",
    "-this is called default arguments\n",
    "\n",
    "-while calling the function no need to provide  tip_per again\n",
    "\n",
    "-if you provide again the value will be change"
   ]
  },
  {
   "cell_type": "code",
   "execution_count": 39,
   "id": "71f0a1ee-d033-4015-9d27-3cd7973dfe60",
   "metadata": {},
   "outputs": [
    {
     "name": "stdout",
     "output_type": "stream",
     "text": [
      "the average of10,20,30 is:20.0,and roudn is 20.0\n"
     ]
    }
   ],
   "source": [
    "def avg3(n1,n2,n3=30):\n",
    "    avg=(n1+n2+n3)/3\n",
    "    avg1=round(avg,2)\n",
    "    print(f\"the average of{n1},{n2},{n3} is:{avg},and roudn is {avg1}\")\n",
    "\n",
    "avg3(10,20)"
   ]
  },
  {
   "cell_type": "code",
   "execution_count": 41,
   "id": "781546a3-b129-4db9-baff-e0d48d0c243e",
   "metadata": {},
   "outputs": [
    {
     "name": "stdout",
     "output_type": "stream",
     "text": [
      "the average of10,20,30 is:20.0,and roudn is 20.0\n"
     ]
    }
   ],
   "source": [
    "def avg3(n1,n2=20,n3=30):\n",
    "    avg=(n1+n2+n3)/3\n",
    "    avg1=round(avg,2)\n",
    "    print(f\"the average of{n1},{n2},{n3} is:{avg},and roudn is {avg1}\")\n",
    "\n",
    "avg3(10)"
   ]
  },
  {
   "cell_type": "code",
   "execution_count": 2,
   "id": "1905660c-1d61-45b4-b2d1-561e02f46b27",
   "metadata": {},
   "outputs": [
    {
     "name": "stdout",
     "output_type": "stream",
     "text": [
      "the average of100,20,200 is:106.67,and roudn is 106.67\n"
     ]
    }
   ],
   "source": [
    "def avg3(n1,n3,n2=20):\n",
    "    avg=(n1+n2+n3)/3\n",
    "    avg1=round(avg,2)\n",
    "    print(f\"the average of{n1},{n2},{n3} is:{avg:.2f},and roudn is {avg1:.2f}\")\n",
    "\n",
    "avg3(100,200)"
   ]
  },
  {
   "cell_type": "markdown",
   "id": "acb43e28-948c-4e8a-ae23-5a0a29c2f110",
   "metadata": {},
   "source": [
    "**Note:Default arguments always at last** "
   ]
  },
  {
   "cell_type": "code",
   "execution_count": null,
   "id": "a55e0686-5868-4b7e-aec4-c357d0c2988f",
   "metadata": {},
   "outputs": [],
   "source": [
    "n1,n2,n3=100#w\n",
    "n1,n2=100,,n3 #F\n",
    "n1=100,n2,n3 #F\n",
    "n1,n2=100,n3=100 #W\n",
    "n1=100,n2,n3=100#f\n",
    "n1=100,n2=100,n3#f\n",
    "n1=100,n2=200,n3=200#w\n",
    "W=Works f=Fail\n"
   ]
  },
  {
   "cell_type": "code",
   "execution_count": 8,
   "id": "20dbe059-4809-45da-ba24-5a801a63e482",
   "metadata": {},
   "outputs": [
    {
     "name": "stdout",
     "output_type": "stream",
     "text": [
      "Function with arguments\n"
     ]
    },
    {
     "name": "stdin",
     "output_type": "stream",
     "text": [
      "enter the salary: 10000\n",
      "Enter the tax_per: 10\n"
     ]
    },
    {
     "name": "stdout",
     "output_type": "stream",
     "text": [
      "1000.0\n",
      "1000.0\n",
      "2000.0\n"
     ]
    }
   ],
   "source": [
    "print(\"Function with arguments\")\n",
    "def tax_call():\n",
    "    salary=eval(input(\"enter the salary:\"))\n",
    "    tax_per=eval(input(\"Enter the tax_per:\"))\n",
    "    tax_pay=salary*tax_per/100\n",
    "    print(tax_pay)\n",
    "tax_call()\n",
    "def tax_call1(salary,tax_per):\n",
    "    tax_pay=salary*tax_per/100\n",
    "    print(tax_pay)\n",
    "tax_call1(10000,10)\n",
    "def tax_call2(salary,tax_per=10):\n",
    "    tax_pay=salary*tax_per/100\n",
    "    print(tax_pay)\n",
    "tax_call2(20000)"
   ]
  },
  {
   "cell_type": "code",
   "execution_count": 10,
   "id": "c42538bf-8530-4903-9aa9-9bdb9d2cde0a",
   "metadata": {},
   "outputs": [
    {
     "data": {
      "text/plain": [
       "(3+4j)"
      ]
     },
     "execution_count": 10,
     "metadata": {},
     "output_type": "execute_result"
    }
   ],
   "source": [
    "complex(3,4) #real=3 imag=4 3+4j"
   ]
  },
  {
   "cell_type": "code",
   "execution_count": 11,
   "id": "92540db9-a37a-49e3-87be-973ed77569d3",
   "metadata": {},
   "outputs": [
    {
     "data": {
      "text/plain": [
       "(3+0j)"
      ]
     },
     "execution_count": 11,
     "metadata": {},
     "output_type": "execute_result"
    }
   ],
   "source": [
    "complex(3) #real=3 imag=0 3+0j"
   ]
  },
  {
   "cell_type": "code",
   "execution_count": 12,
   "id": "33e48106-00fc-4f95-8d99-deb8dac5e201",
   "metadata": {},
   "outputs": [
    {
     "data": {
      "text/plain": [
       "0j"
      ]
     },
     "execution_count": 12,
     "metadata": {},
     "output_type": "execute_result"
    }
   ],
   "source": [
    "complex() #real=0 imag=0 0+0j"
   ]
  },
  {
   "cell_type": "markdown",
   "id": "155d0a4d-ba13-4bb0-9708-45356857e8bb",
   "metadata": {},
   "source": [
    "- note:if nothing is given then the o+oj but real 0 dint have any value bat 0j have 1 value of j so only 0j will be the output "
   ]
  },
  {
   "cell_type": "markdown",
   "id": "c4d7949f-da63-4cdb-abd7-c5528d607744",
   "metadata": {},
   "source": [
    "- Now onwards whenever you see any package \n",
    "\n",
    "- always do shift+tab insde tge brackets and objserve \n",
    "\n",
    "- with or without or default argument "
   ]
  },
  {
   "cell_type": "code",
   "execution_count": 14,
   "id": "1f091da9-0f8f-409c-9502-7d332ebeec7c",
   "metadata": {},
   "outputs": [
    {
     "name": "stdout",
     "output_type": "stream",
     "text": [
      "a: 100\n",
      "b: 200\n",
      "c: 300\n",
      "the sumation of 100 ,200 , 300 is :600\n"
     ]
    }
   ],
   "source": [
    "def add(a,b,c):\n",
    "    print(\"a:\",a)\n",
    "    print(\"b:\",b)\n",
    "    print(\"c:\",c)\n",
    "    summ=a+b+c\n",
    "    print(f\"the sumation of {a} ,{b} , {c} is :{summ}\")\n",
    "add(100,200,300)"
   ]
  },
  {
   "cell_type": "markdown",
   "id": "076da483-48ca-4b8c-9d62-45340b44ccc7",
   "metadata": {},
   "source": [
    "**Case2**"
   ]
  },
  {
   "cell_type": "code",
   "execution_count": 16,
   "id": "649c70a8-ebf2-460e-9e97-11dca9b20c89",
   "metadata": {},
   "outputs": [
    {
     "name": "stdout",
     "output_type": "stream",
     "text": [
      "a: 100\n",
      "b: 200\n",
      "c: 600\n",
      "the sumation of 100 ,200 , 600 is :900\n"
     ]
    }
   ],
   "source": [
    "\n",
    "def add(a,b,c=400):\n",
    "    print(\"a:\",a)\n",
    "    print(\"b:\",b)\n",
    "    print(\"c:\",c)\n",
    "    summ=a+b+c\n",
    "    print(f\"the sumation of {a} ,{b} , {c} is :{summ}\")\n",
    "add(100,200,600)"
   ]
  },
  {
   "cell_type": "markdown",
   "id": "9dc99f6c-4882-45b1-9cf3-b2b41a0ff5b7",
   "metadata": {},
   "source": [
    "- in above case we already  provided default value c=400 \n",
    "\n",
    "- but while we call the function c value become=600\n",
    "\n",
    "- step-1: Define the function:while define what is the value 400\n",
    "\n",
    "- step-2: call the function:while call the function what is the value 600\n",
    "\n",
    "- step-3: Running the function:while runninge what is the  value : 600"
   ]
  },
  {
   "cell_type": "markdown",
   "id": "f5853897-fa6e-426e-ab95-5bd1872cf96a",
   "metadata": {},
   "source": [
    "**case-3**"
   ]
  },
  {
   "cell_type": "code",
   "execution_count": 19,
   "id": "b354407c-8b51-46bb-b870-4faede042b63",
   "metadata": {},
   "outputs": [
    {
     "name": "stdout",
     "output_type": "stream",
     "text": [
      "a: 100\n",
      "b: 200\n",
      "c: 1000\n",
      "the sumation of 100 ,200 , 1000 is :1300\n"
     ]
    }
   ],
   "source": [
    "def add(a,b,c=400):\n",
    "    c=1000\n",
    "    print(\"a:\",a)\n",
    "    print(\"b:\",b)\n",
    "    print(\"c:\",c)\n",
    "    summ=a+b+c\n",
    "    print(f\"the sumation of {a} ,{b} , {c} is :{summ}\")\n",
    "add(100,200,600)\n",
    "#while define c=400\n",
    "#while calling c=600\n",
    "#while running c=1000"
   ]
  },
  {
   "cell_type": "markdown",
   "id": "fa068bfb-0841-4f68-874a-d12b001cbfe7",
   "metadata": {},
   "source": [
    "**Global valriable vs Local Variable**\n",
    "\n",
    "- The variables outside the function is called as **Global variable**\n",
    "\n",
    "    - Gloal variables can use anywhere\n",
    "    - global variables can be use  inside the function alos outside the function \n",
    "\n",
    "- the variables inside the function is called as **Local variable**\n",
    "\n",
    "    - local variables canbe use only inside function\n",
    "    - local variable can not be use outside the function"
   ]
  },
  {
   "cell_type": "code",
   "execution_count": 23,
   "id": "ab1c272b-9a53-4c51-b2a0-df6df3d82770",
   "metadata": {},
   "outputs": [
    {
     "name": "stdout",
     "output_type": "stream",
     "text": [
      "the summation add 100,200 is:300\n"
     ]
    }
   ],
   "source": [
    "def add():\n",
    "    n1=100\n",
    "    n2=200\n",
    "    summ=n1+n2\n",
    "    print(f'the summation add {n1},{n2} is:{summ}')\n",
    "add()"
   ]
  },
  {
   "cell_type": "markdown",
   "id": "08d7c825-ad13-42ad-aac9-f974037f9129",
   "metadata": {},
   "source": [
    "**How to convert local variable to  Global variable**\n",
    "\n",
    "- if we want to use  summ variable outside the function\n",
    "\n",
    "- Then intialise summ as global also using **global** keyword"
   ]
  },
  {
   "cell_type": "code",
   "execution_count": 24,
   "id": "9bff2c2e-1c65-4317-8901-5fb1f284a575",
   "metadata": {},
   "outputs": [
    {
     "name": "stdout",
     "output_type": "stream",
     "text": [
      "the summation add 1000,2000 is:3000\n"
     ]
    }
   ],
   "source": [
    "n1=1000\n",
    "n2=2000\n",
    "def add():\n",
    "    global summ\n",
    "    summ=n1+n2\n",
    "    print(f'the summation add {n1},{n2} is:{summ}')\n",
    "add()"
   ]
  },
  {
   "cell_type": "code",
   "execution_count": 26,
   "id": "9a29e0d4-4bdc-457a-9815-bac8fc3fad65",
   "metadata": {},
   "outputs": [
    {
     "data": {
      "text/plain": [
       "3000"
      ]
     },
     "execution_count": 26,
     "metadata": {},
     "output_type": "execute_result"
    }
   ],
   "source": [
    "summ"
   ]
  },
  {
   "cell_type": "markdown",
   "id": "8be82951-db3d-41ac-9c49-c2e6194d5a6b",
   "metadata": {},
   "source": [
    "**unbound local error**"
   ]
  },
  {
   "cell_type": "markdown",
   "id": "a9fbabc3-e7d7-4ef4-a667-fa5cd1846f0c",
   "metadata": {},
   "source": [
    "- in below example s  is not intialised\n",
    "\n",
    "- we might think name error will come\n",
    "\n",
    "- but insde function we will get unbound local errror"
   ]
  },
  {
   "cell_type": "code",
   "execution_count": 31,
   "id": "21c23d1e-a0d4-49e4-bcb5-e55efeaa7f15",
   "metadata": {},
   "outputs": [
    {
     "ename": "UnboundLocalError",
     "evalue": "cannot access local variable 's1' where it is not associated with a value",
     "output_type": "error",
     "traceback": [
      "\u001b[1;31m---------------------------------------------------------------------------\u001b[0m",
      "\u001b[1;31mUnboundLocalError\u001b[0m                         Traceback (most recent call last)",
      "Cell \u001b[1;32mIn[31], line 6\u001b[0m\n\u001b[0;32m      4\u001b[0m     s1\u001b[38;5;241m=\u001b[39ms1\u001b[38;5;241m+\u001b[39mn1\n\u001b[0;32m      5\u001b[0m     \u001b[38;5;28mprint\u001b[39m(s)\n\u001b[1;32m----> 6\u001b[0m add1()\n",
      "Cell \u001b[1;32mIn[31], line 4\u001b[0m, in \u001b[0;36madd1\u001b[1;34m()\u001b[0m\n\u001b[0;32m      2\u001b[0m \u001b[38;5;28;01mdef\u001b[39;00m \u001b[38;5;21madd1\u001b[39m():\n\u001b[0;32m      3\u001b[0m     n1\u001b[38;5;241m=\u001b[39m\u001b[38;5;241m100\u001b[39m\n\u001b[1;32m----> 4\u001b[0m     s1\u001b[38;5;241m=\u001b[39ms1\u001b[38;5;241m+\u001b[39mn1\n\u001b[0;32m      5\u001b[0m     \u001b[38;5;28mprint\u001b[39m(s)\n",
      "\u001b[1;31mUnboundLocalError\u001b[0m: cannot access local variable 's1' where it is not associated with a value"
     ]
    }
   ],
   "source": [
    "s1=0\n",
    "def add1():\n",
    "    n1=100\n",
    "    s1=s1+n1\n",
    "    print(s)\n",
    "add1()#error are trying to acciss the global veriable and tring to modify and assign at same time"
   ]
  },
  {
   "cell_type": "code",
   "execution_count": 33,
   "id": "b25a4162-e416-48c9-b9e6-f43aa0156fde",
   "metadata": {},
   "outputs": [
    {
     "ename": "UnboundLocalError",
     "evalue": "cannot access local variable 's1' where it is not associated with a value",
     "output_type": "error",
     "traceback": [
      "\u001b[1;31m---------------------------------------------------------------------------\u001b[0m",
      "\u001b[1;31mUnboundLocalError\u001b[0m                         Traceback (most recent call last)",
      "Cell \u001b[1;32mIn[33], line 5\u001b[0m\n\u001b[0;32m      3\u001b[0m     s1\u001b[38;5;241m=\u001b[39ms1\u001b[38;5;241m+\u001b[39mn1\n\u001b[0;32m      4\u001b[0m     \u001b[38;5;28mprint\u001b[39m(s1)\n\u001b[1;32m----> 5\u001b[0m add1()\n",
      "Cell \u001b[1;32mIn[33], line 3\u001b[0m, in \u001b[0;36madd1\u001b[1;34m()\u001b[0m\n\u001b[0;32m      1\u001b[0m \u001b[38;5;28;01mdef\u001b[39;00m \u001b[38;5;21madd1\u001b[39m():\n\u001b[0;32m      2\u001b[0m     n1\u001b[38;5;241m=\u001b[39m\u001b[38;5;241m100\u001b[39m\n\u001b[1;32m----> 3\u001b[0m     s1\u001b[38;5;241m=\u001b[39ms1\u001b[38;5;241m+\u001b[39mn1\n\u001b[0;32m      4\u001b[0m     \u001b[38;5;28mprint\u001b[39m(s1)\n",
      "\u001b[1;31mUnboundLocalError\u001b[0m: cannot access local variable 's1' where it is not associated with a value"
     ]
    }
   ],
   "source": [
    "def add1():\n",
    "    n1=100\n",
    "    s1=s1+n1\n",
    "    print(s1)\n",
    "add1()"
   ]
  },
  {
   "cell_type": "code",
   "execution_count": 35,
   "id": "c76a2bd2-b632-4506-a665-156d128a2393",
   "metadata": {},
   "outputs": [
    {
     "name": "stdout",
     "output_type": "stream",
     "text": [
      "200\n"
     ]
    }
   ],
   "source": [
    "def add3():\n",
    "    n1=100\n",
    "    summ2=100\n",
    "    summ2=summ2+n1\n",
    "    print(summ2)\n",
    "add3()"
   ]
  },
  {
   "cell_type": "code",
   "execution_count": 48,
   "id": "76873737-2cfd-4e86-9ceb-d07fca097ed9",
   "metadata": {},
   "outputs": [
    {
     "name": "stdout",
     "output_type": "stream",
     "text": [
      "60 20.0\n"
     ]
    }
   ],
   "source": [
    "def avg(a, b, c):\n",
    "    global ADD,AVG1\n",
    "    ADD = a + b + c\n",
    "    AVG1 = ADD / 3\n",
    "    print(ADD, AVG1)\n",
    "\n",
    "avg(10, 20, 30)\n"
   ]
  },
  {
   "cell_type": "code",
   "execution_count": 49,
   "id": "d6196bf1-a109-48e1-92e3-20adb8e869f5",
   "metadata": {
    "scrolled": true
   },
   "outputs": [
    {
     "name": "stdout",
     "output_type": "stream",
     "text": [
      "60 20.0\n"
     ]
    }
   ],
   "source": [
    "print(ADD,AVG1)"
   ]
  },
  {
   "cell_type": "code",
   "execution_count": 3,
   "id": "ebc16872-ae7a-4a3a-90b3-ee8c68ad6aa7",
   "metadata": {},
   "outputs": [
    {
     "name": "stdin",
     "output_type": "stream",
     "text": [
      "Enter the number: 5\n"
     ]
    },
    {
     "name": "stdout",
     "output_type": "stream",
     "text": [
      "5 is Odd\n"
     ]
    }
   ],
   "source": [
    "#wap ask the user enter a number \n",
    "#print it is an even or odd \n",
    "\n",
    "#a)Function with out argument with argument and efault argument\n",
    "\n",
    "def evid():\n",
    "    a=eval(input(\"Enter the number:\"))\n",
    "    if a%2==0:\n",
    "        print(f\"{a} is Even\")\n",
    "    else:\n",
    "        print(f\"{a} is Odd\")\n",
    "evid()"
   ]
  },
  {
   "cell_type": "code",
   "execution_count": 5,
   "id": "7901d349-e12d-4d66-ab24-532db14774d4",
   "metadata": {},
   "outputs": [
    {
     "name": "stdout",
     "output_type": "stream",
     "text": [
      "10 is Even\n"
     ]
    }
   ],
   "source": [
    "def evid(a):\n",
    "    if a%2==0:\n",
    "        print(f\"{a} is Even\")\n",
    "    else:\n",
    "        print(f\"{a} is Odd\")\n",
    "evid(10)"
   ]
  },
  {
   "cell_type": "code",
   "execution_count": 6,
   "id": "a1843572-f5a7-4ba4-8ced-cbfdd33be59b",
   "metadata": {},
   "outputs": [
    {
     "name": "stdout",
     "output_type": "stream",
     "text": [
      "10 is Even\n"
     ]
    }
   ],
   "source": [
    "def evid(a=10):\n",
    "    if a%2==0:\n",
    "        print(f\"{a} is Even\")\n",
    "    else:\n",
    "        print(f\"{a} is Odd\")\n",
    "evid()"
   ]
  },
  {
   "cell_type": "code",
   "execution_count": 8,
   "id": "2625a892-3e45-402f-8d5a-3c99966363d7",
   "metadata": {},
   "outputs": [
    {
     "name": "stdout",
     "output_type": "stream",
     "text": [
      "10 is Even\n"
     ]
    }
   ],
   "source": [
    "def evid3(a=10):\n",
    "    if a%2==0:\n",
    "        print(f\"{a} is Even\")\n",
    "    else:\n",
    "        print(f\"{a} is Odd\")\n",
    "evid()\n"
   ]
  },
  {
   "cell_type": "markdown",
   "id": "2c1fe4cb-1204-4b6a-b349-e19a042c199e",
   "metadata": {},
   "source": [
    "**parameter vs Variable**"
   ]
  },
  {
   "cell_type": "markdown",
   "id": "6cf6d2de-fd6e-462f-bd92-6514e2611356",
   "metadata": {},
   "source": [
    "- parameter also called as Arguments\n",
    "\n",
    "    -This alway inside the function brackets\n",
    "- Variable eiter out side the function or inside the function"
   ]
  },
  {
   "cell_type": "markdown",
   "id": "bdfbe10c-2456-4a50-9391-87c19f57516c",
   "metadata": {},
   "source": [
    "## Return statement \n",
    "\n",
    "- retrun means function is giving somwthing\n",
    "\n",
    "- we know that local variables can not use outside the function\n",
    "\n",
    "- in order to local variables outside the function , we have twi methods\n",
    "\n",
    "      -global\n",
    "\n",
    "      -return"
   ]
  },
  {
   "cell_type": "code",
   "execution_count": 12,
   "id": "58e6ed70-f875-4c17-a306-15a79022c936",
   "metadata": {},
   "outputs": [
    {
     "name": "stdout",
     "output_type": "stream",
     "text": [
      "(10, 20)\n"
     ]
    }
   ],
   "source": [
    "value=10,20\n",
    "print(value)"
   ]
  },
  {
   "cell_type": "code",
   "execution_count": 10,
   "id": "840de806-3800-4ffc-934f-46b4e59d4298",
   "metadata": {},
   "outputs": [],
   "source": [
    "val1,val2=10,20"
   ]
  },
  {
   "cell_type": "code",
   "execution_count": 11,
   "id": "ca215295-71c2-4109-9dad-c597e58e33d4",
   "metadata": {},
   "outputs": [
    {
     "ename": "TypeError",
     "evalue": "cannot unpack non-iterable int object",
     "output_type": "error",
     "traceback": [
      "\u001b[1;31m---------------------------------------------------------------------------\u001b[0m",
      "\u001b[1;31mTypeError\u001b[0m                                 Traceback (most recent call last)",
      "Cell \u001b[1;32mIn[11], line 1\u001b[0m\n\u001b[1;32m----> 1\u001b[0m val1,val2\u001b[38;5;241m=\u001b[39m\u001b[38;5;241m10\u001b[39m\n",
      "\u001b[1;31mTypeError\u001b[0m: cannot unpack non-iterable int object"
     ]
    }
   ],
   "source": [
    "val1,val2=10"
   ]
  },
  {
   "cell_type": "code",
   "execution_count": 13,
   "id": "91033ad3-7901-4a03-ae39-f7bc746fea1b",
   "metadata": {},
   "outputs": [],
   "source": [
    "def add():\n",
    "    a=10\n",
    "    b=20\n",
    "    c=a+b\n",
    "    return(c)\n",
    "\n",
    "c=add()"
   ]
  },
  {
   "cell_type": "code",
   "execution_count": 14,
   "id": "a279d6d3-63ea-41dd-b5b5-47db3d1c04ab",
   "metadata": {},
   "outputs": [
    {
     "data": {
      "text/plain": [
       "30"
      ]
     },
     "execution_count": 14,
     "metadata": {},
     "output_type": "execute_result"
    }
   ],
   "source": [
    "c"
   ]
  },
  {
   "cell_type": "code",
   "execution_count": 15,
   "id": "6b284a13-afb9-4036-bf02-bd7b4b475d78",
   "metadata": {},
   "outputs": [],
   "source": [
    "def add():\n",
    "    a=10\n",
    "    b=20\n",
    "    c=a+b\n",
    "    return(c,a)\n",
    "\n",
    "c=add()"
   ]
  },
  {
   "cell_type": "code",
   "execution_count": 17,
   "id": "3fab8cca-be04-4281-80b6-07f34fdfb6a4",
   "metadata": {},
   "outputs": [
    {
     "data": {
      "text/plain": [
       "(30, 10)"
      ]
     },
     "execution_count": 17,
     "metadata": {},
     "output_type": "execute_result"
    }
   ],
   "source": [
    "c"
   ]
  },
  {
   "cell_type": "code",
   "execution_count": 22,
   "id": "6b51cff0-69d6-4c94-b5f8-45f7a276609d",
   "metadata": {},
   "outputs": [],
   "source": [
    "def add():\n",
    "    a=10\n",
    "    b=20\n",
    "    c=a+b\n",
    "    return(c,a)\n",
    "\n",
    "a,c=add()"
   ]
  },
  {
   "cell_type": "code",
   "execution_count": 24,
   "id": "44b26f09-be43-4563-bb5e-91b066b1b7bb",
   "metadata": {},
   "outputs": [
    {
     "name": "stdout",
     "output_type": "stream",
     "text": [
      "30\n"
     ]
    }
   ],
   "source": [
    "print(a)"
   ]
  },
  {
   "cell_type": "code",
   "execution_count": 26,
   "id": "853a5efa-d3a8-4c6a-bb5c-8cf4e0514155",
   "metadata": {},
   "outputs": [
    {
     "name": "stdout",
     "output_type": "stream",
     "text": [
      "(60, 20.0)\n"
     ]
    }
   ],
   "source": [
    "def avg(a,b,c):\n",
    "    summ=a+b+c\n",
    "    AVG=summ/3\n",
    "    return(summ,AVG)\n",
    "ans=avg(10,20,30)\n",
    "print(ans)\n"
   ]
  },
  {
   "cell_type": "code",
   "execution_count": 34,
   "id": "550eaf9b-6fff-4f79-8b2b-a7b03f9c2436",
   "metadata": {},
   "outputs": [
    {
     "name": "stdin",
     "output_type": "stream",
     "text": [
      "Enter the num: 5\n"
     ]
    },
    {
     "name": "stdout",
     "output_type": "stream",
     "text": [
      "5 is Odd\n"
     ]
    }
   ],
   "source": [
    "def evid3():\n",
    "    a=eval(input(\"Enter the num:\"))\n",
    "    if a%2==0:\n",
    "       return(f\"{a} is Even\")\n",
    "       \n",
    "    else:\n",
    "       return(f\"{a} is Odd\")\n",
    "        \n",
    "a=evid3()\n",
    "print(a)"
   ]
  },
  {
   "cell_type": "markdown",
   "id": "6036e328-c7cc-4996-b2d7-1da948cf4402",
   "metadata": {},
   "source": [
    "## function in function "
   ]
  },
  {
   "cell_type": "code",
   "execution_count": 35,
   "id": "abad3f22-f26f-45e2-9a1d-66a43cdce229",
   "metadata": {},
   "outputs": [
    {
     "name": "stdout",
     "output_type": "stream",
     "text": [
      "hello good morning\n",
      "hello good night\n"
     ]
    }
   ],
   "source": [
    "def greet1():\n",
    "    print('hello good morning')\n",
    "def greet2():\n",
    "    print('hello good night')\n",
    "greet1()\n",
    "greet2()"
   ]
  },
  {
   "cell_type": "code",
   "execution_count": 36,
   "id": "bc6dbc22-93a3-4e86-b234-82e31a107116",
   "metadata": {},
   "outputs": [
    {
     "name": "stdout",
     "output_type": "stream",
     "text": [
      "hello good morning\n",
      "hello good night\n"
     ]
    }
   ],
   "source": [
    "def greet1():\n",
    "    print('hello good morning')\n",
    "def greet2():\n",
    "    print('hello good night')\n",
    "greet1()\n",
    "greet2()"
   ]
  },
  {
   "cell_type": "code",
   "execution_count": 37,
   "id": "29830f7d-110b-4bae-8693-f3deff8e77b3",
   "metadata": {},
   "outputs": [
    {
     "name": "stdout",
     "output_type": "stream",
     "text": [
      "hello good morning\n",
      "hello good night\n"
     ]
    }
   ],
   "source": [
    "def greet11():\n",
    "    print('hello good morning')\n",
    "    greet22()\n",
    "def greet22():\n",
    "    print('hello good night')\n",
    "greet11()\n"
   ]
  },
  {
   "cell_type": "code",
   "execution_count": 38,
   "id": "a04bbe9f-7590-4bcc-ac00-49867cfbdd55",
   "metadata": {},
   "outputs": [
    {
     "name": "stdout",
     "output_type": "stream",
     "text": [
      "hello good night\n",
      "hello good morning\n"
     ]
    }
   ],
   "source": [
    "def greet111():\n",
    "    print('hello good morning')\n",
    "    \n",
    "def greet222():\n",
    "    print('hello good night')\n",
    "    greet111()\n",
    "greet222()"
   ]
  },
  {
   "cell_type": "markdown",
   "id": "ed42b365-1208-4279-984e-a83b79518f74",
   "metadata": {},
   "source": [
    "call add\n",
    "step-1:n=5 if F else 5+add(4)\n",
    "                    5+4+add(3)\n",
    "                    5+4+3+add(2)\n",
    "                    5+4+3+add(1)\n",
    "step-2:n==0 if T so return(0)"
   ]
  },
  {
   "cell_type": "code",
   "execution_count": 40,
   "id": "8baf2f6a-1a1d-45a7-a91f-e728e447576f",
   "metadata": {},
   "outputs": [
    {
     "data": {
      "text/plain": [
       "15"
      ]
     },
     "execution_count": 40,
     "metadata": {},
     "output_type": "execute_result"
    }
   ],
   "source": [
    "def  add(n):\n",
    "    if n==0:\n",
    "        return(0)\n",
    "    else:\n",
    "        return(n+add(n-1))\n",
    "add(5)"
   ]
  },
  {
   "cell_type": "code",
   "execution_count": null,
   "id": "6a93ea77-d2bb-4bf2-85d7-5d09519864eb",
   "metadata": {},
   "outputs": [],
   "source": [
    "#Q1) Factorial recursion 5!=5*4*3*2*1\n",
    "#Q2) calculator\n",
    "\n",
    "#step-1:create 4 functions\n",
    "#def add(a,b):\n",
    "    #retrun(a+b)\n",
    "#def mul\n",
    "#def div\n",
    "#def sub\n",
    "\n",
    "#print('enter 1for add 2 sub so on\")\n",
    "\n",
    "#def main():\n",
    "    #oprtin=eval(input(\"Enter the betwwen 1 to 4\"))"
   ]
  }
 ],
 "metadata": {
  "kernelspec": {
   "display_name": "Python 3 (ipykernel)",
   "language": "python",
   "name": "python3"
  },
  "language_info": {
   "codemirror_mode": {
    "name": "ipython",
    "version": 3
   },
   "file_extension": ".py",
   "mimetype": "text/x-python",
   "name": "python",
   "nbconvert_exporter": "python",
   "pygments_lexer": "ipython3",
   "version": "3.12.7"
  }
 },
 "nbformat": 4,
 "nbformat_minor": 5
}
