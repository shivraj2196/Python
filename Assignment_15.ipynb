{
 "cells": [
  {
   "cell_type": "code",
   "execution_count": 4,
   "id": "7cbf50dc-a99f-4053-8f47-be257f638157",
   "metadata": {},
   "outputs": [
    {
     "name": "stdout",
     "output_type": "stream",
     "text": [
      "True\n",
      "True\n",
      "False\n"
     ]
    }
   ],
   "source": [
    "# isalnum\n",
    "print(\"abc123\".isalnum())\n",
    "print(\"abc\".isalnum())  \n",
    "print(\"abc 123\".isalnum())  "
   ]
  },
  {
   "cell_type": "code",
   "execution_count": 5,
   "id": "a4cce14a-bc72-4afb-8429-3f85248b9b4c",
   "metadata": {},
   "outputs": [
    {
     "name": "stdout",
     "output_type": "stream",
     "text": [
      "True\n",
      "True\n",
      "False\n"
     ]
    }
   ],
   "source": [
    "# isalpha\n",
    "print(\"abc\".isalpha())  \n",
    "print(\"ABCdef\".isalpha())  \n",
    "print(\"abc123\".isalpha())  "
   ]
  },
  {
   "cell_type": "code",
   "execution_count": 8,
   "id": "9e4c1968-8305-4884-9dcd-5a1470a12ca5",
   "metadata": {},
   "outputs": [
    {
     "name": "stdout",
     "output_type": "stream",
     "text": [
      "True\n",
      "True\n",
      "True\n"
     ]
    }
   ],
   "source": [
    "# isascii\n",
    "print(\"Hello\".isascii()) \n",
    "print(\"123\".isascii())  \n",
    "print(\"\".isascii()) "
   ]
  },
  {
   "cell_type": "code",
   "execution_count": 9,
   "id": "55348aff-673e-4b5e-9534-0330dc7d4e91",
   "metadata": {},
   "outputs": [
    {
     "name": "stdout",
     "output_type": "stream",
     "text": [
      "True\n",
      "False\n"
     ]
    }
   ],
   "source": [
    "# isdecimal\n",
    "print(\"123\".isdecimal())  \n",
    "print(\"123.45\".isdecimal()) \n"
   ]
  },
  {
   "cell_type": "code",
   "execution_count": 11,
   "id": "6283893a-4ff7-481f-9043-b3b993e30679",
   "metadata": {},
   "outputs": [
    {
     "name": "stdout",
     "output_type": "stream",
     "text": [
      "True\n",
      "False\n"
     ]
    }
   ],
   "source": [
    "# isdigit\n",
    "\n",
    "print(\"123\".isdigit()) \n",
    "print(\"123.45\".isdigit()) "
   ]
  },
  {
   "cell_type": "code",
   "execution_count": 12,
   "id": "c0f93729-ae36-496c-a7be-62c1f1126526",
   "metadata": {},
   "outputs": [
    {
     "name": "stdout",
     "output_type": "stream",
     "text": [
      "True\n",
      "True\n",
      "False\n"
     ]
    }
   ],
   "source": [
    "# isidentifier\n",
    "print(\"variable\".isalnum())  \n",
    "print(\"_var123\".isidentifier()) \n",
    "print(\"123var\".isidentifier()) "
   ]
  },
  {
   "cell_type": "code",
   "execution_count": 13,
   "id": "f15623c7-d2c5-4622-9b95-345e2fef53bc",
   "metadata": {},
   "outputs": [
    {
     "name": "stdout",
     "output_type": "stream",
     "text": [
      "True\n",
      "True\n",
      "False\n"
     ]
    }
   ],
   "source": [
    "# islower\n",
    "print(\"hello\".islower())  \n",
    "print(\"hello world\".islower())  \n",
    "print(\"Hello\".islower())  "
   ]
  },
  {
   "cell_type": "code",
   "execution_count": 15,
   "id": "74f84b86-b481-46f7-b0d5-d32153dcbd13",
   "metadata": {},
   "outputs": [
    {
     "name": "stdout",
     "output_type": "stream",
     "text": [
      "True\n",
      "False\n"
     ]
    }
   ],
   "source": [
    "# isnumeric\n",
    "print(\"123\".isnumeric())  \n",
    "print(\"123.45\".isnumeric()) \n"
   ]
  },
  {
   "cell_type": "code",
   "execution_count": 16,
   "id": "03a6d7ed-7b39-46c2-9d73-a53b7a60486f",
   "metadata": {},
   "outputs": [
    {
     "name": "stdout",
     "output_type": "stream",
     "text": [
      "True\n",
      "False\n"
     ]
    }
   ],
   "source": [
    "# isprintable\n",
    "print(\"Hello, World!\".isprintable())\n",
    "print(\"Hello\\nWorld\".isprintable())\n"
   ]
  },
  {
   "cell_type": "code",
   "execution_count": 17,
   "id": "c333d242-6651-4342-b891-9c43c4891339",
   "metadata": {},
   "outputs": [
    {
     "name": "stdout",
     "output_type": "stream",
     "text": [
      "True\n",
      "True\n",
      "False\n"
     ]
    }
   ],
   "source": [
    "# isspace\n",
    "print(\"   \".isspace())\n",
    "print(\"\\t\\n\".isspace())\n",
    "print(\"Hello World\".isspace())  "
   ]
  },
  {
   "cell_type": "code",
   "execution_count": 18,
   "id": "d1db0d36-45d5-4847-9e22-49d878969180",
   "metadata": {},
   "outputs": [
    {
     "name": "stdout",
     "output_type": "stream",
     "text": [
      "True\n",
      "True\n",
      "False\n"
     ]
    }
   ],
   "source": [
    "# istitle\n",
    "print(\"Hello World\".istitle())  \n",
    "print(\"This Is A Test\".istitle())  \n",
    "print(\"this is a Test\".istitle())  "
   ]
  },
  {
   "cell_type": "code",
   "execution_count": 20,
   "id": "43c76f56-d14b-4112-be00-6b4c6ad9866a",
   "metadata": {},
   "outputs": [
    {
     "name": "stdout",
     "output_type": "stream",
     "text": [
      "True\n",
      "False\n"
     ]
    }
   ],
   "source": [
    "# isupper\n",
    "print(\"HELLO\".isupper())  \n",
    "print(\"Hello\".isupper())  \n"
   ]
  },
  {
   "cell_type": "code",
   "execution_count": null,
   "id": "08965203-2e4f-4007-bbe2-cab60b416453",
   "metadata": {},
   "outputs": [],
   "source": []
  }
 ],
 "metadata": {
  "kernelspec": {
   "display_name": "Python 3 (ipykernel)",
   "language": "python",
   "name": "python3"
  },
  "language_info": {
   "codemirror_mode": {
    "name": "ipython",
    "version": 3
   },
   "file_extension": ".py",
   "mimetype": "text/x-python",
   "name": "python",
   "nbconvert_exporter": "python",
   "pygments_lexer": "ipython3",
   "version": "3.12.7"
  }
 },
 "nbformat": 4,
 "nbformat_minor": 5
}
