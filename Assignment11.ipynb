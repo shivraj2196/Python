{
 "cells": [
  {
   "cell_type": "code",
   "execution_count": 1,
   "id": "43fdd66e-3e05-4b6a-9a04-00df44890da0",
   "metadata": {},
   "outputs": [
    {
     "name": "stdout",
     "output_type": "stream",
     "text": [
      "the index of a is:2\n",
      "the index of a is:6\n",
      "the index of a is:10\n"
     ]
    }
   ],
   "source": [
    "#Q4) write a progarm to find the indexes of 'a' in a given string\n",
    "#str1='ola ola ola'\n",
    "str1='ola ola ola'\n",
    "for i in range(len(str1)):\n",
    "    if str1[i]=='a':\n",
    "        print(f\"the index of a is:{i}\")"
   ]
  },
  {
   "cell_type": "code",
   "execution_count": 2,
   "id": "0fe79459-c3ba-4313-86b3-b8196dacc5cc",
   "metadata": {},
   "outputs": [
    {
     "name": "stdout",
     "output_type": "stream",
     "text": [
      "the index of a is:2\n",
      "the index of a is:6\n",
      "the index of a is:10\n",
      "the totoal of all index of 'a' is 18\n"
     ]
    }
   ],
   "source": [
    "#Q5) write a program to find the sum of all indexes of 'a' in a given string\n",
    "#    str1='ola ola ola'\n",
    "str1='ola ola ola'\n",
    "total=0\n",
    "for i in range(len(str1)):\n",
    "    if str1[i]=='a':\n",
    "        print(f\"the index of a is:{i}\")\n",
    "        total=total+i\n",
    "print(f\"the totoal of all index of 'a' is {total}\")"
   ]
  },
  {
   "cell_type": "code",
   "execution_count": 3,
   "id": "6652ed6c-34ba-4175-b321-56ab01dbf168",
   "metadata": {},
   "outputs": [
    {
     "name": "stdout",
     "output_type": "stream",
     "text": [
      "the index of a is:a\n",
      "the index of a is:a\n",
      "the index of a is:a\n",
      "the total number of 'a' are :3\n"
     ]
    }
   ],
   "source": [
    "#Q6)write a progarm to find the number of 'a' in a given string\n",
    "#    str1='ola ola ola'\n",
    "str1='ola ola ola'\n",
    "num_of_a=0\n",
    "for i in str1:\n",
    "    if i=='a':\n",
    "        print(f\"the index of a is:{i}\")\n",
    "        num_of_a=num_of_a+1\n",
    "print(f\"the total number of 'a' are :{num_of_a}\")"
   ]
  },
  {
   "cell_type": "code",
   "execution_count": 4,
   "id": "e78feb62-2650-4779-8c0c-eaa5d4d37def",
   "metadata": {},
   "outputs": [
    {
     "name": "stdout",
     "output_type": "stream",
     "text": [
      "the vovel is:a\n",
      "the vovel is:i\n",
      "the vovel is:o\n",
      "the vovel is:a\n",
      "the vovel is:e\n",
      "the vovel is:o\n",
      "the vovel is:u\n",
      "the count of vovels is 7\n"
     ]
    }
   ],
   "source": [
    "#Q7) write a progarm to find the vowels and its count in a given string\n",
    "#    str1='hai how are you'\n",
    "\n",
    "str1='hai how are you'\n",
    "count=0\n",
    "vovels='aeiou'\n",
    "for i in str1:\n",
    "    if i in vovels:\n",
    "        print(f'the vovel is:{i}')\n",
    "        count=count+1\n",
    "print(f'the count of vovels is {count}')"
   ]
  },
  {
   "cell_type": "code",
   "execution_count": 5,
   "id": "ac48ce3b-aa3d-45d2-baf6-025c8b069f4e",
   "metadata": {},
   "outputs": [
    {
     "name": "stdout",
     "output_type": "stream",
     "text": [
      "the vovel is:e\n",
      "the vovel is:o\n",
      "2\n"
     ]
    }
   ],
   "source": [
    "#Q8) write a progarm to find the vowels which are repaeting then print only\n",
    "#     one time\n",
    "#     example: helleo  \n",
    "#      e is coming two times but we want to print only one time\n",
    "str1='helleo'\n",
    "vovels='aeiou'\n",
    "vovel=''\n",
    "count=0\n",
    "for i in str1:\n",
    "    if i in vovels and i not in vovel: \n",
    "        vovel+=i\n",
    "        print(f'the vovel is:{i}')\n",
    "        count=count+1\n",
    "print(count)"
   ]
  },
  {
   "cell_type": "code",
   "execution_count": null,
   "id": "3b3814fb-0a4f-44f7-87ce-c76f0b8b20ad",
   "metadata": {},
   "outputs": [],
   "source": []
  }
 ],
 "metadata": {
  "kernelspec": {
   "display_name": "Python 3 (ipykernel)",
   "language": "python",
   "name": "python3"
  },
  "language_info": {
   "codemirror_mode": {
    "name": "ipython",
    "version": 3
   },
   "file_extension": ".py",
   "mimetype": "text/x-python",
   "name": "python",
   "nbconvert_exporter": "python",
   "pygments_lexer": "ipython3",
   "version": "3.12.7"
  }
 },
 "nbformat": 4,
 "nbformat_minor": 5
}
