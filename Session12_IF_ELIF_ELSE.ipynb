{
 "cells": [
  {
   "cell_type": "markdown",
   "id": "4feaa0cb-9e1e-45f0-861f-570188ed8498",
   "metadata": {},
   "source": [
    "**if-elif-else**\n",
    "\n",
    "--whenever we have multiple conditions we will use do **if-elif-else**\n",
    "\n",
    "--if single condition is their we will go if-else\n",
    "    -two answer\n",
    "    -if need condition then else does not require any condition\n",
    "\n",
    "--if two cnditions are their we will go if-elif-else\n",
    "    -three answer\n",
    "    -if and elif nedd condition else do not require any condition\n",
    "\n",
    "-if three conditions are their we will go if-elif-elif-else\n",
    "    -four answer \n",
    "    -if elif and elif need condition and else does not require any condition "
   ]
  },
  {
   "cell_type": "markdown",
   "id": "deab9aad-12c9-4057-a4c8-e08cd6a5068e",
   "metadata": {},
   "source": [
    "if<condtion>:\n",
    "    <write Your code here>\n",
    "elif <condition>:\n",
    "    <write your conde here>\n",
    "elif  <condtion>:\n",
    "        <write your code here>\n",
    "else:\n",
    "     <write your code here>   \n",
    "    "
   ]
  },
  {
   "cell_type": "code",
   "execution_count": 14,
   "id": "c074f3c3-8359-4826-a098-529c6bfd1a9d",
   "metadata": {},
   "outputs": [
    {
     "name": "stdin",
     "output_type": "stream",
     "text": [
      "Enter the number: 55\n"
     ]
    },
    {
     "name": "stdout",
     "output_type": "stream",
     "text": [
      "Enter a valid number\n"
     ]
    }
   ],
   "source": [
    "#wap ask the user enter a number\n",
    "#inf number number to two then print two\n",
    "#if number equal to three print three\n",
    "#otherwise print enter a valid number\n",
    "num=eval(input(\"Enter the number:\"))\n",
    "if num==1:\n",
    "    print(\"one\")\n",
    "elif num==2:\n",
    "    print(\"two\")\n",
    "elif num3==3:\n",
    "    print(\"Three\")\n",
    "else:\n",
    "    print(\"Eneter a valid number\")"
   ]
  },
  {
   "cell_type": "code",
   "execution_count": 16,
   "id": "dde23450-ce25-4e7f-a6e6-9290ae741d2d",
   "metadata": {},
   "outputs": [
    {
     "name": "stdin",
     "output_type": "stream",
     "text": [
      "enter the percentage of marks: 99\n"
     ]
    },
    {
     "name": "stdout",
     "output_type": "stream",
     "text": [
      "A grade\n"
     ]
    }
   ],
   "source": [
    "# wap ask the user enter percentage of marks if marks\n",
    "# if marks>90 then print A grade\n",
    "#marks between 70 to 90 then print B grade\n",
    "#marks between 50 to 70 then print c grade\n",
    "# marks between 35 to 50 then print D grade\n",
    "# otherwise fail\n",
    "marks=eval(input(\"enter the percentage of marks:\"))\n",
    "if marks>90:\n",
    "    print(\"A grade\")\n",
    "elif marks>=70:\n",
    "    print(\"B grade\")\n",
    "elif marks>=50:\n",
    "    print(\"C grade\")\n",
    "elif marks>=35:\n",
    "    print(\"D grade\")\n",
    "else:\n",
    "    print(\"Fail\")"
   ]
  },
  {
   "cell_type": "code",
   "execution_count": null,
   "id": "af9c4a6e-2c74-496e-8a62-9259ce0b2c38",
   "metadata": {},
   "outputs": [],
   "source": [
    "dic = {1: \"one\", 2: \"Two\", 3: \"three\"}\n",
    "num = eval(input(\"Enter the num: \"))\n",
    "print(dic[num] if num in dic else \"Enter a valid number\")\n"
   ]
  },
  {
   "cell_type": "markdown",
   "id": "54d80bbd-9a6e-4613-94b8-826c1ab136db",
   "metadata": {},
   "source": [
    "if -elif\n",
    "if -if \n",
    "if fail or pass===== if "
   ]
  },
  {
   "cell_type": "code",
   "execution_count": 23,
   "id": "76f5ba96-29c3-457a-aa26-b73d6ad4227c",
   "metadata": {},
   "outputs": [
    {
     "name": "stdin",
     "output_type": "stream",
     "text": [
      "Enter the age: 22\n"
     ]
    },
    {
     "name": "stdout",
     "output_type": "stream",
     "text": [
      "young\n"
     ]
    }
   ],
   "source": [
    "# wap ask the user enter ange\n",
    "#if age greater thean 100 years unlucky\n",
    "#if age between 80 to 100 years olg guy\n",
    "#if age between 60 to 80 print ss\n",
    "#if age between 40 to 60 print MA\n",
    "#if age between 20 to 40 print young\n",
    "#if age between 10 to 20 peint teenage\n",
    "#other wise kid\n",
    "\n",
    "age=eval(input(\"Enter the age:\"))\n",
    "if age>100:\n",
    "    print(\"unlucky\")\n",
    "elif age>80:\n",
    "    print(\"Old guy\")\n",
    "elif age>60:\n",
    "    print(\"ss\")\n",
    "elif age>40:\n",
    "    print(\"middle age\")\n",
    "elif age>20:\n",
    "    print(\"young\")\n",
    "elif age>10:\n",
    "    print(\"Teen age\")\n",
    "else:\n",
    "    print(\"KID\")\n"
   ]
  },
  {
   "cell_type": "code",
   "execution_count": 29,
   "id": "823e09db-bbb9-4bb7-aae0-dea9f49a6a21",
   "metadata": {},
   "outputs": [
    {
     "name": "stdin",
     "output_type": "stream",
     "text": [
      "Enter the gender: male\n",
      "Enter your age: 6\n"
     ]
    },
    {
     "name": "stdout",
     "output_type": "stream",
     "text": [
      "KID\n"
     ]
    }
   ],
   "source": [
    "#wap ask the user enter gender\n",
    "#if gender equal mail\n",
    "#  akt the user enter age\n",
    "#   if age gt 60 then print senior cityzen \n",
    "#   if age betwen 30 to 60 then print MA Man\n",
    "#   if age between 15 to 30 then prinn young man\n",
    "# other wise print boy\n",
    "\n",
    "#wap ask the user enter gender\n",
    "#if gender equal femail\n",
    "#  akt the user enter age\n",
    "#   if age gt 60 then print senior cityzen \n",
    "#   if age betwen 30 to 60 then print MA women\n",
    "#   if age between 15 to 30 then prinn young girl\n",
    "# other wise print boy\n",
    "#else :\n",
    " #print\n",
    "\n",
    "\n",
    "gen=input(\"Enter the gender:\")\n",
    "if gen==\"male\":\n",
    "    age=eval(input(\"Enter your age:\"))\n",
    "    if age>60:\n",
    "        print(\"senior citizen\")\n",
    "    elif age>30:\n",
    "        print(\"Middle age man\")\n",
    "    elif age>15:\n",
    "        print(\"young man\")\n",
    "    else:\n",
    "        print(\"KID\")\n",
    "elif gen==\"female\":\n",
    "    age=eval(input(\"Enter your age:\"))\n",
    "    if age>60:\n",
    "        print(\"senior citizen\")\n",
    "    elif age>30:\n",
    "        print(\"Middle age women\")\n",
    "    elif age>15:\n",
    "        print(\"young girl\")\n",
    "    else:\n",
    "        print(\"KID\")    \n",
    "else:\n",
    "    print(\"Enter a valid gender\")"
   ]
  },
  {
   "cell_type": "code",
   "execution_count": 32,
   "id": "c0d3717e-e8f0-4df1-b72b-4c1cffa02e95",
   "metadata": {},
   "outputs": [
    {
     "name": "stdin",
     "output_type": "stream",
     "text": [
      "Ernter the num: -4\n"
     ]
    },
    {
     "name": "stdout",
     "output_type": "stream",
     "text": [
      "negative\n"
     ]
    }
   ],
   "source": [
    "#wap ask the user enter a number \n",
    "#if number is gt or equal to \n",
    "#   if number gt>0 then print positive\n",
    "#    other wise print zero\n",
    "#else print negativce\n",
    "\n",
    "num=eval(input(\"Ernter the num:\"))\n",
    "if num>=0:\n",
    "    if num>0:\n",
    "        print(\"Positive\")\n",
    "    else:\n",
    "        print(\"ZERO\")\n",
    "else:\n",
    "    print(\"negative\")"
   ]
  },
  {
   "cell_type": "code",
   "execution_count": 35,
   "id": "02f01220-a5db-4875-aeb1-b3204cdab254",
   "metadata": {},
   "outputs": [
    {
     "name": "stdout",
     "output_type": "stream",
     "text": [
      " enter 1 for addition addition:\n",
      " erter 2 for subtraction:\n",
      "enter 3 for division:\n"
     ]
    },
    {
     "name": "stdin",
     "output_type": "stream",
     "text": [
      "Enter your choice: 2\n"
     ]
    },
    {
     "name": "stdout",
     "output_type": "stream",
     "text": [
      "Enter the number for subtraction\n"
     ]
    },
    {
     "name": "stdin",
     "output_type": "stream",
     "text": [
      " 4\n",
      " 5\n"
     ]
    },
    {
     "name": "stdout",
     "output_type": "stream",
     "text": [
      "The subtraction is:-1\n"
     ]
    }
   ],
   "source": [
    "#print some statement belwo\n",
    "# enter 1 for addition additio \n",
    "# erter 2 for subtraction\n",
    "# enter 3 for division\n",
    "#wap ask the user enter number beween 1 to 4 \n",
    "#if op==1\n",
    "#   n1=eval()\n",
    "#   n1=eval()\n",
    "#   add=n1+n2\n",
    "#print (add)\n",
    "#elif oper==2\n",
    "        #sub\n",
    "#    elif oper==3\n",
    "        #div\n",
    "\n",
    "print(\" enter 1 for addition:\")\n",
    "print(\" erter 2 for subtraction:\")\n",
    "print(\"enter 3 for division:\")\n",
    "ch=eval(input(\"Enter your choice:\"))\n",
    "if ch==1:\n",
    "    print(\"Enter the number for addition\")\n",
    "    n1=eval(input(\"enter the value of n1\"))\n",
    "    n2=eval(input(\"enter the value of n2\"))\n",
    "    print(f\"The Addition is:{n1+n2}\")\n",
    "elif ch==2:\n",
    "    print(\"Enter the number for subtraction\")\n",
    "    n1=eval(input(\"enter the value of n1\"))\n",
    "    n2=eval(input(\"enter the value of n2\"))\n",
    "    print(f\"The subtraction is:{n1-n2}\")\n",
    "elif ch==3:\n",
    "    print(\"Enter the number for multiplication\")\n",
    "    n1=eval(input(\"enter the value of n1\"))\n",
    "    n2=eval(input(\"enter the value of n2\"))\n",
    "    print(f\"The multiplication is:{n1*n2}\")\n",
    "else:\n",
    "    print(\"Enter a valid choice:\")"
   ]
  }
 ],
 "metadata": {
  "kernelspec": {
   "display_name": "Python 3 (ipykernel)",
   "language": "python",
   "name": "python3"
  },
  "language_info": {
   "codemirror_mode": {
    "name": "ipython",
    "version": 3
   },
   "file_extension": ".py",
   "mimetype": "text/x-python",
   "name": "python",
   "nbconvert_exporter": "python",
   "pygments_lexer": "ipython3",
   "version": "3.12.7"
  }
 },
 "nbformat": 4,
 "nbformat_minor": 5
}
