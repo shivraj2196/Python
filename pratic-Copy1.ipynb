{
 "cells": [
  {
   "cell_type": "code",
   "execution_count": 5,
   "id": "2d61b08e-80d5-4110-8d97-e9eda6c448c3",
   "metadata": {},
   "outputs": [
    {
     "name": "stdout",
     "output_type": "stream",
     "text": [
      "Enter the n1:3\n",
      "Enter the n2:6\n",
      "Enter the n3:9\n",
      "The avg of 3,6,9=6.0\n"
     ]
    }
   ],
   "source": [
    "# 1)wap ask the user enter 3 numbers n1,n2,n3 from ketboard\n",
    "# calculate average\n",
    "n1=eval(input(\"Enter the n1:\"))\n",
    "n2=eval(input(\"Enter the n2:\"))\n",
    "n3=eval(input(\"Enter the n3:\"))\n",
    "print(f\"The avg of {n1},{n2},{n3}={(n1+n2+n3)/3}\")"
   ]
  },
  {
   "cell_type": "code",
   "execution_count": 8,
   "id": "e4858324",
   "metadata": {},
   "outputs": [
    {
     "name": "stdout",
     "output_type": "stream",
     "text": [
      "Enter your name:python\n",
      "Enter your age:10\n",
      "enter your city:HYD\n",
      "My name is python, I am 10 years old and came from HYD.\n"
     ]
    }
   ],
   "source": [
    "#2)wap ask the user enter name age city\n",
    "# print my name is python im 10 years old and came from hyd\n",
    "name=input(\"Enter your name:\")\n",
    "age=eval(input(\"Enter your age:\"))\n",
    "city=input(\"enter your city:\")\n",
    "print(f\"My name is {name}, I am {age} years old and came from {city}.\")"
   ]
  },
  {
   "cell_type": "code",
   "execution_count": 14,
   "id": "8ca1aea7",
   "metadata": {},
   "outputs": [
    {
     "name": "stdout",
     "output_type": "stream",
     "text": [
      "Enter the radius of circle:3\n",
      "the radius of circle is:28.26\n"
     ]
    }
   ],
   "source": [
    "# 3)wap ask the user to enter radidus of a circle calculate area of the circle\n",
    "radius=eval(input(\"Enter the radius of circle:\"))\n",
    "pi=3.14\n",
    "area=pi*radius*radius\n",
    "print(f\"the area of circle is:{(pi*radius*radius):.2f}\")"
   ]
  },
  {
   "cell_type": "code",
   "execution_count": 29,
   "id": "7daf7c90",
   "metadata": {},
   "outputs": [
    {
     "name": "stdout",
     "output_type": "stream",
     "text": [
      "Enter the breadth of right angle triangle:4\n",
      "Enter the height of right angle triangletriangle:5\n",
      "the are of right angle triangle is10.0\n"
     ]
    }
   ],
   "source": [
    "#4)wap ask the user enter breadth and height of a right angle triangle\n",
    "breadth=eval(input(\"Enter the breadth of right angle triangle:\"))\n",
    "height=eval(input(\"Enter the height of right angle triangletriangle:\"))\n",
    "print(f\"the are of right angle triangle is{0.5*breadth*height}\")"
   ]
  },
  {
   "cell_type": "code",
   "execution_count": 32,
   "id": "57ae0b13",
   "metadata": {},
   "outputs": [
    {
     "name": "stdout",
     "output_type": "stream",
     "text": [
      "Enter the bill amount:100\n",
      "Enter the tip amount:10\n",
      "Total bill is:110\n"
     ]
    }
   ],
   "source": [
    "#5)wap ask the user the bill amount and tip amount\n",
    "bill_amount=eval(input(\"Enter the bill amount:\"))\n",
    "tip_amount=eval(input(\"Enter the tip amount:\"))\n",
    "print(f\"Total bill is:{bill_amount+tip_amount}\")"
   ]
  },
  {
   "cell_type": "code",
   "execution_count": 33,
   "id": "bfa7a6ce",
   "metadata": {},
   "outputs": [
    {
     "name": "stdout",
     "output_type": "stream",
     "text": [
      "Enter the bill amount:400\n",
      "Enter the tip percentage:10\n",
      "Your tip will be 40.0\n",
      "total bill is 440.0\n"
     ]
    }
   ],
   "source": [
    " #6)wap ask the user the bill amount and tip amount\n",
    "bill_amount=eval(input(\"Enter the bill amount:\"))\n",
    "tip_percentage=eval(input(\"Enter the tip percentage:\"))\n",
    "tip_amount=bill_amount*tip_percentage/100\n",
    "print(f\"Your tip will be {tip_amount}\")\n",
    "print(f\"total bill is {bill_amount+tip_amount}\")"
   ]
  },
  {
   "cell_type": "code",
   "execution_count": 36,
   "id": "a879bef5",
   "metadata": {},
   "outputs": [
    {
     "name": "stdout",
     "output_type": "stream",
     "text": [
      "Enter the length of rectangle:10\n",
      "Enter the breadth of rectangle:3\n",
      "The area of rectangle is:30\n"
     ]
    }
   ],
   "source": [
    "#7)wap ask the length and breadth of a rectangle calculate area\n",
    "length=eval(input(\"Enter the length of rectangle:\"))\n",
    "breadth=eval(input(\"Enter the breadth of rectangle:\"))\n",
    "print(f\"The area of rectangle is:{length*breadth}\")"
   ]
  },
  {
   "cell_type": "code",
   "execution_count": 41,
   "id": "d7394bbc",
   "metadata": {},
   "outputs": [
    {
     "name": "stdout",
     "output_type": "stream",
     "text": [
      "Enter the radius of sphere:40\n",
      "The volume of spher is 267946.67 \n"
     ]
    }
   ],
   "source": [
    "# 8) wap ask the user take the radius and calculate volume of sphere\n",
    "radius=eval(input(\"Enter the radius of sphere:\"))\n",
    "pi=3.14\n",
    "volume =(4/3)*pi*(radius ** 3)\n",
    "print(f\"The volume of spher is {(volume):.2f} \")"
   ]
  },
  {
   "cell_type": "code",
   "execution_count": 45,
   "id": "696e646a",
   "metadata": {},
   "outputs": [
    {
     "name": "stdout",
     "output_type": "stream",
     "text": [
      "Enter the amount in Doller $:300\n",
      "The amount in rupee is:25500\n"
     ]
    }
   ],
   "source": [
    "# 9) wap ask the user enter amount in dollars convert into rupees\n",
    "amount=eval(input(\"Enter the amount in Doller $:\"))\n",
    "amt_in_rupees=amount*85\n",
    "print(f\"The amount in rupee is:{amt_in_rupees}\")"
   ]
  },
  {
   "cell_type": "code",
   "execution_count": 47,
   "id": "204f8188",
   "metadata": {},
   "outputs": [
    {
     "name": "stdout",
     "output_type": "stream",
     "text": [
      "Enter the weight in KG:70\n",
      "The weight in pounds is:154.00\n"
     ]
    }
   ],
   "source": [
    "# 10)wap ask the user enter weight in kgs convert into pounds\n",
    "kg=eval(input(\"Enter the weight in KG:\"))\n",
    "pounds=kg*2.2\n",
    "print(f\"The weight in pounds is:{(pounds):.2f}\")"
   ]
  }
 ],
 "metadata": {
  "kernelspec": {
   "display_name": "Python 3 (ipykernel)",
   "language": "python",
   "name": "python3"
  },
  "language_info": {
   "codemirror_mode": {
    "name": "ipython",
    "version": 3
   },
   "file_extension": ".py",
   "mimetype": "text/x-python",
   "name": "python",
   "nbconvert_exporter": "python",
   "pygments_lexer": "ipython3",
   "version": "3.12.7"
  }
 },
 "nbformat": 4,
 "nbformat_minor": 5
}
