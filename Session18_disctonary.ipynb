{
 "cells": [
  {
   "cell_type": "markdown",
   "id": "c1c0a318-c5d5-4d52-a6b2-c11d679dd22a",
   "metadata": {},
   "source": [
    "## Disctionary"
   ]
  },
  {
   "cell_type": "code",
   "execution_count": 2,
   "id": "de9b6557-2988-4867-bc7b-337d6fe77acc",
   "metadata": {},
   "outputs": [
    {
     "name": "stdout",
     "output_type": "stream",
     "text": [
      "ramesh age is 20\n",
      "suresh age is 25\n",
      "sathish age is 30\n"
     ]
    }
   ],
   "source": [
    "names=['ramesh','suresh','sathish']\n",
    "age=[20,25,30]\n",
    "for i in range(len(names)):\n",
    "    print(f'{names[i]} age is {age[i]}')"
   ]
  },
  {
   "cell_type": "markdown",
   "id": "fbf0393f-f9b2-49f3-a703-f2c07cc87b37",
   "metadata": {},
   "source": [
    "**Zip**"
   ]
  },
  {
   "cell_type": "code",
   "execution_count": 4,
   "id": "2436cc1f-679a-4be0-9dac-52e033e996ad",
   "metadata": {},
   "outputs": [
    {
     "name": "stdout",
     "output_type": "stream",
     "text": [
      "('ramesh', 20)\n",
      "('suresh', 25)\n",
      "('sathish', 30)\n"
     ]
    }
   ],
   "source": [
    "for i in zip(names,age):\n",
    "    print(i)"
   ]
  },
  {
   "cell_type": "code",
   "execution_count": 7,
   "id": "f80f6be7-98a9-4f17-aab9-cb197a4dd4ba",
   "metadata": {},
   "outputs": [
    {
     "name": "stdout",
     "output_type": "stream",
     "text": [
      "ramesh age is 20\n",
      "suresh age is 25\n",
      "sathish age is 30\n"
     ]
    }
   ],
   "source": [
    "for i,j in zip(names,age):\n",
    "    print(f'{i} age is {j}')"
   ]
  },
  {
   "cell_type": "code",
   "execution_count": 12,
   "id": "5e13e31a-7be0-4636-9bd5-06426d33f857",
   "metadata": {},
   "outputs": [
    {
     "name": "stdout",
     "output_type": "stream",
     "text": [
      "['ramesh age is 20', 'suresh age is 25', 'sathish age is 30']\n"
     ]
    }
   ],
   "source": [
    "names=['ramesh','suresh','sathish']\n",
    "age=[20,25,30]\n",
    "l2=[f'{i} age is {j}' for i,j in zip(names,age)]\n",
    "print(l2)"
   ]
  },
  {
   "cell_type": "markdown",
   "id": "81343944-f463-45f5-a242-ed69a659c965",
   "metadata": {},
   "source": [
    "** **\n",
    "**Disctionary**\n",
    "\n",
    "- in above example names and age both are together\n",
    "\n",
    "- when both are together we can pair them\n",
    "\n",
    "- this can happen using dictionary\n",
    "\n",
    "- Dictionary is calles as **Key-value** pair\n",
    "\n",
    "- it represents with curly breses:**{Key:value}**\n",
    "\n",
    "- Ramesh and 20 years both are pair:{'Ramesh':20}\n",
    "\n",
    "** **"
   ]
  },
  {
   "cell_type": "code",
   "execution_count": 13,
   "id": "6334f562-a07e-4fc9-9b25-5cf3df91e5c3",
   "metadata": {},
   "outputs": [
    {
     "data": {
      "text/plain": [
       "{'Ramesh': 20, 'Suresh': 25, 'Satish': 30}"
      ]
     },
     "execution_count": 13,
     "metadata": {},
     "output_type": "execute_result"
    }
   ],
   "source": [
    "d1={'Ramesh':20,'Suresh':25,'Satish':30}\n",
    "d1"
   ]
  },
  {
   "cell_type": "code",
   "execution_count": 14,
   "id": "79d45423-d3f0-44da-85be-4c7576884da0",
   "metadata": {},
   "outputs": [
    {
     "data": {
      "text/plain": [
       "{20: 'Ramesh', 25: 'Suresh', 30: 'Satish'}"
      ]
     },
     "execution_count": 14,
     "metadata": {},
     "output_type": "execute_result"
    }
   ],
   "source": [
    "d1={20:'Ramesh',25:'Suresh',30:'Satish'}\n",
    "d1"
   ]
  },
  {
   "cell_type": "code",
   "execution_count": 16,
   "id": "f5ba4c61-ca32-42d1-8026-8c6f8ab536f1",
   "metadata": {},
   "outputs": [],
   "source": [
    "d2={'marks':[20,30,40,50],'student':['ramseh','suresh','staish','mahesh']}"
   ]
  },
  {
   "cell_type": "code",
   "execution_count": 19,
   "id": "6a299d13-f073-4487-97b6-1b07be3dcfbc",
   "metadata": {},
   "outputs": [
    {
     "data": {
      "text/plain": [
       "{'sem_marks': {'Ramesh': {'sci': 30, 'maths': 20},\n",
       "  'Suresh': {'sci': 28, 'maths': 23},\n",
       "  'Satish': {'sci': 19, 'maths': 14}}}"
      ]
     },
     "execution_count": 19,
     "metadata": {},
     "output_type": "execute_result"
    }
   ],
   "source": [
    "d3={'sem_marks':{'Ramesh':{'sci':30,'maths':20},'Suresh':{'sci':28,'maths':23},'Satish':{'sci':19,'maths':14}}}\n",
    "d3"
   ]
  },
  {
   "cell_type": "code",
   "execution_count": 23,
   "id": "70c1549d-8ea7-4a9f-9d96-ec5913225a92",
   "metadata": {},
   "outputs": [
    {
     "data": {
      "text/plain": [
       "{'Ramesh': 20, 'Suresh': 20}"
      ]
     },
     "execution_count": 23,
     "metadata": {},
     "output_type": "execute_result"
    }
   ],
   "source": [
    "d4={'Ramseh':22,'Ramesh':30}\n",
    "d4\n",
    "#if both key are same it will take the latest value\n",
    "#dictionarys kinf database\n",
    "d5={1:'hh',1:'h3'}\n",
    "d5\n",
    "d6={'Ramesh':20,'Ramesh':20}\n",
    "d6\n",
    "#Dictonary  does not allow duplicates\n",
    "d7={'Ramesh':20,'Suresh':20}\n",
    "d7"
   ]
  },
  {
   "cell_type": "code",
   "execution_count": 27,
   "id": "dd1ad441-a350-482c-9483-dfd5aee9bb3f",
   "metadata": {},
   "outputs": [
    {
     "data": {
      "text/plain": [
       "{True: 'true'}"
      ]
     },
     "execution_count": 27,
     "metadata": {},
     "output_type": "execute_result"
    }
   ],
   "source": [
    "#in dictonary keys pays viral rol\n",
    "#keys can not be duplicate but vaLUES can be dublicate\n",
    "d8={20:'ramesh',20:'suresh'}\n",
    "d8\n",
    "d9={True:'true'}\n",
    "d9\n",
    "{['apple','Banana']:'fruits'}#f\n",
    "{('apple','Banana'):'fruits'}#W\n"
   ]
  },
  {
   "cell_type": "markdown",
   "id": "d83d182e-11ff-43e2-81c9-6240660620bc",
   "metadata": {},
   "source": [
    "{['apple','Banana']:'fruits'}\n",
    "**list as keys fialis beacouse list has a mutable behaviour**\n",
    "\n",
    "**tuple as keys works beacouse tuple has immutable behaviour**\n",
    "\n",
    "**in dictionary keys are very very important**\n",
    "\n",
    "**keys does not change so when we apply list is faili**"
   ]
  },
  {
   "cell_type": "code",
   "execution_count": 1,
   "id": "38cb2bad-d50f-4b14-8db7-d1b90e46647f",
   "metadata": {},
   "outputs": [
    {
     "ename": "TypeError",
     "evalue": "unhashable type: 'dict'",
     "output_type": "error",
     "traceback": [
      "\u001b[1;31m---------------------------------------------------------------------------\u001b[0m",
      "\u001b[1;31mTypeError\u001b[0m                                 Traceback (most recent call last)",
      "Cell \u001b[1;32mIn[1], line 2\u001b[0m\n\u001b[0;32m      1\u001b[0m d14\u001b[38;5;241m=\u001b[39m{\u001b[38;5;124m'\u001b[39m\u001b[38;5;124mfruites\u001b[39m\u001b[38;5;124m'\u001b[39m:{\u001b[38;5;124m'\u001b[39m\u001b[38;5;124mapple\u001b[39m\u001b[38;5;124m'\u001b[39m:\u001b[38;5;241m20\u001b[39m}}\u001b[38;5;66;03m#works\u001b[39;00m\n\u001b[1;32m----> 2\u001b[0m d15\u001b[38;5;241m=\u001b[39m{{\u001b[38;5;124m'\u001b[39m\u001b[38;5;124mapple\u001b[39m\u001b[38;5;124m'\u001b[39m:\u001b[38;5;241m20\u001b[39m}:\u001b[38;5;124m'\u001b[39m\u001b[38;5;124mfruit\u001b[39m\u001b[38;5;124m'\u001b[39m}\n",
      "\u001b[1;31mTypeError\u001b[0m: unhashable type: 'dict'"
     ]
    }
   ],
   "source": [
    "d14={'fruites':{'apple':20}}#works\n",
    "d15={{'apple':20}:'fruit'}#Faile"
   ]
  },
  {
   "cell_type": "code",
   "execution_count": 17,
   "id": "8aeaa621-bcb6-4b88-8b48-651f32061370",
   "metadata": {},
   "outputs": [
    {
     "name": "stdout",
     "output_type": "stream",
     "text": [
      "['cherry', 'Banana', 'Apple']\n",
      "['apple', 'Apple']\n",
      "[50, 30, 20]\n"
     ]
    },
    {
     "data": {
      "text/plain": [
       "'cherry'"
      ]
     },
     "execution_count": 17,
     "metadata": {},
     "output_type": "execute_result"
    }
   ],
   "source": [
    "dict1={'Apple':20,'Banana':30,'cherry':50}\n",
    "dict2={'Apple':20,'apple':30}\n",
    "dict3={20:'Apple',30:'Banana',50:'Cherry'}\n",
    "#apply min max sum sorted reversed\n",
    "sorted(dict1)\n",
    "print(list(reversed(dict1)))\n",
    "sorted(dict2)\n",
    "print(list(reversed(dict2)))\n",
    "sorted(dict3)\n",
    "print(list(reversed(dict3)))\n"
   ]
  },
  {
   "cell_type": "code",
   "execution_count": 20,
   "id": "e0c5b1aa-0ee5-4d85-90c0-b09f43573ed4",
   "metadata": {
    "scrolled": true
   },
   "outputs": [
    {
     "data": {
      "text/plain": [
       "50"
      ]
     },
     "execution_count": 20,
     "metadata": {},
     "output_type": "execute_result"
    }
   ],
   "source": [
    "max(dict1)\n",
    "max(dict2)\n",
    "max(dict3)"
   ]
  },
  {
   "cell_type": "code",
   "execution_count": 27,
   "id": "3f2fac61-6581-4f06-8b71-b96a282c1d79",
   "metadata": {},
   "outputs": [
    {
     "data": {
      "text/plain": [
       "20"
      ]
     },
     "execution_count": 27,
     "metadata": {},
     "output_type": "execute_result"
    }
   ],
   "source": [
    "min(dict1.values())\n",
    "min(dict2)\n",
    "min(dict3)"
   ]
  },
  {
   "cell_type": "code",
   "execution_count": 39,
   "id": "d42938ae-8780-408a-8303-297fa6d291cb",
   "metadata": {},
   "outputs": [
    {
     "data": {
      "text/plain": [
       "3"
      ]
     },
     "execution_count": 39,
     "metadata": {},
     "output_type": "execute_result"
    }
   ],
   "source": [
    "sum(dict3)\n",
    "len(dict1)"
   ]
  },
  {
   "cell_type": "code",
   "execution_count": 28,
   "id": "448b2cc4-d93f-46f9-9352-9b9e8171ea0f",
   "metadata": {
    "scrolled": true
   },
   "outputs": [
    {
     "data": {
      "text/plain": [
       "['__class__',\n",
       " '__class_getitem__',\n",
       " '__contains__',\n",
       " '__delattr__',\n",
       " '__delitem__',\n",
       " '__dir__',\n",
       " '__doc__',\n",
       " '__eq__',\n",
       " '__format__',\n",
       " '__ge__',\n",
       " '__getattribute__',\n",
       " '__getitem__',\n",
       " '__getstate__',\n",
       " '__gt__',\n",
       " '__hash__',\n",
       " '__init__',\n",
       " '__init_subclass__',\n",
       " '__ior__',\n",
       " '__iter__',\n",
       " '__le__',\n",
       " '__len__',\n",
       " '__lt__',\n",
       " '__ne__',\n",
       " '__new__',\n",
       " '__or__',\n",
       " '__reduce__',\n",
       " '__reduce_ex__',\n",
       " '__repr__',\n",
       " '__reversed__',\n",
       " '__ror__',\n",
       " '__setattr__',\n",
       " '__setitem__',\n",
       " '__sizeof__',\n",
       " '__str__',\n",
       " '__subclasshook__',\n",
       " 'clear',\n",
       " 'copy',\n",
       " 'fromkeys',\n",
       " 'get',\n",
       " 'items',\n",
       " 'keys',\n",
       " 'pop',\n",
       " 'popitem',\n",
       " 'setdefault',\n",
       " 'update',\n",
       " 'values']"
      ]
     },
     "execution_count": 28,
     "metadata": {},
     "output_type": "execute_result"
    }
   ],
   "source": [
    "dir({})"
   ]
  },
  {
   "cell_type": "code",
   "execution_count": 44,
   "id": "9931c6e3-3c3f-4150-8417-dda82443429b",
   "metadata": {},
   "outputs": [
    {
     "data": {
      "text/plain": [
       "False"
      ]
     },
     "execution_count": 44,
     "metadata": {},
     "output_type": "execute_result"
    }
   ],
   "source": [
    "dict1={'Apple':20,'Banana':30,'cherry':50}\n",
    "'Apple' in dict1#T\n",
    "20 in dict1#F\n",
    "#'Apple':20 in dict1#Error"
   ]
  },
  {
   "cell_type": "code",
   "execution_count": 45,
   "id": "ec742f5f-0c6d-46ac-a2cc-07712aed6ab8",
   "metadata": {},
   "outputs": [
    {
     "name": "stdout",
     "output_type": "stream",
     "text": [
      "Apple\n",
      "Banana\n",
      "cherry\n"
     ]
    }
   ],
   "source": [
    "for i in dict1:\n",
    "    print(i)"
   ]
  },
  {
   "cell_type": "code",
   "execution_count": 49,
   "id": "126a3a66-5ba1-484c-954f-df734f380eb0",
   "metadata": {},
   "outputs": [
    {
     "ename": "KeyError",
     "evalue": "0",
     "output_type": "error",
     "traceback": [
      "\u001b[1;31m---------------------------------------------------------------------------\u001b[0m",
      "\u001b[1;31mKeyError\u001b[0m                                  Traceback (most recent call last)",
      "Cell \u001b[1;32mIn[49], line 2\u001b[0m\n\u001b[0;32m      1\u001b[0m \u001b[38;5;28;01mfor\u001b[39;00m i \u001b[38;5;129;01min\u001b[39;00m \u001b[38;5;28mrange\u001b[39m(\u001b[38;5;28mlen\u001b[39m(dict1)):\n\u001b[1;32m----> 2\u001b[0m     \u001b[38;5;28mprint\u001b[39m(dict1[i])\n",
      "\u001b[1;31mKeyError\u001b[0m: 0"
     ]
    }
   ],
   "source": [
    "for i in range(len(dict1)):\n",
    "    print(dict1[i])"
   ]
  },
  {
   "cell_type": "markdown",
   "id": "e0eeb279-0e82-40ea-86df-44ec9a715185",
   "metadata": {},
   "source": [
    "**index**"
   ]
  },
  {
   "cell_type": "markdown",
   "id": "c36da8a2-39ec-484a-8e92-776c43b71b42",
   "metadata": {},
   "source": [
    "**how to rxtract the values**\n",
    "\n",
    "- in dictionary we have a concept key:value pair\n",
    "\n",
    "- keys are very important\n",
    "\n",
    "- inorder to get the values we need to take keys help"
   ]
  },
  {
   "cell_type": "code",
   "execution_count": 53,
   "id": "b2658994-5ab8-4200-b702-d2fa1166c222",
   "metadata": {},
   "outputs": [
    {
     "name": "stdout",
     "output_type": "stream",
     "text": [
      "20\n",
      "30\n",
      "50\n"
     ]
    }
   ],
   "source": [
    "dict1={'Apple':20,'Banana':30,'cherry':50}\n",
    "for i in dict1:\n",
    "    print(dict1[i])"
   ]
  },
  {
   "cell_type": "code",
   "execution_count": 56,
   "id": "1ff39fae-b48e-4c17-87ed-554983181c84",
   "metadata": {},
   "outputs": [
    {
     "name": "stdout",
     "output_type": "stream",
     "text": [
      "Ramesh age is  20\n",
      "Suresh age is  25\n",
      "Satish age is  30\n"
     ]
    }
   ],
   "source": [
    "names={'Ramesh':20,'Suresh':25,'Satish':30}\n",
    "for i in names:\n",
    "    print(f'{i} age is  {names[i]}')"
   ]
  },
  {
   "cell_type": "code",
   "execution_count": 60,
   "id": "97fcf318-fc1a-43ed-bc37-8809290ae282",
   "metadata": {},
   "outputs": [
    {
     "data": {
      "text/plain": [
       "'Cherry'"
      ]
     },
     "execution_count": 60,
     "metadata": {},
     "output_type": "execute_result"
    }
   ],
   "source": [
    "d={'Fruits':['Apple','Banana','Cherry']}\n",
    "d['Fruits'][2]"
   ]
  },
  {
   "cell_type": "code",
   "execution_count": 62,
   "id": "64af339e-6dc6-4064-9950-097ed240670b",
   "metadata": {},
   "outputs": [
    {
     "data": {
      "text/plain": [
       "'green'"
      ]
     },
     "execution_count": 62,
     "metadata": {},
     "output_type": "execute_result"
    }
   ],
   "source": [
    "#identify how many key-value pairs are their\n",
    "d={'Fruits':{'Apple':['Sweet','sour','green']}}\n",
    "d['Fruits']['Apple'][2]"
   ]
  },
  {
   "cell_type": "code",
   "execution_count": 65,
   "id": "6b5cf12a-c361-4b6e-865e-5b8a70421e39",
   "metadata": {},
   "outputs": [
    {
     "data": {
      "text/plain": [
       "50"
      ]
     },
     "execution_count": 65,
     "metadata": {},
     "output_type": "execute_result"
    }
   ],
   "source": [
    "d={'Fruits':[{'Const':[50]}]}\n",
    "d['Fruits'][0]['Const'][0]"
   ]
  },
  {
   "cell_type": "code",
   "execution_count": 76,
   "id": "5277d2c4-bd78-4e65-80d6-5d2a333e92a2",
   "metadata": {},
   "outputs": [
    {
     "name": "stdout",
     "output_type": "stream",
     "text": [
      "40: 40\n",
      "none: None\n"
     ]
    }
   ],
   "source": [
    "d={'Fruites':['Apple'],'Cost':[{'1kg':[20,30,40],\n",
    "                               '2kg':None}]}\n",
    "print('40:',d['Cost'][0]['1kg'][2])\n",
    "print('none:',d['Cost'][0]['2kg'])"
   ]
  },
  {
   "cell_type": "code",
   "execution_count": 84,
   "id": "db6d02c6-c001-47d6-b8f1-d1238e2e6d25",
   "metadata": {},
   "outputs": [
    {
     "data": {
      "text/plain": [
       "{'Shambaji'}"
      ]
     },
     "execution_count": 84,
     "metadata": {},
     "output_type": "execute_result"
    }
   ],
   "source": [
    "d={'Fruites':{'Orange':{'Nagpur':{'MH':{'King':{'Shivaji':{'Shambaji'}}}}}}}\n",
    "d['Fruites']['Orange']['Nagpur']['MH']['King']['Shivaji']"
   ]
  },
  {
   "cell_type": "code",
   "execution_count": 90,
   "id": "ede88a99-81da-4b80-8870-5019f860fe82",
   "metadata": {},
   "outputs": [
    {
     "name": "stdout",
     "output_type": "stream",
     "text": [
      "{'hii', 1, 'jii'}\n",
      "{'hii', 1, 'jii'}\n"
     ]
    }
   ],
   "source": [
    "s={'jii','hii',1,1,1,1,1}\n",
    "print(s)\n",
    "print(s)"
   ]
  },
  {
   "cell_type": "markdown",
   "id": "aad26272-52a0-4e8b-87ab-90e854603228",
   "metadata": {},
   "source": [
    "**how to create an empty dictionary**\n",
    "\n",
    "- Now onwards focus on creation of empty lists,strings,dictionary\n",
    "\n",
    "- we will take empty lit will use append operation\n",
    "\n",
    "- we will take empty string will use conactenation\n",
    "\n",
    "- we eill take empty dictionary will use key:value pair concept"
   ]
  },
  {
   "cell_type": "code",
   "execution_count": 93,
   "id": "13ac2aa1-8d86-4f5b-a931-817f7d37df55",
   "metadata": {},
   "outputs": [
    {
     "data": {
      "text/plain": [
       "[10, 20]"
      ]
     },
     "execution_count": 93,
     "metadata": {},
     "output_type": "execute_result"
    }
   ],
   "source": [
    "#list\n",
    "l=[]\n",
    "l.append(10)\n",
    "l.append(20)\n",
    "l"
   ]
  },
  {
   "cell_type": "code",
   "execution_count": 96,
   "id": "acf845f7-2839-4a1f-b644-eeb3c2e66871",
   "metadata": {},
   "outputs": [
    {
     "data": {
      "text/plain": [
       "'python'"
      ]
     },
     "execution_count": 96,
     "metadata": {},
     "output_type": "execute_result"
    }
   ],
   "source": [
    "# string\n",
    "s=''\n",
    "s+='p'\n",
    "s+='y'\n",
    "s+='t'\n",
    "s+='h'\n",
    "s+='o'\n",
    "s+='n'\n",
    "s"
   ]
  },
  {
   "cell_type": "code",
   "execution_count": 99,
   "id": "35b12e12-96f9-4d7f-b931-0bfd6052a8b4",
   "metadata": {},
   "outputs": [
    {
     "data": {
      "text/plain": [
       "{'Ramesh': 20, 'Suresh': 25, 'Satish': 30}"
      ]
     },
     "execution_count": 99,
     "metadata": {},
     "output_type": "execute_result"
    }
   ],
   "source": [
    "d={}\n",
    "d['Ramesh']=20\n",
    "d['Suresh']=25\n",
    "d['Satish']=30\n",
    "d"
   ]
  },
  {
   "cell_type": "markdown",
   "id": "645afda2-726f-4246-aaf8-7c5a2fd738f7",
   "metadata": {},
   "source": [
    "**How to convert list to dictionary**"
   ]
  },
  {
   "cell_type": "code",
   "execution_count": 100,
   "id": "ae3a570f-8014-4acd-9bb4-27a0d7c3bee3",
   "metadata": {},
   "outputs": [
    {
     "name": "stdout",
     "output_type": "stream",
     "text": [
      "{'Ramesh': 20, 'Satish': 25, 'Suresh': 30}\n"
     ]
    }
   ],
   "source": [
    "l1=['Ramesh','Satish','Suresh']\n",
    "l2=[20,25,30]\n",
    "d={}\n",
    "for i,j in zip(l1,l2):\n",
    "    d[i]=j\n",
    "print(d)"
   ]
  },
  {
   "cell_type": "code",
   "execution_count": 104,
   "id": "25a18b61-de1b-47e7-9e8b-b731855c3922",
   "metadata": {},
   "outputs": [
    {
     "name": "stdout",
     "output_type": "stream",
     "text": [
      "{'Ramesh': 20, 'Satish': 25, 'Suresh': 30}\n"
     ]
    }
   ],
   "source": [
    "d2={i:j for i,j in zip(l1,l2)}\n",
    "print(d2)"
   ]
  },
  {
   "cell_type": "markdown",
   "id": "cf99a451-b11f-430d-bde5-7e951ee21345",
   "metadata": {},
   "source": [
    "**dictionary comprehension**"
   ]
  },
  {
   "cell_type": "markdown",
   "id": "88802644-3109-4695-b316-c430a86fbc35",
   "metadata": {},
   "source": [
    "- For list comprehension we written everything inside list\n",
    "\n",
    "- for dict comprehension we should write everything inside dictionary\n",
    "\n",
    "- list co,prehension:[<output>_<forloop>]\n",
    "\n",
    "** **"
   ]
  },
  {
   "cell_type": "code",
   "execution_count": 108,
   "id": "fdb9b391-e118-4e6f-83e2-c085a34f22ae",
   "metadata": {},
   "outputs": [
    {
     "name": "stdout",
     "output_type": "stream",
     "text": [
      "{'Ramesh': 20, 'Satish': 25, 'Suresh': 30}\n"
     ]
    }
   ],
   "source": [
    "#list co,prehension:[<output>_<forloop>]\n",
    "#dict comprehension :{key:value <for loop>}\n",
    "d2={i:j for i,j in zip(l1,l2)}\n",
    "print(d2)"
   ]
  },
  {
   "cell_type": "markdown",
   "id": "eb6ed71b-6c92-43de-b3a7-18df6addcc6a",
   "metadata": {},
   "source": [
    "**mutable-immutable**\n",
    "\n",
    "- list are mutable\n",
    "\n",
    "- dictionary are also mutable\n",
    "\n",
    "- strings immutable\n",
    "\n",
    "- tuple immutable\n",
    "\n",
    "- in dictionary we can change the value using keys"
   ]
  },
  {
   "cell_type": "code",
   "execution_count": 115,
   "id": "d74e139f-df04-4f10-9123-11a489e3b6e8",
   "metadata": {},
   "outputs": [
    {
     "data": {
      "text/plain": [
       "{'Ramesh': 30, 'Satish': 25, 'Suresh': 30, 'Ramseh': 30}"
      ]
     },
     "execution_count": 115,
     "metadata": {},
     "output_type": "execute_result"
    }
   ],
   "source": [
    "dic=d2\n",
    "dic['Ramesh']=30\n",
    "dic"
   ]
  },
  {
   "cell_type": "code",
   "execution_count": 3,
   "id": "92cf33f6-999b-44dc-beed-199cd032a2f6",
   "metadata": {},
   "outputs": [
    {
     "name": "stdout",
     "output_type": "stream",
     "text": [
      "dict_keys(['Ramesh', 'Suresh', 'Satish']) <class 'dict_keys'>\n"
     ]
    }
   ],
   "source": [
    "names={'Ramesh':20,'Suresh':25,'Satish':30}\n",
    "print(names.keys(),type(names.keys()))#it is not list it is dict keys"
   ]
  },
  {
   "cell_type": "markdown",
   "id": "59880306-6e85-4ffc-99de-52c4b265eb5a",
   "metadata": {},
   "source": [
    "**convert dictionary to list**\n",
    "\n",
    "- in order to convert dictionary to list\n",
    "\n",
    "- first we need to seperate keys and value\n",
    "\n",
    "- then apply list type casting"
   ]
  },
  {
   "cell_type": "code",
   "execution_count": 5,
   "id": "0497c82a-2f3b-482d-8dc0-19dacb389a93",
   "metadata": {},
   "outputs": [
    {
     "data": {
      "text/plain": [
       "['Ramesh', 'Suresh', 'Satish']"
      ]
     },
     "execution_count": 5,
     "metadata": {},
     "output_type": "execute_result"
    }
   ],
   "source": [
    "names={'Ramesh':20,'Suresh':25,'Satish':30}\n",
    "keys=names.keys()\n",
    "keys_list=list(keys)\n",
    "keys_list"
   ]
  },
  {
   "cell_type": "code",
   "execution_count": null,
   "id": "19f41623-9a50-4389-a6c0-bbb0a7897a2c",
   "metadata": {},
   "outputs": [],
   "source": [
    "list===string using jsin\n",
    "string===list using split\n",
    "list===dict using zip\n",
    "dict=list using typecastion"
   ]
  },
  {
   "cell_type": "code",
   "execution_count": 6,
   "id": "b2ac7632-6791-49fa-8fca-d80d936edc41",
   "metadata": {},
   "outputs": [
    {
     "data": {
      "text/plain": [
       "[20, 25, 30]"
      ]
     },
     "execution_count": 6,
     "metadata": {},
     "output_type": "execute_result"
    }
   ],
   "source": [
    "names={'Ramesh':20,'Suresh':25,'Satish':30}\n",
    "values=names.values()\n",
    "values_list=list(values)\n",
    "values_list"
   ]
  },
  {
   "cell_type": "code",
   "execution_count": 11,
   "id": "477e738f-66e4-43b9-aa1b-134702b48b96",
   "metadata": {},
   "outputs": [
    {
     "name": "stdout",
     "output_type": "stream",
     "text": [
      "[('Ramesh', 20), ('Suresh', 25), ('Satish', 30)]\n"
     ]
    }
   ],
   "source": [
    "print(list(names.items()))"
   ]
  },
  {
   "cell_type": "code",
   "execution_count": 28,
   "id": "00e0ce27-29ea-43d5-971d-678096971e4c",
   "metadata": {},
   "outputs": [
    {
     "name": "stdout",
     "output_type": "stream",
     "text": [
      "['virat', 'rohit', 'ms']\n",
      "['kolhi', 'sharma', 'dhoni']\n",
      "['rcb', 'mi', 'csk']\n",
      "{'first': ['virat', 'rohit', 'ms'], 'second': ['kolhi', 'sharma', 'dhoni'], 'last': ['rcb', 'mi', 'csk']}\n"
     ]
    }
   ],
   "source": [
    "input='virat.kolhi@rcb.com;rohit.sharma@mi.com;ms.dhoni@csk.com'\n",
    "first_name_lis=[]\n",
    "second_name_lis=[]\n",
    "last_name_lis=[]\n",
    "for i in lis:\n",
    "    first_name=i.index('.')\n",
    "    second_name=i.index('@',first_name)\n",
    "    last_name=i.index('.',second_name)\n",
    "    first_name_lis.append(i[:first_name])\n",
    "    second_name_lis.append(i[first_name+1:second_name])\n",
    "    last_name_lis.append(i[second_name+1:last_name])\n",
    "print(first_name_lis)\n",
    "print(second_name_lis)\n",
    "print(last_name_lis)\n",
    "dic={'first':first_name_lis,'second':second_name_lis,'last':last_name_lis}\n",
    "print(dic)"
   ]
  },
  {
   "cell_type": "code",
   "execution_count": 41,
   "id": "a5944b26-3745-4abf-a8d5-5442a5eaf276",
   "metadata": {},
   "outputs": [
    {
     "data": {
      "text/plain": [
       "('Satish', 30)"
      ]
     },
     "execution_count": 41,
     "metadata": {},
     "output_type": "execute_result"
    }
   ],
   "source": [
    "names={'Ramesh':20,'Suresh':25,'Satish':30}\n",
    "names.pop('Ramesh')\n",
    "names.popitem()\n"
   ]
  },
  {
   "cell_type": "markdown",
   "id": "ad7c5871-56eb-4ea4-95d9-126f95bbefa3",
   "metadata": {},
   "source": [
    "- **pop** in dictionary,similar anology  **reomve** in list\n",
    "\n",
    "- **popitem** similar anology **pop** in list"
   ]
  },
  {
   "cell_type": "markdown",
   "id": "f6898699-3987-48e7-a7af-510e3c041c07",
   "metadata": {},
   "source": [
    "**get**"
   ]
  },
  {
   "cell_type": "code",
   "execution_count": 56,
   "id": "fd9adfd4-8ad9-454d-a78f-22a9f505e701",
   "metadata": {},
   "outputs": [
    {
     "name": "stdout",
     "output_type": "stream",
     "text": [
      "using get: 20\n",
      "using key as a index 20\n"
     ]
    }
   ],
   "source": [
    "names={'Ramesh':20,'Suresh':25,'Satish':30}\n",
    "print('using get:',names.get('Ramesh'))\n",
    "print('using key as a index',names['Ramesh'])#key as a index"
   ]
  },
  {
   "cell_type": "markdown",
   "id": "0a26c559-9b72-474e-a1f6-b1a6d8a71a0f",
   "metadata": {},
   "source": [
    "**update**\n",
    "\n",
    "- update is similar analogy **list extend**\n",
    "\n",
    "- take two dictionarys and apply update method"
   ]
  },
  {
   "cell_type": "code",
   "execution_count": 60,
   "id": "e95d2f1e-0960-4d33-b4f2-ad9040ab1b52",
   "metadata": {},
   "outputs": [
    {
     "name": "stdout",
     "output_type": "stream",
     "text": [
      "{'Ramesh': 20, 'Suresh': 25, 'Satish': 30, 'ramesh': 2000, 'sursh': 2500, 'satish': 3000}\n"
     ]
    }
   ],
   "source": [
    "names={'Ramesh':20,'Suresh':25,'Satish':30}\n",
    "salary={'ramesh':2000,'sursh':2500,'satish':3000}\n",
    "names.update(salary)\n",
    "print(names)"
   ]
  },
  {
   "cell_type": "code",
   "execution_count": 64,
   "id": "6177e347-3691-4d64-80ff-14bbe84e0147",
   "metadata": {},
   "outputs": [
    {
     "name": "stdout",
     "output_type": "stream",
     "text": [
      "[1, 2, 3, 4, 5, 'one', 'two', 'three', 'four', 'five']\n"
     ]
    }
   ],
   "source": [
    "lis=[1,2,3,4,5]\n",
    "lis1=['one','two','three','four','five']\n",
    "lis.extend(lis1)\n",
    "print(lis)"
   ]
  },
  {
   "cell_type": "markdown",
   "id": "522a10ff-691b-4f33-9ef8-73f962686585",
   "metadata": {},
   "source": [
    "- **update in dictionarty** sililar analogy list **extend**"
   ]
  },
  {
   "cell_type": "markdown",
   "id": "e9bd5001-ac6f-4343-84b5-18e453094620",
   "metadata": {},
   "source": [
    "**setdefault**\n",
    "\n",
    "- suppose an already existed dictionary avilable\n",
    "\n",
    "- we can set the default values\n",
    "\n",
    "- we can update the dictionary with new key value pair"
   ]
  },
  {
   "cell_type": "code",
   "execution_count": 67,
   "id": "aee1fafd-00d4-4afc-86c1-a4c1504c2de2",
   "metadata": {},
   "outputs": [
    {
     "data": {
      "text/plain": [
       "{'Ramesh': 20, 'Suresh': 25, 'Satish': 30, 'manish': 10}"
      ]
     },
     "execution_count": 67,
     "metadata": {},
     "output_type": "execute_result"
    }
   ],
   "source": [
    "names={'Ramesh':20,'Suresh':25,'Satish':30}\n",
    "names.setdefault('manish',10)\n",
    "names"
   ]
  },
  {
   "cell_type": "markdown",
   "id": "2ffda84f-3451-4ec2-9f3f-a3e8572fad5f",
   "metadata": {},
   "source": [
    "- **setdefault** in dictionary similary analogy **list append**\n",
    "\n",
    "- always remember disctionary is a key value pair concept\n",
    "\n",
    "- it newver involves index operations\n",
    "\n",
    "- thats why we dont hanve any index or find methos\n",
    "\n",
    "- we have get method to extracet values using key"
   ]
  },
  {
   "cell_type": "markdown",
   "id": "5b202ff4-0d06-4df1-877a-b9875689131e",
   "metadata": {},
   "source": [
    "**fromkeys**\n",
    "\n",
    "- create a dictionary with different keys but same value\n",
    "\n",
    "- fromkeys will take an argument **iterable**\n",
    "\n",
    "- try to provide an iterator i.e string ,list,tiple"
   ]
  },
  {
   "cell_type": "code",
   "execution_count": 75,
   "id": "d5251a48-4295-4ca7-8d3d-f3117746fe54",
   "metadata": {},
   "outputs": [
    {
     "data": {
      "text/plain": [
       "{'Ramesh': 'NareshIt', 'Suresh': 'NareshIt', 'Sathish': 'NareshIt'}"
      ]
     },
     "execution_count": 75,
     "metadata": {},
     "output_type": "execute_result"
    }
   ],
   "source": [
    "d={}\n",
    "names=['Ramesh','Suresh','Sathish']\n",
    "d.fromkeys(names,'NareshIt')\n"
   ]
  },
  {
   "cell_type": "markdown",
   "id": "de0108cf-7d79-475c-b681-e93f8498d98a",
   "metadata": {},
   "source": [
    "- **pop** in dictionary, similar analogy **remove** in list\n",
    "\n",
    "- **popitem** similar anology **pop** in list\n",
    "\n",
    "- **update in dictionary**,similar analogy **list extend**\n",
    "\n",
    "- **setdefault** in dictionary,similar analogy **list append**\n",
    "\n",
    "- **get** in dictionary,similat analogy  **list index**\n",
    "\n",
    "- list has count,string has count\n",
    "\n",
    "    - but dictionary does not have count"
   ]
  }
 ],
 "metadata": {
  "kernelspec": {
   "display_name": "Python 3 (ipykernel)",
   "language": "python",
   "name": "python3"
  },
  "language_info": {
   "codemirror_mode": {
    "name": "ipython",
    "version": 3
   },
   "file_extension": ".py",
   "mimetype": "text/x-python",
   "name": "python",
   "nbconvert_exporter": "python",
   "pygments_lexer": "ipython3",
   "version": "3.12.7"
  }
 },
 "nbformat": 4,
 "nbformat_minor": 5
}
