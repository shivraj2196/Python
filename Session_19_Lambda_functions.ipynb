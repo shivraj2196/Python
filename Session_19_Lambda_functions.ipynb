{
 "cells": [
  {
   "cell_type": "markdown",
   "id": "679e8a52-b4eb-4e33-b9f7-95c2e1f3efbe",
   "metadata": {},
   "source": [
    "**List Comprehension 4 method**\n",
    "\n",
    "- method1:[ output froloop ]\n",
    "\n",
    "- method2:[ output forloop ifcondition]\n",
    "\n",
    "- method3:[if output ifcondition else elseoutput forloop]\n",
    "\n",
    "- method4:[ ifout ifcond else elif out elifcond else elseout forloop]"
   ]
  },
  {
   "cell_type": "markdown",
   "id": "c8f3d395-792f-4460-9255-05a1c90cdff1",
   "metadata": {},
   "source": [
    "**lanbda function**\n",
    "\n",
    "- lambda functions represents functions in a single line\n",
    "\n",
    "- it is similar analogy to list comprehension\n",
    "\n",
    "- to resuce the tile complexity will go for lambda finction"
   ]
  },
  {
   "cell_type": "markdown",
   "id": "ee65fa8f-c305-43a4-8ede-9fcadee35733",
   "metadata": {},
   "source": [
    "$pattern-1$: **function with one argument**"
   ]
  },
  {
   "cell_type": "code",
   "execution_count": 2,
   "id": "f9fd851d-5874-4f49-b920-9134203724dc",
   "metadata": {},
   "outputs": [
    {
     "data": {
      "text/plain": [
       "144"
      ]
     },
     "execution_count": 2,
     "metadata": {},
     "output_type": "execute_result"
    }
   ],
   "source": [
    "def mul(a):\n",
    "    return(a*a)\n",
    "ans=mul(12)\n",
    "ans"
   ]
  },
  {
   "cell_type": "code",
   "execution_count": 6,
   "id": "f0223312-b3b3-41fc-9eb6-87dc409a5202",
   "metadata": {},
   "outputs": [
    {
     "data": {
      "text/plain": [
       "100"
      ]
     },
     "execution_count": 6,
     "metadata": {},
     "output_type": "execute_result"
    }
   ],
   "source": [
    "#syntax\n",
    "#function_name=lambda <argument> : <return output>\n",
    "#in the above\n",
    "#function_name=mul\n",
    "#argument name=a\n",
    "#retrun output=a*a\n",
    "\n",
    "mul=lambda a:a*a\n",
    "mul(10)"
   ]
  },
  {
   "cell_type": "code",
   "execution_count": 7,
   "id": "2d34cb8a-cde7-4b8f-bdda-4f7f3bf59899",
   "metadata": {},
   "outputs": [
    {
     "data": {
      "text/plain": [
       "1728"
      ]
     },
     "execution_count": 7,
     "metadata": {},
     "output_type": "execute_result"
    }
   ],
   "source": [
    "def cube(a):\n",
    "    return(a*a*a)\n",
    "cube(12)"
   ]
  },
  {
   "cell_type": "code",
   "execution_count": 8,
   "id": "52639a67-d30e-4f75-91c4-441ef125683d",
   "metadata": {},
   "outputs": [
    {
     "data": {
      "text/plain": [
       "1728"
      ]
     },
     "execution_count": 8,
     "metadata": {},
     "output_type": "execute_result"
    }
   ],
   "source": [
    "cube=lambda a:a*a*a\n",
    "cube(12)"
   ]
  },
  {
   "cell_type": "markdown",
   "id": "e34b15bb-34a7-445e-8419-7e3247a26247",
   "metadata": {},
   "source": [
    "$pattern-2$: **function with two argument**"
   ]
  },
  {
   "cell_type": "code",
   "execution_count": 9,
   "id": "ec239f91-a954-498c-822a-a42b90e4bae0",
   "metadata": {},
   "outputs": [
    {
     "data": {
      "text/plain": [
       "50"
      ]
     },
     "execution_count": 9,
     "metadata": {},
     "output_type": "execute_result"
    }
   ],
   "source": [
    "def add(a,b):\n",
    "    return(a+b)\n",
    "add(20,30)"
   ]
  },
  {
   "cell_type": "code",
   "execution_count": 10,
   "id": "0779417e-1f6b-45e3-81af-b820ea8d08e0",
   "metadata": {},
   "outputs": [
    {
     "data": {
      "text/plain": [
       "70"
      ]
     },
     "execution_count": 10,
     "metadata": {},
     "output_type": "execute_result"
    }
   ],
   "source": [
    "#synatx\n",
    "#function name=lambda arg1,arg2=retrun statement\n",
    "add=lambda a,b:a+b\n",
    "add(30,40)"
   ]
  },
  {
   "cell_type": "markdown",
   "id": "1f6e8f7d-4e99-42ad-a985-314c22482ccd",
   "metadata": {},
   "source": [
    "$pattern-3$: **function with three argument**"
   ]
  },
  {
   "cell_type": "code",
   "execution_count": 18,
   "id": "f9a2930c-5392-4046-ba1c-d02430c710b6",
   "metadata": {},
   "outputs": [
    {
     "data": {
      "text/plain": [
       "21"
      ]
     },
     "execution_count": 18,
     "metadata": {},
     "output_type": "execute_result"
    }
   ],
   "source": [
    "#synatx\n",
    "#function name=lambda arg1,arg2,agg3=retrun statement\n",
    "avg=lambda a,b,c=10:round((a+b+c)/3)\n",
    "avg(10,44)"
   ]
  },
  {
   "cell_type": "markdown",
   "id": "60bc4765-62ec-4c41-a220-7934938f549f",
   "metadata": {},
   "source": [
    "$pattern-4$: **default argument**\n"
   ]
  },
  {
   "cell_type": "code",
   "execution_count": 21,
   "id": "5dff16c7-d29c-4a1a-9c9c-1c7e8b1e4bee",
   "metadata": {},
   "outputs": [
    {
     "data": {
      "text/plain": [
       "6000"
      ]
     },
     "execution_count": 21,
     "metadata": {},
     "output_type": "execute_result"
    }
   ],
   "source": [
    "c=lambda a,b,c=30:a*b*c\n",
    "c(10,20)"
   ]
  },
  {
   "cell_type": "code",
   "execution_count": 22,
   "id": "972ed503-1f4d-4fdb-a2f1-828e29e9adad",
   "metadata": {},
   "outputs": [
    {
     "data": {
      "text/plain": [
       "21"
      ]
     },
     "execution_count": 22,
     "metadata": {},
     "output_type": "execute_result"
    }
   ],
   "source": [
    "cube=lambda a:a*a*a\n",
    "cube(12)\n",
    "add=lambda a,b:a+b\n",
    "add(30,40)\n",
    "avg=lambda a,b,c=10:round((a+b+c)/3)\n",
    "avg(10,44)"
   ]
  },
  {
   "cell_type": "markdown",
   "id": "c7dc44d1-f3f5-4a02-9145-43f6528658d3",
   "metadata": {},
   "source": [
    "$pattern-5$:\n",
    "\n",
    "- List cases"
   ]
  },
  {
   "cell_type": "code",
   "execution_count": 27,
   "id": "280256d3-78d6-4f24-824a-f627c947374e",
   "metadata": {},
   "outputs": [
    {
     "name": "stdout",
     "output_type": "stream",
     "text": [
      "['Hyd', 'Banguluru', 'Mumbai', 'Pune']\n"
     ]
    }
   ],
   "source": [
    "input=['hyd','banguluru','mumbai','pune']\n",
    "l1=[i.capitalize() for i in input]\n",
    "print(l1)"
   ]
  },
  {
   "cell_type": "code",
   "execution_count": 28,
   "id": "68354eb7-6cc0-4528-b550-2c890715c604",
   "metadata": {},
   "outputs": [
    {
     "data": {
      "text/plain": [
       "<function __main__.<lambda>(i)>"
      ]
     },
     "execution_count": 28,
     "metadata": {},
     "output_type": "execute_result"
    }
   ],
   "source": [
    "#step-1:lambda <variable>\n",
    "lambda i:i.capitalize()"
   ]
  },
  {
   "cell_type": "code",
   "execution_count": 33,
   "id": "628dc40f-3964-4e37-8ce0-a4be7ee36f36",
   "metadata": {},
   "outputs": [
    {
     "data": {
      "text/plain": [
       "['Hyd', 'Banguluru', 'Mumbai', 'Pune']"
      ]
     },
     "execution_count": 33,
     "metadata": {},
     "output_type": "execute_result"
    }
   ],
   "source": [
    "#step-2:lambda<variable>:<output>,iterable\n",
    "#step-3:map(lambda <variable>:<output>,<iterator>)\n",
    "#step-4:list(map(lambda <variable>:<output>,<iterator>\n",
    "\n",
    "list(map(lambda i:i.capitalize(),input))"
   ]
  },
  {
   "cell_type": "code",
   "execution_count": 36,
   "id": "9208147a-e5a8-4d99-a5bd-563f447e240c",
   "metadata": {},
   "outputs": [
    {
     "data": {
      "text/plain": [
       "['Hyd', 'Banguluru', 'Mumbai', 'Pune']"
      ]
     },
     "execution_count": 36,
     "metadata": {},
     "output_type": "execute_result"
    }
   ],
   "source": [
    "list(map(str.capitalize,input))"
   ]
  },
  {
   "cell_type": "code",
   "execution_count": null,
   "id": "6d1a2eb0-41bb-478e-a6f6-22ba2110ce21",
   "metadata": {},
   "outputs": [],
   "source": [
    "#step-1:lambda <variable>\n",
    "lambda i:i.capitalize()\n",
    "#step-2:lambda<variable>:<output>,iterable\n",
    "lambda i:i.capitalize(),input\n",
    "#step-3:map(lambda <variable>:<output>,<iterator>)\n",
    "map(lambda i:i.capitalize(),input)\n",
    "#step-4:list(map(lambda <variable>:<output>,<iterator>\n",
    "list(map(lambda i:i.capitalize(),input)"
   ]
  },
  {
   "cell_type": "code",
   "execution_count": 39,
   "id": "c34a205b-7326-40fd-ab38-bf22f48e07f5",
   "metadata": {},
   "outputs": [
    {
     "name": "stdout",
     "output_type": "stream",
     "text": [
      "['HYD', 'BENGULURU', 'MUMBAI', 'PUNE']\n"
     ]
    },
    {
     "data": {
      "text/plain": [
       "['HYD', 'BENGULURU', 'MUMBAI', 'PUNE']"
      ]
     },
     "execution_count": 39,
     "metadata": {},
     "output_type": "execute_result"
    }
   ],
   "source": [
    "input=['hyd','benguluru','mumbai','pune']\n",
    "output=list(map(str.upper,input))\n",
    "print(output)\n",
    "list(map(lambda i:i.upper(),input))\n"
   ]
  },
  {
   "cell_type": "code",
   "execution_count": 43,
   "id": "aa4c2ba3-849a-475f-b1b2-833c86ee4e02",
   "metadata": {},
   "outputs": [
    {
     "name": "stdout",
     "output_type": "stream",
     "text": [
      "['HYD', 'BENGULURU', 'MUMBAI', 'PUNE']\n"
     ]
    },
    {
     "data": {
      "text/plain": [
       "[0, 1, 2, 3]"
      ]
     },
     "execution_count": 43,
     "metadata": {},
     "output_type": "execute_result"
    }
   ],
   "source": [
    "input=['hyd','benguluru','mumbai','pune']\n",
    "#output=list(map(input.index(str),input))\n",
    "print(output)\n",
    "list(map(lambda i:input.index(i),input))"
   ]
  },
  {
   "cell_type": "code",
   "execution_count": 61,
   "id": "585c8975-fe9b-4804-b9a6-4be3576e2caa",
   "metadata": {},
   "outputs": [
    {
     "data": {
      "text/plain": [
       "['Hello', 'How', 'Are', 'You']"
      ]
     },
     "execution_count": 61,
     "metadata": {},
     "output_type": "execute_result"
    }
   ],
   "source": [
    "input='hello how are you'\n",
    "list(map(lambda i:i.capitalize(),input.split()))"
   ]
  },
  {
   "cell_type": "markdown",
   "id": "47d51ad3-ce01-4e81-a942-2112427ff5c8",
   "metadata": {},
   "source": [
    "**filter**\n",
    "\n",
    "- filter is apply on lambda function to retrive the true output\n",
    "\n",
    "- map will just map the fiction and iterator\n",
    "\n",
    "- when we apply condition map will give True False\n",
    "\n",
    "- filter will use insted of map"
   ]
  },
  {
   "cell_type": "code",
   "execution_count": 72,
   "id": "b89ac419-a6b5-4c9e-9620-077f05a6b8d2",
   "metadata": {},
   "outputs": [
    {
     "name": "stdout",
     "output_type": "stream",
     "text": [
      "['beng#uluru', 'pu#ne']\n"
     ]
    }
   ],
   "source": [
    "input=['hyd','beng#uluru','mumbai','pu#ne']\n",
    "output=list(filter(lambda i:'#' in i,input))\n",
    "print(output)"
   ]
  },
  {
   "cell_type": "markdown",
   "id": "a4bec03c-f09a-423f-9844-ea01762df6dd",
   "metadata": {},
   "source": [
    "**reduce**\n",
    "\n",
    "- reduce will helpfull to perform math operation using lambda function\n",
    "\n",
    "- it is a method under a package called:**functool**"
   ]
  },
  {
   "cell_type": "code",
   "execution_count": 73,
   "id": "d17f9f3f-17e9-4b63-b862-09c74537c6f8",
   "metadata": {
    "scrolled": true
   },
   "outputs": [
    {
     "data": {
      "text/plain": [
       "['GenericAlias',\n",
       " 'RLock',\n",
       " 'WRAPPER_ASSIGNMENTS',\n",
       " 'WRAPPER_UPDATES',\n",
       " '_CacheInfo',\n",
       " '_HashedSeq',\n",
       " '_NOT_FOUND',\n",
       " '__all__',\n",
       " '__builtins__',\n",
       " '__cached__',\n",
       " '__doc__',\n",
       " '__file__',\n",
       " '__loader__',\n",
       " '__name__',\n",
       " '__package__',\n",
       " '__spec__',\n",
       " '_c3_merge',\n",
       " '_c3_mro',\n",
       " '_compose_mro',\n",
       " '_convert',\n",
       " '_find_impl',\n",
       " '_ge_from_gt',\n",
       " '_ge_from_le',\n",
       " '_ge_from_lt',\n",
       " '_gt_from_ge',\n",
       " '_gt_from_le',\n",
       " '_gt_from_lt',\n",
       " '_initial_missing',\n",
       " '_le_from_ge',\n",
       " '_le_from_gt',\n",
       " '_le_from_lt',\n",
       " '_lru_cache_wrapper',\n",
       " '_lt_from_ge',\n",
       " '_lt_from_gt',\n",
       " '_lt_from_le',\n",
       " '_make_key',\n",
       " '_unwrap_partial',\n",
       " 'cache',\n",
       " 'cached_property',\n",
       " 'cmp_to_key',\n",
       " 'get_cache_token',\n",
       " 'lru_cache',\n",
       " 'namedtuple',\n",
       " 'partial',\n",
       " 'partialmethod',\n",
       " 'recursive_repr',\n",
       " 'reduce',\n",
       " 'singledispatch',\n",
       " 'singledispatchmethod',\n",
       " 'total_ordering',\n",
       " 'update_wrapper',\n",
       " 'wraps']"
      ]
     },
     "execution_count": 73,
     "metadata": {},
     "output_type": "execute_result"
    }
   ],
   "source": [
    "import functools\n",
    "dir(functools)\n"
   ]
  },
  {
   "cell_type": "code",
   "execution_count": null,
   "id": "fcce28bf-de76-42a7-a99e-4de5296c14d4",
   "metadata": {},
   "outputs": [],
   "source": [
    "#lambda summ,i:summ+i\n",
    "#lambda summ,i:summ+i,list1\n",
    "#lambda summ,i:summ+i,list1\n",
    "#by default summ=0"
   ]
  },
  {
   "cell_type": "code",
   "execution_count": 83,
   "id": "21cb068a-08b4-46ac-b3fb-9d09071c1841",
   "metadata": {},
   "outputs": [
    {
     "data": {
      "text/plain": [
       "215"
      ]
     },
     "execution_count": 83,
     "metadata": {},
     "output_type": "execute_result"
    }
   ],
   "source": [
    "from functools import reduce\n",
    "#reduce(lambda arg:output,iterator)\n",
    "list1=[1,2,3,4,5]\n",
    "reduce(lambda summ,i:summ+i,list1,200)#the 200 will be added in summm by default summ value or if you take any variable its value is 0 anf if you want to give a value you need to provide at last"
   ]
  },
  {
   "cell_type": "code",
   "execution_count": null,
   "id": "b8eef1b4-06bd-4257-9728-2d994edec1d7",
   "metadata": {},
   "outputs": [],
   "source": [
    "list1=[10,2,4,5,4]\n",
    "reduce(lambda summ,"
   ]
  }
 ],
 "metadata": {
  "kernelspec": {
   "display_name": "Python 3 (ipykernel)",
   "language": "python",
   "name": "python3"
  },
  "language_info": {
   "codemirror_mode": {
    "name": "ipython",
    "version": 3
   },
   "file_extension": ".py",
   "mimetype": "text/x-python",
   "name": "python",
   "nbconvert_exporter": "python",
   "pygments_lexer": "ipython3",
   "version": "3.12.7"
  }
 },
 "nbformat": 4,
 "nbformat_minor": 5
}
