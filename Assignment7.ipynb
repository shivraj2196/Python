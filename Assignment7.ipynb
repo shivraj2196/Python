{
 "cells": [
  {
   "cell_type": "code",
   "execution_count": 1,
   "id": "d5ea94f8-b522-42d0-8d28-c613bae1f750",
   "metadata": {},
   "outputs": [
    {
     "name": "stdin",
     "output_type": "stream",
     "text": [
      "Enter the n1: 55\n",
      "Enter the n2: 45\n",
      "Enter the n3: 95\n"
     ]
    },
    {
     "name": "stdout",
     "output_type": "stream",
     "text": [
      "The avg of 55,45,95=65.00\n"
     ]
    }
   ],
   "source": [
    "\n",
    "def avg():\n",
    "    try:\n",
    "        n1=eval(input(\"Enter the n1:\"))\n",
    "        n2=eval(input(\"Enter the n2:\"))\n",
    "        n3=eval(input(\"Enter the n3:\"))\n",
    "        print(f\"The avg of {n1},{n2},{n3}={((n1+n2+n3)/3):.2f}\")\n",
    "    except Exception as e:\n",
    "        print(e)\n",
    "avg()"
   ]
  },
  {
   "cell_type": "code",
   "execution_count": 2,
   "id": "29e18264-bcc1-4a14-8808-71e9dd4b23ec",
   "metadata": {},
   "outputs": [
    {
     "name": "stdin",
     "output_type": "stream",
     "text": [
      "Enter your name: Shivraj\n",
      "Enter your age: 20\n",
      "enter your city: Baramati\n"
     ]
    },
    {
     "name": "stdout",
     "output_type": "stream",
     "text": [
      "My name is Shivraj, I am 20 years old and came from Baramati.\n"
     ]
    }
   ],
   "source": [
    "def info():\n",
    "    try:\n",
    "        name=input(\"Enter your name:\")\n",
    "        age=eval(input(\"Enter your age:\"))\n",
    "        city=input(\"enter your city:\")\n",
    "        print(f\"My name is {name}, I am {age} years old and came from {city}.\")\n",
    "    except Exception as e:\n",
    "        print(e)\n",
    "info()"
   ]
  },
  {
   "cell_type": "code",
   "execution_count": 3,
   "id": "43d391e4-099f-4fae-84bf-923389758090",
   "metadata": {},
   "outputs": [
    {
     "name": "stdin",
     "output_type": "stream",
     "text": [
      "Enter the radius of circle: 45\n"
     ]
    },
    {
     "name": "stdout",
     "output_type": "stream",
     "text": [
      "the area of circle is:6358.50\n"
     ]
    }
   ],
   "source": [
    "def circleradiou():\n",
    "    try:\n",
    "        radius=eval(input(\"Enter the radius of circle:\"))\n",
    "        pi=3.14\n",
    "        area=pi*radius*radius\n",
    "        print(f\"the area of circle is:{(pi*radius*radius):.2f}\")\n",
    "    except Exception as e:\n",
    "        print(e)\n",
    "circleradiou()\n"
   ]
  },
  {
   "cell_type": "code",
   "execution_count": 4,
   "id": "209b5282-b9eb-4510-b1a5-dd96416397dc",
   "metadata": {},
   "outputs": [
    {
     "name": "stdin",
     "output_type": "stream",
     "text": [
      "Enter the breadth of right angle triangle: 10\n",
      "Enter the height of right angle triangletriangle: 20\n"
     ]
    },
    {
     "name": "stdout",
     "output_type": "stream",
     "text": [
      "the area of right angle triangle is:100.0\n"
     ]
    }
   ],
   "source": [
    "def areaTrangle():\n",
    "    try:\n",
    "        breadth=eval(input(\"Enter the breadth of right angle triangle:\"))\n",
    "        height=eval(input(\"Enter the height of right angle triangletriangle:\"))\n",
    "        print(f\"the area of right angle triangle is:{0.5*breadth*height}\")\n",
    "    except Exception as e:\n",
    "        print(e)\n",
    "areaTrangle()"
   ]
  },
  {
   "cell_type": "code",
   "execution_count": 6,
   "id": "0dc28dee-5cf3-48a2-afd9-fe7f4b9ab7d2",
   "metadata": {},
   "outputs": [
    {
     "name": "stdin",
     "output_type": "stream",
     "text": [
      "Enter the bill amount: 500\n",
      "Enter the tip amount: 40\n"
     ]
    },
    {
     "name": "stdout",
     "output_type": "stream",
     "text": [
      "Total bill is:540\n"
     ]
    }
   ],
   "source": [
    "def billTip():\n",
    "    try:\n",
    "        bill_amount=eval(input(\"Enter the bill amount:\"))\n",
    "        tip_amount=eval(input(\"Enter the tip amount:\"))\n",
    "        print(f\"Total bill is:{bill_amount+tip_amount}\")\n",
    "    except Exception as e:\n",
    "        print(e)\n",
    "billTip()"
   ]
  },
  {
   "cell_type": "code",
   "execution_count": 7,
   "id": "accf635a-83c5-4baa-bcf6-6c05bbf2664e",
   "metadata": {},
   "outputs": [
    {
     "name": "stdin",
     "output_type": "stream",
     "text": [
      "Enter the bill amount: 55\n",
      "Enter the tip percentage: 42\n"
     ]
    },
    {
     "name": "stdout",
     "output_type": "stream",
     "text": [
      "Your tip will be 23.1\n",
      "total bill is 78.1\n"
     ]
    }
   ],
   "source": [
    "def billTip1():\n",
    "    try:\n",
    "        bill_amount=eval(input(\"Enter the bill amount:\"))\n",
    "        tip_percentage=eval(input(\"Enter the tip percentage:\"))\n",
    "        tip_amount=bill_amount*tip_percentage/100\n",
    "        print(f\"Your tip will be {tip_amount}\")\n",
    "        print(f\"total bill is {bill_amount+tip_amount}\")\n",
    "    except Exception as e:\n",
    "        print(e)\n",
    "billTip1()"
   ]
  },
  {
   "cell_type": "code",
   "execution_count": 8,
   "id": "e2ea2cc3-6edc-4f85-8014-e09add03072c",
   "metadata": {},
   "outputs": [
    {
     "name": "stdin",
     "output_type": "stream",
     "text": [
      "Enter the length of rectangle: 45\n",
      "Enter the breadth of rectangle: 42\n"
     ]
    },
    {
     "name": "stdout",
     "output_type": "stream",
     "text": [
      "The area of rectangle is:1890\n"
     ]
    }
   ],
   "source": [
    "def areaRectangle():\n",
    "    try:\n",
    "        length=eval(input(\"Enter the length of rectangle:\"))\n",
    "        breadth=eval(input(\"Enter the breadth of rectangle:\"))\n",
    "        print(f\"The area of rectangle is:{length*breadth}\")\n",
    "    except Exception as e:\n",
    "        print(e)\n",
    "areaRectangle()"
   ]
  },
  {
   "cell_type": "code",
   "execution_count": 9,
   "id": "63f4e9ed-1337-4702-9629-6d670d93a469",
   "metadata": {},
   "outputs": [
    {
     "name": "stdin",
     "output_type": "stream",
     "text": [
      "Enter the radius of sphere: 85\n"
     ]
    },
    {
     "name": "stdout",
     "output_type": "stream",
     "text": [
      "The volume of spher is 2571136.67 \n"
     ]
    }
   ],
   "source": [
    "def volumeSpher():\n",
    "    try:\n",
    "        radius=eval(input(\"Enter the radius of sphere:\"))\n",
    "        pi=3.14\n",
    "        volume =(4/3)*pi*(radius ** 3)\n",
    "        print(f\"The volume of spher is {(volume):.2f} \")\n",
    "    except Exception as e:\n",
    "        print(e)\n",
    "volumeSpher()"
   ]
  },
  {
   "cell_type": "code",
   "execution_count": 10,
   "id": "38401018-723c-4d15-a635-ab331ff6e224",
   "metadata": {},
   "outputs": [
    {
     "name": "stdin",
     "output_type": "stream",
     "text": [
      "Enter the amount in Doller $: 55\n"
     ]
    },
    {
     "name": "stdout",
     "output_type": "stream",
     "text": [
      "The amount in rupee is:4675\n"
     ]
    }
   ],
   "source": [
    "def convertDaller():\n",
    "    try:\n",
    "        amount=eval(input(\"Enter the amount in Doller $:\"))\n",
    "        amt_in_rupees=amount*85\n",
    "        print(f\"The amount in rupee is:{amt_in_rupees}\")\n",
    "    except Exception as e:\n",
    "        print(e)\n",
    "convertDaller()"
   ]
  },
  {
   "cell_type": "code",
   "execution_count": 11,
   "id": "08b8ea82-4ca2-4278-a5b5-58000dad6985",
   "metadata": {},
   "outputs": [
    {
     "name": "stdin",
     "output_type": "stream",
     "text": [
      "Enter the weight in KG: 65\n"
     ]
    },
    {
     "name": "stdout",
     "output_type": "stream",
     "text": [
      "The weight in pounds is:143.00\n"
     ]
    }
   ],
   "source": [
    "def converPound():\n",
    "    try:\n",
    "        kg=eval(input(\"Enter the weight in KG:\"))\n",
    "        pounds=kg*2.2\n",
    "        print(f\"The weight in pounds is:{(pounds):.2f}\")\n",
    "    except Exception as e:\n",
    "        print(e)\n",
    "converPound()"
   ]
  },
  {
   "cell_type": "code",
   "execution_count": null,
   "id": "06cd9bb5-7789-4a54-b4a2-a536fe82822f",
   "metadata": {},
   "outputs": [],
   "source": []
  }
 ],
 "metadata": {
  "kernelspec": {
   "display_name": "Python 3 (ipykernel)",
   "language": "python",
   "name": "python3"
  },
  "language_info": {
   "codemirror_mode": {
    "name": "ipython",
    "version": 3
   },
   "file_extension": ".py",
   "mimetype": "text/x-python",
   "name": "python",
   "nbconvert_exporter": "python",
   "pygments_lexer": "ipython3",
   "version": "3.12.7"
  }
 },
 "nbformat": 4,
 "nbformat_minor": 5
}
