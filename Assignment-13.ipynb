{
 "cells": [
  {
   "cell_type": "code",
   "execution_count": 1,
   "id": "8ee3faf3-8138-4786-a66b-0d779a474ba5",
   "metadata": {},
   "outputs": [],
   "source": [
    "str1='python ai data science'"
   ]
  },
  {
   "cell_type": "markdown",
   "id": "127e50e6-9647-4dd9-8b5a-069d25bd9e35",
   "metadata": {},
   "source": [
    "## count"
   ]
  },
  {
   "cell_type": "code",
   "execution_count": 2,
   "id": "35a99b16-9ee1-4278-b8d8-6eda981753fa",
   "metadata": {},
   "outputs": [
    {
     "data": {
      "text/plain": [
       "3"
      ]
     },
     "execution_count": 2,
     "metadata": {},
     "output_type": "execute_result"
    }
   ],
   "source": [
    "str1.count('a')"
   ]
  },
  {
   "cell_type": "code",
   "execution_count": 3,
   "id": "9d7ce722-4a3d-4440-a98d-7018de356272",
   "metadata": {},
   "outputs": [
    {
     "data": {
      "text/plain": [
       "2"
      ]
     },
     "execution_count": 3,
     "metadata": {},
     "output_type": "execute_result"
    }
   ],
   "source": [
    "str1.count('a',8)"
   ]
  },
  {
   "cell_type": "code",
   "execution_count": 4,
   "id": "b07d0168-b5c5-48c5-a00d-a052419ab1f4",
   "metadata": {},
   "outputs": [
    {
     "data": {
      "text/plain": [
       "0"
      ]
     },
     "execution_count": 4,
     "metadata": {},
     "output_type": "execute_result"
    }
   ],
   "source": [
    "str1.count('b')"
   ]
  },
  {
   "cell_type": "code",
   "execution_count": 5,
   "id": "67dcd9f5-0735-4164-896c-490201da06e9",
   "metadata": {},
   "outputs": [
    {
     "data": {
      "text/plain": [
       "1"
      ]
     },
     "execution_count": 5,
     "metadata": {},
     "output_type": "execute_result"
    }
   ],
   "source": [
    "str1.count('a',8,13)"
   ]
  },
  {
   "cell_type": "markdown",
   "id": "86b5a603-5c12-4ae0-adf4-3055869c34c2",
   "metadata": {},
   "source": [
    "## replace"
   ]
  },
  {
   "cell_type": "code",
   "execution_count": 7,
   "id": "4d79882a-dce3-4918-96fe-becb7502dd4e",
   "metadata": {},
   "outputs": [
    {
     "data": {
      "text/plain": [
       "'python generavive ai data sciende'"
      ]
     },
     "execution_count": 7,
     "metadata": {},
     "output_type": "execute_result"
    }
   ],
   "source": [
    "str1.replace('ai','generavive ai')"
   ]
  },
  {
   "cell_type": "code",
   "execution_count": 14,
   "id": "70a69793-b5d1-48b0-8edc-0e78653a5097",
   "metadata": {},
   "outputs": [
    {
     "data": {
      "text/plain": [
       "'python ai data sciznde'"
      ]
     },
     "execution_count": 14,
     "metadata": {},
     "output_type": "execute_result"
    }
   ],
   "source": [
    "str1.replace('e','z',1)"
   ]
  },
  {
   "cell_type": "code",
   "execution_count": 11,
   "id": "8991423b-3e6a-4bd2-80e8-7d058b09764b",
   "metadata": {},
   "outputs": [
    {
     "data": {
      "text/plain": [
       "'python ai data sciends'"
      ]
     },
     "execution_count": 11,
     "metadata": {},
     "output_type": "execute_result"
    }
   ],
   "source": [
    "str1[:21]+str1[21:23].replace('e','s')"
   ]
  },
  {
   "cell_type": "code",
   "execution_count": 12,
   "id": "a0c8bd36-c564-4053-b4b2-e2bacbe380c5",
   "metadata": {},
   "outputs": [
    {
     "data": {
      "text/plain": [
       "'python+ai+data+sciende'"
      ]
     },
     "execution_count": 12,
     "metadata": {},
     "output_type": "execute_result"
    }
   ],
   "source": [
    "str1.replace(' ','+')"
   ]
  },
  {
   "cell_type": "code",
   "execution_count": 32,
   "id": "dfca1573-39ed-46d1-82e6-a506d3584780",
   "metadata": {},
   "outputs": [
    {
     "data": {
      "text/plain": [
       "'python with ai data&sciende'"
      ]
     },
     "execution_count": 32,
     "metadata": {},
     "output_type": "execute_result"
    }
   ],
   "source": [
    "str1[:11].replace(' ',' with ',1)+str1[11:].replace(' ','&')"
   ]
  },
  {
   "cell_type": "code",
   "execution_count": 38,
   "id": "a80d240b-c22e-4892-a6c7-281841256d5b",
   "metadata": {},
   "outputs": [
    {
     "name": "stdout",
     "output_type": "stream",
     "text": [
      "before replacement:\n",
      "hii hii how hii hiii hiiii\n",
      "after replacement:\n",
      "what what how what whati whatii\n"
     ]
    }
   ],
   "source": [
    "str2='hii hii how hii hiii hiiii'\n",
    "print(\"before replacement:\")\n",
    "print(str2)\n",
    "for i in range(len(str2)):\n",
    "    if str2[i:i+3]=='hii':\n",
    "        str3=str2.replace(str2[i:i+3],'what')\n",
    "print('after replacement:')\n",
    "print(str3)\n"
   ]
  },
  {
   "cell_type": "markdown",
   "id": "38583bef-9ea2-43b6-a2a7-9090c644680b",
   "metadata": {},
   "source": [
    "## index"
   ]
  },
  {
   "cell_type": "code",
   "execution_count": 24,
   "id": "2c70b465-c98b-4030-acb7-658bda3fb9a0",
   "metadata": {},
   "outputs": [
    {
     "data": {
      "text/plain": [
       "21"
      ]
     },
     "execution_count": 24,
     "metadata": {},
     "output_type": "execute_result"
    }
   ],
   "source": [
    "str1.find('e',19)"
   ]
  },
  {
   "cell_type": "code",
   "execution_count": 27,
   "id": "41ae7b5b-15aa-4d8f-a2e1-a982e36aff31",
   "metadata": {},
   "outputs": [
    {
     "data": {
      "text/plain": [
       "13"
      ]
     },
     "execution_count": 27,
     "metadata": {},
     "output_type": "execute_result"
    }
   ],
   "source": [
    "str1.find('a',12,14)"
   ]
  },
  {
   "cell_type": "code",
   "execution_count": 28,
   "id": "4ee7cdd3-9706-4b51-a9fb-72224a45c947",
   "metadata": {},
   "outputs": [
    {
     "data": {
      "text/plain": [
       "-1"
      ]
     },
     "execution_count": 28,
     "metadata": {},
     "output_type": "execute_result"
    }
   ],
   "source": [
    "str1.find('x',1,5)"
   ]
  },
  {
   "cell_type": "code",
   "execution_count": 29,
   "id": "e91b0548-c7f0-4a59-8afb-59275ce82759",
   "metadata": {},
   "outputs": [
    {
     "data": {
      "text/plain": [
       "6"
      ]
     },
     "execution_count": 29,
     "metadata": {},
     "output_type": "execute_result"
    }
   ],
   "source": [
    "str1.index(' ')"
   ]
  },
  {
   "cell_type": "code",
   "execution_count": 45,
   "id": "e904c020-aef8-4be4-ad72-7ebd0df43313",
   "metadata": {},
   "outputs": [
    {
     "name": "stdout",
     "output_type": "stream",
     "text": [
      "0\n",
      "1\n",
      "2\n",
      "3\n",
      "4\n",
      "5\n",
      "6\n",
      "7\n",
      "0\n",
      "1\n",
      "2\n",
      "3\n",
      "4\n",
      "5\n",
      "6\n",
      "7\n",
      "0\n",
      "1\n",
      "2\n",
      "3\n",
      "4\n",
      "5\n",
      "22\n",
      "23\n",
      "24\n",
      "1\n",
      "2\n",
      "3\n"
     ]
    }
   ],
   "source": [
    "str4=\"what is what is what is that\"\n",
    "for i in range(len(str4)):\n",
    "    print(str4.find(str4[i:i+3]))"
   ]
  },
  {
   "cell_type": "code",
   "execution_count": 46,
   "id": "6cb93147-06df-4c21-b428-051207cb1eea",
   "metadata": {},
   "outputs": [
    {
     "name": "stdout",
     "output_type": "stream",
     "text": [
      "0\n",
      "1\n",
      "1\n",
      "3\n",
      "4\n",
      "5\n",
      "0\n",
      "7\n",
      "3\n",
      "9\n",
      "10\n",
      "11\n",
      "3\n",
      "5\n",
      "14\n",
      "15\n",
      "3\n",
      "17\n",
      "10\n",
      "1\n",
      "20\n",
      "21\n"
     ]
    }
   ],
   "source": [
    "str5='hii waht you are doinf'\n",
    "for i in str5:\n",
    "    print(str5.find(i))"
   ]
  },
  {
   "cell_type": "code",
   "execution_count": 30,
   "id": "82b0d39f-c141-45f2-bd34-73de82a6c4d1",
   "metadata": {},
   "outputs": [
    {
     "data": {
      "text/plain": [
       "9"
      ]
     },
     "execution_count": 30,
     "metadata": {},
     "output_type": "execute_result"
    }
   ],
   "source": [
    "str1.index(' ',7,11)"
   ]
  },
  {
   "cell_type": "code",
   "execution_count": 31,
   "id": "503e3201-d2a1-4a46-b9df-9a739d07c0ab",
   "metadata": {},
   "outputs": [
    {
     "ename": "ValueError",
     "evalue": "substring not found",
     "output_type": "error",
     "traceback": [
      "\u001b[1;31m---------------------------------------------------------------------------\u001b[0m",
      "\u001b[1;31mValueError\u001b[0m                                Traceback (most recent call last)",
      "Cell \u001b[1;32mIn[31], line 1\u001b[0m\n\u001b[1;32m----> 1\u001b[0m str1\u001b[38;5;241m.\u001b[39mindex(\u001b[38;5;124m'\u001b[39m\u001b[38;5;124m$\u001b[39m\u001b[38;5;124m'\u001b[39m)\n",
      "\u001b[1;31mValueError\u001b[0m: substring not found"
     ]
    }
   ],
   "source": [
    "str1.index('$')"
   ]
  },
  {
   "cell_type": "code",
   "execution_count": null,
   "id": "94f49705-94aa-4f5d-845c-14001d13e77b",
   "metadata": {},
   "outputs": [],
   "source": []
  }
 ],
 "metadata": {
  "kernelspec": {
   "display_name": "Python 3 (ipykernel)",
   "language": "python",
   "name": "python3"
  },
  "language_info": {
   "codemirror_mode": {
    "name": "ipython",
    "version": 3
   },
   "file_extension": ".py",
   "mimetype": "text/x-python",
   "name": "python",
   "nbconvert_exporter": "python",
   "pygments_lexer": "ipython3",
   "version": "3.12.7"
  }
 },
 "nbformat": 4,
 "nbformat_minor": 5
}
