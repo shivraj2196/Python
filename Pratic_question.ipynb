{
 "cells": [
  {
   "cell_type": "code",
   "execution_count": 3,
   "id": "53a440d4-5783-4377-ae02-c9670ecf8757",
   "metadata": {},
   "outputs": [
    {
     "name": "stdout",
     "output_type": "stream",
     "text": [
      "[6, 5, 4, 3, 2, 1]\n"
     ]
    }
   ],
   "source": [
    " #how to sort the list\n",
    "l1=[1,2,3,4,5,6]\n",
    "for i in range(len(l1)):\n",
    "    for j in range(len(l1)-i-1):\n",
    "        if l1[j]<l1[j+1]:\n",
    "            l1[j],l1[j+1]=l1[j+1],l1[j]\n",
    "print(l1)\n",
    "        "
   ]
  },
  {
   "cell_type": "code",
   "execution_count": 8,
   "id": "f02169a5-04b0-4ff7-9e7b-68f8b76e492f",
   "metadata": {},
   "outputs": [
    {
     "name": "stdin",
     "output_type": "stream",
     "text": [
      "Enter how many number you want in list 5\n",
      "enter 1: 7\n",
      "enter 2: 5\n",
      "enter 3: 2\n",
      "enter 4: 8\n",
      "enter 5: 6\n"
     ]
    },
    {
     "name": "stdout",
     "output_type": "stream",
     "text": [
      "8\n"
     ]
    }
   ],
   "source": [
    "# how to find the maximum value of the list\n",
    "n=int(input(\"Enter how many number you want in list\"))\n",
    "l1=[int(input(f'enter {i+1}:')) for i in range(n)]\n",
    "max_val=l1[0]\n",
    "for i in l1:\n",
    "    if max_val<i:\n",
    "        max_val=i\n",
    "print(max_val)"
   ]
  },
  {
   "cell_type": "code",
   "execution_count": 12,
   "id": "abe0b731-b1bc-488f-8d4f-8c6e050bf947",
   "metadata": {},
   "outputs": [
    {
     "name": "stdin",
     "output_type": "stream",
     "text": [
      "Enter how many numbers you want in list 4\n",
      "Enter 1: 1\n",
      "Enter 2: 45\n",
      "Enter 3: 5\n",
      "Enter 4: 7\n"
     ]
    },
    {
     "name": "stdout",
     "output_type": "stream",
     "text": [
      "1\n"
     ]
    }
   ],
   "source": [
    "# how to find the minimum value of the list\n",
    "n=int(input(\"Enter how many numbers you want in list\"))\n",
    "l1=[int(input(f'Enter {i+1}:')) for i in range(n)]\n",
    "min_val=l1[0]\n",
    "for i in l1:\n",
    "    if min_val>i:\n",
    "        min_val=i\n",
    "print(min_val)"
   ]
  },
  {
   "cell_type": "code",
   "execution_count": 32,
   "id": "01c60e22-4424-4dca-8da0-594e33f5089a",
   "metadata": {},
   "outputs": [
    {
     "name": "stdin",
     "output_type": "stream",
     "text": [
      "Enter how many numbers you want in list: 5\n",
      "Enter 1: 96\n",
      "Enter 2: 74\n",
      "Enter 3: 15\n",
      "Enter 4: 23\n",
      "Enter 5: 45\n"
     ]
    },
    {
     "name": "stdout",
     "output_type": "stream",
     "text": [
      "96 74\n"
     ]
    }
   ],
   "source": [
    "# how to find the second maximum value of the list\n",
    "#not efficient\n",
    "n=int(input(\"Enter how many numbers you want in list:\"))\n",
    "l1=[int(input(f'Enter {i+1}:')) for i in range(n)]\n",
    "max_val=l1[0]\n",
    "for i in l1:\n",
    "    if i>max_val:\n",
    "        max_val=i\n",
    "l1.pop(l1.index(max_val))\n",
    "second_max=l1[0]\n",
    "for i in l1:\n",
    "    if second_max<i:\n",
    "        if second_max==i:\n",
    "            continue\n",
    "        second_max=i\n",
    "print(max_val,second_max)"
   ]
  },
  {
   "cell_type": "code",
   "execution_count": 36,
   "id": "34276a57-38ce-4cfd-b56d-4c3385650fcd",
   "metadata": {},
   "outputs": [
    {
     "name": "stdin",
     "output_type": "stream",
     "text": [
      "Enter how many numbers you want in list: 5\n",
      "Enter 1: 96\n",
      "Enter 2: 99\n",
      "Enter 3: 82\n",
      "Enter 4: 45\n",
      "Enter 5: 72\n"
     ]
    },
    {
     "name": "stdout",
     "output_type": "stream",
     "text": [
      "max value=99 ,second_max=96\n"
     ]
    }
   ],
   "source": [
    "#second approch\n",
    "n=int(input(\"Enter how many numbers you want in list:\"))\n",
    "l1=[int(input(f'Enter {i+1}:')) for i in range(n)]\n",
    "max_val=l1[0]\n",
    "sec_max=l1[0]\n",
    "for i in l1:\n",
    "    if i>max_val:\n",
    "        sec_max=max_val\n",
    "        max_val=i\n",
    "    elif sec_max<i and max_val!=i:\n",
    "        sec_max=i\n",
    "print(f\"max value={max_val} ,second_max={sec_max}\")"
   ]
  },
  {
   "cell_type": "code",
   "execution_count": 2,
   "id": "1aa52dac-7b95-4461-8478-46586def5074",
   "metadata": {},
   "outputs": [
    {
     "name": "stdin",
     "output_type": "stream",
     "text": [
      "Enter how many numbers you want in list: 5\n",
      "Enter 1: 45\n",
      "Enter 2: 41\n",
      "Enter 3: 7\n",
      "Enter 4: 4\n",
      "Enter 5: 2\n"
     ]
    },
    {
     "name": "stdout",
     "output_type": "stream",
     "text": [
      "min=2,sec_min:4\n"
     ]
    }
   ],
   "source": [
    "# how to find the second minimum value of the list\n",
    "n=int(input(\"Enter how many numbers you want in list:\"))\n",
    "l1=[int(input(f'Enter {i+1}:')) for i in range(n)]\n",
    "min_val=l1[0]\n",
    "sec_min=l1[0]\n",
    "for i in l1:\n",
    "    if min_val>i:\n",
    "        sec_min=min_val\n",
    "        min_val=i\n",
    "    elif sec_min>i and min_val!=i:\n",
    "        sec_min=i\n",
    "print(f'min={min_val},sec_min:{sec_min}')  "
   ]
  },
  {
   "cell_type": "code",
   "execution_count": 29,
   "id": "caf68062-2312-4369-9d0e-1628d441e194",
   "metadata": {},
   "outputs": [
    {
     "name": "stdin",
     "output_type": "stream",
     "text": [
      "Enter your string: hii that is done\n"
     ]
    },
    {
     "name": "stdout",
     "output_type": "stream",
     "text": [
      "['that:4', 'done:4']\n"
     ]
    }
   ],
   "source": [
    "# how to find the longest word of a string\n",
    "str1=input(\"Enter your string:\")\n",
    "l1=str1.split()\n",
    "l2=[]\n",
    "for i in l1:\n",
    "    l2.append(len(i))\n",
    "lg=l2[0]\n",
    "lg_lis=[lg]\n",
    "for i in range(1,len(l2)):\n",
    "    if lg<l2[i]:\n",
    "        lg=l2[i]\n",
    "        lg_lis.clear()\n",
    "        lg_lis.append(f'{l1[i]}:{l2[i]}')\n",
    "    elif lg==l2[i]:\n",
    "        lg_lis.append(f'{l1[i]}:{l2[i]}')\n",
    "print(lg_lis)"
   ]
  },
  {
   "cell_type": "code",
   "execution_count": 36,
   "id": "33481b7b-5318-4eb7-a520-91b5c416a984",
   "metadata": {
    "scrolled": true
   },
   "outputs": [
    {
     "name": "stdin",
     "output_type": "stream",
     "text": [
      "Enter your string: hii hii hii is is is that you\n"
     ]
    },
    {
     "name": "stdout",
     "output_type": "stream",
     "text": [
      "['hii:3', 'is:3']\n"
     ]
    }
   ],
   "source": [
    "#how to find the most repeated word of a string\n",
    "str1=input(\"Enter your string:\")\n",
    "l1=str1.split()\n",
    "l2=[]\n",
    "l3=[]\n",
    "for i in l1:\n",
    "    if i not in l2:\n",
    "        l2.append(i)\n",
    "        l3.append(l1.count(i))\n",
    "rep=l3[0]\n",
    "rep_lis=[f'{l2[0]}:{rep}']\n",
    "for i in range(1,len(l3)):\n",
    "    if rep<l3[i]:\n",
    "        rep=l3[i]\n",
    "        rep_lis.append(f'{l2[i]}:{rep}')\n",
    "    elif rep==l3[i]:\n",
    "        rep_lis.append(f'{l2[i]}:{rep}')\n",
    "print(rep_lis)"
   ]
  },
  {
   "cell_type": "code",
   "execution_count": null,
   "id": "d3f3c81f-b935-43fa-87ad-f421a9aa782d",
   "metadata": {},
   "outputs": [],
   "source": []
  }
 ],
 "metadata": {
  "kernelspec": {
   "display_name": "Python 3 (ipykernel)",
   "language": "python",
   "name": "python3"
  },
  "language_info": {
   "codemirror_mode": {
    "name": "ipython",
    "version": 3
   },
   "file_extension": ".py",
   "mimetype": "text/x-python",
   "name": "python",
   "nbconvert_exporter": "python",
   "pygments_lexer": "ipython3",
   "version": "3.12.7"
  }
 },
 "nbformat": 4,
 "nbformat_minor": 5
}
