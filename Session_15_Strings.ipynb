{
 "cells": [
  {
   "cell_type": "markdown",
   "id": "8dceeb34-0989-4d3a-8234-378ee6bd9c5f",
   "metadata": {},
   "source": [
    "**index**"
   ]
  },
  {
   "cell_type": "code",
   "execution_count": 1,
   "id": "c0d26ce0-4ad0-49b2-a679-76b6c0d05a79",
   "metadata": {},
   "outputs": [
    {
     "data": {
      "text/plain": [
       "'python'"
      ]
     },
     "execution_count": 1,
     "metadata": {},
     "output_type": "execute_result"
    }
   ],
   "source": [
    "str1='python'\n",
    "str1"
   ]
  },
  {
   "cell_type": "code",
   "execution_count": 2,
   "id": "9eb099c3-40e9-40d3-864b-13110fc48379",
   "metadata": {},
   "outputs": [
    {
     "ename": "SyntaxError",
     "evalue": "invalid syntax (3000707556.py, line 2)",
     "output_type": "error",
     "traceback": [
      "\u001b[1;36m  Cell \u001b[1;32mIn[2], line 2\u001b[1;36m\u001b[0m\n\u001b[1;33m    p y t h o n\u001b[0m\n\u001b[1;37m      ^\u001b[0m\n\u001b[1;31mSyntaxError\u001b[0m\u001b[1;31m:\u001b[0m invalid syntax\n"
     ]
    }
   ],
   "source": [
    "-6-5-4-3-2-1\n",
    "p y t h o n\n",
    "0 1 2 3 4 5\n",
    "\n"
   ]
  },
  {
   "cell_type": "markdown",
   "id": "44c7b9a6-d365-4e1f-b8d3-4909599a59da",
   "metadata": {},
   "source": [
    "- access the characters or elements use square bracket"
   ]
  },
  {
   "cell_type": "code",
   "execution_count": null,
   "id": "f3350114-f555-4b81-8717-a72a68b8158f",
   "metadata": {},
   "outputs": [],
   "source": [
    "str1[0]"
   ]
  },
  {
   "cell_type": "code",
   "execution_count": null,
   "id": "f16af97f-1c61-422e-aae8-a894058fd41d",
   "metadata": {},
   "outputs": [],
   "source": [
    "str1[0],str1[-6]\n",
    "str1[1],str1[-5]\n",
    "str1[2],str1[-4]\n",
    "str1[3],str1[-3]\n",
    "str1[4],str1[-2]\n",
    "str1[5],str1[-1]"
   ]
  },
  {
   "cell_type": "code",
   "execution_count": null,
   "id": "0e2797a6-fca4-44af-93b9-fdb1e85d17af",
   "metadata": {},
   "outputs": [],
   "source": [
    "for i in range(len(str1)):\n",
    "    print(str1[i],end=' ')"
   ]
  },
  {
   "cell_type": "code",
   "execution_count": null,
   "id": "527e6cab-a993-4e58-9ffc-3aaa2ae30f10",
   "metadata": {},
   "outputs": [],
   "source": [
    "str1=\"hello how are you\"\n",
    "for i in range(len(str1)):\n",
    "    print(str1[i])"
   ]
  },
  {
   "cell_type": "code",
   "execution_count": null,
   "id": "17bc2153-e5bb-483e-a855-df90554d6c99",
   "metadata": {},
   "outputs": [],
   "source": [
    "#Q1) the positieve index of p is 0\n",
    "str1='python'\n",
    "for i in range(len(str1)):\n",
    "    print(\"index of\",str1[i],\"i\",i)"
   ]
  },
  {
   "cell_type": "code",
   "execution_count": null,
   "id": "2c6de3be-9fe5-4c43-9be5-02dbd4a7806c",
   "metadata": {},
   "outputs": [],
   "source": [
    "for i in range(-6,0):\n",
    "    print(\"index of\",str1[i],\"is\",i)"
   ]
  },
  {
   "cell_type": "code",
   "execution_count": null,
   "id": "525d584d-92e9-4e75-bed2-29dccf5e85cb",
   "metadata": {},
   "outputs": [],
   "source": [
    "for i in range(len(str1)):\n",
    "    print(f\"the positive index of {str1[i]} is {i} and negative index of {str1[i]} is {i-6} \")\n",
    "                "
   ]
  },
  {
   "cell_type": "markdown",
   "id": "6546e1a9-69fe-4f56-ad4c-16fca983974b",
   "metadata": {},
   "source": [
    "**When to use **in** -when to use range opertor**"
   ]
  },
  {
   "cell_type": "markdown",
   "id": "e106d76e-b762-48ce-9419-ebfff7626b77",
   "metadata": {},
   "source": [
    "- **in** operator directly access the elements\n",
    "\n",
    "- **range** operator access the elemrnts using index or number\n",
    "\n",
    "- any problem statement if you need numbers then go for range\n",
    "\n",
    "- otherwise go for in operator directly"
   ]
  },
  {
   "cell_type": "code",
   "execution_count": null,
   "id": "b24918d8-2cd2-45fc-bd6e-e403616f9d72",
   "metadata": {},
   "outputs": [],
   "source": [
    "for i in 'python':\n",
    "    print(i)"
   ]
  },
  {
   "cell_type": "code",
   "execution_count": null,
   "id": "ad8d614d-f058-4118-ab9b-2cf6540b4293",
   "metadata": {},
   "outputs": [],
   "source": [
    "#Q4) write a program to find the indexes of 'a' in a given string \n",
    "# str1=ola ola ola\n",
    "\n",
    "#5) write a program to find the sum of all idex of 'a' in a given strong\n",
    "# str1='ola ola ola'\n",
    "\n",
    "#Q6) write a program to find the numbe of 'a' in agiven string\n",
    "\n",
    "\n",
    "str1='ola ola ola'\n",
    "for i in range(len(str1)):\n",
    "    if str1[i]=='a':\n",
    "        print(f\"the index of a is:{i}\")"
   ]
  },
  {
   "cell_type": "code",
   "execution_count": null,
   "id": "124ca997-6129-4495-946b-86a1ee5a153f",
   "metadata": {},
   "outputs": [],
   "source": [
    "#Q5)\n",
    "str1='ola ola ola'\n",
    "total=0\n",
    "for i in range(len(str1)):\n",
    "    if str1[i]=='a':\n",
    "        print(f\"the index of a is:{i}\")\n",
    "        total=total+i\n",
    "print(f\"the totoal of all index of 'a' is {total}\")"
   ]
  },
  {
   "cell_type": "code",
   "execution_count": null,
   "id": "98dc2b60-3044-4b0c-bf82-813c3a122cdf",
   "metadata": {},
   "outputs": [],
   "source": [
    "#Q6)\n",
    "str1='ola ola ola'\n",
    "num_of_a=0\n",
    "for i in str1:\n",
    "    if i=='a':\n",
    "        print(f\"the index of a is:{i}\")\n",
    "        num_of_a=num_of_a+1\n",
    "print(f\"the total number of 'a' are :{num_of_a}\")"
   ]
  },
  {
   "cell_type": "code",
   "execution_count": null,
   "id": "ac0e7079-4159-49fe-b365-8ea727b79554",
   "metadata": {},
   "outputs": [],
   "source": [
    "#Q7)\n",
    "str1='hai how are you'\n",
    "count=0\n",
    "vovels='aeiou'\n",
    "for i in str1:\n",
    "    if i in vovels:\n",
    "        print(f'the vovel is:{i}')\n",
    "        count=count+1\n",
    "print(f'the count of vovels is {count}')"
   ]
  },
  {
   "cell_type": "code",
   "execution_count": null,
   "id": "7b6d8a58-4220-4bb8-a1d1-7c8a35201df7",
   "metadata": {},
   "outputs": [],
   "source": [
    "**"
   ]
  },
  {
   "cell_type": "markdown",
   "id": "0eb2b5ac-45da-42e2-bdf7-81542490eff5",
   "metadata": {},
   "source": [
    "**mutable-immutable**\n",
    "\n",
    "- mutable means change\n",
    "\n",
    "- immutable means can not change\\\n",
    "\n",
    "- we can not change the elelemts using index operations\n",
    "\n"
   ]
  },
  {
   "cell_type": "code",
   "execution_count": null,
   "id": "0a7e1dde-36a0-47e2-b4ea-91abf2a166c1",
   "metadata": {},
   "outputs": [],
   "source": [
    "str1='hello'\n",
    "str1[2]='L'"
   ]
  },
  {
   "cell_type": "code",
   "execution_count": null,
   "id": "0bf326e0-10f8-491e-bbc7-de3c978be3ea",
   "metadata": {},
   "outputs": [],
   "source": [
    "lis=[10,20,30]\n",
    "lis[1]=200\n",
    "lis"
   ]
  },
  {
   "cell_type": "markdown",
   "id": "52300db0-fccf-40ca-aa96-5d0bce8b3c69",
   "metadata": {},
   "source": [
    "**slice**\n",
    "- slice means cut into pieces\n",
    "\n",
    "- it has similar analogy with for loop range\n",
    "\n",
    "- in the for loop range we have start,stop,step\n",
    "\n",
    "- range(start,stop,step) str[start:stop:step]"
   ]
  },
  {
   "cell_type": "code",
   "execution_count": null,
   "id": "76969d77-eb4a-4506-a543-66e7a78ec422",
   "metadata": {},
   "outputs": [],
   "source": [
    "-17 -16 -15 -14 -13 -12 -11 -10 -9 -8 -7 -6 -5 -4 -3 -2 -1\n",
    " h   e   l   l   o       h   o  w    a   r  e      y  o  u\n",
    "0    1   2   3   4   5   6   7  8  9 10  11 12  13 14 15 16"
   ]
  },
  {
   "cell_type": "markdown",
   "id": "8cd8c41f-f9cc-483e-8659-0dbd1e0bba08",
   "metadata": {},
   "source": [
    "$case-1$\n",
    "**str[:stop]**\n",
    "\n",
    "- by default start=0\n",
    "\n",
    "- by default step=positive direction 1\n",
    "\n",
    "- last=stop-1"
   ]
  },
  {
   "cell_type": "code",
   "execution_count": null,
   "id": "3580151c-0948-41cd-8018-ed7659635998",
   "metadata": {},
   "outputs": [],
   "source": [
    "str1='hello how are you'\n",
    "str1[:5]"
   ]
  },
  {
   "cell_type": "markdown",
   "id": "a0b9c37b-3b23-4b3c-a172-6932168ccc9e",
   "metadata": {},
   "source": [
    "$case-2$\n",
    " str[start:]\n",
    "\n",
    "by default start=start value\n",
    "\n",
    "by default step=positive direction 1\n",
    "\n",
    "last=last index\n",
    "\n"
   ]
  },
  {
   "cell_type": "code",
   "execution_count": null,
   "id": "508dc0be-fa2b-4c62-8f8b-8f2999d7a24a",
   "metadata": {},
   "outputs": [],
   "source": [
    "str1='hello how are you'\n",
    "str1[5:]"
   ]
  },
  {
   "cell_type": "markdown",
   "id": "cde7738d-7df3-42a0-9b63-448cac46ec7c",
   "metadata": {},
   "source": [
    "$case-3$\n",
    " str[start:stop]\n",
    "\n",
    "by default start=start value\n",
    "\n",
    "by default step=positive direction 1\n",
    "\n",
    "last=stop-1\n"
   ]
  },
  {
   "cell_type": "code",
   "execution_count": null,
   "id": "389e2f1d-5f12-4fdd-ab08-f75e3b5c1bb7",
   "metadata": {},
   "outputs": [],
   "source": [
    "str1[-3:]"
   ]
  },
  {
   "cell_type": "code",
   "execution_count": null,
   "id": "20c949da-193e-4b8b-8f89-b6b0621de915",
   "metadata": {},
   "outputs": [],
   "source": [
    "#-17 -16 -15 -14 -13 -12 -11 -10 -9 -8 -7 -6 -5 -4 -3 -2 -1\n",
    " #h   e   l   l   o       h   o  w     a   r  e      y  o  u\n",
    "#0   1   2   3   4   5   6   7  8  9  10  11 12  13 14 15 16\n",
    "\n",
    "str1[10:15]"
   ]
  },
  {
   "cell_type": "code",
   "execution_count": null,
   "id": "c8b7497c-ac10-4dc3-8589-d793840141a6",
   "metadata": {},
   "outputs": [],
   "source": [
    "str1[3:-7]"
   ]
  },
  {
   "cell_type": "code",
   "execution_count": null,
   "id": "688fba35-6675-43bd-94d2-d81499137868",
   "metadata": {},
   "outputs": [],
   "source": [
    "str1[:]"
   ]
  },
  {
   "cell_type": "markdown",
   "id": "de05a00e-6af0-4ad9-869a-5b718fb15ddf",
   "metadata": {},
   "source": [
    "$case-3$\n",
    " str[start:stop:stop]\n",
    "\n",
    "- by default start=start value\n",
    "\n",
    "- by default step=positive direction 1\n",
    "\n",
    "- by default the direction is positive\n",
    "\n",
    "- if you give neative it is backword and ti will go reverse\n",
    "last=stop-1\n"
   ]
  },
  {
   "cell_type": "code",
   "execution_count": null,
   "id": "c911a686-16e5-4054-ab24-66ca4d37f3f1",
   "metadata": {},
   "outputs": [],
   "source": [
    "str1[14:-44:-1]"
   ]
  },
  {
   "cell_type": "markdown",
   "id": "0982b5eb-89c3-4487-a3a0-17be1c028a13",
   "metadata": {},
   "source": [
    "## special cases"
   ]
  },
  {
   "cell_type": "code",
   "execution_count": null,
   "id": "c5daaa8a-1099-42f1-b91f-cc47b6fc1865",
   "metadata": {},
   "outputs": [],
   "source": [
    "str1[2:150]"
   ]
  },
  {
   "cell_type": "code",
   "execution_count": null,
   "id": "a101cd39-fbaf-41b3-a2e8-2c5e761be749",
   "metadata": {},
   "outputs": [],
   "source": [
    "str1[::]"
   ]
  },
  {
   "cell_type": "code",
   "execution_count": null,
   "id": "68004e9f-3b4e-438a-974f-9c6703512a98",
   "metadata": {},
   "outputs": [],
   "source": [
    "str1[::-1]"
   ]
  },
  {
   "cell_type": "markdown",
   "id": "5e0d2689-0edb-4c36-a3c2-2a381a97f605",
   "metadata": {},
   "source": [
    "## METHODS"
   ]
  },
  {
   "cell_type": "code",
   "execution_count": null,
   "id": "a17def28-b31d-4cee-ab80-17dedd2359de",
   "metadata": {
    "scrolled": true
   },
   "outputs": [],
   "source": [
    "dir('')"
   ]
  },
  {
   "cell_type": "markdown",
   "id": "dd4e2373-a7d2-4675-9ea0-ab5cd0862a0d",
   "metadata": {},
   "source": [
    "**upper**"
   ]
  },
  {
   "cell_type": "code",
   "execution_count": null,
   "id": "54f11a6c-898e-48a6-9eca-3de03fceee07",
   "metadata": {},
   "outputs": [],
   "source": [
    "str1='welwcome'\n",
    "str1.upper()"
   ]
  },
  {
   "cell_type": "markdown",
   "id": "be7f3446-fe6e-4067-9bd4-8eb20c377703",
   "metadata": {},
   "source": [
    "- lower\n",
    "\n",
    "- title\n",
    "\n",
    "- capitalize\n",
    "\n",
    "- casefold\n",
    "\n"
   ]
  },
  {
   "cell_type": "code",
   "execution_count": null,
   "id": "30fc1340-1ed4-4bcf-8bb6-c5054ede8100",
   "metadata": {},
   "outputs": [],
   "source": [
    "str1.lower()"
   ]
  },
  {
   "cell_type": "code",
   "execution_count": null,
   "id": "3d654ab5-61a4-4280-8b10-9002cf8b0727",
   "metadata": {},
   "outputs": [],
   "source": [
    "str1=\"welocome how are you\"\n",
    "str1.title()"
   ]
  },
  {
   "cell_type": "code",
   "execution_count": null,
   "id": "ca60745b-2e9c-42fa-8bd3-4fbb4306c345",
   "metadata": {},
   "outputs": [],
   "source": [
    "str1.capitalize()"
   ]
  },
  {
   "cell_type": "code",
   "execution_count": null,
   "id": "f607f80e-2c9a-468f-8639-647c27b9b39d",
   "metadata": {},
   "outputs": [],
   "source": [
    "str1=\"WeLcOmE\"\n",
    "str1.casefold()"
   ]
  },
  {
   "cell_type": "code",
   "execution_count": null,
   "id": "4dc18694-e58b-4cca-b36d-8a706e274362",
   "metadata": {},
   "outputs": [],
   "source": [
    "text = \"Straße\"\n",
    "\n",
    "text.lower()\n",
    "text.casefold()"
   ]
  },
  {
   "cell_type": "markdown",
   "id": "60937367-93cb-4573-98ca-d6f7603df305",
   "metadata": {},
   "source": [
    "**difference between methods and inbuild functions**"
   ]
  },
  {
   "cell_type": "markdown",
   "id": "b739601a-17cd-45dc-899a-13e796693cd5",
   "metadata": {},
   "source": [
    "len()===='python'.upper()\n",
    "max()\n",
    "min()\n",
    "type()\n",
    "print()\n",
    "## in inbuild funtion we need to pass the value in the pracket linke in len we need to pass the value in dice the bracket eg:-len('hii')\n",
    "## but in the mehtod we need not to pass the value we need to use .<method name>() "
   ]
  },
  {
   "cell_type": "code",
   "execution_count": null,
   "id": "47a0d898-7aa2-42b7-973b-98b86515db8d",
   "metadata": {},
   "outputs": [],
   "source": [
    "str1='python'\n",
    "str1.center(13,'*')\n",
    "#hwere 12 means the len of string becomes 12 characters \n",
    "#already 'python' string has 6 characters\n",
    "#so remainf 6 characters padd as *"
   ]
  },
  {
   "cell_type": "code",
   "execution_count": null,
   "id": "8f089059-572e-499a-b6ea-19a2e05b0150",
   "metadata": {},
   "outputs": [],
   "source": [
    "str1='hii how are you'\n",
    "str1.center(50,'*')"
   ]
  },
  {
   "cell_type": "code",
   "execution_count": null,
   "id": "8fa6cd3b-29ac-4cf1-a22e-87551dd5ca9d",
   "metadata": {},
   "outputs": [],
   "source": [
    "#assume that i alreadt have\n",
    "#string='***python'\n"
   ]
  },
  {
   "cell_type": "markdown",
   "id": "26a61e1d-6b29-40cc-9658-dd723f25f9de",
   "metadata": {},
   "source": [
    "**strip-lstrip-rstrip**\n",
    "\n",
    "- strip will remove the characters both left and right side\n",
    "\n",
    "- lstrip will remove the characters on left side\n",
    "\n",
    "- rstrip will remove the characters on right side\n",
    "\n",
    "  "
   ]
  },
  {
   "cell_type": "code",
   "execution_count": null,
   "id": "7ce21a5e-eefc-40cc-995b-7c668121aefa",
   "metadata": {},
   "outputs": [],
   "source": [
    "str1='   python   '\n",
    "str2='****python*****'\n",
    "str3='    python****'\n",
    "\n",
    "str1.strip()"
   ]
  },
  {
   "cell_type": "code",
   "execution_count": null,
   "id": "ebb9aa2d-770c-45eb-9d12-121d418e1e75",
   "metadata": {},
   "outputs": [],
   "source": [
    "str2.strip('*')\n",
    "str2.rstrip('*')\n",
    "str2.lstrip('*')"
   ]
  },
  {
   "cell_type": "code",
   "execution_count": null,
   "id": "b964dd2f-66c0-4f5a-a5f6-b1985cf21523",
   "metadata": {},
   "outputs": [],
   "source": [
    "str3.lstrip().rstrip('*')"
   ]
  },
  {
   "cell_type": "code",
   "execution_count": null,
   "id": "d1b560f3-2d07-4673-be4a-3193a7b70677",
   "metadata": {},
   "outputs": [],
   "source": [
    "str4='0101string'\n",
    "str4.strip('0101')"
   ]
  },
  {
   "cell_type": "code",
   "execution_count": null,
   "id": "1f2efd6c-498e-494a-95ba-0486563c8d25",
   "metadata": {},
   "outputs": [],
   "source": [
    "str2,str2.strip('*'),str2.lstrip('*'),str2.rstrip('*')"
   ]
  },
  {
   "cell_type": "code",
   "execution_count": null,
   "id": "abdc247f-455d-4014-bc83-1cfb1f55643e",
   "metadata": {},
   "outputs": [],
   "source": [
    "str1='hello how are you'\n",
    "str1.endswith('uo')"
   ]
  },
  {
   "cell_type": "markdown",
   "id": "ffacaa41-4b64-4c09-ae8f-58a5bbf01ce6",
   "metadata": {},
   "source": [
    "## count"
   ]
  },
  {
   "cell_type": "code",
   "execution_count": null,
   "id": "9d43142a-9f3c-4e48-9ba0-f38ff0e11579",
   "metadata": {},
   "outputs": [],
   "source": [
    "str1='ola ola ola'\n",
    "#in the above string how amny 'a' are available\n",
    "\n",
    "count=0\n",
    "for i in str1:\n",
    "    if i=='a':\n",
    "        count+=1\n",
    "print(f\"the number of a's are :{count}\")"
   ]
  },
  {
   "cell_type": "markdown",
   "id": "533ce03f-c5c9-4be8-95da-35bb7528a60b",
   "metadata": {},
   "source": [
    "$case-1$"
   ]
  },
  {
   "cell_type": "code",
   "execution_count": null,
   "id": "b0341358-4438-440e-8dc8-ace996d170d8",
   "metadata": {},
   "outputs": [],
   "source": [
    "\n",
    "str1.count('a')"
   ]
  },
  {
   "cell_type": "code",
   "execution_count": null,
   "id": "56142f7e-0e7f-4594-8bcd-fc199dabfea3",
   "metadata": {},
   "outputs": [],
   "source": [
    "str1.count('ola ')"
   ]
  },
  {
   "cell_type": "markdown",
   "id": "af976f61-648a-47d6-9acb-1b43ec56aa83",
   "metadata": {},
   "source": [
    "$case-2$"
   ]
  },
  {
   "cell_type": "code",
   "execution_count": null,
   "id": "83ae2ab4-5905-465b-9238-66234f289a3d",
   "metadata": {},
   "outputs": [],
   "source": [
    "str1.count('a',5)"
   ]
  },
  {
   "cell_type": "code",
   "execution_count": null,
   "id": "6fc6297d-8e0a-4a99-b8c4-5f2aef920226",
   "metadata": {},
   "outputs": [],
   "source": [
    "str1.count('a',5,6)\n"
   ]
  },
  {
   "cell_type": "code",
   "execution_count": null,
   "id": "13093466-5475-42eb-bb9b-741217b88cfd",
   "metadata": {},
   "outputs": [],
   "source": [
    "str1.count('a',5,7)\n"
   ]
  },
  {
   "cell_type": "code",
   "execution_count": null,
   "id": "6b704c42-3bcf-4ac6-a671-3bc4ffa97589",
   "metadata": {},
   "outputs": [],
   "source": [
    "str1.count('a',-9,-1)"
   ]
  },
  {
   "cell_type": "code",
   "execution_count": null,
   "id": "a5f68fbd-7248-4d2a-9b11-800557b1d446",
   "metadata": {},
   "outputs": [],
   "source": [
    "str1.count('z')"
   ]
  },
  {
   "cell_type": "code",
   "execution_count": 22,
   "id": "5d3f78df-f2eb-4d47-86ed-8be8768e5643",
   "metadata": {},
   "outputs": [
    {
     "name": "stdout",
     "output_type": "stream",
     "text": [
      "o\n",
      "o\n",
      "o\n",
      "l\n",
      "ol\n",
      "ol\n",
      "a\n",
      "ola\n",
      "1\n",
      "ola\n",
      "\n",
      "1\n"
     ]
    }
   ],
   "source": [
    "count=0\n",
    "str1='ola ola ola'\n",
    "st=0\n",
    "ed=3\n",
    "ne=''\n",
    "for i in str1[st:ed]:#ola ola ola\n",
    "    print(i)\n",
    "    ne+=i\n",
    "    print(ne)\n",
    "    if 'ola' == ne:\n",
    "        print(len(i))\n",
    "        print(ne)\n",
    "        count+=1\n",
    "        ne=''\n",
    "    print(ne)\n",
    "print(count)"
   ]
  },
  {
   "cell_type": "markdown",
   "id": "5e1742d3-18a2-45fc-8ed1-43b9d6f353d4",
   "metadata": {},
   "source": [
    "**slidinf windoe approch**\n",
    "\n",
    "- fix the slice value first:**str1[i:i+3]**\n",
    "\n",
    "- then increases the slice by 1:**for i in range(len(str1))**\n",
    "\n",
    "- whenever it is equa to substring:**str1[i:i+3]=='ola'**\n",
    "\n",
    "- thenn update the count:**count=count+1**"
   ]
  },
  {
   "cell_type": "code",
   "execution_count": 6,
   "id": "faa1db9c-3a2e-4650-94ee-02ef65b05cf9",
   "metadata": {},
   "outputs": [
    {
     "name": "stdout",
     "output_type": "stream",
     "text": [
      "3\n"
     ]
    }
   ],
   "source": [
    "str1='ola ola ola'\n",
    "count=0\n",
    "for i in range(len(str1)):\n",
    "    if str1[i:i+3]=='ola':\n",
    "       \n",
    "        count+=1\n",
    "print(count)"
   ]
  },
  {
   "cell_type": "markdown",
   "id": "2d78b744-c998-4ecf-8afe-8bd2f083ef1a",
   "metadata": {},
   "source": [
    "## Replace"
   ]
  },
  {
   "cell_type": "code",
   "execution_count": 21,
   "id": "bf40a93d-84c0-477f-b7a4-437d993b2084",
   "metadata": {},
   "outputs": [
    {
     "data": {
      "text/plain": [
       "'wElcome'"
      ]
     },
     "execution_count": 21,
     "metadata": {},
     "output_type": "execute_result"
    }
   ],
   "source": [
    "str1='welcome'\n",
    "str1.replace('e','E',1)#here a indicates replace only one l\n"
   ]
  },
  {
   "cell_type": "markdown",
   "id": "f61df60b-ace2-4458-92c4-1066e2998df2",
   "metadata": {},
   "source": [
    "- By default it will replace all the cvvurances\n",
    "\n",
    "- the user can provide count which indiacates how many letters can replace\n",
    "\n",
    "- If the substring not found it will return the original string itself"
   ]
  },
  {
   "cell_type": "code",
   "execution_count": 38,
   "id": "ac99ab32-41f8-4a08-bdd4-e262cc597fc0",
   "metadata": {},
   "outputs": [],
   "source": [
    "str2=str1[4:].replace('r','$')"
   ]
  },
  {
   "cell_type": "code",
   "execution_count": 39,
   "id": "6b1a07ce-7805-4276-8e30-b5d7ed4b9b64",
   "metadata": {},
   "outputs": [
    {
     "name": "stdout",
     "output_type": "stream",
     "text": [
      "a$t\n"
     ]
    }
   ],
   "source": [
    "print(str2)"
   ]
  },
  {
   "cell_type": "code",
   "execution_count": 40,
   "id": "925d5b95-bf7b-4651-a27d-d9eb463b12ef",
   "metadata": {},
   "outputs": [
    {
     "data": {
      "text/plain": [
       "'resta$t'"
      ]
     },
     "execution_count": 40,
     "metadata": {},
     "output_type": "execute_result"
    }
   ],
   "source": [
    "str1.replace('art',str2)"
   ]
  },
  {
   "cell_type": "code",
   "execution_count": 43,
   "id": "06c99371-836d-4041-83f5-ae4d80154e16",
   "metadata": {},
   "outputs": [
    {
     "data": {
      "text/plain": [
       "'resta$t'"
      ]
     },
     "execution_count": 43,
     "metadata": {},
     "output_type": "execute_result"
    }
   ],
   "source": [
    "str1[::-1].replace('r','$',1)[::-1]"
   ]
  },
  {
   "cell_type": "code",
   "execution_count": 46,
   "id": "f0227686-d432-4df7-8d34-01943d7af205",
   "metadata": {},
   "outputs": [
    {
     "data": {
      "text/plain": [
       "'resta$t'"
      ]
     },
     "execution_count": 46,
     "metadata": {},
     "output_type": "execute_result"
    }
   ],
   "source": [
    "str1[:4]+str1[4:].replace('r','$')"
   ]
  },
  {
   "cell_type": "markdown",
   "id": "9d56519f-005f-4439-aad1-f48ab345b303",
   "metadata": {},
   "source": [
    "**index**"
   ]
  },
  {
   "cell_type": "code",
   "execution_count": 51,
   "id": "5b47bc25-36cc-412d-916a-22822a401b2a",
   "metadata": {},
   "outputs": [
    {
     "data": {
      "text/plain": [
       "3"
      ]
     },
     "execution_count": 51,
     "metadata": {},
     "output_type": "execute_result"
    }
   ],
   "source": [
    "str1='restart restart'\n",
    "str1.index('t') # by default first string index will come"
   ]
  },
  {
   "cell_type": "code",
   "execution_count": 54,
   "id": "02013427-0e90-47b7-a9a4-aecbe1cb9a8b",
   "metadata": {},
   "outputs": [
    {
     "data": {
      "text/plain": [
       "5"
      ]
     },
     "execution_count": 54,
     "metadata": {},
     "output_type": "execute_result"
    }
   ],
   "source": [
    "str1='reatart reatart'\n",
    "str1.index('r')\n",
    "str1.index('r',1)"
   ]
  },
  {
   "cell_type": "code",
   "execution_count": 55,
   "id": "2a6dad24-b8b5-4437-92d8-eb2a4bac6335",
   "metadata": {},
   "outputs": [
    {
     "data": {
      "text/plain": [
       "13"
      ]
     },
     "execution_count": 55,
     "metadata": {},
     "output_type": "execute_result"
    }
   ],
   "source": [
    "str1='restart restart'\n",
    "str1.index('r')#0\n",
    "str1.index('r',1)#1=0+1\n",
    "str1.index('r',6)#6=5+1\n",
    "str1.index('r',9)#9=8+1\n"
   ]
  },
  {
   "cell_type": "code",
   "execution_count": 57,
   "id": "9a7fc9c8-3dee-44eb-a6e5-cf0bb44443fa",
   "metadata": {},
   "outputs": [
    {
     "name": "stdout",
     "output_type": "stream",
     "text": [
      "0 5 8 13\n"
     ]
    }
   ],
   "source": [
    "i1=str1.index('r')#0\n",
    "i2=str1.index('r',i1+1)#1=0+1\n",
    "i3=str1.index('r',i2+1)#6=5+1\n",
    "i4=str1.index('r',i3+1)#9=8+1\n",
    "print(i1,i2,i3,i4)"
   ]
  },
  {
   "cell_type": "code",
   "execution_count": 61,
   "id": "f68328c8-2178-420f-807f-8901dd1200d3",
   "metadata": {},
   "outputs": [
    {
     "data": {
      "text/plain": [
       "0"
      ]
     },
     "execution_count": 61,
     "metadata": {},
     "output_type": "execute_result"
    }
   ],
   "source": [
    "str1.find('r')"
   ]
  },
  {
   "cell_type": "code",
   "execution_count": 1,
   "id": "f2f4bd64-3c4d-419b-81dd-8fbfb3e41df6",
   "metadata": {},
   "outputs": [
    {
     "ename": "SyntaxError",
     "evalue": "invalid syntax (3329710055.py, line 1)",
     "output_type": "error",
     "traceback": [
      "\u001b[1;36m  Cell \u001b[1;32mIn[1], line 1\u001b[1;36m\u001b[0m\n\u001b[1;33m    slicing indexing countsation replace count\u001b[0m\n\u001b[1;37m            ^\u001b[0m\n\u001b[1;31mSyntaxError\u001b[0m\u001b[1;31m:\u001b[0m invalid syntax\n"
     ]
    }
   ],
   "source": [
    "slicing indexing countsation replace count "
   ]
  },
  {
   "cell_type": "code",
   "execution_count": 4,
   "id": "fe3f1a6b-ec2c-4ea8-939a-b46cd0688208",
   "metadata": {},
   "outputs": [],
   "source": [
    "str1='virat.kolhi@rcb.com'\n",
    "str2='rohit.shorma@mi.com'\n",
    "str3='ms.dhoni@csk.com'\n",
    "#firstname\n",
    "#second name\n",
    "#company name"
   ]
  },
  {
   "cell_type": "code",
   "execution_count": 5,
   "id": "a8a1516d-e765-4ed7-95c6-25de66b66382",
   "metadata": {},
   "outputs": [],
   "source": [
    "first_name_dot=str1.index('.')"
   ]
  },
  {
   "cell_type": "code",
   "execution_count": 7,
   "id": "cddca070-4e9b-472f-b8ce-691baf5623c2",
   "metadata": {},
   "outputs": [],
   "source": [
    "first_name=str1[:first_name_dot]"
   ]
  },
  {
   "cell_type": "code",
   "execution_count": 9,
   "id": "6cb1b1c8-844c-4ba9-ae15-32285c1d9388",
   "metadata": {},
   "outputs": [
    {
     "name": "stdout",
     "output_type": "stream",
     "text": [
      "virat\n"
     ]
    }
   ],
   "source": [
    "print(first_name)"
   ]
  },
  {
   "cell_type": "code",
   "execution_count": 10,
   "id": "dc367284-51fc-41fc-bcbb-236c5251792c",
   "metadata": {},
   "outputs": [],
   "source": [
    "second_name_atrate=str1.index('@',first_name_dot)"
   ]
  },
  {
   "cell_type": "code",
   "execution_count": 14,
   "id": "c8ac5c1c-3fe1-4622-8851-0c9fa3d32c50",
   "metadata": {},
   "outputs": [],
   "source": [
    "second_name=str1[first_name_dot+1:second_name_atrate]"
   ]
  },
  {
   "cell_type": "code",
   "execution_count": 15,
   "id": "a83472ea-c977-4404-bd99-7127762b246b",
   "metadata": {},
   "outputs": [
    {
     "name": "stdout",
     "output_type": "stream",
     "text": [
      "kolhi\n"
     ]
    }
   ],
   "source": [
    "print(second_name)"
   ]
  },
  {
   "cell_type": "code",
   "execution_count": 21,
   "id": "59aa8db3-c539-43ba-9365-728b0b49c160",
   "metadata": {},
   "outputs": [],
   "source": [
    "last_name_dot=str1.index('.',second_name_atrate)"
   ]
  },
  {
   "cell_type": "code",
   "execution_count": 28,
   "id": "e37df1a9-5d3f-4458-8766-c89590963cd0",
   "metadata": {},
   "outputs": [],
   "source": [
    "last_name=str1[second_name_atrate+1:last_name_dot]"
   ]
  },
  {
   "cell_type": "code",
   "execution_count": 29,
   "id": "ae8d1415-fccf-40a3-8959-685f1912cd3e",
   "metadata": {},
   "outputs": [
    {
     "name": "stdout",
     "output_type": "stream",
     "text": [
      "rcb\n"
     ]
    }
   ],
   "source": [
    "print(last_name)"
   ]
  },
  {
   "cell_type": "code",
   "execution_count": 34,
   "id": "e427174e-e4ed-403b-96b8-d7c32dbc60af",
   "metadata": {},
   "outputs": [
    {
     "name": "stdout",
     "output_type": "stream",
     "text": [
      "the name is virat kolhi The company name is rcb\n"
     ]
    }
   ],
   "source": [
    "first_name_dot=str1.index('.')\n",
    "first_name=str1[:first_name_dot]\n",
    "\n",
    "second_name_atrate=str1.index('@',first_name_dot)\n",
    "second_name=str1[first_name_dot+1:second_name_atrate]\n",
    "\n",
    "last_name_dot=str1.index('.',second_name_atrate)\n",
    "last_name=str1[second_name_atrate+1:last_name_dot]\n",
    "\n",
    "full_name=\"the name is\"+\" \"+first_name+\" \"+second_name+\" \"+\"The company name is\"+\" \"+last_name\n",
    "print(full_name)"
   ]
  },
  {
   "cell_type": "code",
   "execution_count": 35,
   "id": "16bfd485-75dd-4009-97d7-0c2fda8cca6d",
   "metadata": {},
   "outputs": [
    {
     "name": "stdout",
     "output_type": "stream",
     "text": [
      "the name is rohit shorma The company name is mi\n"
     ]
    }
   ],
   "source": [
    "first_name_dot=str2.index('.')\n",
    "first_name=str2[:first_name_dot]\n",
    "\n",
    "second_name_atrate=str2.index('@',first_name_dot)\n",
    "second_name=str2[first_name_dot+1:second_name_atrate]\n",
    "\n",
    "last_name_dot=str2.index('.',second_name_atrate)\n",
    "last_name=str2[second_name_atrate+1:last_name_dot]\n",
    "\n",
    "full_name=\"the name is\"+\" \"+first_name+\" \"+second_name+\" \"+\"The company name is\"+\" \"+last_name\n",
    "print(full_name)"
   ]
  },
  {
   "cell_type": "code",
   "execution_count": 37,
   "id": "a30becaa-0fab-453e-878a-79063a2e62fe",
   "metadata": {},
   "outputs": [
    {
     "name": "stdout",
     "output_type": "stream",
     "text": [
      "the name is ms dhoni The company name is csk\n"
     ]
    }
   ],
   "source": [
    "first_name_dot=str3.index('.')\n",
    "first_name=str3[:first_name_dot]\n",
    "\n",
    "second_name_atrate=str3.index('@',first_name_dot)\n",
    "second_name=str3[first_name_dot+1:second_name_atrate]\n",
    "\n",
    "last_name_dot=str3.index('.',second_name_atrate)\n",
    "last_name=str3[second_name_atrate+1:last_name_dot]\n",
    "\n",
    "full_name=\"the name is\"+\" \"+first_name+\" \"+second_name+\" \"+\"The company name is\"+\" \"+last_name\n",
    "print(full_name)"
   ]
  },
  {
   "cell_type": "code",
   "execution_count": 7,
   "id": "270cb2c9-ab10-426e-b080-252d5b63cbf7",
   "metadata": {},
   "outputs": [
    {
     "name": "stdout",
     "output_type": "stream",
     "text": [
      "the name is virat kolhi The company name is rcb\n",
      "the name is rohit shorma The company name is mi\n",
      "the name is ms dhoni The company name is csk\n",
      "the name is a b The company name is c\n"
     ]
    }
   ],
   "source": [
    "def name_extrator(str1):\n",
    "    first_name_dot=str1.index('.')\n",
    "    first_name=str1[:first_name_dot]\n",
    "    \n",
    "    second_name_atrate=str1.index('@',first_name_dot)\n",
    "    second_name=str1[first_name_dot+1:second_name_atrate]\n",
    "    \n",
    "    last_name_dot=str1.index('.',second_name_atrate)\n",
    "    last_name=str1[second_name_atrate+1:last_name_dot]\n",
    "    \n",
    "    full_name=\"the name is\"+\" \"+first_name+\" \"+second_name+\" \"+\"The company name is\"+\" \"+last_name\n",
    "    print(full_name)\n",
    "str1='virat.kolhi@rcb.com'\n",
    "str2='rohit.shorma@mi.com'\n",
    "str3='ms.dhoni@csk.com'\n",
    "str4='a.b@c.com'\n",
    "name_extrator(str1)\n",
    "name_extrator(str2)\n",
    "name_extrator(str3)\n",
    "name_extrator(str4)"
   ]
  },
  {
   "cell_type": "markdown",
   "id": "e84f0be2-3d55-42cc-92ca-be83c8e5d3c6",
   "metadata": {},
   "source": [
    "## split"
   ]
  },
  {
   "cell_type": "markdown",
   "id": "981cbeea-0924-4928-a5a0-0b68ef1da44f",
   "metadata": {},
   "source": [
    "- split is used to convert a string to list of element\n",
    "\n",
    "- by default it will split based on space"
   ]
  },
  {
   "cell_type": "code",
   "execution_count": 8,
   "id": "7aaaaede-28a6-49f9-8cac-628d139aadb4",
   "metadata": {},
   "outputs": [
    {
     "data": {
      "text/plain": [
       "['hai', 'how', 'are', 'you']"
      ]
     },
     "execution_count": 8,
     "metadata": {},
     "output_type": "execute_result"
    }
   ],
   "source": [
    "str1='hai how are you'\n",
    "str1.split()"
   ]
  },
  {
   "cell_type": "code",
   "execution_count": 9,
   "id": "ace766b6-bf12-4e98-aac5-248c29966160",
   "metadata": {},
   "outputs": [
    {
     "data": {
      "text/plain": [
       "['hai how', 'are you']"
      ]
     },
     "execution_count": 9,
     "metadata": {},
     "output_type": "execute_result"
    }
   ],
   "source": [
    "str1='hai how,are you'\n",
    "str1.split(',')"
   ]
  },
  {
   "cell_type": "code",
   "execution_count": 21,
   "id": "01bb87cd-3609-4460-aa6d-1eee0bd86ea1",
   "metadata": {},
   "outputs": [
    {
     "data": {
      "text/plain": [
       "['hell', ' hai,h', 'w are y', 'u']"
      ]
     },
     "execution_count": 21,
     "metadata": {},
     "output_type": "execute_result"
    }
   ],
   "source": [
    "str1='hello hai,how are you'\n",
    "str1.split('o')"
   ]
  },
  {
   "cell_type": "code",
   "execution_count": 22,
   "id": "cc4c8ec7-e910-46cc-8ddf-0cab6bbf4284",
   "metadata": {},
   "outputs": [
    {
     "data": {
      "text/plain": [
       "'hello hai how are you'"
      ]
     },
     "execution_count": 22,
     "metadata": {},
     "output_type": "execute_result"
    }
   ],
   "source": [
    "str1='hello hai how are you'\n",
    "l=str1.split()\n",
    "' '.join(l)"
   ]
  },
  {
   "cell_type": "code",
   "execution_count": 24,
   "id": "f6bb8b33-944c-4c3e-9ab9-1b873e74e5e5",
   "metadata": {},
   "outputs": [
    {
     "data": {
      "text/plain": [
       "'hello hai how are you'"
      ]
     },
     "execution_count": 24,
     "metadata": {},
     "output_type": "execute_result"
    }
   ],
   "source": [
    "str1='hello hai how are you'\n",
    "l=str1.split()\n",
    "' '.join(l)"
   ]
  },
  {
   "cell_type": "code",
   "execution_count": 32,
   "id": "daa0a576-9e9f-4b58-ab2c-60507ebe665a",
   "metadata": {},
   "outputs": [
    {
     "data": {
      "text/plain": [
       "'hai how,are you'"
      ]
     },
     "execution_count": 32,
     "metadata": {},
     "output_type": "execute_result"
    }
   ],
   "source": [
    "str1='hai how,are you'\n",
    "l=str1.split(',')\n",
    "','.join(l)"
   ]
  },
  {
   "cell_type": "code",
   "execution_count": 36,
   "id": "55ca14b6-0f0f-4e20-9e6c-ed10a3e066a0",
   "metadata": {},
   "outputs": [
    {
     "data": {
      "text/plain": [
       "'hellooo hai hooow are yooou'"
      ]
     },
     "execution_count": 36,
     "metadata": {},
     "output_type": "execute_result"
    }
   ],
   "source": [
    "str1='hello hai how are you'\n",
    "l=str1.split('o')\n",
    "'ooo'.join(l)"
   ]
  },
  {
   "cell_type": "markdown",
   "id": "cd3029cc-c754-46a8-b099-bfec11851c1e",
   "metadata": {},
   "source": [
    "- upper/lower/casefold\n",
    "\n",
    "- title/capitalize\n",
    "\n",
    "- center\n",
    "\n",
    "- lstrip/rstrip/strip\n",
    "\n",
    "- startswith/endswith\n",
    "\n",
    "- replace\n",
    "\n",
    "- count\n",
    "\n",
    "- index/find\n",
    "\n",
    "- split/join"
   ]
  },
  {
   "cell_type": "code",
   "execution_count": 37,
   "id": "2af0e5e3-eaf1-448e-949b-7b462ce07b77",
   "metadata": {},
   "outputs": [
    {
     "data": {
      "text/plain": [
       "['__add__',\n",
       " '__class__',\n",
       " '__contains__',\n",
       " '__delattr__',\n",
       " '__dir__',\n",
       " '__doc__',\n",
       " '__eq__',\n",
       " '__format__',\n",
       " '__ge__',\n",
       " '__getattribute__',\n",
       " '__getitem__',\n",
       " '__getnewargs__',\n",
       " '__getstate__',\n",
       " '__gt__',\n",
       " '__hash__',\n",
       " '__init__',\n",
       " '__init_subclass__',\n",
       " '__iter__',\n",
       " '__le__',\n",
       " '__len__',\n",
       " '__lt__',\n",
       " '__mod__',\n",
       " '__mul__',\n",
       " '__ne__',\n",
       " '__new__',\n",
       " '__reduce__',\n",
       " '__reduce_ex__',\n",
       " '__repr__',\n",
       " '__rmod__',\n",
       " '__rmul__',\n",
       " '__setattr__',\n",
       " '__sizeof__',\n",
       " '__str__',\n",
       " '__subclasshook__',\n",
       " 'capitalize',\n",
       " 'casefold',\n",
       " 'center',\n",
       " 'count',\n",
       " 'encode',\n",
       " 'endswith',\n",
       " 'expandtabs',\n",
       " 'find',\n",
       " 'format',\n",
       " 'format_map',\n",
       " 'index',\n",
       " 'isalnum',\n",
       " 'isalpha',\n",
       " 'isascii',\n",
       " 'isdecimal',\n",
       " 'isdigit',\n",
       " 'isidentifier',\n",
       " 'islower',\n",
       " 'isnumeric',\n",
       " 'isprintable',\n",
       " 'isspace',\n",
       " 'istitle',\n",
       " 'isupper',\n",
       " 'join',\n",
       " 'ljust',\n",
       " 'lower',\n",
       " 'lstrip',\n",
       " 'maketrans',\n",
       " 'partition',\n",
       " 'removeprefix',\n",
       " 'removesuffix',\n",
       " 'replace',\n",
       " 'rfind',\n",
       " 'rindex',\n",
       " 'rjust',\n",
       " 'rpartition',\n",
       " 'rsplit',\n",
       " 'rstrip',\n",
       " 'split',\n",
       " 'splitlines',\n",
       " 'startswith',\n",
       " 'strip',\n",
       " 'swapcase',\n",
       " 'title',\n",
       " 'translate',\n",
       " 'upper',\n",
       " 'zfill']"
      ]
     },
     "execution_count": 37,
     "metadata": {},
     "output_type": "execute_result"
    }
   ],
   "source": [
    "dir('')"
   ]
  },
  {
   "cell_type": "code",
   "execution_count": 8,
   "id": "3d0a0764-f125-4078-be3f-8212d95567b5",
   "metadata": {},
   "outputs": [
    {
     "name": "stdout",
     "output_type": "stream",
     "text": [
      "123456\n"
     ]
    }
   ],
   "source": [
    "str1='the telephone number is 123456'\n",
    "#'isalnum',\n",
    " #'isalpha',\n",
    " #'isascii',\n",
    " #'isdecimal',\n",
    " #'isdigit',\n",
    " #'isidentifier',\n",
    " #'islower',\n",
    " #'isnumeric',\n",
    " #'isprintable',\n",
    "str2=''\n",
    "for i in str1:\n",
    "    if i.isdigit():\n",
    "        str2=str2+i\n",
    "print(str2)"
   ]
  },
  {
   "cell_type": "code",
   "execution_count": null,
   "id": "636c5881-041f-41b6-9b92-a42bd785e92f",
   "metadata": {},
   "outputs": [],
   "source": []
  }
 ],
 "metadata": {
  "kernelspec": {
   "display_name": "Python 3 (ipykernel)",
   "language": "python",
   "name": "python3"
  },
  "language_info": {
   "codemirror_mode": {
    "name": "ipython",
    "version": 3
   },
   "file_extension": ".py",
   "mimetype": "text/x-python",
   "name": "python",
   "nbconvert_exporter": "python",
   "pygments_lexer": "ipython3",
   "version": "3.12.7"
  }
 },
 "nbformat": 4,
 "nbformat_minor": 5
}
