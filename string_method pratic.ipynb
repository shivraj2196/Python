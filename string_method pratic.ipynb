{
 "cells": [
  {
   "cell_type": "code",
   "execution_count": null,
   "id": "6513e6b7-1f5a-4288-834e-a60d8c2b4bd1",
   "metadata": {},
   "outputs": [],
   "source": [
    "i1=str1.index('r')#0\n",
    "i2=str1.index('r',i1+1)#1=0+1\n",
    "i3=str1.index('r',i2+1)#6=5+1\n",
    "i4=str1.index('r',i3+1)#9=8+1\n",
    "print(i1,i2,i3,i4)\n",
    "\n"
   ]
  },
  {
   "cell_type": "code",
   "execution_count": 18,
   "id": "861ee123-4ee3-4c51-8ed6-f29808168e73",
   "metadata": {},
   "outputs": [
    {
     "name": "stdin",
     "output_type": "stream",
     "text": [
      "enter the word iron man\n",
      "Enter the letter you want to replace: n\n",
      "Enter which occurance of letter in word  you want to replace: 2\n",
      "enter the new letter $\n"
     ]
    },
    {
     "name": "stdout",
     "output_type": "stream",
     "text": [
      "7\n",
      "string after replace: iron ma$\n"
     ]
    }
   ],
   "source": [
    "str1=input(\"enter the word\")\n",
    "old_let=input(\"Enter the letter you want to replace:\")\n",
    "occ=int(input(\"Enter which occurance of letter in word  you want to replace:\"))\n",
    "new_let=input(\"enter the new letter\")\n",
    "count=0\n",
    "for i in range(len(str1)):\n",
    "    if str1[i]==old_let:\n",
    "        count+=1\n",
    "    if  occ==count and str1[i]==old_let:\n",
    "        str1=str1[:i]+str1[i:].replace(old_let,new_let)\n",
    "        print(str1.index(str1[i]))\n",
    "print(\"string after replace:\",str1)    \n",
    "        "
   ]
  },
  {
   "cell_type": "code",
   "execution_count": null,
   "id": "68a0f868-0e79-4860-b34d-f37f41cdb5dc",
   "metadata": {},
   "outputs": [],
   "source": [
    "#slicing indexing countsation replace count "
   ]
  },
  {
   "cell_type": "code",
   "execution_count": 17,
   "id": "0190fbd0-4779-4674-b2b7-74cb985f69f0",
   "metadata": {},
   "outputs": [
    {
     "name": "stdout",
     "output_type": "stream",
     "text": [
      "None\n"
     ]
    }
   ],
   "source": [
    "l1=[1,2,3,4].sort()\n",
    "print(l1)"
   ]
  },
  {
   "cell_type": "code",
   "execution_count": 27,
   "id": "058d3a50-aaee-4167-b6ec-5106c4702388",
   "metadata": {},
   "outputs": [
    {
     "data": {
      "text/plain": [
       "1"
      ]
     },
     "execution_count": 27,
     "metadata": {},
     "output_type": "execute_result"
    }
   ],
   "source": [
    "str2=\"hii how are you doing\"\n",
    "str2.count('h',1)"
   ]
  },
  {
   "cell_type": "raw",
   "id": "3b258a2c-44cc-4134-801c-158996953dad",
   "metadata": {},
   "source": []
  },
  {
   "cell_type": "code",
   "execution_count": null,
   "id": "d883a5ca-3cc6-45af-8a1e-9a1b146aa010",
   "metadata": {},
   "outputs": [],
   "source": []
  }
 ],
 "metadata": {
  "kernelspec": {
   "display_name": "Python 3 (ipykernel)",
   "language": "python",
   "name": "python3"
  },
  "language_info": {
   "codemirror_mode": {
    "name": "ipython",
    "version": 3
   },
   "file_extension": ".py",
   "mimetype": "text/x-python",
   "name": "python",
   "nbconvert_exporter": "python",
   "pygments_lexer": "ipython3",
   "version": "3.12.7"
  }
 },
 "nbformat": 4,
 "nbformat_minor": 5
}
