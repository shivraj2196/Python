{
 "cells": [
  {
   "cell_type": "markdown",
   "id": "562f2ccb-5f86-4f86-9a94-164ae3c84a86",
   "metadata": {},
   "source": [
    "**try-except**\n",
    "\n",
    "- try-except is a concept of exception handiling \n",
    "\n",
    "- their are two blocks \n",
    "    -1.try block\n",
    "    -2.except block\n",
    "\n",
    "-original code will run under try block \n",
    "\n",
    "-if any errors occures in try block, the error  will catch by except block \n",
    "\n",
    "-usecase-1:the code should catch the errors automatically \n",
    "-usecase-2:the code should contonue ahed even though we come across an error"
   ]
  },
  {
   "cell_type": "code",
   "execution_count": 1,
   "id": "3c069e92-5ae6-4383-9eb6-107a2a8d6d17",
   "metadata": {},
   "outputs": [
    {
     "ename": "ZeroDivisionError",
     "evalue": "division by zero",
     "output_type": "error",
     "traceback": [
      "\u001b[1;31m---------------------------------------------------------------------------\u001b[0m",
      "\u001b[1;31mZeroDivisionError\u001b[0m                         Traceback (most recent call last)",
      "Cell \u001b[1;32mIn[1], line 3\u001b[0m\n\u001b[0;32m      1\u001b[0m a\u001b[38;5;241m=\u001b[39m\u001b[38;5;241m10\u001b[39m\n\u001b[0;32m      2\u001b[0m b\u001b[38;5;241m=\u001b[39m\u001b[38;5;241m0\u001b[39m\n\u001b[1;32m----> 3\u001b[0m c\u001b[38;5;241m=\u001b[39ma\u001b[38;5;241m/\u001b[39mb\u001b[38;5;66;03m#this is not a important line\u001b[39;00m\n\u001b[0;32m      4\u001b[0m     \u001b[38;5;66;03m#even though we are getting errror nothing will happen\u001b[39;00m\n\u001b[0;32m      5\u001b[0m     \u001b[38;5;66;03m#my pyhton code should not stop here\u001b[39;00m\n\u001b[0;32m      6\u001b[0m     \u001b[38;5;66;03m#i want to create a log in that i want catch\u001b[39;00m\n\u001b[0;32m      7\u001b[0m \u001b[38;5;28mprint\u001b[39m(\u001b[38;5;124m\"\u001b[39m\u001b[38;5;124mHello\u001b[39m\u001b[38;5;124m\"\u001b[39m)\n",
      "\u001b[1;31mZeroDivisionError\u001b[0m: division by zero"
     ]
    }
   ],
   "source": [
    "a=10\n",
    "b=0\n",
    "c=a/b#this is not a important line\n",
    "    #even though we are getting errror nothing will happen\n",
    "    #my pyhton code should not stop here\n",
    "    #i want to create a log in that i want catch\n",
    "print(\"Hello\")"
   ]
  },
  {
   "cell_type": "code",
   "execution_count": 3,
   "id": "d9000776-5af0-4147-bc62-c70696ce148e",
   "metadata": {},
   "outputs": [
    {
     "name": "stdout",
     "output_type": "stream",
     "text": [
      "error coming in try block\n",
      "Zero division error\n"
     ]
    }
   ],
   "source": [
    "try:\n",
    "    a=10\n",
    "    b=0\n",
    "    c=a/b\n",
    "except:\n",
    "    print('error coming in try block')\n",
    "    print(\"Zero division error\")\n",
    "    "
   ]
  },
  {
   "cell_type": "markdown",
   "id": "ad3ffd59-ce73-4b59-86da-2714499299c4",
   "metadata": {},
   "source": [
    "**Note**\n",
    "\n",
    "-Except block will run when  we got the error in try block\n",
    "\n",
    "-if code is correct only try block executed \n",
    "\n"
   ]
  },
  {
   "cell_type": "markdown",
   "id": "d2fdef96-0577-4404-8d42-b851aba8ef81",
   "metadata": {},
   "source": [
    "**types of error occured till now**\n",
    "-syntax\n",
    "-attribute\n",
    "-name\n",
    "-typem\n",
    "-indention\n",
    "-model not found\n",
    "-zero division\n",
    "-object not callablem"
   ]
  },
  {
   "cell_type": "code",
   "execution_count": null,
   "id": "a1bc170e-1ac7-4be8-b9c1-60229a2d3a74",
   "metadata": {},
   "outputs": [],
   "source": [
    "-syntax error will not catch\n",
    "\n",
    "-minimum excetation  every one should write a code with out any syntax error"
   ]
  },
  {
   "cell_type": "code",
   "execution_count": 6,
   "id": "12665774-69f1-42cc-b156-674f53b66912",
   "metadata": {},
   "outputs": [
    {
     "ename": "SyntaxError",
     "evalue": "unterminated string literal (detected at line 2) (1907948461.py, line 2)",
     "output_type": "error",
     "traceback": [
      "\u001b[1;36m  Cell \u001b[1;32mIn[6], line 2\u001b[1;36m\u001b[0m\n\u001b[1;33m    print(\"hii)\u001b[0m\n\u001b[1;37m          ^\u001b[0m\n\u001b[1;31mSyntaxError\u001b[0m\u001b[1;31m:\u001b[0m unterminated string literal (detected at line 2)\n"
     ]
    }
   ],
   "source": [
    "#syntax error \n",
    "if a=1:\n",
    "    print(\"hii\")"
   ]
  },
  {
   "cell_type": "code",
   "execution_count": 10,
   "id": "ce783952-a2bc-411c-9a25-f5031261dd34",
   "metadata": {},
   "outputs": [
    {
     "ename": "NameError",
     "evalue": "name 'n1' is not defined",
     "output_type": "error",
     "traceback": [
      "\u001b[1;31m---------------------------------------------------------------------------\u001b[0m",
      "\u001b[1;31mNameError\u001b[0m                                 Traceback (most recent call last)",
      "Cell \u001b[1;32mIn[10], line 2\u001b[0m\n\u001b[0;32m      1\u001b[0m \u001b[38;5;66;03m#attribute error\u001b[39;00m\n\u001b[1;32m----> 2\u001b[0m \u001b[38;5;28mprint\u001b[39m(n1\u001b[38;5;241m+\u001b[39mn2)\n",
      "\u001b[1;31mNameError\u001b[0m: name 'n1' is not defined"
     ]
    }
   ],
   "source": [
    "#name error\n",
    "print(n1+n2)"
   ]
  },
  {
   "cell_type": "code",
   "execution_count": 11,
   "id": "2399cd95-a656-4fb2-8be3-53008435f415",
   "metadata": {},
   "outputs": [
    {
     "ename": "AttributeError",
     "evalue": "module 'math' has no attribute 'earth'",
     "output_type": "error",
     "traceback": [
      "\u001b[1;31m---------------------------------------------------------------------------\u001b[0m",
      "\u001b[1;31mAttributeError\u001b[0m                            Traceback (most recent call last)",
      "Cell \u001b[1;32mIn[11], line 3\u001b[0m\n\u001b[0;32m      1\u001b[0m \u001b[38;5;66;03m#atttribute error\u001b[39;00m\n\u001b[0;32m      2\u001b[0m \u001b[38;5;28;01mimport\u001b[39;00m \u001b[38;5;21;01mmath\u001b[39;00m\n\u001b[1;32m----> 3\u001b[0m math\u001b[38;5;241m.\u001b[39mearth()\n",
      "\u001b[1;31mAttributeError\u001b[0m: module 'math' has no attribute 'earth'"
     ]
    }
   ],
   "source": [
    "#atttribute error\n",
    "import math\n",
    "math.earth()"
   ]
  },
  {
   "cell_type": "code",
   "execution_count": 14,
   "id": "0d4608c9-8aa6-487c-bc01-4ddaf14bee64",
   "metadata": {},
   "outputs": [
    {
     "ename": "TypeError",
     "evalue": "can't multiply sequence by non-int of type 'float'",
     "output_type": "error",
     "traceback": [
      "\u001b[1;31m---------------------------------------------------------------------------\u001b[0m",
      "\u001b[1;31mTypeError\u001b[0m                                 Traceback (most recent call last)",
      "Cell \u001b[1;32mIn[14], line 2\u001b[0m\n\u001b[0;32m      1\u001b[0m \u001b[38;5;66;03m#type error\u001b[39;00m\n\u001b[1;32m----> 2\u001b[0m \u001b[38;5;28mprint\u001b[39m(\u001b[38;5;241m10.55\u001b[39m\u001b[38;5;241m*\u001b[39m\u001b[38;5;124m\"\u001b[39m\u001b[38;5;124mhii\u001b[39m\u001b[38;5;124m\"\u001b[39m)\n",
      "\u001b[1;31mTypeError\u001b[0m: can't multiply sequence by non-int of type 'float'"
     ]
    }
   ],
   "source": [
    "#type error\n",
    "print(10.55*\"hii\")"
   ]
  },
  {
   "cell_type": "code",
   "execution_count": 16,
   "id": "7418e8de-510a-480e-b5f2-f13d443c74a4",
   "metadata": {},
   "outputs": [
    {
     "ename": "IndentationError",
     "evalue": "expected an indented block after 'try' statement on line 1 (583304472.py, line 2)",
     "output_type": "error",
     "traceback": [
      "\u001b[1;36m  Cell \u001b[1;32mIn[16], line 2\u001b[1;36m\u001b[0m\n\u001b[1;33m    print(\"hellow\"\u001b[0m\n\u001b[1;37m    ^\u001b[0m\n\u001b[1;31mIndentationError\u001b[0m\u001b[1;31m:\u001b[0m expected an indented block after 'try' statement on line 1\n"
     ]
    }
   ],
   "source": [
    "#intentation\n",
    "try:\n",
    "print(\"hellow\"\n",
    "          "
   ]
  },
  {
   "cell_type": "code",
   "execution_count": 18,
   "id": "3c0ef039-86b1-4b38-b7b1-2ddf51f57457",
   "metadata": {},
   "outputs": [
    {
     "ename": "TypeError",
     "evalue": "'module' object is not callable. Did you mean: 'random.random(...)'?",
     "output_type": "error",
     "traceback": [
      "\u001b[1;31m---------------------------------------------------------------------------\u001b[0m",
      "\u001b[1;31mTypeError\u001b[0m                                 Traceback (most recent call last)",
      "Cell \u001b[1;32mIn[18], line 2\u001b[0m\n\u001b[0;32m      1\u001b[0m \u001b[38;5;28;01mimport\u001b[39;00m \u001b[38;5;21;01mrandom\u001b[39;00m\n\u001b[1;32m----> 2\u001b[0m random()\n",
      "\u001b[1;31mTypeError\u001b[0m: 'module' object is not callable. Did you mean: 'random.random(...)'?"
     ]
    }
   ],
   "source": [
    "import random\n",
    "random()"
   ]
  },
  {
   "cell_type": "code",
   "execution_count": 21,
   "id": "0050c2c2-4d69-41ce-b2f2-81d60236d2fb",
   "metadata": {},
   "outputs": [
    {
     "name": "stdin",
     "output_type": "stream",
     "text": [
      "Enter n1: 10\n",
      "Enter n2: 10\n"
     ]
    },
    {
     "name": "stdout",
     "output_type": "stream",
     "text": [
      "the div is: 1.0\n"
     ]
    }
   ],
   "source": [
    "try:\n",
    "    n1=eval(input(\"Enter n1:\"))\n",
    "    n2=eval(input(\"Enter n2:\"))\n",
    "    div=n1/n2\n",
    "    print(\"the div is:\",div)\n",
    "except Exception as e:\n",
    "    print(e)"
   ]
  },
  {
   "cell_type": "code",
   "execution_count": 22,
   "id": "e9c9767f-db58-4ef6-a2b7-ef8a40c4d658",
   "metadata": {},
   "outputs": [
    {
     "name": "stdout",
     "output_type": "stream",
     "text": [
      "No module named 'nareshit'\n"
     ]
    }
   ],
   "source": [
    "try:\n",
    "    import nareshit\n",
    "except Exception as e:\n",
    "    print(e)"
   ]
  },
  {
   "cell_type": "code",
   "execution_count": 24,
   "id": "a4f84d56-4cdd-4e6d-907b-4a7fdabd87cd",
   "metadata": {},
   "outputs": [
    {
     "name": "stdin",
     "output_type": "stream",
     "text": [
      "Enter the number 34f\n"
     ]
    },
    {
     "name": "stdout",
     "output_type": "stream",
     "text": [
      "invalid literal for int() with base 10: '34f'\n"
     ]
    }
   ],
   "source": [
    "try:\n",
    "    a=int(input(\"Enter the number\"))\n",
    "except Exception as e:\n",
    "    print(e)"
   ]
  },
  {
   "cell_type": "code",
   "execution_count": 25,
   "id": "04d6c193-b6a4-4c7e-b753-d32b86722a34",
   "metadata": {},
   "outputs": [
    {
     "name": "stdout",
     "output_type": "stream",
     "text": [
      "module 'random' has no attribute 'mars'\n"
     ]
    }
   ],
   "source": [
    "import random\n",
    "try:\n",
    "    random.mars()\n",
    "except Exception as e:\n",
    "    print(e)\n",
    "    "
   ]
  },
  {
   "cell_type": "code",
   "execution_count": 26,
   "id": "18b0e00d-27df-49c8-8527-19bb74cca076",
   "metadata": {},
   "outputs": [
    {
     "name": "stdout",
     "output_type": "stream",
     "text": [
      "name 'n3' is not defined\n"
     ]
    }
   ],
   "source": [
    "try:\n",
    "    print(n1+n3)\n",
    "except Exception as e:\n",
    "    print(e)"
   ]
  },
  {
   "cell_type": "markdown",
   "id": "2578b685-aec7-40af-9e8b-399e5c665f99",
   "metadata": {},
   "source": [
    "-step-1: are you abke to write the code with out silly mustakes\n",
    "\n",
    "-step=-2: are you able to understand the logic\n",
    "\n",
    "-step-3:are you able to implement the logic "
   ]
  },
  {
   "cell_type": "code",
   "execution_count": null,
   "id": "f11864b9-4a9d-4324-aee6-c15bb759233b",
   "metadata": {},
   "outputs": [],
   "source": [
    "try:\n",
    "    n1=eval(input(\"enter the number:\"))\n",
    "    if n1%2==0:\n",
    "        print(f\"{n1} is an even\")\n",
    "    else:\n",
    "        print(f\"{n1} is odd number\")\n",
    "except Exception as e:\n",
    "    print(e)"
   ]
  },
  {
   "cell_type": "code",
   "execution_count": null,
   "id": "1fc98883-20eb-44ec-9dd3-ed977cc81833",
   "metadata": {},
   "outputs": [],
   "source": []
  }
 ],
 "metadata": {
  "kernelspec": {
   "display_name": "Python 3 (ipykernel)",
   "language": "python",
   "name": "python3"
  },
  "language_info": {
   "codemirror_mode": {
    "name": "ipython",
    "version": 3
   },
   "file_extension": ".py",
   "mimetype": "text/x-python",
   "name": "python",
   "nbconvert_exporter": "python",
   "pygments_lexer": "ipython3",
   "version": "3.12.7"
  }
 },
 "nbformat": 4,
 "nbformat_minor": 5
}
