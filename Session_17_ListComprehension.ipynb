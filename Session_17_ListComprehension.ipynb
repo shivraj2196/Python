{
 "cells": [
  {
   "cell_type": "markdown",
   "id": "b86f22cb-5eec-483d-ac35-f62dca4287d4",
   "metadata": {},
   "source": [
    "## LIst comprehension\n",
    "\n",
    "- List comprehension a way to write list operations in a single line\n",
    "\n",
    "- when we apply for loop and if-else conditional statements the the code compilation becomes slow\n",
    "\n",
    "- which means it takes much time\n",
    "\n",
    "- in order to avoide the time complexity we will use list comprehension\n",
    "\n",
    "- List comprehension is a single line code\n",
    "\n",
    "- "
   ]
  },
  {
   "cell_type": "code",
   "execution_count": 1,
   "id": "6c2fe63f-f595-459e-8e83-dda62f3d9f3c",
   "metadata": {},
   "outputs": [
    {
     "data": {
      "text/plain": [
       "[0, 1, 2, 3, 4, 5, 6, 7, 8, 9]"
      ]
     },
     "execution_count": 1,
     "metadata": {},
     "output_type": "execute_result"
    }
   ],
   "source": [
    "list1=[]\n",
    "for i in range(10):\n",
    "    list1.append(i)\n",
    "list1"
   ]
  },
  {
   "cell_type": "code",
   "execution_count": null,
   "id": "a88500c5-578e-4a91-86f2-e4afe2fc34fb",
   "metadata": {},
   "outputs": [],
   "source": [
    "list1=[<code showuld write here>]\n",
    "#inside code no need of append\n",
    "list1=[<output var> <for loop]"
   ]
  },
  {
   "cell_type": "code",
   "execution_count": 6,
   "id": "fdb1cee0-c073-4b10-a416-9d35c7eb3898",
   "metadata": {},
   "outputs": [
    {
     "name": "stdout",
     "output_type": "stream",
     "text": [
      "[0, 1, 2, 3, 4, 5, 6, 7, 8, 9]\n"
     ]
    }
   ],
   "source": [
    "list1=[i for i in range(10)]\n",
    "print(list1)"
   ]
  },
  {
   "cell_type": "markdown",
   "id": "9e121317-a7fe-47dc-b1ce-d251311f6bc3",
   "metadata": {},
   "source": [
    "**dont give:after for loop**"
   ]
  },
  {
   "cell_type": "code",
   "execution_count": 10,
   "id": "8dbf1f0e-3f82-4733-8956-12452f2c873e",
   "metadata": {},
   "outputs": [
    {
     "name": "stdout",
     "output_type": "stream",
     "text": [
      "['Hyd', 'Bengaluru', 'Pune', 'Mumbai']\n"
     ]
    }
   ],
   "source": [
    "#Q1)\n",
    "input=['hyd','bengaluru','pune','mumbai']\n",
    "output=[i.capitalize() for i in input]\n",
    "print(output)"
   ]
  },
  {
   "cell_type": "code",
   "execution_count": 11,
   "id": "a41c9b2e-3f4c-447c-a05c-38d2bf2272c9",
   "metadata": {},
   "outputs": [
    {
     "name": "stdout",
     "output_type": "stream",
     "text": [
      "['HYD', 'BENGALURU', 'PUNE', 'MUMBAI']\n"
     ]
    }
   ],
   "source": [
    "#Q2)\n",
    "input=['hyd','bengaluru','pune','mumbai']\n",
    "output=[i.upper() for i in input]\n",
    "print(output)"
   ]
  },
  {
   "cell_type": "code",
   "execution_count": 17,
   "id": "7ea3d152-bb9f-40b7-906a-0a4b6514607a",
   "metadata": {},
   "outputs": [
    {
     "name": "stdout",
     "output_type": "stream",
     "text": [
      "[0, 10, 20, 30]\n"
     ]
    }
   ],
   "source": [
    "#Q3)\n",
    "input=['hyd','bengaluru','pune','mumbai']\n",
    "output=[input.index(i)*10 for i in input]\n",
    "print(output)"
   ]
  },
  {
   "cell_type": "markdown",
   "id": "cd080c89-93c8-44fd-96e5-60f24696280e",
   "metadata": {},
   "source": [
    "**Walrus operator**"
   ]
  },
  {
   "cell_type": "code",
   "execution_count": 37,
   "id": "9aa4ba41-c0a0-434e-afaf-ab7019ed5f43",
   "metadata": {},
   "outputs": [
    {
     "name": "stdout",
     "output_type": "stream",
     "text": [
      "6\n"
     ]
    }
   ],
   "source": [
    "#Q4)\n",
    "input=['hyd','bengaluru','pune','mumbai']\n",
    "summ=0\n",
    "output=[summ:=summ+input.index(i) for i in input][-1]\n",
    "print(output)"
   ]
  },
  {
   "cell_type": "markdown",
   "id": "c775f962-e413-45c2-834a-25ed5bfb15f8",
   "metadata": {},
   "source": [
    "**case-2 for loop and if conduction**"
   ]
  },
  {
   "cell_type": "code",
   "execution_count": 41,
   "id": "565f0063-803d-4809-bbf6-258a4a373d9f",
   "metadata": {},
   "outputs": [
    {
     "name": "stdout",
     "output_type": "stream",
     "text": [
      "even:2\n",
      "even:4\n",
      "even:6\n",
      "even:8\n"
     ]
    }
   ],
   "source": [
    "# even number\n",
    "for i in range(1,10):\n",
    "    if i%2==0:\n",
    "        print(f'even:{i}')"
   ]
  },
  {
   "cell_type": "code",
   "execution_count": 45,
   "id": "56655b53-0d53-4946-ab2e-04d9eec5bf31",
   "metadata": {},
   "outputs": [
    {
     "name": "stdout",
     "output_type": "stream",
     "text": [
      "[2, 4, 6, 8]\n"
     ]
    }
   ],
   "source": [
    "even_list=[i for i in range(1,10) if i%2==0]\n",
    "print(even_list)"
   ]
  },
  {
   "cell_type": "code",
   "execution_count": 50,
   "id": "201e0609-4389-4975-8aed-065f4b403147",
   "metadata": {},
   "outputs": [
    {
     "name": "stdout",
     "output_type": "stream",
     "text": [
      "['ben#galuru', 'mum#bai']\n"
     ]
    }
   ],
   "source": [
    "#Q6)\n",
    "input1=['hyd','ben#galuru','pune','mum#bai']\n",
    "output=[i for i in input1 if '#' in i]\n",
    "print(output)"
   ]
  },
  {
   "cell_type": "code",
   "execution_count": 51,
   "id": "c99140bb-361a-4cd4-aef4-0868c8754110",
   "metadata": {},
   "outputs": [
    {
     "name": "stdout",
     "output_type": "stream",
     "text": [
      "['hyd', 'pune']\n"
     ]
    }
   ],
   "source": [
    "input1=['hyd','ben#galuru','pune','mum#bai']\n",
    "output=[i for i in input1 if '#' not in i]\n",
    "print(output)"
   ]
  },
  {
   "cell_type": "code",
   "execution_count": null,
   "id": "4ee7bf5f-0152-4d3c-8dbe-a295d4ea8661",
   "metadata": {},
   "outputs": [],
   "source": [
    "case-1 : for loop:[<output> <for loop>]\n",
    "case2:for-if:[<output><for loop> <if>]\n",
    "case-2 for-if-else:[<if out> <if cond> else <else output> <for loop>]"
   ]
  },
  {
   "cell_type": "code",
   "execution_count": 59,
   "id": "e1855ab5-6872-4045-8448-f10512ff69a4",
   "metadata": {},
   "outputs": [
    {
     "name": "stdout",
     "output_type": "stream",
     "text": [
      "['odd:1', 'even:2', 'odd:3', 'even:4', 'odd:5', 'even:6', 'odd:7', 'even:8', 'odd:9']\n"
     ]
    }
   ],
   "source": [
    "even_odd=[f'even:{i}' if i%2==0 else f'odd:{i}' for i in range(1,10)]\n",
    "print(even_odd)\n"
   ]
  },
  {
   "cell_type": "code",
   "execution_count": 62,
   "id": "8060929b-dad1-4d53-8ca6-982106d75011",
   "metadata": {},
   "outputs": [
    {
     "name": "stdout",
     "output_type": "stream",
     "text": [
      "[2, 4, 6, 8, 10, 12, 14, 16, 18, 20, 22, 24, 26, 28] [1, 3, 5, 7, 9, 11, 13, 15, 17, 19, 21, 23, 25, 27, 29]\n"
     ]
    }
   ],
   "source": [
    "even=[]\n",
    "odd=[]\n",
    "even_odd=[even.append(i) if i%2==0 else odd.append(i) for i in range(1,30)]\n",
    "print(even,odd)\n"
   ]
  },
  {
   "cell_type": "markdown",
   "id": "118e933a-13e9-4f87-8330-f3d4f09049d4",
   "metadata": {},
   "source": [
    "**case-4:for-if-elif-else**\n",
    "\n",
    "- in list Comprehension we dont have **elif** representation\n",
    "\n",
    "- elif also represent as **else+if**\n",
    "\n",
    "- in elif  we have **elif condition** and **elif** output\n",
    "\n",
    "- else elif_output elif_condition\n"
   ]
  },
  {
   "cell_type": "markdown",
   "id": "112cdcf1-ea2e-4523-94a9-225c8e802501",
   "metadata": {},
   "source": [
    "\n",
    "case-3 for-if-elif-else:[**<if out> <if cond> else <elif cond> else <else out> <for loop>**]\n",
    "\n",
    "**Note**:insted of elif term write if"
   ]
  },
  {
   "cell_type": "code",
   "execution_count": 1,
   "id": "e654fd8f-fc77-46f3-9da9-020c28b390ce",
   "metadata": {},
   "outputs": [
    {
     "name": "stdout",
     "output_type": "stream",
     "text": [
      "['40:c Grade', '45:c Grade', '42:c Grade', '62:b Grade', '67:b Grade', '73:b Grade', '72:b Grade', '79:b Grade', '82:b Grade', '30:c Grade', '50:c Grade', '54:c Grade', '90:a Grade', '92:a Grade', '94:a Grade', '80:b Grade']\n"
     ]
    }
   ],
   "source": [
    "# 85 A grade 60-85 B grade less than 60 C grade\n",
    "marks=[40,45,42,62,67,73,72,79,82,30,50,54,90,92,94,80]\n",
    "grade=[ f'{i}:a Grade' if i>85 else f'{i}:b Grade' if i>60 else f'{i}:c Grade' for i in marks ]\n",
    "print(grade)"
   ]
  },
  {
   "cell_type": "code",
   "execution_count": 2,
   "id": "7dd07922-58f0-4e37-93b4-b524338e50e0",
   "metadata": {},
   "outputs": [
    {
     "name": "stdout",
     "output_type": "stream",
     "text": [
      "Passed student: [76, 89, 53, 67, 90, 82, 99]\n",
      "Grades: ['45:F', '76:B', '89:A', '53:C', '67:C', '90:A', '82:B', '49:F', '33:F', '99:A']\n",
      "grace_marks: [50, 76, 89, 53, 67, 90, 82, 54, 38, 99]\n",
      "top_three [99, 90, 89]\n",
      "Avg marks: 68.3\n"
     ]
    }
   ],
   "source": [
    "#Exam paper solve\n",
    "marks=[45,76,89,53,67,90,82,49,33,99]\n",
    "#a)Filter students who passes(marks>=50)\n",
    "Passed_Student=[i for i in marks if i>=50]\n",
    "print('Passed student:',Passed_Student)\n",
    "#b)calculate grade for all students:\n",
    "grade=[f'{i}:A' if i>=85 else f'{i}:B' if i>=70 else f'{i}:C' if i>=50 else f'{i}:F'  for i in marks]\n",
    "print('Grades:',grade)\n",
    "#c)Add 5 grace marks to student who fail\n",
    "grace_mark=[i+5 if i<50 else i for i in marks]\n",
    "print('grace_marks:',grace_mark)\n",
    "#d) Identify top 3 scorers\n",
    "top_three=[i for i in sorted(marks,reverse=True)][:3]\n",
    "print('top_three',top_three)\n",
    "#find average marks of the class\n",
    "a=0\n",
    "avg_marks=[a:=a+i for i in marks][-1:]\n",
    "print('Avg marks:',avg_marks[0]/len(marks))"
   ]
  },
  {
   "cell_type": "code",
   "execution_count": 3,
   "id": "36573a82-2d81-499d-b188-ff8a0fc9de09",
   "metadata": {},
   "outputs": [
    {
     "name": "stdout",
     "output_type": "stream",
     "text": [
      "99\n",
      "90\n",
      "89\n"
     ]
    }
   ],
   "source": [
    "#another logic\n",
    "marks=[45,76,89,53,67,90,82,49,33,99]\n",
    "\n",
    "max_val=max(marks)\n",
    "for i in range(3):\n",
    "    max_val=max(marks)\n",
    "    print(max_val)\n",
    "    marks.remove(max_val) "
   ]
  },
  {
   "cell_type": "markdown",
   "id": "aa951f1d-3bc7-452c-8d4f-587a8c6daf04",
   "metadata": {},
   "source": [
    "**distance between two points**\n"
   ]
  },
  {
   "cell_type": "code",
   "execution_count": 4,
   "id": "96bd9d0d-d48b-4bbf-a3d0-ae20064c43ab",
   "metadata": {},
   "outputs": [],
   "source": [
    "l1=[[1,2],[4,5],[7,9]]\n",
    "l2=[10,20]\n",
    "#find the distance between l2 with all other points from l1\n",
    "#mhich is the maximum distance give me that"
   ]
  },
  {
   "cell_type": "code",
   "execution_count": 9,
   "id": "408d63f4-60bf-40af-9dcb-4e4e8685cc39",
   "metadata": {},
   "outputs": [
    {
     "name": "stdout",
     "output_type": "stream",
     "text": [
      "22.360679774997898\n"
     ]
    }
   ],
   "source": [
    "import math\n",
    "l1=[10,20]#x1,y1\n",
    "l2=[20,40]#x2,y2\n",
    "d1=l2[0]-l1[0]#x1-x2\n",
    "d2=l2[1]-l1[1]#y1-y2\n",
    "d1_sqr=math.pow(d1,2)#square of d1(x2-x1)\n",
    "d2_sqr=math.pow(d2,2)#square of d1(y2-y1)\n",
    "summ=d1_sqr+d2_sqr#sum of square\n",
    "dus=math.sqrt(summ)#roots\n",
    "print(dus)"
   ]
  },
  {
   "cell_type": "code",
   "execution_count": 14,
   "id": "b40627a8-3829-4d56-910a-7b01aeeef9a9",
   "metadata": {},
   "outputs": [
    {
     "name": "stdout",
     "output_type": "stream",
     "text": [
      "22.360679774997898\n"
     ]
    }
   ],
   "source": [
    "dis=math.sqrt(math.pow((l2[0]-l1[0]),2)+math.pow((l2[1]+l1[1]),2))\n",
    "print(dus)"
   ]
  },
  {
   "cell_type": "code",
   "execution_count": 15,
   "id": "f1260dc9-d1b6-48a7-91a8-33c74e970755",
   "metadata": {},
   "outputs": [],
   "source": [
    "#how to sort the list \n",
    "#how to find the maximum value of the list\n",
    "#how to find the minimum valuw of the list\n",
    "#how to find the second miximum value of the list\n",
    "#how to find the second minimum value of the list\n",
    "#how to find the longet word of strinf\n",
    "#how to find the most repeared word of a string"
   ]
  },
  {
   "cell_type": "code",
   "execution_count": null,
   "id": "568869b6-82cb-44e7-9c2e-41965bac8157",
   "metadata": {},
   "outputs": [],
   "source": []
  }
 ],
 "metadata": {
  "kernelspec": {
   "display_name": "Python 3 (ipykernel)",
   "language": "python",
   "name": "python3"
  },
  "language_info": {
   "codemirror_mode": {
    "name": "ipython",
    "version": 3
   },
   "file_extension": ".py",
   "mimetype": "text/x-python",
   "name": "python",
   "nbconvert_exporter": "python",
   "pygments_lexer": "ipython3",
   "version": "3.12.7"
  }
 },
 "nbformat": 4,
 "nbformat_minor": 5
}
